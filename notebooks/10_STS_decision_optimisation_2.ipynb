{
  "cells": [
    {
      "cell_type": "code",
      "source": [
        "#! pip install delayed\n",
        "! pip install --upgrade pip\n",
        "! pip install --upgrade scikit-learn\n",
        "! pip install PyDrive\n",
        "! pip install pyyaml==5.4.1\n",
        "! pip install sentence-transformers\n",
        "! pip install unidecode\n",
        "! pip install  openpyxl==3.0.0"
      ],
      "metadata": {
        "id": "f9HsPsd-zZt-"
      },
      "id": "f9HsPsd-zZt-",
      "execution_count": null,
      "outputs": []
    },
    {
      "cell_type": "code",
      "source": [
        "import pandas as pd\n",
        "import matplotlib.pyplot as plt\n",
        "import numpy as np\n",
        "from sklearn import metrics\n",
        "from sklearn.model_selection import train_test_split\n",
        "from sklearn.model_selection import KFold\n",
        "from sklearn.neighbors import KNeighborsClassifier\n",
        "from sklearn.naive_bayes import GaussianNB\n",
        "from sklearn.linear_model import LogisticRegression\n",
        "from sklearn import svm\n",
        "from sklearn.ensemble import RandomForestClassifier\n",
        "from sklearn.model_selection import RandomizedSearchCV\n",
        "from sklearn.ensemble import AdaBoostClassifier\n",
        "from sklearn.tree import DecisionTreeClassifier\n",
        "from sklearn.model_selection import GridSearchCV,StratifiedKFold\n",
        "import xgboost as xgb\n",
        "from google.colab import drive\n",
        "from sklearn.metrics import classification_report, precision_recall_curve, accuracy_score\n",
        "from matplotlib import pyplot\n",
        "from sklearn.metrics import confusion_matrix\n",
        "import seaborn as sns\n",
        "from numpy import vstack\n",
        "from numpy import argmax\n",
        "from pandas import read_csv\n",
        "from torch import Tensor\n",
        "#from torch.utils.data import Dataset\n",
        "from torch.utils.data import DataLoader\n",
        "from torch.utils.data import random_split\n",
        "from torch.nn import Linear\n",
        "from torch.nn import ReLU\n",
        "from torch.nn import Softmax\n",
        "from torch.nn import Module\n",
        "from torch.optim import SGD\n",
        "from torch.nn import CrossEntropyLoss\n",
        "from torch.nn.init import kaiming_uniform_\n",
        "from torch.nn.init import xavier_uniform_\n",
        "from tabulate import tabulate\n",
        "\n",
        "def warn(*args, **kwargs):\n",
        "    pass\n",
        "import warnings\n",
        "warnings.warn = warn\n",
        "\n"
      ],
      "metadata": {
        "id": "K9uFrXPg0RBs"
      },
      "id": "K9uFrXPg0RBs",
      "execution_count": 3,
      "outputs": []
    },
    {
      "cell_type": "markdown",
      "id": "86cccd83-2507-4e56-896b-df04cb5724be",
      "metadata": {
        "id": "86cccd83-2507-4e56-896b-df04cb5724be"
      },
      "source": [
        "# Load data"
      ]
    },
    {
      "cell_type": "code",
      "source": [
        "drive.mount('/content/drive')"
      ],
      "metadata": {
        "colab": {
          "base_uri": "https://localhost:8080/"
        },
        "id": "ZLLW2v6WPBi1",
        "outputId": "2d4622f3-c1db-4350-f0f1-f893d59a6a38"
      },
      "id": "ZLLW2v6WPBi1",
      "execution_count": 4,
      "outputs": [
        {
          "output_type": "stream",
          "name": "stdout",
          "text": [
            "Mounted at /content/drive\n"
          ]
        }
      ]
    },
    {
      "cell_type": "code",
      "source": [
        "cd '/content/drive/Shareddrives/RENAULT PROJECT DRIVE/202201-Categorisation-DRG /data/'"
      ],
      "metadata": {
        "colab": {
          "base_uri": "https://localhost:8080/"
        },
        "id": "QGXw1YrxPFVX",
        "outputId": "8058a0e7-ffeb-4b3b-88e4-8fa7694024a5"
      },
      "id": "QGXw1YrxPFVX",
      "execution_count": 5,
      "outputs": [
        {
          "output_type": "stream",
          "name": "stdout",
          "text": [
            "/content/drive/Shareddrives/RENAULT PROJECT DRIVE/202201-Categorisation-DRG /data\n"
          ]
        }
      ]
    },
    {
      "cell_type": "code",
      "source": [
        "ls"
      ],
      "metadata": {
        "colab": {
          "base_uri": "https://localhost:8080/"
        },
        "id": "SU6dFUa40QJs",
        "outputId": "9e03ece5-037a-4794-ce86-03c058419c5a"
      },
      "id": "SU6dFUa40QJs",
      "execution_count": 6,
      "outputs": [
        {
          "output_type": "stream",
          "name": "stdout",
          "text": [
            "df_corpus_top5.csv  df_top5.csv  \u001b[0m\u001b[01;34mevaluation\u001b[0m/  \u001b[01;34minterim\u001b[0m/    \u001b[01;34mraw\u001b[0m/\n",
            "df_test_top5.csv    \u001b[01;34membedded\u001b[0m/    \u001b[01;34mhard\u001b[0m/        \u001b[01;34mprocessed\u001b[0m/\n"
          ]
        }
      ]
    },
    {
      "cell_type": "markdown",
      "source": [
        "# Utils"
      ],
      "metadata": {
        "id": "OzGUmw2i8PRd"
      },
      "id": "OzGUmw2i8PRd"
    },
    {
      "cell_type": "code",
      "source": [
        "def label_encode_row(x):\n",
        "  \"\"\"Label encodes values. \n",
        "    \n",
        "  Args:\n",
        "      x (df): dataframe to label encode\n",
        "  Returns:\n",
        "      x (df): label encoded dataframe                                         \n",
        "\n",
        "  \"\"\"\n",
        "  x, _ = pd.factorize(x)\n",
        "  return x"
      ],
      "metadata": {
        "id": "4GvMowAdEiEW"
      },
      "id": "4GvMowAdEiEW",
      "execution_count": 7,
      "outputs": []
    },
    {
      "cell_type": "code",
      "source": [
        "def transform_data(df,columns_to_Encod):\n",
        "  \"\"\"Function to transform data.\n",
        "  Args:\n",
        "      df (pd.DataFrame):  input to transform                            \n",
        "      columns_to_Encod (list) :   columns to encode                      \n",
        "  Returns:\n",
        "      df (pd.DataFrame):       data  transformed\n",
        "  \"\"\"\n",
        "  df_=df.copy()\n",
        "  Cols=['label_pred_1', 'label_pred_2','label_pred_3', 'label_pred_4','label_pred_5']\n",
        "  df_['label_true_original'] =df_['label_true']\n",
        "  \n",
        "  df_[columns_to_Encod]=pd.DataFrame(df_[columns_to_Encod].apply(label_encode_row, axis=1).to_list(), columns=columns_to_Encod)\n",
        "\n",
        "  df_['label_true']=df_['label_true'].mask((df_[Cols].values != df_[['label_true']].values).all(axis=1).astype(int)== 1, 5, axis=0)\n",
        "\n",
        "\n",
        "\n",
        "  df_dummies=pd.get_dummies(df_[columns_to_Encod[:-1]], columns=columns_to_Encod[:-1])\n",
        "  df_all_Feature = pd.concat([df_, df_dummies], axis=1)\n",
        "\n",
        "\n",
        "  return df_all_Feature"
      ],
      "metadata": {
        "id": "sZXi05GBO-47"
      },
      "id": "sZXi05GBO-47",
      "execution_count": 8,
      "outputs": []
    },
    {
      "cell_type": "code",
      "source": [
        "def test_transform_data(columns_to_Encod):\n",
        "  test_frame = pd.DataFrame(data=[df_corpus_top5.iloc[0].values], columns=df_corpus_top5.columns)\n",
        "  table_input = tabulate(test_frame,headers=test_frame.columns, tablefmt='github')\n",
        "  print(\"\\033[0;32;47m    Input  :  \\n\")\n",
        "  print(\"\\033[0;32;47m \"+table_input)\n",
        "  result=transform_data(test_frame,columns_to_Encod)\n",
        "  print(\"\\n\")\n",
        "  print(\"\\033[0;32;47m  Outout  :  \\n\")\n",
        "  table_output = tabulate(result,headers=result.columns, tablefmt='github')\n",
        "  print(\"\\033[0;32;47m \"+table_output)\n"
      ],
      "metadata": {
        "id": "d-cO_bM-WDnY"
      },
      "id": "d-cO_bM-WDnY",
      "execution_count": 9,
      "outputs": []
    },
    {
      "cell_type": "code",
      "source": [
        "# model_selection function : just to get an idea about the general performance of each model\n",
        "def model_selection(X, y):\n",
        "    iteration = 0\n",
        "    k = 7\n",
        "    models = {\n",
        "        \"K-nn\": [],\n",
        "        \"Naive_Bayes\": [],\n",
        "        \"Logistic_Regression\": [],\n",
        "        \"SVM\": [],\n",
        "        \"Random_Forest\": [],\n",
        "        \"Ada-Boost\": [],\n",
        "        'Xg_Boost': []\n",
        "    }\n",
        "    kf = KFold(n_splits=k, )\n",
        "    kf.get_n_splits(X)\n",
        "\n",
        "    neigh = KNeighborsClassifier(n_neighbors=4)\n",
        "    naive_b = GaussianNB()\n",
        "    lr = LogisticRegression()\n",
        "    SVM = svm.SVC()\n",
        "    rf = RandomForestClassifier()\n",
        "    for train_index, test_index in kf.split(X):\n",
        "        #print(\"Iteration:\", iteration)\n",
        "        #iteration += 1\n",
        "        X_train, X_test = X.iloc[train_index], X.iloc[test_index]\n",
        "        y_train, y_test = y.iloc[train_index], y.iloc[test_index]\n",
        "\n",
        "\n",
        "        neigh.fit(X_train, y_train)\n",
        "        models['K-nn'].append(neigh.score(X_test, y_test))\n",
        "\n",
        "\n",
        "        naive_b.fit(X_train, y_train)\n",
        "        models['Naive_Bayes'].append(naive_b.score(X_test, y_test))\n",
        "\n",
        "        lr.fit(X_train, y_train)\n",
        "        models['Logistic_Regression'].append(lr.score(X_test, y_test))\n",
        "\n",
        "\n",
        "        SVM.fit(X_train, y_train)\n",
        "        models['SVM'].append(SVM.score(X_test, y_test))\n",
        "\n",
        "\n",
        "        rf.fit(X_train, y_train)\n",
        "        models['Random_Forest'].append(rf.score(X_test, y_test))\n",
        "        \n",
        "        ada_b = AdaBoostClassifier(n_estimators=20,)\n",
        "        ada_b.fit(X_train, y_train)\n",
        "        models['Ada-Boost'].append(ada_b.score(X_test, y_test))\n",
        "\n",
        "        xgb_model = xgb.XGBClassifier()\n",
        "        xgb_model.fit(X_train, y_train)\n",
        "        models['Xg_Boost'].append(xgb_model.score(X_test, y_test))\n",
        "\n",
        "        \n",
        "    model_evaluation_dict = {}\n",
        "    for model in models.keys():\n",
        "        model_evaluation_dict[model] = [np.mean(models[model])]\n",
        "    df_evaluation = pd.DataFrame.from_dict(model_evaluation_dict)\n",
        "    df_evaluation = df_evaluation.rename(index = {0 : 'Accuracy'})\n",
        "    return df_evaluation"
      ],
      "metadata": {
        "id": "vuZYP2yCawrG"
      },
      "id": "vuZYP2yCawrG",
      "execution_count": 10,
      "outputs": []
    },
    {
      "cell_type": "code",
      "source": [
        "# hello raed"
      ],
      "metadata": {
        "id": "UMWEaVoit0mi"
      },
      "id": "UMWEaVoit0mi",
      "execution_count": null,
      "outputs": []
    },
    {
      "cell_type": "code",
      "source": [
        "def benchmark_ML_models(X_train, X_test,y_train, y_test,dff):\n",
        "\n",
        "    models = {\n",
        "        \"K-nn\": [],\n",
        "        \"Naive_Bayes\": [],\n",
        "        \"Logistic_Regression\": [],\n",
        "        \"SVM\": [],\n",
        "        \"Random_Forest\": [],\n",
        "        \"Ada-Boost\": [],\n",
        "        'Xg_Boost': []\n",
        "    }\n",
        "\n",
        "\n",
        "    KNeighbors = KNeighborsClassifier(n_neighbors=4)\n",
        "    naive_b = GaussianNB()\n",
        "    lr = LogisticRegression()\n",
        "    SVM = svm.SVC(probability=True,)\n",
        "    rf = RandomForestClassifier()\n",
        "\n",
        "\n",
        "\n",
        "    KNeighbors.fit(X_train, y_train)\n",
        "    #models['K-nn'].append(KNeighbors.score(X_test, y_test))\n",
        "    predKNeighbors = KNeighbors.predict(X_test)\n",
        "    probsKNeighbors = KNeighbors.predict_proba(X_test)\n",
        "    probsKNeighbors_max= np.max(probsKNeighbors, axis=1) \n",
        "\n",
        "\n",
        "    naive_b.fit(X_train, y_train)\n",
        "    #models['Naive_Bayes'].append(naive_b.score(X_test, y_test))\n",
        "    prednaive_b = naive_b.predict(X_test)\n",
        "    probsnaive_b = naive_b.predict_proba(X_test)\n",
        "    probsnaive_b_max= np.max(probsnaive_b, axis=1) \n",
        "\n",
        "\n",
        "\n",
        "    lr.fit(X_train, y_train)\n",
        "    #models['Logistic_Regression'].append(lr.score(X_test, y_test))\n",
        "    predLogistic_Regression = lr.predict(X_test)\n",
        "    probsLogistic_Regression = lr.predict_proba(X_test)\n",
        "    probsprobsLogistic_Regression_max= np.max(probsLogistic_Regression, axis=1) \n",
        "\n",
        "\n",
        "    SVM.fit(X_train, y_train)\n",
        "    #models['SVM'].append(SVM.score(X_test, y_test))\n",
        "    predSVM = SVM.predict(X_test)\n",
        "    probsSVM = SVM.predict_proba(X_test)\n",
        "    probsprobsSVM_max= np.max(probsSVM, axis=1) \n",
        "\n",
        "\n",
        "    rf.fit(X_train, y_train)\n",
        "    #models['Random_Forest'].append(rf.score(X_test, y_test))\n",
        "    predRandom_Forest = rf.predict(X_test)\n",
        "    probsRandom_Forest = rf.predict_proba(X_test)\n",
        "    probsRandom_Forest_max= np.max(probsRandom_Forest, axis=1) \n",
        "    \n",
        "    ada_b = AdaBoostClassifier(n_estimators=20,)\n",
        "    ada_b.fit(X_train, y_train)\n",
        "    #models['Ada-Boost'].append(ada_b.score(X_test, y_test))\n",
        "    predada_b = ada_b.predict(X_test)\n",
        "    probsada_b = ada_b.predict_proba(X_test)\n",
        "    probsprobsada_b_max= np.max(probsada_b, axis=1) \n",
        "\n",
        "\n",
        "\n",
        "    xgb_model = xgb.XGBClassifier()\n",
        "    xgb_model.fit(X_train, y_train)\n",
        "    #models['Xg_Boost'].append(xgb_model.score(X_test, y_test))\n",
        "    predXg_Boost = xgb_model.predict(X_test)\n",
        "    probsXg_Boost = xgb_model.predict_proba(X_test)\n",
        "    probsprobsXg_Boost_max= np.max(probsXg_Boost, axis=1) \n",
        "\n",
        "    #pred=[predKNeighbors,prednaive_b,predLogistic_Regression,predSVM,predRandom_Forest,predada_b,predXg_Boost]\n",
        "    #probs=[probsKNeighbors_max,probsnaive_b_max,probsprobsLogistic_Regression_max,probsprobsSVM_max,probsRandom_Forest_max,probsprobsada_b_max,probsprobsXg_Boost_max]\n",
        "    pred = {\n",
        "        \"K-nn\": predKNeighbors,\n",
        "        \"Naive_Bayes\": prednaive_b,\n",
        "        \"Logistic_Regression\": predLogistic_Regression,\n",
        "        \"SVM\": predSVM,\n",
        "        \"Random_Forest\":predRandom_Forest,\n",
        "        \"Ada-Boost\": predada_b,\n",
        "        'Xg_Boost': predXg_Boost\n",
        "    }\n",
        "\n",
        "    probs = {\n",
        "        \"K-nn\": probsKNeighbors_max,\n",
        "        \"Naive_Bayes\": probsnaive_b_max,\n",
        "        \"Logistic_Regression\": probsprobsLogistic_Regression_max,\n",
        "        \"SVM\": probsprobsSVM_max,\n",
        "        \"Random_Forest\":probsRandom_Forest_max,\n",
        "        \"Ada-Boost\": probsprobsada_b_max,\n",
        "        'Xg_Boost': probsprobsXg_Boost_max\n",
        "    }\n",
        "    for i in models:\n",
        "      dff[i+\"_prediction\"]=pred[i]\n",
        "      dff[i+\"_score\"]=probs[i]\n",
        "\n",
        "\n",
        "    return dff"
      ],
      "metadata": {
        "id": "uVrcmSURBqhs"
      },
      "execution_count": null,
      "outputs": [],
      "id": "uVrcmSURBqhs"
    },
    {
      "cell_type": "markdown",
      "source": [
        "#Feature engineering\n"
      ],
      "metadata": {
        "id": "a-u6BIuD2sOc"
      },
      "id": "a-u6BIuD2sOc"
    },
    {
      "cell_type": "code",
      "source": [
        "df_corpus_top5 = pd.read_csv('df_corpus_top5.csv',sep=',')\n",
        "df_corpus_top5 = df_corpus_top5.drop(columns=[\"Unnamed: 0\"])\n",
        "df_corpus_top5.head(3)"
      ],
      "metadata": {
        "id": "MjX9JYArzIsz",
        "colab": {
          "base_uri": "https://localhost:8080/",
          "height": 260
        },
        "outputId": "570661d9-97c1-4f1c-cebd-1914e1ba9f66"
      },
      "id": "MjX9JYArzIsz",
      "execution_count": null,
      "outputs": [
        {
          "output_type": "execute_result",
          "data": {
            "text/plain": [
              "    score_1   score_2   score_3   score_4   score_5       label_pred_1  \\\n",
              "0  0.738368  0.717175  0.714135  0.707027  0.706180  wrong designation   \n",
              "1  0.713122  0.684600  0.674399  0.672508  0.668059       black screen   \n",
              "2  0.618209  0.610258  0.599718  0.589054  0.578812      display issue   \n",
              "\n",
              "             label_pred_2   label_pred_3              label_pred_4  \\\n",
              "0  message \"sos to check\"     reset adac    message sos to control   \n",
              "1            black screen     reset adac  tachometer needle freeze   \n",
              "2           display issue  display issue             aspect issue    \n",
              "\n",
              "             label_pred_5     label_true  is_pred_1_correct  \\\n",
              "0  message sos to control   out of scope                  0   \n",
              "1              reset adac  aspect issue                   0   \n",
              "2          settings issue  aspect issue                   0   \n",
              "\n",
              "   is_pred_2_correct  is_pred_3_correct  is_pred_4_correct  is_pred_5_correct  \\\n",
              "0                  0                  0                  0                  0   \n",
              "1                  0                  0                  0                  0   \n",
              "2                  0                  0                  1                  0   \n",
              "\n",
              "   is_top3_correct  is_top5_correct  \n",
              "0                0                0  \n",
              "1                0                0  \n",
              "2                0                1  "
            ],
            "text/html": [
              "\n",
              "  <div id=\"df-2387b83e-c0bf-4578-8e3e-010357007d31\">\n",
              "    <div class=\"colab-df-container\">\n",
              "      <div>\n",
              "<style scoped>\n",
              "    .dataframe tbody tr th:only-of-type {\n",
              "        vertical-align: middle;\n",
              "    }\n",
              "\n",
              "    .dataframe tbody tr th {\n",
              "        vertical-align: top;\n",
              "    }\n",
              "\n",
              "    .dataframe thead th {\n",
              "        text-align: right;\n",
              "    }\n",
              "</style>\n",
              "<table border=\"1\" class=\"dataframe\">\n",
              "  <thead>\n",
              "    <tr style=\"text-align: right;\">\n",
              "      <th></th>\n",
              "      <th>score_1</th>\n",
              "      <th>score_2</th>\n",
              "      <th>score_3</th>\n",
              "      <th>score_4</th>\n",
              "      <th>score_5</th>\n",
              "      <th>label_pred_1</th>\n",
              "      <th>label_pred_2</th>\n",
              "      <th>label_pred_3</th>\n",
              "      <th>label_pred_4</th>\n",
              "      <th>label_pred_5</th>\n",
              "      <th>label_true</th>\n",
              "      <th>is_pred_1_correct</th>\n",
              "      <th>is_pred_2_correct</th>\n",
              "      <th>is_pred_3_correct</th>\n",
              "      <th>is_pred_4_correct</th>\n",
              "      <th>is_pred_5_correct</th>\n",
              "      <th>is_top3_correct</th>\n",
              "      <th>is_top5_correct</th>\n",
              "    </tr>\n",
              "  </thead>\n",
              "  <tbody>\n",
              "    <tr>\n",
              "      <th>0</th>\n",
              "      <td>0.738368</td>\n",
              "      <td>0.717175</td>\n",
              "      <td>0.714135</td>\n",
              "      <td>0.707027</td>\n",
              "      <td>0.706180</td>\n",
              "      <td>wrong designation</td>\n",
              "      <td>message \"sos to check\"</td>\n",
              "      <td>reset adac</td>\n",
              "      <td>message sos to control</td>\n",
              "      <td>message sos to control</td>\n",
              "      <td>out of scope</td>\n",
              "      <td>0</td>\n",
              "      <td>0</td>\n",
              "      <td>0</td>\n",
              "      <td>0</td>\n",
              "      <td>0</td>\n",
              "      <td>0</td>\n",
              "      <td>0</td>\n",
              "    </tr>\n",
              "    <tr>\n",
              "      <th>1</th>\n",
              "      <td>0.713122</td>\n",
              "      <td>0.684600</td>\n",
              "      <td>0.674399</td>\n",
              "      <td>0.672508</td>\n",
              "      <td>0.668059</td>\n",
              "      <td>black screen</td>\n",
              "      <td>black screen</td>\n",
              "      <td>reset adac</td>\n",
              "      <td>tachometer needle freeze</td>\n",
              "      <td>reset adac</td>\n",
              "      <td>aspect issue</td>\n",
              "      <td>0</td>\n",
              "      <td>0</td>\n",
              "      <td>0</td>\n",
              "      <td>0</td>\n",
              "      <td>0</td>\n",
              "      <td>0</td>\n",
              "      <td>0</td>\n",
              "    </tr>\n",
              "    <tr>\n",
              "      <th>2</th>\n",
              "      <td>0.618209</td>\n",
              "      <td>0.610258</td>\n",
              "      <td>0.599718</td>\n",
              "      <td>0.589054</td>\n",
              "      <td>0.578812</td>\n",
              "      <td>display issue</td>\n",
              "      <td>display issue</td>\n",
              "      <td>display issue</td>\n",
              "      <td>aspect issue</td>\n",
              "      <td>settings issue</td>\n",
              "      <td>aspect issue</td>\n",
              "      <td>0</td>\n",
              "      <td>0</td>\n",
              "      <td>0</td>\n",
              "      <td>1</td>\n",
              "      <td>0</td>\n",
              "      <td>0</td>\n",
              "      <td>1</td>\n",
              "    </tr>\n",
              "  </tbody>\n",
              "</table>\n",
              "</div>\n",
              "      <button class=\"colab-df-convert\" onclick=\"convertToInteractive('df-2387b83e-c0bf-4578-8e3e-010357007d31')\"\n",
              "              title=\"Convert this dataframe to an interactive table.\"\n",
              "              style=\"display:none;\">\n",
              "        \n",
              "  <svg xmlns=\"http://www.w3.org/2000/svg\" height=\"24px\"viewBox=\"0 0 24 24\"\n",
              "       width=\"24px\">\n",
              "    <path d=\"M0 0h24v24H0V0z\" fill=\"none\"/>\n",
              "    <path d=\"M18.56 5.44l.94 2.06.94-2.06 2.06-.94-2.06-.94-.94-2.06-.94 2.06-2.06.94zm-11 1L8.5 8.5l.94-2.06 2.06-.94-2.06-.94L8.5 2.5l-.94 2.06-2.06.94zm10 10l.94 2.06.94-2.06 2.06-.94-2.06-.94-.94-2.06-.94 2.06-2.06.94z\"/><path d=\"M17.41 7.96l-1.37-1.37c-.4-.4-.92-.59-1.43-.59-.52 0-1.04.2-1.43.59L10.3 9.45l-7.72 7.72c-.78.78-.78 2.05 0 2.83L4 21.41c.39.39.9.59 1.41.59.51 0 1.02-.2 1.41-.59l7.78-7.78 2.81-2.81c.8-.78.8-2.07 0-2.86zM5.41 20L4 18.59l7.72-7.72 1.47 1.35L5.41 20z\"/>\n",
              "  </svg>\n",
              "      </button>\n",
              "      \n",
              "  <style>\n",
              "    .colab-df-container {\n",
              "      display:flex;\n",
              "      flex-wrap:wrap;\n",
              "      gap: 12px;\n",
              "    }\n",
              "\n",
              "    .colab-df-convert {\n",
              "      background-color: #E8F0FE;\n",
              "      border: none;\n",
              "      border-radius: 50%;\n",
              "      cursor: pointer;\n",
              "      display: none;\n",
              "      fill: #1967D2;\n",
              "      height: 32px;\n",
              "      padding: 0 0 0 0;\n",
              "      width: 32px;\n",
              "    }\n",
              "\n",
              "    .colab-df-convert:hover {\n",
              "      background-color: #E2EBFA;\n",
              "      box-shadow: 0px 1px 2px rgba(60, 64, 67, 0.3), 0px 1px 3px 1px rgba(60, 64, 67, 0.15);\n",
              "      fill: #174EA6;\n",
              "    }\n",
              "\n",
              "    [theme=dark] .colab-df-convert {\n",
              "      background-color: #3B4455;\n",
              "      fill: #D2E3FC;\n",
              "    }\n",
              "\n",
              "    [theme=dark] .colab-df-convert:hover {\n",
              "      background-color: #434B5C;\n",
              "      box-shadow: 0px 1px 3px 1px rgba(0, 0, 0, 0.15);\n",
              "      filter: drop-shadow(0px 1px 2px rgba(0, 0, 0, 0.3));\n",
              "      fill: #FFFFFF;\n",
              "    }\n",
              "  </style>\n",
              "\n",
              "      <script>\n",
              "        const buttonEl =\n",
              "          document.querySelector('#df-2387b83e-c0bf-4578-8e3e-010357007d31 button.colab-df-convert');\n",
              "        buttonEl.style.display =\n",
              "          google.colab.kernel.accessAllowed ? 'block' : 'none';\n",
              "\n",
              "        async function convertToInteractive(key) {\n",
              "          const element = document.querySelector('#df-2387b83e-c0bf-4578-8e3e-010357007d31');\n",
              "          const dataTable =\n",
              "            await google.colab.kernel.invokeFunction('convertToInteractive',\n",
              "                                                     [key], {});\n",
              "          if (!dataTable) return;\n",
              "\n",
              "          const docLinkHtml = 'Like what you see? Visit the ' +\n",
              "            '<a target=\"_blank\" href=https://colab.research.google.com/notebooks/data_table.ipynb>data table notebook</a>'\n",
              "            + ' to learn more about interactive tables.';\n",
              "          element.innerHTML = '';\n",
              "          dataTable['output_type'] = 'display_data';\n",
              "          await google.colab.output.renderOutput(dataTable, element);\n",
              "          const docLink = document.createElement('div');\n",
              "          docLink.innerHTML = docLinkHtml;\n",
              "          element.appendChild(docLink);\n",
              "        }\n",
              "      </script>\n",
              "    </div>\n",
              "  </div>\n",
              "  "
            ]
          },
          "metadata": {},
          "execution_count": 92
        }
      ]
    },
    {
      "cell_type": "code",
      "source": [
        "df_test_top5 = pd.read_csv('df_test_top5.csv',sep=',')\n",
        "df_test_top5 = df_test_top5.drop(columns=[\"Unnamed: 0\"])\n",
        "df_test_top5.head(3)"
      ],
      "metadata": {
        "colab": {
          "base_uri": "https://localhost:8080/",
          "height": 294
        },
        "id": "2-Wny5VO0b-F",
        "outputId": "bffcc668-1b6e-4692-dec1-38d3cb08f06e"
      },
      "id": "2-Wny5VO0b-F",
      "execution_count": null,
      "outputs": [
        {
          "output_type": "execute_result",
          "data": {
            "text/plain": [
              "    score_1   score_2   score_3   score_4   score_5  label_pred_1  \\\n",
              "0  0.710615  0.706026  0.666258  0.664980  0.658934  black screen   \n",
              "1  0.737935  0.703151  0.699834  0.696477  0.692233  black screen   \n",
              "2  0.757152  0.736345  0.720983  0.714639  0.712411  black screen   \n",
              "\n",
              "                       label_pred_2   label_pred_3  \\\n",
              "0  reception issue ( fm am dab gps)  antenna issue   \n",
              "1                     inexploitable   black screen   \n",
              "2                      black screen   black screen   \n",
              "\n",
              "                       label_pred_4  label_pred_5         label_true  \\\n",
              "0                 replication issue  black screen      antenna issue   \n",
              "1                    display freeze    ecu update      error message   \n",
              "2  reception issue ( fm am dab gps)  camera issue  replication issue   \n",
              "\n",
              "   is_pred_1_correct  is_pred_2_correct  is_pred_3_correct  is_pred_4_correct  \\\n",
              "0                  0                  0                  1                  0   \n",
              "1                  0                  0                  0                  0   \n",
              "2                  0                  0                  0                  0   \n",
              "\n",
              "   is_pred_5_correct  is_top3_correct  is_top5_correct  \n",
              "0                  0                1                1  \n",
              "1                  0                0                0  \n",
              "2                  0                0                0  "
            ],
            "text/html": [
              "\n",
              "  <div id=\"df-fea60550-681c-4555-afc0-8fea7dc82cf6\">\n",
              "    <div class=\"colab-df-container\">\n",
              "      <div>\n",
              "<style scoped>\n",
              "    .dataframe tbody tr th:only-of-type {\n",
              "        vertical-align: middle;\n",
              "    }\n",
              "\n",
              "    .dataframe tbody tr th {\n",
              "        vertical-align: top;\n",
              "    }\n",
              "\n",
              "    .dataframe thead th {\n",
              "        text-align: right;\n",
              "    }\n",
              "</style>\n",
              "<table border=\"1\" class=\"dataframe\">\n",
              "  <thead>\n",
              "    <tr style=\"text-align: right;\">\n",
              "      <th></th>\n",
              "      <th>score_1</th>\n",
              "      <th>score_2</th>\n",
              "      <th>score_3</th>\n",
              "      <th>score_4</th>\n",
              "      <th>score_5</th>\n",
              "      <th>label_pred_1</th>\n",
              "      <th>label_pred_2</th>\n",
              "      <th>label_pred_3</th>\n",
              "      <th>label_pred_4</th>\n",
              "      <th>label_pred_5</th>\n",
              "      <th>label_true</th>\n",
              "      <th>is_pred_1_correct</th>\n",
              "      <th>is_pred_2_correct</th>\n",
              "      <th>is_pred_3_correct</th>\n",
              "      <th>is_pred_4_correct</th>\n",
              "      <th>is_pred_5_correct</th>\n",
              "      <th>is_top3_correct</th>\n",
              "      <th>is_top5_correct</th>\n",
              "    </tr>\n",
              "  </thead>\n",
              "  <tbody>\n",
              "    <tr>\n",
              "      <th>0</th>\n",
              "      <td>0.710615</td>\n",
              "      <td>0.706026</td>\n",
              "      <td>0.666258</td>\n",
              "      <td>0.664980</td>\n",
              "      <td>0.658934</td>\n",
              "      <td>black screen</td>\n",
              "      <td>reception issue ( fm am dab gps)</td>\n",
              "      <td>antenna issue</td>\n",
              "      <td>replication issue</td>\n",
              "      <td>black screen</td>\n",
              "      <td>antenna issue</td>\n",
              "      <td>0</td>\n",
              "      <td>0</td>\n",
              "      <td>1</td>\n",
              "      <td>0</td>\n",
              "      <td>0</td>\n",
              "      <td>1</td>\n",
              "      <td>1</td>\n",
              "    </tr>\n",
              "    <tr>\n",
              "      <th>1</th>\n",
              "      <td>0.737935</td>\n",
              "      <td>0.703151</td>\n",
              "      <td>0.699834</td>\n",
              "      <td>0.696477</td>\n",
              "      <td>0.692233</td>\n",
              "      <td>black screen</td>\n",
              "      <td>inexploitable</td>\n",
              "      <td>black screen</td>\n",
              "      <td>display freeze</td>\n",
              "      <td>ecu update</td>\n",
              "      <td>error message</td>\n",
              "      <td>0</td>\n",
              "      <td>0</td>\n",
              "      <td>0</td>\n",
              "      <td>0</td>\n",
              "      <td>0</td>\n",
              "      <td>0</td>\n",
              "      <td>0</td>\n",
              "    </tr>\n",
              "    <tr>\n",
              "      <th>2</th>\n",
              "      <td>0.757152</td>\n",
              "      <td>0.736345</td>\n",
              "      <td>0.720983</td>\n",
              "      <td>0.714639</td>\n",
              "      <td>0.712411</td>\n",
              "      <td>black screen</td>\n",
              "      <td>black screen</td>\n",
              "      <td>black screen</td>\n",
              "      <td>reception issue ( fm am dab gps)</td>\n",
              "      <td>camera issue</td>\n",
              "      <td>replication issue</td>\n",
              "      <td>0</td>\n",
              "      <td>0</td>\n",
              "      <td>0</td>\n",
              "      <td>0</td>\n",
              "      <td>0</td>\n",
              "      <td>0</td>\n",
              "      <td>0</td>\n",
              "    </tr>\n",
              "  </tbody>\n",
              "</table>\n",
              "</div>\n",
              "      <button class=\"colab-df-convert\" onclick=\"convertToInteractive('df-fea60550-681c-4555-afc0-8fea7dc82cf6')\"\n",
              "              title=\"Convert this dataframe to an interactive table.\"\n",
              "              style=\"display:none;\">\n",
              "        \n",
              "  <svg xmlns=\"http://www.w3.org/2000/svg\" height=\"24px\"viewBox=\"0 0 24 24\"\n",
              "       width=\"24px\">\n",
              "    <path d=\"M0 0h24v24H0V0z\" fill=\"none\"/>\n",
              "    <path d=\"M18.56 5.44l.94 2.06.94-2.06 2.06-.94-2.06-.94-.94-2.06-.94 2.06-2.06.94zm-11 1L8.5 8.5l.94-2.06 2.06-.94-2.06-.94L8.5 2.5l-.94 2.06-2.06.94zm10 10l.94 2.06.94-2.06 2.06-.94-2.06-.94-.94-2.06-.94 2.06-2.06.94z\"/><path d=\"M17.41 7.96l-1.37-1.37c-.4-.4-.92-.59-1.43-.59-.52 0-1.04.2-1.43.59L10.3 9.45l-7.72 7.72c-.78.78-.78 2.05 0 2.83L4 21.41c.39.39.9.59 1.41.59.51 0 1.02-.2 1.41-.59l7.78-7.78 2.81-2.81c.8-.78.8-2.07 0-2.86zM5.41 20L4 18.59l7.72-7.72 1.47 1.35L5.41 20z\"/>\n",
              "  </svg>\n",
              "      </button>\n",
              "      \n",
              "  <style>\n",
              "    .colab-df-container {\n",
              "      display:flex;\n",
              "      flex-wrap:wrap;\n",
              "      gap: 12px;\n",
              "    }\n",
              "\n",
              "    .colab-df-convert {\n",
              "      background-color: #E8F0FE;\n",
              "      border: none;\n",
              "      border-radius: 50%;\n",
              "      cursor: pointer;\n",
              "      display: none;\n",
              "      fill: #1967D2;\n",
              "      height: 32px;\n",
              "      padding: 0 0 0 0;\n",
              "      width: 32px;\n",
              "    }\n",
              "\n",
              "    .colab-df-convert:hover {\n",
              "      background-color: #E2EBFA;\n",
              "      box-shadow: 0px 1px 2px rgba(60, 64, 67, 0.3), 0px 1px 3px 1px rgba(60, 64, 67, 0.15);\n",
              "      fill: #174EA6;\n",
              "    }\n",
              "\n",
              "    [theme=dark] .colab-df-convert {\n",
              "      background-color: #3B4455;\n",
              "      fill: #D2E3FC;\n",
              "    }\n",
              "\n",
              "    [theme=dark] .colab-df-convert:hover {\n",
              "      background-color: #434B5C;\n",
              "      box-shadow: 0px 1px 3px 1px rgba(0, 0, 0, 0.15);\n",
              "      filter: drop-shadow(0px 1px 2px rgba(0, 0, 0, 0.3));\n",
              "      fill: #FFFFFF;\n",
              "    }\n",
              "  </style>\n",
              "\n",
              "      <script>\n",
              "        const buttonEl =\n",
              "          document.querySelector('#df-fea60550-681c-4555-afc0-8fea7dc82cf6 button.colab-df-convert');\n",
              "        buttonEl.style.display =\n",
              "          google.colab.kernel.accessAllowed ? 'block' : 'none';\n",
              "\n",
              "        async function convertToInteractive(key) {\n",
              "          const element = document.querySelector('#df-fea60550-681c-4555-afc0-8fea7dc82cf6');\n",
              "          const dataTable =\n",
              "            await google.colab.kernel.invokeFunction('convertToInteractive',\n",
              "                                                     [key], {});\n",
              "          if (!dataTable) return;\n",
              "\n",
              "          const docLinkHtml = 'Like what you see? Visit the ' +\n",
              "            '<a target=\"_blank\" href=https://colab.research.google.com/notebooks/data_table.ipynb>data table notebook</a>'\n",
              "            + ' to learn more about interactive tables.';\n",
              "          element.innerHTML = '';\n",
              "          dataTable['output_type'] = 'display_data';\n",
              "          await google.colab.output.renderOutput(dataTable, element);\n",
              "          const docLink = document.createElement('div');\n",
              "          docLink.innerHTML = docLinkHtml;\n",
              "          element.appendChild(docLink);\n",
              "        }\n",
              "      </script>\n",
              "    </div>\n",
              "  </div>\n",
              "  "
            ]
          },
          "metadata": {},
          "execution_count": 93
        }
      ]
    },
    {
      "cell_type": "code",
      "source": [
        "columns_to_encod = ['label_pred_1',\n",
        "                   'label_pred_2',\n",
        "                   'label_pred_3',\n",
        "                   'label_pred_4',\n",
        "                   'label_pred_5',\n",
        "                   'label_true',]"
      ],
      "metadata": {
        "id": "LMHoCKzn0w8d"
      },
      "id": "LMHoCKzn0w8d",
      "execution_count": null,
      "outputs": []
    },
    {
      "cell_type": "code",
      "source": [
        "test_transform_data(columns_to_encod)"
      ],
      "metadata": {
        "colab": {
          "base_uri": "https://localhost:8080/"
        },
        "id": "8hvfimmxWsdV",
        "outputId": "17263aac-eff3-42b9-d7c2-93dce333e122"
      },
      "id": "8hvfimmxWsdV",
      "execution_count": null,
      "outputs": [
        {
          "output_type": "stream",
          "name": "stdout",
          "text": [
            "\u001b[0;32;47m    Input  :  \n",
            "\n",
            "\u001b[0;32;47m |    |   score_1 |   score_2 |   score_3 |   score_4 |   score_5 | label_pred_1      | label_pred_2           | label_pred_3   | label_pred_4           | label_pred_5           | label_true   |   is_pred_1_correct |   is_pred_2_correct |   is_pred_3_correct |   is_pred_4_correct |   is_pred_5_correct |   is_top3_correct |   is_top5_correct |\n",
            "|----|-----------|-----------|-----------|-----------|-----------|-------------------|------------------------|----------------|------------------------|------------------------|--------------|---------------------|---------------------|---------------------|---------------------|---------------------|-------------------|-------------------|\n",
            "|  0 |  0.738368 |  0.717175 |  0.714135 |  0.707027 |   0.70618 | wrong designation | message \"sos to check\" | reset adac     | message sos to control | message sos to control | out of scope |                   0 |                   0 |                   0 |                   0 |                   0 |                 0 |                 0 |\n",
            "\n",
            "\n",
            "\u001b[0;32;47m  Outout  :  \n",
            "\n",
            "\u001b[0;32;47m |    |   score_1 |   score_2 |   score_3 |   score_4 |   score_5 |   label_pred_1 |   label_pred_2 |   label_pred_3 |   label_pred_4 |   label_pred_5 |   label_true |   is_pred_1_correct |   is_pred_2_correct |   is_pred_3_correct |   is_pred_4_correct |   is_pred_5_correct |   is_top3_correct |   is_top5_correct | label_true_original   |   label_pred_1_0 |   label_pred_2_1 |   label_pred_3_2 |   label_pred_4_3 |   label_pred_5_3 |\n",
            "|----|-----------|-----------|-----------|-----------|-----------|----------------|----------------|----------------|----------------|----------------|--------------|---------------------|---------------------|---------------------|---------------------|---------------------|-------------------|-------------------|-----------------------|------------------|------------------|------------------|------------------|------------------|\n",
            "|  0 |  0.738368 |  0.717175 |  0.714135 |  0.707027 |   0.70618 |              0 |              1 |              2 |              3 |              3 |            5 |                   0 |                   0 |                   0 |                   0 |                   0 |                 0 |                 0 | out of scope          |                1 |                1 |                1 |                1 |                1 |\n"
          ]
        }
      ]
    },
    {
      "cell_type": "code",
      "source": [
        "df_train=transform_data(df_corpus_top5,columns_to_encod)\n",
        "df_test=transform_data(df_test_top5,columns_to_encod)"
      ],
      "metadata": {
        "id": "bBXHZRrFUunF"
      },
      "id": "bBXHZRrFUunF",
      "execution_count": null,
      "outputs": []
    },
    {
      "cell_type": "code",
      "source": [
        "score_features = [ 'score_1', 'score_2', 'score_3', 'score_4', 'score_5']\n",
        "label_pred_features = ['label_pred_1','label_pred_2', 'label_pred_3', 'label_pred_4', 'label_pred_5']\n",
        "is_pred_correct_features = ['is_pred_1_correct', 'is_pred_2_correct','is_pred_3_correct','is_pred_4_correct', 'is_pred_5_correct','is_top3_correct','is_top5_correct',]\n",
        "label_pred_dummies_features = ['label_pred_1_0','label_pred_2_0', 'label_pred_2_1', 'label_pred_3_0', 'label_pred_3_1','label_pred_3_2','label_pred_4_0', 'label_pred_4_1','label_pred_4_2','label_pred_4_3', 'label_pred_5_0', 'label_pred_5_1', 'label_pred_5_2','label_pred_5_3', 'label_pred_5_4']"
      ],
      "metadata": {
        "id": "bl50ys4hCiX6"
      },
      "id": "bl50ys4hCiX6",
      "execution_count": null,
      "outputs": []
    },
    {
      "cell_type": "code",
      "source": [
        "X_train = df_train[ score_features + label_pred_features + label_pred_dummies_features  ]\n",
        "y_train = df_train[['label_true']]   \n",
        "\n",
        "X_test = df_test[ score_features + label_pred_features + label_pred_dummies_features ]\n",
        "y_test = df_test[['label_true']]     "
      ],
      "metadata": {
        "id": "3QFhoqXy1acQ"
      },
      "id": "3QFhoqXy1acQ",
      "execution_count": null,
      "outputs": []
    },
    {
      "cell_type": "markdown",
      "source": [
        "# Modeling"
      ],
      "metadata": {
        "id": "DEHnQ8Co0-ru"
      },
      "id": "DEHnQ8Co0-ru"
    },
    {
      "cell_type": "markdown",
      "source": [
        "### Opted for the following classification models:\n",
        "- Naive Bayes\n",
        "- KNN\n",
        "- Logistic Regression\n",
        "- Random Forest\n",
        "- SVM\n",
        "- Ada-Boost\n",
        "- XG-Boost"
      ],
      "metadata": {
        "id": "Fs9PilXI07Km"
      },
      "id": "Fs9PilXI07Km"
    },
    {
      "cell_type": "markdown",
      "source": [
        "## As a method for estimating the reliability of machine learning models, we used K-Fold Cross Validation"
      ],
      "metadata": {
        "id": "MpNnE_xy1Gjk"
      },
      "id": "MpNnE_xy1Gjk"
    },
    {
      "cell_type": "code",
      "source": [
        "# Without  is_pred_K_correct\n",
        "model_selection(X_train,y_train)"
      ],
      "metadata": {
        "colab": {
          "base_uri": "https://localhost:8080/",
          "height": 81
        },
        "id": "pLb0mkI3VoZg",
        "outputId": "edd74c2e-fd7f-4545-de6e-cee24b08c7c8"
      },
      "id": "pLb0mkI3VoZg",
      "execution_count": null,
      "outputs": [
        {
          "output_type": "execute_result",
          "data": {
            "text/plain": [
              "              K-nn  Naive_Bayes  Logistic_Regression       SVM  Random_Forest  \\\n",
              "Accuracy  0.533666     0.503971             0.601113  0.591817       0.555657   \n",
              "\n",
              "          Ada-Boost  Xg_Boost  \n",
              "Accuracy   0.476416  0.596692  "
            ],
            "text/html": [
              "\n",
              "  <div id=\"df-1d633351-9546-4265-8610-51ca116b28e5\">\n",
              "    <div class=\"colab-df-container\">\n",
              "      <div>\n",
              "<style scoped>\n",
              "    .dataframe tbody tr th:only-of-type {\n",
              "        vertical-align: middle;\n",
              "    }\n",
              "\n",
              "    .dataframe tbody tr th {\n",
              "        vertical-align: top;\n",
              "    }\n",
              "\n",
              "    .dataframe thead th {\n",
              "        text-align: right;\n",
              "    }\n",
              "</style>\n",
              "<table border=\"1\" class=\"dataframe\">\n",
              "  <thead>\n",
              "    <tr style=\"text-align: right;\">\n",
              "      <th></th>\n",
              "      <th>K-nn</th>\n",
              "      <th>Naive_Bayes</th>\n",
              "      <th>Logistic_Regression</th>\n",
              "      <th>SVM</th>\n",
              "      <th>Random_Forest</th>\n",
              "      <th>Ada-Boost</th>\n",
              "      <th>Xg_Boost</th>\n",
              "    </tr>\n",
              "  </thead>\n",
              "  <tbody>\n",
              "    <tr>\n",
              "      <th>Accuracy</th>\n",
              "      <td>0.533666</td>\n",
              "      <td>0.503971</td>\n",
              "      <td>0.601113</td>\n",
              "      <td>0.591817</td>\n",
              "      <td>0.555657</td>\n",
              "      <td>0.476416</td>\n",
              "      <td>0.596692</td>\n",
              "    </tr>\n",
              "  </tbody>\n",
              "</table>\n",
              "</div>\n",
              "      <button class=\"colab-df-convert\" onclick=\"convertToInteractive('df-1d633351-9546-4265-8610-51ca116b28e5')\"\n",
              "              title=\"Convert this dataframe to an interactive table.\"\n",
              "              style=\"display:none;\">\n",
              "        \n",
              "  <svg xmlns=\"http://www.w3.org/2000/svg\" height=\"24px\"viewBox=\"0 0 24 24\"\n",
              "       width=\"24px\">\n",
              "    <path d=\"M0 0h24v24H0V0z\" fill=\"none\"/>\n",
              "    <path d=\"M18.56 5.44l.94 2.06.94-2.06 2.06-.94-2.06-.94-.94-2.06-.94 2.06-2.06.94zm-11 1L8.5 8.5l.94-2.06 2.06-.94-2.06-.94L8.5 2.5l-.94 2.06-2.06.94zm10 10l.94 2.06.94-2.06 2.06-.94-2.06-.94-.94-2.06-.94 2.06-2.06.94z\"/><path d=\"M17.41 7.96l-1.37-1.37c-.4-.4-.92-.59-1.43-.59-.52 0-1.04.2-1.43.59L10.3 9.45l-7.72 7.72c-.78.78-.78 2.05 0 2.83L4 21.41c.39.39.9.59 1.41.59.51 0 1.02-.2 1.41-.59l7.78-7.78 2.81-2.81c.8-.78.8-2.07 0-2.86zM5.41 20L4 18.59l7.72-7.72 1.47 1.35L5.41 20z\"/>\n",
              "  </svg>\n",
              "      </button>\n",
              "      \n",
              "  <style>\n",
              "    .colab-df-container {\n",
              "      display:flex;\n",
              "      flex-wrap:wrap;\n",
              "      gap: 12px;\n",
              "    }\n",
              "\n",
              "    .colab-df-convert {\n",
              "      background-color: #E8F0FE;\n",
              "      border: none;\n",
              "      border-radius: 50%;\n",
              "      cursor: pointer;\n",
              "      display: none;\n",
              "      fill: #1967D2;\n",
              "      height: 32px;\n",
              "      padding: 0 0 0 0;\n",
              "      width: 32px;\n",
              "    }\n",
              "\n",
              "    .colab-df-convert:hover {\n",
              "      background-color: #E2EBFA;\n",
              "      box-shadow: 0px 1px 2px rgba(60, 64, 67, 0.3), 0px 1px 3px 1px rgba(60, 64, 67, 0.15);\n",
              "      fill: #174EA6;\n",
              "    }\n",
              "\n",
              "    [theme=dark] .colab-df-convert {\n",
              "      background-color: #3B4455;\n",
              "      fill: #D2E3FC;\n",
              "    }\n",
              "\n",
              "    [theme=dark] .colab-df-convert:hover {\n",
              "      background-color: #434B5C;\n",
              "      box-shadow: 0px 1px 3px 1px rgba(0, 0, 0, 0.15);\n",
              "      filter: drop-shadow(0px 1px 2px rgba(0, 0, 0, 0.3));\n",
              "      fill: #FFFFFF;\n",
              "    }\n",
              "  </style>\n",
              "\n",
              "      <script>\n",
              "        const buttonEl =\n",
              "          document.querySelector('#df-1d633351-9546-4265-8610-51ca116b28e5 button.colab-df-convert');\n",
              "        buttonEl.style.display =\n",
              "          google.colab.kernel.accessAllowed ? 'block' : 'none';\n",
              "\n",
              "        async function convertToInteractive(key) {\n",
              "          const element = document.querySelector('#df-1d633351-9546-4265-8610-51ca116b28e5');\n",
              "          const dataTable =\n",
              "            await google.colab.kernel.invokeFunction('convertToInteractive',\n",
              "                                                     [key], {});\n",
              "          if (!dataTable) return;\n",
              "\n",
              "          const docLinkHtml = 'Like what you see? Visit the ' +\n",
              "            '<a target=\"_blank\" href=https://colab.research.google.com/notebooks/data_table.ipynb>data table notebook</a>'\n",
              "            + ' to learn more about interactive tables.';\n",
              "          element.innerHTML = '';\n",
              "          dataTable['output_type'] = 'display_data';\n",
              "          await google.colab.output.renderOutput(dataTable, element);\n",
              "          const docLink = document.createElement('div');\n",
              "          docLink.innerHTML = docLinkHtml;\n",
              "          element.appendChild(docLink);\n",
              "        }\n",
              "      </script>\n",
              "    </div>\n",
              "  </div>\n",
              "  "
            ]
          },
          "metadata": {},
          "execution_count": 19
        }
      ]
    },
    {
      "cell_type": "code",
      "source": [
        "# Only score\n",
        "model_selection(X_train,y_train)"
      ],
      "metadata": {
        "colab": {
          "base_uri": "https://localhost:8080/",
          "height": 81
        },
        "id": "RuFoRUnUqq-Q",
        "outputId": "8942e4d6-bc47-4a44-b8fa-91689936c8c7"
      },
      "id": "RuFoRUnUqq-Q",
      "execution_count": null,
      "outputs": [
        {
          "output_type": "execute_result",
          "data": {
            "text/plain": [
              "              K-nn  Naive_Bayes  Logistic_Regression       SVM  Random_Forest  \\\n",
              "Accuracy  0.438904     0.496146             0.506235  0.508276       0.465199   \n",
              "\n",
              "          Ada-Boost  Xg_Boost  \n",
              "Accuracy   0.491269  0.508842  "
            ],
            "text/html": [
              "\n",
              "  <div id=\"df-0eeb81ef-4ebf-4d39-bd29-000f9341c176\">\n",
              "    <div class=\"colab-df-container\">\n",
              "      <div>\n",
              "<style scoped>\n",
              "    .dataframe tbody tr th:only-of-type {\n",
              "        vertical-align: middle;\n",
              "    }\n",
              "\n",
              "    .dataframe tbody tr th {\n",
              "        vertical-align: top;\n",
              "    }\n",
              "\n",
              "    .dataframe thead th {\n",
              "        text-align: right;\n",
              "    }\n",
              "</style>\n",
              "<table border=\"1\" class=\"dataframe\">\n",
              "  <thead>\n",
              "    <tr style=\"text-align: right;\">\n",
              "      <th></th>\n",
              "      <th>K-nn</th>\n",
              "      <th>Naive_Bayes</th>\n",
              "      <th>Logistic_Regression</th>\n",
              "      <th>SVM</th>\n",
              "      <th>Random_Forest</th>\n",
              "      <th>Ada-Boost</th>\n",
              "      <th>Xg_Boost</th>\n",
              "    </tr>\n",
              "  </thead>\n",
              "  <tbody>\n",
              "    <tr>\n",
              "      <th>Accuracy</th>\n",
              "      <td>0.438904</td>\n",
              "      <td>0.496146</td>\n",
              "      <td>0.506235</td>\n",
              "      <td>0.508276</td>\n",
              "      <td>0.465199</td>\n",
              "      <td>0.491269</td>\n",
              "      <td>0.508842</td>\n",
              "    </tr>\n",
              "  </tbody>\n",
              "</table>\n",
              "</div>\n",
              "      <button class=\"colab-df-convert\" onclick=\"convertToInteractive('df-0eeb81ef-4ebf-4d39-bd29-000f9341c176')\"\n",
              "              title=\"Convert this dataframe to an interactive table.\"\n",
              "              style=\"display:none;\">\n",
              "        \n",
              "  <svg xmlns=\"http://www.w3.org/2000/svg\" height=\"24px\"viewBox=\"0 0 24 24\"\n",
              "       width=\"24px\">\n",
              "    <path d=\"M0 0h24v24H0V0z\" fill=\"none\"/>\n",
              "    <path d=\"M18.56 5.44l.94 2.06.94-2.06 2.06-.94-2.06-.94-.94-2.06-.94 2.06-2.06.94zm-11 1L8.5 8.5l.94-2.06 2.06-.94-2.06-.94L8.5 2.5l-.94 2.06-2.06.94zm10 10l.94 2.06.94-2.06 2.06-.94-2.06-.94-.94-2.06-.94 2.06-2.06.94z\"/><path d=\"M17.41 7.96l-1.37-1.37c-.4-.4-.92-.59-1.43-.59-.52 0-1.04.2-1.43.59L10.3 9.45l-7.72 7.72c-.78.78-.78 2.05 0 2.83L4 21.41c.39.39.9.59 1.41.59.51 0 1.02-.2 1.41-.59l7.78-7.78 2.81-2.81c.8-.78.8-2.07 0-2.86zM5.41 20L4 18.59l7.72-7.72 1.47 1.35L5.41 20z\"/>\n",
              "  </svg>\n",
              "      </button>\n",
              "      \n",
              "  <style>\n",
              "    .colab-df-container {\n",
              "      display:flex;\n",
              "      flex-wrap:wrap;\n",
              "      gap: 12px;\n",
              "    }\n",
              "\n",
              "    .colab-df-convert {\n",
              "      background-color: #E8F0FE;\n",
              "      border: none;\n",
              "      border-radius: 50%;\n",
              "      cursor: pointer;\n",
              "      display: none;\n",
              "      fill: #1967D2;\n",
              "      height: 32px;\n",
              "      padding: 0 0 0 0;\n",
              "      width: 32px;\n",
              "    }\n",
              "\n",
              "    .colab-df-convert:hover {\n",
              "      background-color: #E2EBFA;\n",
              "      box-shadow: 0px 1px 2px rgba(60, 64, 67, 0.3), 0px 1px 3px 1px rgba(60, 64, 67, 0.15);\n",
              "      fill: #174EA6;\n",
              "    }\n",
              "\n",
              "    [theme=dark] .colab-df-convert {\n",
              "      background-color: #3B4455;\n",
              "      fill: #D2E3FC;\n",
              "    }\n",
              "\n",
              "    [theme=dark] .colab-df-convert:hover {\n",
              "      background-color: #434B5C;\n",
              "      box-shadow: 0px 1px 3px 1px rgba(0, 0, 0, 0.15);\n",
              "      filter: drop-shadow(0px 1px 2px rgba(0, 0, 0, 0.3));\n",
              "      fill: #FFFFFF;\n",
              "    }\n",
              "  </style>\n",
              "\n",
              "      <script>\n",
              "        const buttonEl =\n",
              "          document.querySelector('#df-0eeb81ef-4ebf-4d39-bd29-000f9341c176 button.colab-df-convert');\n",
              "        buttonEl.style.display =\n",
              "          google.colab.kernel.accessAllowed ? 'block' : 'none';\n",
              "\n",
              "        async function convertToInteractive(key) {\n",
              "          const element = document.querySelector('#df-0eeb81ef-4ebf-4d39-bd29-000f9341c176');\n",
              "          const dataTable =\n",
              "            await google.colab.kernel.invokeFunction('convertToInteractive',\n",
              "                                                     [key], {});\n",
              "          if (!dataTable) return;\n",
              "\n",
              "          const docLinkHtml = 'Like what you see? Visit the ' +\n",
              "            '<a target=\"_blank\" href=https://colab.research.google.com/notebooks/data_table.ipynb>data table notebook</a>'\n",
              "            + ' to learn more about interactive tables.';\n",
              "          element.innerHTML = '';\n",
              "          dataTable['output_type'] = 'display_data';\n",
              "          await google.colab.output.renderOutput(dataTable, element);\n",
              "          const docLink = document.createElement('div');\n",
              "          docLink.innerHTML = docLinkHtml;\n",
              "          element.appendChild(docLink);\n",
              "        }\n",
              "      </script>\n",
              "    </div>\n",
              "  </div>\n",
              "  "
            ]
          },
          "metadata": {},
          "execution_count": 23
        }
      ]
    },
    {
      "cell_type": "code",
      "source": [
        "# Oll feature  \n",
        "model_selection(X_train   ,  y_train)  # overfitting"
      ],
      "metadata": {
        "colab": {
          "base_uri": "https://localhost:8080/",
          "height": 81
        },
        "id": "FYcRJB68qOtA",
        "outputId": "e4f87d7e-bfd8-40df-de4c-11caa37ccf07"
      },
      "id": "FYcRJB68qOtA",
      "execution_count": null,
      "outputs": [
        {
          "output_type": "execute_result",
          "data": {
            "text/plain": [
              "              K-nn  Naive_Bayes  Logistic_Regression  SVM  Random_Forest  \\\n",
              "Accuracy  0.999547     0.965201             0.998414  1.0            1.0   \n",
              "\n",
              "          Ada-Boost  Xg_Boost  \n",
              "Accuracy    0.89968       1.0  "
            ],
            "text/html": [
              "\n",
              "  <div id=\"df-f6fcc28a-a298-4d49-93ed-4336031eaf4c\">\n",
              "    <div class=\"colab-df-container\">\n",
              "      <div>\n",
              "<style scoped>\n",
              "    .dataframe tbody tr th:only-of-type {\n",
              "        vertical-align: middle;\n",
              "    }\n",
              "\n",
              "    .dataframe tbody tr th {\n",
              "        vertical-align: top;\n",
              "    }\n",
              "\n",
              "    .dataframe thead th {\n",
              "        text-align: right;\n",
              "    }\n",
              "</style>\n",
              "<table border=\"1\" class=\"dataframe\">\n",
              "  <thead>\n",
              "    <tr style=\"text-align: right;\">\n",
              "      <th></th>\n",
              "      <th>K-nn</th>\n",
              "      <th>Naive_Bayes</th>\n",
              "      <th>Logistic_Regression</th>\n",
              "      <th>SVM</th>\n",
              "      <th>Random_Forest</th>\n",
              "      <th>Ada-Boost</th>\n",
              "      <th>Xg_Boost</th>\n",
              "    </tr>\n",
              "  </thead>\n",
              "  <tbody>\n",
              "    <tr>\n",
              "      <th>Accuracy</th>\n",
              "      <td>0.999547</td>\n",
              "      <td>0.965201</td>\n",
              "      <td>0.998414</td>\n",
              "      <td>1.0</td>\n",
              "      <td>1.0</td>\n",
              "      <td>0.89968</td>\n",
              "      <td>1.0</td>\n",
              "    </tr>\n",
              "  </tbody>\n",
              "</table>\n",
              "</div>\n",
              "      <button class=\"colab-df-convert\" onclick=\"convertToInteractive('df-f6fcc28a-a298-4d49-93ed-4336031eaf4c')\"\n",
              "              title=\"Convert this dataframe to an interactive table.\"\n",
              "              style=\"display:none;\">\n",
              "        \n",
              "  <svg xmlns=\"http://www.w3.org/2000/svg\" height=\"24px\"viewBox=\"0 0 24 24\"\n",
              "       width=\"24px\">\n",
              "    <path d=\"M0 0h24v24H0V0z\" fill=\"none\"/>\n",
              "    <path d=\"M18.56 5.44l.94 2.06.94-2.06 2.06-.94-2.06-.94-.94-2.06-.94 2.06-2.06.94zm-11 1L8.5 8.5l.94-2.06 2.06-.94-2.06-.94L8.5 2.5l-.94 2.06-2.06.94zm10 10l.94 2.06.94-2.06 2.06-.94-2.06-.94-.94-2.06-.94 2.06-2.06.94z\"/><path d=\"M17.41 7.96l-1.37-1.37c-.4-.4-.92-.59-1.43-.59-.52 0-1.04.2-1.43.59L10.3 9.45l-7.72 7.72c-.78.78-.78 2.05 0 2.83L4 21.41c.39.39.9.59 1.41.59.51 0 1.02-.2 1.41-.59l7.78-7.78 2.81-2.81c.8-.78.8-2.07 0-2.86zM5.41 20L4 18.59l7.72-7.72 1.47 1.35L5.41 20z\"/>\n",
              "  </svg>\n",
              "      </button>\n",
              "      \n",
              "  <style>\n",
              "    .colab-df-container {\n",
              "      display:flex;\n",
              "      flex-wrap:wrap;\n",
              "      gap: 12px;\n",
              "    }\n",
              "\n",
              "    .colab-df-convert {\n",
              "      background-color: #E8F0FE;\n",
              "      border: none;\n",
              "      border-radius: 50%;\n",
              "      cursor: pointer;\n",
              "      display: none;\n",
              "      fill: #1967D2;\n",
              "      height: 32px;\n",
              "      padding: 0 0 0 0;\n",
              "      width: 32px;\n",
              "    }\n",
              "\n",
              "    .colab-df-convert:hover {\n",
              "      background-color: #E2EBFA;\n",
              "      box-shadow: 0px 1px 2px rgba(60, 64, 67, 0.3), 0px 1px 3px 1px rgba(60, 64, 67, 0.15);\n",
              "      fill: #174EA6;\n",
              "    }\n",
              "\n",
              "    [theme=dark] .colab-df-convert {\n",
              "      background-color: #3B4455;\n",
              "      fill: #D2E3FC;\n",
              "    }\n",
              "\n",
              "    [theme=dark] .colab-df-convert:hover {\n",
              "      background-color: #434B5C;\n",
              "      box-shadow: 0px 1px 3px 1px rgba(0, 0, 0, 0.15);\n",
              "      filter: drop-shadow(0px 1px 2px rgba(0, 0, 0, 0.3));\n",
              "      fill: #FFFFFF;\n",
              "    }\n",
              "  </style>\n",
              "\n",
              "      <script>\n",
              "        const buttonEl =\n",
              "          document.querySelector('#df-f6fcc28a-a298-4d49-93ed-4336031eaf4c button.colab-df-convert');\n",
              "        buttonEl.style.display =\n",
              "          google.colab.kernel.accessAllowed ? 'block' : 'none';\n",
              "\n",
              "        async function convertToInteractive(key) {\n",
              "          const element = document.querySelector('#df-f6fcc28a-a298-4d49-93ed-4336031eaf4c');\n",
              "          const dataTable =\n",
              "            await google.colab.kernel.invokeFunction('convertToInteractive',\n",
              "                                                     [key], {});\n",
              "          if (!dataTable) return;\n",
              "\n",
              "          const docLinkHtml = 'Like what you see? Visit the ' +\n",
              "            '<a target=\"_blank\" href=https://colab.research.google.com/notebooks/data_table.ipynb>data table notebook</a>'\n",
              "            + ' to learn more about interactive tables.';\n",
              "          element.innerHTML = '';\n",
              "          dataTable['output_type'] = 'display_data';\n",
              "          await google.colab.output.renderOutput(dataTable, element);\n",
              "          const docLink = document.createElement('div');\n",
              "          docLink.innerHTML = docLinkHtml;\n",
              "          element.appendChild(docLink);\n",
              "        }\n",
              "      </script>\n",
              "    </div>\n",
              "  </div>\n",
              "  "
            ]
          },
          "metadata": {},
          "execution_count": 22
        }
      ]
    },
    {
      "cell_type": "markdown",
      "source": [
        "# benchmark models ML"
      ],
      "metadata": {
        "id": "Kc19P4-0a-X4"
      },
      "id": "Kc19P4-0a-X4"
    },
    {
      "cell_type": "code",
      "source": [
        "columns=[\"label_pred_2\"\t,\"label_pred_3\"\t,\"label_pred_4\",\t\"label_pred_5\",\"label_pred_1\"\t,\"label_true_original\",\"label_true\"]\n",
        "df_assess=df_test[columns]"
      ],
      "metadata": {
        "id": "GOlfikDBaMKB"
      },
      "execution_count": null,
      "outputs": [],
      "id": "GOlfikDBaMKB"
    },
    {
      "cell_type": "code",
      "source": [
        "# For each model we will get the prediction and the score \n",
        "df_assess_all=benchmark_ML_models(X_train, X_test,y_train, y_test,df_assess)"
      ],
      "metadata": {
        "id": "0a7iP4S2Bqkq"
      },
      "execution_count": null,
      "outputs": [],
      "id": "0a7iP4S2Bqkq"
    },
    {
      "cell_type": "code",
      "source": [
        "df_assess_all"
      ],
      "metadata": {
        "colab": {
          "base_uri": "https://localhost:8080/",
          "height": 504
        },
        "id": "KuM1wgk4XR9o",
        "outputId": "49f8ac78-ec87-44d5-ead6-7cb73292bb75"
      },
      "id": "KuM1wgk4XR9o",
      "execution_count": null,
      "outputs": [
        {
          "output_type": "execute_result",
          "data": {
            "text/plain": [
              "     label_pred_2  label_pred_3  label_pred_4  label_pred_5  label_pred_1  \\\n",
              "0               1             2             3             0             0   \n",
              "1               1             0             2             3             0   \n",
              "2               0             0             1             2             0   \n",
              "3               1             2             0             2             0   \n",
              "4               1             2             1             1             0   \n",
              "..            ...           ...           ...           ...           ...   \n",
              "812             0             1             1             2             0   \n",
              "813             1             2             3             1             0   \n",
              "814             0             1             0             0             0   \n",
              "815             1             1             2             1             0   \n",
              "816             0             1             0             2             0   \n",
              "\n",
              "    label_true_original  label_true  K-nn_prediction  K-nn_score  \\\n",
              "0         antenna issue           2                5        0.50   \n",
              "1         error message           5                0        0.25   \n",
              "2     replication issue           5                0        0.50   \n",
              "3      mechanical noise           5                0        0.75   \n",
              "4          black screen           1                1        0.50   \n",
              "..                  ...         ...              ...         ...   \n",
              "812          reset adac           5                0        0.75   \n",
              "813    fuel gauge issue           2                1        0.75   \n",
              "814          reset adac           1                0        0.50   \n",
              "815    fuel gauge issue           2                1        0.50   \n",
              "816    fuel gauge issue           1                5        0.75   \n",
              "\n",
              "     Naive_Bayes_prediction  ...  Logistic_Regression_prediction  \\\n",
              "0                         5  ...                               5   \n",
              "1                         5  ...                               5   \n",
              "2                         0  ...                               0   \n",
              "3                         5  ...                               5   \n",
              "4                         1  ...                               5   \n",
              "..                      ...  ...                             ...   \n",
              "812                       5  ...                               5   \n",
              "813                       2  ...                               5   \n",
              "814                       0  ...                               0   \n",
              "815                       1  ...                               1   \n",
              "816                       0  ...                               0   \n",
              "\n",
              "     Logistic_Regression_score  SVM_prediction  SVM_score  \\\n",
              "0                     0.516339               5   0.509727   \n",
              "1                     0.446518               5   0.516250   \n",
              "2                     0.625791               0   0.642304   \n",
              "3                     0.500588               0   0.634326   \n",
              "4                     0.411102               1   0.451395   \n",
              "..                         ...             ...        ...   \n",
              "812                   0.585876               0   0.580878   \n",
              "813                   0.401019               5   0.492010   \n",
              "814                   0.762626               0   0.645201   \n",
              "815                   0.464936               5   0.386587   \n",
              "816                   0.630837               0   0.644063   \n",
              "\n",
              "     Random_Forest_prediction  Random_Forest_score  Ada-Boost_prediction  \\\n",
              "0                           5                 0.57                     5   \n",
              "1                           5                 0.43                     5   \n",
              "2                           2                 0.43                     0   \n",
              "3                           0                 0.53                     0   \n",
              "4                           2                 0.62                     5   \n",
              "..                        ...                  ...                   ...   \n",
              "812                         0                 0.54                     5   \n",
              "813                         1                 0.58                     2   \n",
              "814                         0                 0.66                     0   \n",
              "815                         1                 0.46                     0   \n",
              "816                         0                 0.63                     0   \n",
              "\n",
              "     Ada-Boost_score  Xg_Boost_prediction  Xg_Boost_score  \n",
              "0           0.202796                    5        0.542464  \n",
              "1           0.202796                    5        0.412978  \n",
              "2           0.228985                    0        0.595768  \n",
              "3           0.201936                    5        0.423981  \n",
              "4           0.198479                    1        0.389565  \n",
              "..               ...                  ...             ...  \n",
              "812         0.329609                    0        0.305761  \n",
              "813         0.211369                    5        0.374731  \n",
              "814         0.222870                    0        0.669881  \n",
              "815         0.202827                    1        0.611320  \n",
              "816         0.228985                    0        0.585211  \n",
              "\n",
              "[817 rows x 21 columns]"
            ],
            "text/html": [
              "\n",
              "  <div id=\"df-512631ce-9d34-4db4-9c29-0285b9d39972\">\n",
              "    <div class=\"colab-df-container\">\n",
              "      <div>\n",
              "<style scoped>\n",
              "    .dataframe tbody tr th:only-of-type {\n",
              "        vertical-align: middle;\n",
              "    }\n",
              "\n",
              "    .dataframe tbody tr th {\n",
              "        vertical-align: top;\n",
              "    }\n",
              "\n",
              "    .dataframe thead th {\n",
              "        text-align: right;\n",
              "    }\n",
              "</style>\n",
              "<table border=\"1\" class=\"dataframe\">\n",
              "  <thead>\n",
              "    <tr style=\"text-align: right;\">\n",
              "      <th></th>\n",
              "      <th>label_pred_2</th>\n",
              "      <th>label_pred_3</th>\n",
              "      <th>label_pred_4</th>\n",
              "      <th>label_pred_5</th>\n",
              "      <th>label_pred_1</th>\n",
              "      <th>label_true_original</th>\n",
              "      <th>label_true</th>\n",
              "      <th>K-nn_prediction</th>\n",
              "      <th>K-nn_score</th>\n",
              "      <th>Naive_Bayes_prediction</th>\n",
              "      <th>...</th>\n",
              "      <th>Logistic_Regression_prediction</th>\n",
              "      <th>Logistic_Regression_score</th>\n",
              "      <th>SVM_prediction</th>\n",
              "      <th>SVM_score</th>\n",
              "      <th>Random_Forest_prediction</th>\n",
              "      <th>Random_Forest_score</th>\n",
              "      <th>Ada-Boost_prediction</th>\n",
              "      <th>Ada-Boost_score</th>\n",
              "      <th>Xg_Boost_prediction</th>\n",
              "      <th>Xg_Boost_score</th>\n",
              "    </tr>\n",
              "  </thead>\n",
              "  <tbody>\n",
              "    <tr>\n",
              "      <th>0</th>\n",
              "      <td>1</td>\n",
              "      <td>2</td>\n",
              "      <td>3</td>\n",
              "      <td>0</td>\n",
              "      <td>0</td>\n",
              "      <td>antenna issue</td>\n",
              "      <td>2</td>\n",
              "      <td>5</td>\n",
              "      <td>0.50</td>\n",
              "      <td>5</td>\n",
              "      <td>...</td>\n",
              "      <td>5</td>\n",
              "      <td>0.516339</td>\n",
              "      <td>5</td>\n",
              "      <td>0.509727</td>\n",
              "      <td>5</td>\n",
              "      <td>0.57</td>\n",
              "      <td>5</td>\n",
              "      <td>0.202796</td>\n",
              "      <td>5</td>\n",
              "      <td>0.542464</td>\n",
              "    </tr>\n",
              "    <tr>\n",
              "      <th>1</th>\n",
              "      <td>1</td>\n",
              "      <td>0</td>\n",
              "      <td>2</td>\n",
              "      <td>3</td>\n",
              "      <td>0</td>\n",
              "      <td>error message</td>\n",
              "      <td>5</td>\n",
              "      <td>0</td>\n",
              "      <td>0.25</td>\n",
              "      <td>5</td>\n",
              "      <td>...</td>\n",
              "      <td>5</td>\n",
              "      <td>0.446518</td>\n",
              "      <td>5</td>\n",
              "      <td>0.516250</td>\n",
              "      <td>5</td>\n",
              "      <td>0.43</td>\n",
              "      <td>5</td>\n",
              "      <td>0.202796</td>\n",
              "      <td>5</td>\n",
              "      <td>0.412978</td>\n",
              "    </tr>\n",
              "    <tr>\n",
              "      <th>2</th>\n",
              "      <td>0</td>\n",
              "      <td>0</td>\n",
              "      <td>1</td>\n",
              "      <td>2</td>\n",
              "      <td>0</td>\n",
              "      <td>replication issue</td>\n",
              "      <td>5</td>\n",
              "      <td>0</td>\n",
              "      <td>0.50</td>\n",
              "      <td>0</td>\n",
              "      <td>...</td>\n",
              "      <td>0</td>\n",
              "      <td>0.625791</td>\n",
              "      <td>0</td>\n",
              "      <td>0.642304</td>\n",
              "      <td>2</td>\n",
              "      <td>0.43</td>\n",
              "      <td>0</td>\n",
              "      <td>0.228985</td>\n",
              "      <td>0</td>\n",
              "      <td>0.595768</td>\n",
              "    </tr>\n",
              "    <tr>\n",
              "      <th>3</th>\n",
              "      <td>1</td>\n",
              "      <td>2</td>\n",
              "      <td>0</td>\n",
              "      <td>2</td>\n",
              "      <td>0</td>\n",
              "      <td>mechanical noise</td>\n",
              "      <td>5</td>\n",
              "      <td>0</td>\n",
              "      <td>0.75</td>\n",
              "      <td>5</td>\n",
              "      <td>...</td>\n",
              "      <td>5</td>\n",
              "      <td>0.500588</td>\n",
              "      <td>0</td>\n",
              "      <td>0.634326</td>\n",
              "      <td>0</td>\n",
              "      <td>0.53</td>\n",
              "      <td>0</td>\n",
              "      <td>0.201936</td>\n",
              "      <td>5</td>\n",
              "      <td>0.423981</td>\n",
              "    </tr>\n",
              "    <tr>\n",
              "      <th>4</th>\n",
              "      <td>1</td>\n",
              "      <td>2</td>\n",
              "      <td>1</td>\n",
              "      <td>1</td>\n",
              "      <td>0</td>\n",
              "      <td>black screen</td>\n",
              "      <td>1</td>\n",
              "      <td>1</td>\n",
              "      <td>0.50</td>\n",
              "      <td>1</td>\n",
              "      <td>...</td>\n",
              "      <td>5</td>\n",
              "      <td>0.411102</td>\n",
              "      <td>1</td>\n",
              "      <td>0.451395</td>\n",
              "      <td>2</td>\n",
              "      <td>0.62</td>\n",
              "      <td>5</td>\n",
              "      <td>0.198479</td>\n",
              "      <td>1</td>\n",
              "      <td>0.389565</td>\n",
              "    </tr>\n",
              "    <tr>\n",
              "      <th>...</th>\n",
              "      <td>...</td>\n",
              "      <td>...</td>\n",
              "      <td>...</td>\n",
              "      <td>...</td>\n",
              "      <td>...</td>\n",
              "      <td>...</td>\n",
              "      <td>...</td>\n",
              "      <td>...</td>\n",
              "      <td>...</td>\n",
              "      <td>...</td>\n",
              "      <td>...</td>\n",
              "      <td>...</td>\n",
              "      <td>...</td>\n",
              "      <td>...</td>\n",
              "      <td>...</td>\n",
              "      <td>...</td>\n",
              "      <td>...</td>\n",
              "      <td>...</td>\n",
              "      <td>...</td>\n",
              "      <td>...</td>\n",
              "      <td>...</td>\n",
              "    </tr>\n",
              "    <tr>\n",
              "      <th>812</th>\n",
              "      <td>0</td>\n",
              "      <td>1</td>\n",
              "      <td>1</td>\n",
              "      <td>2</td>\n",
              "      <td>0</td>\n",
              "      <td>reset adac</td>\n",
              "      <td>5</td>\n",
              "      <td>0</td>\n",
              "      <td>0.75</td>\n",
              "      <td>5</td>\n",
              "      <td>...</td>\n",
              "      <td>5</td>\n",
              "      <td>0.585876</td>\n",
              "      <td>0</td>\n",
              "      <td>0.580878</td>\n",
              "      <td>0</td>\n",
              "      <td>0.54</td>\n",
              "      <td>5</td>\n",
              "      <td>0.329609</td>\n",
              "      <td>0</td>\n",
              "      <td>0.305761</td>\n",
              "    </tr>\n",
              "    <tr>\n",
              "      <th>813</th>\n",
              "      <td>1</td>\n",
              "      <td>2</td>\n",
              "      <td>3</td>\n",
              "      <td>1</td>\n",
              "      <td>0</td>\n",
              "      <td>fuel gauge issue</td>\n",
              "      <td>2</td>\n",
              "      <td>1</td>\n",
              "      <td>0.75</td>\n",
              "      <td>2</td>\n",
              "      <td>...</td>\n",
              "      <td>5</td>\n",
              "      <td>0.401019</td>\n",
              "      <td>5</td>\n",
              "      <td>0.492010</td>\n",
              "      <td>1</td>\n",
              "      <td>0.58</td>\n",
              "      <td>2</td>\n",
              "      <td>0.211369</td>\n",
              "      <td>5</td>\n",
              "      <td>0.374731</td>\n",
              "    </tr>\n",
              "    <tr>\n",
              "      <th>814</th>\n",
              "      <td>0</td>\n",
              "      <td>1</td>\n",
              "      <td>0</td>\n",
              "      <td>0</td>\n",
              "      <td>0</td>\n",
              "      <td>reset adac</td>\n",
              "      <td>1</td>\n",
              "      <td>0</td>\n",
              "      <td>0.50</td>\n",
              "      <td>0</td>\n",
              "      <td>...</td>\n",
              "      <td>0</td>\n",
              "      <td>0.762626</td>\n",
              "      <td>0</td>\n",
              "      <td>0.645201</td>\n",
              "      <td>0</td>\n",
              "      <td>0.66</td>\n",
              "      <td>0</td>\n",
              "      <td>0.222870</td>\n",
              "      <td>0</td>\n",
              "      <td>0.669881</td>\n",
              "    </tr>\n",
              "    <tr>\n",
              "      <th>815</th>\n",
              "      <td>1</td>\n",
              "      <td>1</td>\n",
              "      <td>2</td>\n",
              "      <td>1</td>\n",
              "      <td>0</td>\n",
              "      <td>fuel gauge issue</td>\n",
              "      <td>2</td>\n",
              "      <td>1</td>\n",
              "      <td>0.50</td>\n",
              "      <td>1</td>\n",
              "      <td>...</td>\n",
              "      <td>1</td>\n",
              "      <td>0.464936</td>\n",
              "      <td>5</td>\n",
              "      <td>0.386587</td>\n",
              "      <td>1</td>\n",
              "      <td>0.46</td>\n",
              "      <td>0</td>\n",
              "      <td>0.202827</td>\n",
              "      <td>1</td>\n",
              "      <td>0.611320</td>\n",
              "    </tr>\n",
              "    <tr>\n",
              "      <th>816</th>\n",
              "      <td>0</td>\n",
              "      <td>1</td>\n",
              "      <td>0</td>\n",
              "      <td>2</td>\n",
              "      <td>0</td>\n",
              "      <td>fuel gauge issue</td>\n",
              "      <td>1</td>\n",
              "      <td>5</td>\n",
              "      <td>0.75</td>\n",
              "      <td>0</td>\n",
              "      <td>...</td>\n",
              "      <td>0</td>\n",
              "      <td>0.630837</td>\n",
              "      <td>0</td>\n",
              "      <td>0.644063</td>\n",
              "      <td>0</td>\n",
              "      <td>0.63</td>\n",
              "      <td>0</td>\n",
              "      <td>0.228985</td>\n",
              "      <td>0</td>\n",
              "      <td>0.585211</td>\n",
              "    </tr>\n",
              "  </tbody>\n",
              "</table>\n",
              "<p>817 rows × 21 columns</p>\n",
              "</div>\n",
              "      <button class=\"colab-df-convert\" onclick=\"convertToInteractive('df-512631ce-9d34-4db4-9c29-0285b9d39972')\"\n",
              "              title=\"Convert this dataframe to an interactive table.\"\n",
              "              style=\"display:none;\">\n",
              "        \n",
              "  <svg xmlns=\"http://www.w3.org/2000/svg\" height=\"24px\"viewBox=\"0 0 24 24\"\n",
              "       width=\"24px\">\n",
              "    <path d=\"M0 0h24v24H0V0z\" fill=\"none\"/>\n",
              "    <path d=\"M18.56 5.44l.94 2.06.94-2.06 2.06-.94-2.06-.94-.94-2.06-.94 2.06-2.06.94zm-11 1L8.5 8.5l.94-2.06 2.06-.94-2.06-.94L8.5 2.5l-.94 2.06-2.06.94zm10 10l.94 2.06.94-2.06 2.06-.94-2.06-.94-.94-2.06-.94 2.06-2.06.94z\"/><path d=\"M17.41 7.96l-1.37-1.37c-.4-.4-.92-.59-1.43-.59-.52 0-1.04.2-1.43.59L10.3 9.45l-7.72 7.72c-.78.78-.78 2.05 0 2.83L4 21.41c.39.39.9.59 1.41.59.51 0 1.02-.2 1.41-.59l7.78-7.78 2.81-2.81c.8-.78.8-2.07 0-2.86zM5.41 20L4 18.59l7.72-7.72 1.47 1.35L5.41 20z\"/>\n",
              "  </svg>\n",
              "      </button>\n",
              "      \n",
              "  <style>\n",
              "    .colab-df-container {\n",
              "      display:flex;\n",
              "      flex-wrap:wrap;\n",
              "      gap: 12px;\n",
              "    }\n",
              "\n",
              "    .colab-df-convert {\n",
              "      background-color: #E8F0FE;\n",
              "      border: none;\n",
              "      border-radius: 50%;\n",
              "      cursor: pointer;\n",
              "      display: none;\n",
              "      fill: #1967D2;\n",
              "      height: 32px;\n",
              "      padding: 0 0 0 0;\n",
              "      width: 32px;\n",
              "    }\n",
              "\n",
              "    .colab-df-convert:hover {\n",
              "      background-color: #E2EBFA;\n",
              "      box-shadow: 0px 1px 2px rgba(60, 64, 67, 0.3), 0px 1px 3px 1px rgba(60, 64, 67, 0.15);\n",
              "      fill: #174EA6;\n",
              "    }\n",
              "\n",
              "    [theme=dark] .colab-df-convert {\n",
              "      background-color: #3B4455;\n",
              "      fill: #D2E3FC;\n",
              "    }\n",
              "\n",
              "    [theme=dark] .colab-df-convert:hover {\n",
              "      background-color: #434B5C;\n",
              "      box-shadow: 0px 1px 3px 1px rgba(0, 0, 0, 0.15);\n",
              "      filter: drop-shadow(0px 1px 2px rgba(0, 0, 0, 0.3));\n",
              "      fill: #FFFFFF;\n",
              "    }\n",
              "  </style>\n",
              "\n",
              "      <script>\n",
              "        const buttonEl =\n",
              "          document.querySelector('#df-512631ce-9d34-4db4-9c29-0285b9d39972 button.colab-df-convert');\n",
              "        buttonEl.style.display =\n",
              "          google.colab.kernel.accessAllowed ? 'block' : 'none';\n",
              "\n",
              "        async function convertToInteractive(key) {\n",
              "          const element = document.querySelector('#df-512631ce-9d34-4db4-9c29-0285b9d39972');\n",
              "          const dataTable =\n",
              "            await google.colab.kernel.invokeFunction('convertToInteractive',\n",
              "                                                     [key], {});\n",
              "          if (!dataTable) return;\n",
              "\n",
              "          const docLinkHtml = 'Like what you see? Visit the ' +\n",
              "            '<a target=\"_blank\" href=https://colab.research.google.com/notebooks/data_table.ipynb>data table notebook</a>'\n",
              "            + ' to learn more about interactive tables.';\n",
              "          element.innerHTML = '';\n",
              "          dataTable['output_type'] = 'display_data';\n",
              "          await google.colab.output.renderOutput(dataTable, element);\n",
              "          const docLink = document.createElement('div');\n",
              "          docLink.innerHTML = docLinkHtml;\n",
              "          element.appendChild(docLink);\n",
              "        }\n",
              "      </script>\n",
              "    </div>\n",
              "  </div>\n",
              "  "
            ]
          },
          "metadata": {},
          "execution_count": 109
        }
      ]
    },
    {
      "cell_type": "markdown",
      "source": [
        "# hyperparameters optimization"
      ],
      "metadata": {
        "id": "uaPe-o1f8ApH"
      },
      "id": "uaPe-o1f8ApH"
    },
    {
      "cell_type": "markdown",
      "source": [
        "## Random Forest "
      ],
      "metadata": {
        "id": "3YK3_W-QuhfT"
      },
      "id": "3YK3_W-QuhfT"
    },
    {
      "cell_type": "code",
      "source": [
        "# Number of trees in random forest\n",
        "n_estimators = [int(x) for x in np.linspace(start = 200, stop = 1200, num = 10)]\n",
        "# Number of features to consider at every split\n",
        "max_features = ['auto', 'sqrt', 'log2',None]\n",
        "# Maximum number of levels in tree\n",
        "max_depth = [int(x) for x in np.linspace(10, 110, num = 11)]\n",
        "max_depth.append(None)\n",
        "# Minimum number of samples required to split a node\n",
        "min_samples_split = [2, 5, 10]\n",
        "# Minimum number of samples required at each leaf node\n",
        "min_samples_leaf = [1, 2, 4]\n",
        "# Method of selecting samples for training each tree\n",
        "bootstrap = [True, False]# Create the random grid\n",
        "random_grid = {'n_estimators': n_estimators,\n",
        "               'max_features': max_features,\n",
        "               'criterion' :['gini', 'entropy'],\n",
        "               'max_depth': max_depth,\n",
        "               'min_samples_split': min_samples_split,\n",
        "               'min_samples_leaf': min_samples_leaf,\n",
        "               'bootstrap': bootstrap}\n",
        "print(random_grid)"
      ],
      "metadata": {
        "colab": {
          "base_uri": "https://localhost:8080/"
        },
        "id": "vPP2KaFTtHsI",
        "outputId": "16057a8a-41ed-45b4-a507-4d14cbd76929"
      },
      "id": "vPP2KaFTtHsI",
      "execution_count": null,
      "outputs": [
        {
          "output_type": "stream",
          "name": "stdout",
          "text": [
            "{'n_estimators': [200, 311, 422, 533, 644, 755, 866, 977, 1088, 1200], 'max_features': ['auto', 'sqrt', 'log2', None], 'criterion': ['gini', 'entropy'], 'max_depth': [10, 20, 30, 40, 50, 60, 70, 80, 90, 100, 110, None], 'min_samples_split': [2, 5, 10], 'min_samples_leaf': [1, 2, 4], 'bootstrap': [True, False]}\n"
          ]
        }
      ]
    },
    {
      "cell_type": "code",
      "source": [
        "# Use the random grid to search for best hyperparameters\n",
        "# First create the base model to tune\n",
        "rf = RandomForestClassifier()\n",
        "# Random search of parameters, using 3 fold cross validation, \n",
        "# search across 100 different combinations, and use all available cores\n",
        "rf_random = RandomizedSearchCV(estimator = rf,\n",
        "                               param_distributions = random_grid,\n",
        "                               n_iter = 100,\n",
        "                               cv = 2,\n",
        "                               verbose=2,\n",
        "                               random_state=42,\n",
        "                               n_jobs = -1)# Fit the random search model\n",
        "rf_random.fit(X_train, y_train)"
      ],
      "metadata": {
        "colab": {
          "base_uri": "https://localhost:8080/"
        },
        "id": "8Z4q_YGHukkT",
        "outputId": "75c7978d-d3ed-4eb6-edde-41e160bfa739"
      },
      "id": "8Z4q_YGHukkT",
      "execution_count": null,
      "outputs": [
        {
          "output_type": "stream",
          "name": "stdout",
          "text": [
            "Fitting 2 folds for each of 100 candidates, totalling 200 fits\n"
          ]
        },
        {
          "output_type": "execute_result",
          "data": {
            "text/plain": [
              "RandomizedSearchCV(cv=2, estimator=RandomForestClassifier(), n_iter=100,\n",
              "                   n_jobs=-1,\n",
              "                   param_distributions={'bootstrap': [True, False],\n",
              "                                        'criterion': ['gini', 'entropy'],\n",
              "                                        'max_depth': [10, 20, 30, 40, 50, 60,\n",
              "                                                      70, 80, 90, 100, 110,\n",
              "                                                      None],\n",
              "                                        'max_features': ['auto', 'sqrt', 'log2',\n",
              "                                                         None],\n",
              "                                        'min_samples_leaf': [1, 2, 4],\n",
              "                                        'min_samples_split': [2, 5, 10],\n",
              "                                        'n_estimators': [200, 311, 422, 533,\n",
              "                                                         644, 755, 866, 977,\n",
              "                                                         1088, 1200]},\n",
              "                   random_state=42, verbose=2)"
            ]
          },
          "metadata": {},
          "execution_count": 31
        }
      ]
    },
    {
      "cell_type": "code",
      "source": [
        "rf_random.best_params_"
      ],
      "metadata": {
        "colab": {
          "base_uri": "https://localhost:8080/"
        },
        "id": "NOhHIx9duqb2",
        "outputId": "e88f2538-846d-4be9-e129-4072b9f67c2f"
      },
      "id": "NOhHIx9duqb2",
      "execution_count": null,
      "outputs": [
        {
          "output_type": "execute_result",
          "data": {
            "text/plain": [
              "{'bootstrap': True,\n",
              " 'criterion': 'gini',\n",
              " 'max_depth': 10,\n",
              " 'max_features': 'sqrt',\n",
              " 'min_samples_leaf': 4,\n",
              " 'min_samples_split': 5,\n",
              " 'n_estimators': 311}"
            ]
          },
          "metadata": {},
          "execution_count": 32
        }
      ]
    },
    {
      "cell_type": "code",
      "source": [
        "model = RandomForestClassifier( )\n",
        "model.fit(X_train, y_train)\n",
        "print(model.score(X_test,y_test))\n",
        "best_model = rf_random.best_estimator_\n",
        "print(best_model.score(X_test,y_test))"
      ],
      "metadata": {
        "colab": {
          "base_uri": "https://localhost:8080/"
        },
        "id": "mq0K1kURuseQ",
        "outputId": "7482b818-63a6-4b3f-a9a9-22c7d68df606"
      },
      "id": "mq0K1kURuseQ",
      "execution_count": null,
      "outputs": [
        {
          "output_type": "stream",
          "name": "stdout",
          "text": [
            "0.42105263157894735\n",
            "0.45532435740514077\n"
          ]
        }
      ]
    },
    {
      "cell_type": "code",
      "source": [
        "ac = accuracy_score(y_test,best_model.predict(X_test))\n",
        "print('Accuracy is: ',ac)\n",
        "cm = confusion_matrix(y_test,best_model.predict(X_test))\n",
        "sns.heatmap(cm,annot=True,fmt=\"d\")"
      ],
      "metadata": {
        "colab": {
          "base_uri": "https://localhost:8080/",
          "height": 302
        },
        "id": "lUfFo9xVxo_S",
        "outputId": "566c00f8-61c9-4bf0-d4a1-7df1317e1876"
      },
      "id": "lUfFo9xVxo_S",
      "execution_count": null,
      "outputs": [
        {
          "output_type": "stream",
          "name": "stdout",
          "text": [
            "Accuracy is:  0.45532435740514077\n"
          ]
        },
        {
          "output_type": "execute_result",
          "data": {
            "text/plain": [
              "<matplotlib.axes._subplots.AxesSubplot at 0x7fb03adc8090>"
            ]
          },
          "metadata": {},
          "execution_count": 34
        },
        {
          "output_type": "display_data",
          "data": {
            "text/plain": [
              "<Figure size 432x288 with 2 Axes>"
            ],
            "image/png": "[encoded data removed]"
          },
          "metadata": {
            "needs_background": "light"
          }
        }
      ]
    },
    {
      "cell_type": "code",
      "source": [
        "y_test, y_pred_random_forest = y_test, best_model.predict(X_test)\n",
        "print(classification_report(y_test, y_pred_random_forest))"
      ],
      "metadata": {
        "colab": {
          "base_uri": "https://localhost:8080/"
        },
        "id": "NDAwN4jGutdc",
        "outputId": "c9031a99-476d-4c3b-c462-9c00eab0793a"
      },
      "id": "NDAwN4jGutdc",
      "execution_count": null,
      "outputs": [
        {
          "output_type": "stream",
          "name": "stdout",
          "text": [
            "              precision    recall  f1-score   support\n",
            "\n",
            "           0       0.43      0.66      0.52       232\n",
            "           1       0.47      0.31      0.37       116\n",
            "           2       0.33      0.05      0.09        73\n",
            "           3       0.00      0.00      0.00        26\n",
            "           4       0.00      0.00      0.00        16\n",
            "           5       0.49      0.51      0.50       354\n",
            "\n",
            "    accuracy                           0.46       817\n",
            "   macro avg       0.29      0.26      0.25       817\n",
            "weighted avg       0.43      0.46      0.42       817\n",
            "\n"
          ]
        }
      ]
    },
    {
      "cell_type": "code",
      "source": [
        "# feature importances\n",
        "importances = best_model.feature_importances_\n",
        "std = np.std([tree.feature_importances_ for tree in best_model.estimators_],\n",
        "             axis=0)\n",
        "indices = np.argsort(importances)[::-1]\n",
        "\n",
        "# Print the feature ranking\n",
        "print(\"Feature ranking:\")\n",
        "\n",
        "for f in range(X_train.shape[1]):\n",
        "    print(\"%d. feature %d (%f)\" % (f + 1, indices[f], importances[indices[f]]))\n",
        "\n",
        "# Plot the feature importances of the forest\n",
        "\n",
        "plt.figure(1, figsize=(14, 13))\n",
        "plt.title(\"Feature importances\")\n",
        "plt.bar(range(X_train.shape[1]), importances[indices],\n",
        "       color=\"g\", yerr=std[indices], align=\"center\")\n",
        "plt.xticks(range(X_train.shape[1]), X_train.columns[indices],rotation=90)\n",
        "plt.xlim([-1, X_train.shape[1]])\n",
        "plt.show()"
      ],
      "metadata": {
        "colab": {
          "base_uri": "https://localhost:8080/",
          "height": 1000
        },
        "id": "at86KAw5tHum",
        "outputId": "6d1ab9a4-fc6f-4565-fd59-6081c42032b4"
      },
      "id": "at86KAw5tHum",
      "execution_count": null,
      "outputs": [
        {
          "output_type": "stream",
          "name": "stdout",
          "text": [
            "Feature ranking:\n",
            "1. feature 0 (0.101855)\n",
            "2. feature 12 (0.084027)\n",
            "3. feature 1 (0.082999)\n",
            "4. feature 2 (0.077708)\n",
            "5. feature 3 (0.077198)\n",
            "6. feature 4 (0.076443)\n",
            "7. feature 6 (0.073862)\n",
            "8. feature 11 (0.054820)\n",
            "9. feature 7 (0.053512)\n",
            "10. feature 8 (0.045717)\n",
            "11. feature 9 (0.041347)\n",
            "12. feature 13 (0.040647)\n",
            "13. feature 16 (0.036398)\n",
            "14. feature 15 (0.028584)\n",
            "15. feature 20 (0.024028)\n",
            "16. feature 14 (0.022604)\n",
            "17. feature 17 (0.017328)\n",
            "18. feature 21 (0.014513)\n",
            "19. feature 18 (0.014395)\n",
            "20. feature 22 (0.011308)\n",
            "21. feature 19 (0.008902)\n",
            "22. feature 23 (0.008322)\n",
            "23. feature 24 (0.003485)\n",
            "24. feature 5 (0.000000)\n",
            "25. feature 10 (0.000000)\n"
          ]
        },
        {
          "output_type": "display_data",
          "data": {
            "text/plain": [
              "<Figure size 1008x936 with 1 Axes>"
            ],
            "image/png": "[encoded data removed]"
          },
          "metadata": {
            "needs_background": "light"
          }
        }
      ]
    },
    {
      "cell_type": "code",
      "source": [
        "df_assess=df_test[score_features + label_pred_features+ [\"label_true\"]]\n",
        "df_assess[\"rf_pred\"]=y_pred_random_forest\n",
        "df_assess[\"rf_score\"]=np.max(best_model.predict_proba(X_test), axis=1)"
      ],
      "metadata": {
        "id": "I6aoLAg9wkU3"
      },
      "id": "I6aoLAg9wkU3",
      "execution_count": null,
      "outputs": []
    },
    {
      "cell_type": "code",
      "source": [
        "#TODO WArning : this cell function is different from the on used in the \"all models optimization\"\n",
        "# classification label \n",
        "df_assess['compare_between_true_and_rf_label'] = np.where(\n",
        "    df_assess['rf_pred'] == df_assess['label_true'], 1, 0) \n",
        "# calculate pr-curve (instead of ROC curve : more appropriate for imbalanced data)\n",
        "precision, recall, thresholds = precision_recall_curve(df_assess[\"compare_between_true_and_rf_label\"].to_list(), df_assess.rf_score.to_list())\n",
        "\n",
        "# plot the pr curve for the model\n",
        "\n",
        "pyplot.plot(recall, precision, marker='.', label='BERT')\n",
        "pyplot.xlabel('Recall')\n",
        "pyplot.ylabel('Precision')\n",
        "pyplot.legend()\n",
        "pyplot.show()\n",
        "\n",
        "precision = precision[:-2]\n",
        "\n",
        "# locate the index of the largest f score\n",
        "ix = np.argmax(precision)\n",
        "print('Best Threshold=%f, precision=%.3f' % (thresholds[ix], precision[ix]))\n",
        "\n",
        "y = df_assess[\"compare_between_true_and_rf_label\"].to_list()\n",
        "\n",
        "# \"visually\" determined value\n",
        "y_preds = [1 if x == 0.5 else 0 for x in df_assess.rf_score.to_list()]\n",
        "y_preds_opt_thresh = [1 if x >(thresholds[ix]) else 0 for x in df_assess.rf_score.to_list()]\n",
        "\n",
        "print('\\n',classification_report(y,y_preds, zero_division=0))\n",
        "print(\"----------------------------------\")\n",
        "print('\\n',classification_report(y,y_preds_opt_thresh, zero_division=0))"
      ],
      "metadata": {
        "colab": {
          "base_uri": "https://localhost:8080/",
          "height": 685
        },
        "outputId": "51aa5685-f662-427e-c411-17c4cfd3bf62",
        "id": "BNCM1YYQ8B91"
      },
      "execution_count": null,
      "outputs": [
        {
          "output_type": "display_data",
          "data": {
            "text/plain": [
              "<Figure size 432x288 with 1 Axes>"
            ],
            "image/png": "[encoded data removed]"
          },
          "metadata": {
            "needs_background": "light"
          }
        },
        {
          "output_type": "stream",
          "name": "stdout",
          "text": [
            "Best Threshold=0.891871, precision=0.769\n",
            "\n",
            "               precision    recall  f1-score   support\n",
            "\n",
            "           0       0.54      1.00      0.71       445\n",
            "           1       0.00      0.00      0.00       372\n",
            "\n",
            "    accuracy                           0.54       817\n",
            "   macro avg       0.27      0.50      0.35       817\n",
            "weighted avg       0.30      0.54      0.38       817\n",
            "\n",
            "----------------------------------\n",
            "\n",
            "               precision    recall  f1-score   support\n",
            "\n",
            "           0       0.55      0.99      0.71       445\n",
            "           1       0.75      0.02      0.05       372\n",
            "\n",
            "    accuracy                           0.55       817\n",
            "   macro avg       0.65      0.51      0.38       817\n",
            "weighted avg       0.64      0.55      0.41       817\n",
            "\n"
          ]
        }
      ],
      "id": "BNCM1YYQ8B91"
    },
    {
      "cell_type": "code",
      "source": [
        "print('\\n',classification_report(y_test,df_assess[\"label_pred_1\"], zero_division=0))"
      ],
      "metadata": {
        "colab": {
          "base_uri": "https://localhost:8080/"
        },
        "outputId": "c17fd353-278b-43b6-f060-27fd2dc5a82a",
        "id": "sCfPQ0a98B91"
      },
      "execution_count": null,
      "outputs": [
        {
          "output_type": "stream",
          "name": "stdout",
          "text": [
            "\n",
            "               precision    recall  f1-score   support\n",
            "\n",
            "           0       0.28      1.00      0.44       232\n",
            "           1       0.00      0.00      0.00       116\n",
            "           2       0.00      0.00      0.00        73\n",
            "           3       0.00      0.00      0.00        26\n",
            "           4       0.00      0.00      0.00        16\n",
            "           5       0.00      0.00      0.00       354\n",
            "\n",
            "    accuracy                           0.28       817\n",
            "   macro avg       0.05      0.17      0.07       817\n",
            "weighted avg       0.08      0.28      0.13       817\n",
            "\n"
          ]
        }
      ],
      "id": "sCfPQ0a98B91"
    },
    {
      "cell_type": "code",
      "source": [
        "print('\\n',classification_report(y_test,y_pred_random_forest, zero_division=0))"
      ],
      "metadata": {
        "colab": {
          "base_uri": "https://localhost:8080/"
        },
        "outputId": "2f8f6250-d26b-4ff5-a55c-7cf4b2097492",
        "id": "lt0UFtIH8B91"
      },
      "execution_count": null,
      "outputs": [
        {
          "output_type": "stream",
          "name": "stdout",
          "text": [
            "\n",
            "               precision    recall  f1-score   support\n",
            "\n",
            "           0       0.43      0.66      0.52       232\n",
            "           1       0.47      0.31      0.37       116\n",
            "           2       0.33      0.05      0.09        73\n",
            "           3       0.00      0.00      0.00        26\n",
            "           4       0.00      0.00      0.00        16\n",
            "           5       0.49      0.51      0.50       354\n",
            "\n",
            "    accuracy                           0.46       817\n",
            "   macro avg       0.29      0.26      0.25       817\n",
            "weighted avg       0.43      0.46      0.42       817\n",
            "\n"
          ]
        }
      ],
      "id": "lt0UFtIH8B91"
    },
    {
      "cell_type": "markdown",
      "source": [
        "## ADA-BOOST"
      ],
      "metadata": {
        "id": "x03WFFvTBHUl"
      },
      "id": "x03WFFvTBHUl"
    },
    {
      "cell_type": "code",
      "source": [
        "def adaboust_best_param(X_final, y):\n",
        "    ada_dict = {}\n",
        "    # Split the dataset in two equal parts\n",
        "    X_train, X_test, y_train, y_test = train_test_split(X_final, y, test_size=0.3, random_state=0)\n",
        "    for n in [10,20,30,40,50]:\n",
        "        model = AdaBoostClassifier(DecisionTreeClassifier(max_depth = 1, # Just a stump.\n",
        "                                   random_state = np.random.RandomState(0)),\n",
        "                                   n_estimators = n,\n",
        "                                   random_state = np.random.RandomState(0))\n",
        "        model.fit(X_train, y_train)\n",
        "        ada_dict[n] = [model.score(X_train, y_train)]\n",
        "    df_evaluation = pd.DataFrame.from_dict(ada_dict)\n",
        "    df_evaluation = df_evaluation.rename(index = {0 : 'Score'})\n",
        "    return df_evaluation"
      ],
      "metadata": {
        "id": "_VdWg_wkBFur"
      },
      "id": "_VdWg_wkBFur",
      "execution_count": null,
      "outputs": []
    },
    {
      "cell_type": "code",
      "source": [
        "adaboust_best_param(X_train, y_train)"
      ],
      "metadata": {
        "colab": {
          "base_uri": "https://localhost:8080/",
          "height": 81
        },
        "id": "HfVM7Q97BJ6e",
        "outputId": "0dbfc0e5-5038-4422-f168-fb488bb263bb"
      },
      "id": "HfVM7Q97BJ6e",
      "execution_count": null,
      "outputs": [
        {
          "output_type": "execute_result",
          "data": {
            "text/plain": [
              "             10       20       30        40        50\n",
              "Score  0.540729  0.54753  0.50996  0.518866  0.508826"
            ],
            "text/html": [
              "\n",
              "  <div id=\"df-4b2f19e3-7e82-4c0b-8e2b-4ffe51415491\">\n",
              "    <div class=\"colab-df-container\">\n",
              "      <div>\n",
              "<style scoped>\n",
              "    .dataframe tbody tr th:only-of-type {\n",
              "        vertical-align: middle;\n",
              "    }\n",
              "\n",
              "    .dataframe tbody tr th {\n",
              "        vertical-align: top;\n",
              "    }\n",
              "\n",
              "    .dataframe thead th {\n",
              "        text-align: right;\n",
              "    }\n",
              "</style>\n",
              "<table border=\"1\" class=\"dataframe\">\n",
              "  <thead>\n",
              "    <tr style=\"text-align: right;\">\n",
              "      <th></th>\n",
              "      <th>10</th>\n",
              "      <th>20</th>\n",
              "      <th>30</th>\n",
              "      <th>40</th>\n",
              "      <th>50</th>\n",
              "    </tr>\n",
              "  </thead>\n",
              "  <tbody>\n",
              "    <tr>\n",
              "      <th>Score</th>\n",
              "      <td>0.540729</td>\n",
              "      <td>0.54753</td>\n",
              "      <td>0.50996</td>\n",
              "      <td>0.518866</td>\n",
              "      <td>0.508826</td>\n",
              "    </tr>\n",
              "  </tbody>\n",
              "</table>\n",
              "</div>\n",
              "      <button class=\"colab-df-convert\" onclick=\"convertToInteractive('df-4b2f19e3-7e82-4c0b-8e2b-4ffe51415491')\"\n",
              "              title=\"Convert this dataframe to an interactive table.\"\n",
              "              style=\"display:none;\">\n",
              "        \n",
              "  <svg xmlns=\"http://www.w3.org/2000/svg\" height=\"24px\"viewBox=\"0 0 24 24\"\n",
              "       width=\"24px\">\n",
              "    <path d=\"M0 0h24v24H0V0z\" fill=\"none\"/>\n",
              "    <path d=\"M18.56 5.44l.94 2.06.94-2.06 2.06-.94-2.06-.94-.94-2.06-.94 2.06-2.06.94zm-11 1L8.5 8.5l.94-2.06 2.06-.94-2.06-.94L8.5 2.5l-.94 2.06-2.06.94zm10 10l.94 2.06.94-2.06 2.06-.94-2.06-.94-.94-2.06-.94 2.06-2.06.94z\"/><path d=\"M17.41 7.96l-1.37-1.37c-.4-.4-.92-.59-1.43-.59-.52 0-1.04.2-1.43.59L10.3 9.45l-7.72 7.72c-.78.78-.78 2.05 0 2.83L4 21.41c.39.39.9.59 1.41.59.51 0 1.02-.2 1.41-.59l7.78-7.78 2.81-2.81c.8-.78.8-2.07 0-2.86zM5.41 20L4 18.59l7.72-7.72 1.47 1.35L5.41 20z\"/>\n",
              "  </svg>\n",
              "      </button>\n",
              "      \n",
              "  <style>\n",
              "    .colab-df-container {\n",
              "      display:flex;\n",
              "      flex-wrap:wrap;\n",
              "      gap: 12px;\n",
              "    }\n",
              "\n",
              "    .colab-df-convert {\n",
              "      background-color: #E8F0FE;\n",
              "      border: none;\n",
              "      border-radius: 50%;\n",
              "      cursor: pointer;\n",
              "      display: none;\n",
              "      fill: #1967D2;\n",
              "      height: 32px;\n",
              "      padding: 0 0 0 0;\n",
              "      width: 32px;\n",
              "    }\n",
              "\n",
              "    .colab-df-convert:hover {\n",
              "      background-color: #E2EBFA;\n",
              "      box-shadow: 0px 1px 2px rgba(60, 64, 67, 0.3), 0px 1px 3px 1px rgba(60, 64, 67, 0.15);\n",
              "      fill: #174EA6;\n",
              "    }\n",
              "\n",
              "    [theme=dark] .colab-df-convert {\n",
              "      background-color: #3B4455;\n",
              "      fill: #D2E3FC;\n",
              "    }\n",
              "\n",
              "    [theme=dark] .colab-df-convert:hover {\n",
              "      background-color: #434B5C;\n",
              "      box-shadow: 0px 1px 3px 1px rgba(0, 0, 0, 0.15);\n",
              "      filter: drop-shadow(0px 1px 2px rgba(0, 0, 0, 0.3));\n",
              "      fill: #FFFFFF;\n",
              "    }\n",
              "  </style>\n",
              "\n",
              "      <script>\n",
              "        const buttonEl =\n",
              "          document.querySelector('#df-4b2f19e3-7e82-4c0b-8e2b-4ffe51415491 button.colab-df-convert');\n",
              "        buttonEl.style.display =\n",
              "          google.colab.kernel.accessAllowed ? 'block' : 'none';\n",
              "\n",
              "        async function convertToInteractive(key) {\n",
              "          const element = document.querySelector('#df-4b2f19e3-7e82-4c0b-8e2b-4ffe51415491');\n",
              "          const dataTable =\n",
              "            await google.colab.kernel.invokeFunction('convertToInteractive',\n",
              "                                                     [key], {});\n",
              "          if (!dataTable) return;\n",
              "\n",
              "          const docLinkHtml = 'Like what you see? Visit the ' +\n",
              "            '<a target=\"_blank\" href=https://colab.research.google.com/notebooks/data_table.ipynb>data table notebook</a>'\n",
              "            + ' to learn more about interactive tables.';\n",
              "          element.innerHTML = '';\n",
              "          dataTable['output_type'] = 'display_data';\n",
              "          await google.colab.output.renderOutput(dataTable, element);\n",
              "          const docLink = document.createElement('div');\n",
              "          docLink.innerHTML = docLinkHtml;\n",
              "          element.appendChild(docLink);\n",
              "        }\n",
              "      </script>\n",
              "    </div>\n",
              "  </div>\n",
              "  "
            ]
          },
          "metadata": {},
          "execution_count": 111
        }
      ]
    },
    {
      "cell_type": "code",
      "source": [
        "AdaBoos_model = AdaBoostClassifier(n_estimators=20, random_state=0)\n",
        "AdaBoos_model.fit(X_train, y_train)\n",
        "y_pred_AdaB = AdaBoos_model.predict(X_test)\n",
        "AdaBoos_model.score(X_test, y_test)"
      ],
      "metadata": {
        "colab": {
          "base_uri": "https://localhost:8080/"
        },
        "id": "2DrthtwHBJ9r",
        "outputId": "71e2b79d-d825-4de6-a002-06a90d556af6"
      },
      "id": "2DrthtwHBJ9r",
      "execution_count": null,
      "outputs": [
        {
          "output_type": "execute_result",
          "data": {
            "text/plain": [
              "0.40269277845777235"
            ]
          },
          "metadata": {},
          "execution_count": 112
        }
      ]
    },
    {
      "cell_type": "code",
      "source": [
        "print(classification_report(y_test, y_pred_AdaB))"
      ],
      "metadata": {
        "colab": {
          "base_uri": "https://localhost:8080/"
        },
        "id": "oSDaoLtSBKA8",
        "outputId": "e75409fd-122d-4e8c-8ca9-bdc94a39486e"
      },
      "id": "oSDaoLtSBKA8",
      "execution_count": null,
      "outputs": [
        {
          "output_type": "stream",
          "name": "stdout",
          "text": [
            "              precision    recall  f1-score   support\n",
            "\n",
            "           0       0.37      0.61      0.46       232\n",
            "           1       0.25      0.16      0.19       116\n",
            "           2       0.40      0.03      0.05        73\n",
            "           3       0.00      0.00      0.00        26\n",
            "           4       0.00      0.00      0.00        16\n",
            "           5       0.47      0.47      0.47       354\n",
            "\n",
            "    accuracy                           0.40       817\n",
            "   macro avg       0.25      0.21      0.20       817\n",
            "weighted avg       0.38      0.40      0.37       817\n",
            "\n"
          ]
        }
      ]
    },
    {
      "cell_type": "code",
      "source": [
        "ac = accuracy_score(y_test,AdaBoos_model.predict(X_test))\n",
        "print('Accuracy is: ',ac)\n",
        "cm = confusion_matrix(y_test,AdaBoos_model.predict(X_test))\n",
        "sns.heatmap(cm,annot=True,fmt=\"d\")"
      ],
      "metadata": {
        "colab": {
          "base_uri": "https://localhost:8080/",
          "height": 302
        },
        "id": "lCfAzOs0HpxD",
        "outputId": "f6edb59d-5e02-40c0-fd9d-53e4d19d6dd7"
      },
      "id": "lCfAzOs0HpxD",
      "execution_count": null,
      "outputs": [
        {
          "output_type": "stream",
          "name": "stdout",
          "text": [
            "Accuracy is:  0.40269277845777235\n"
          ]
        },
        {
          "output_type": "execute_result",
          "data": {
            "text/plain": [
              "<matplotlib.axes._subplots.AxesSubplot at 0x7fef3cc43d90>"
            ]
          },
          "metadata": {},
          "execution_count": 114
        },
        {
          "output_type": "display_data",
          "data": {
            "text/plain": [
              "<Figure size 432x288 with 2 Axes>"
            ],
            "image/png": "[encoded data removed]"
          },
          "metadata": {
            "needs_background": "light"
          }
        }
      ]
    },
    {
      "cell_type": "code",
      "source": [
        "df_assess=df_test[score_features + label_pred_features+ [\"label_true\"]]\n",
        "df_assess[\"AdaB_pred\"]=y_pred_AdaB\n",
        "df_assess[\"AdaB_score\"]=np.max(AdaBoos_model.predict_proba(X_test), axis=1)"
      ],
      "metadata": {
        "id": "wEAORWEg8wSq"
      },
      "execution_count": null,
      "outputs": [],
      "id": "wEAORWEg8wSq"
    },
    {
      "cell_type": "code",
      "source": [
        "#TODO WArning : this cell function is different from the on used in the \"all models optimization\"\n",
        "# classification label \n",
        "df_assess['compare_between_true_and_AdaB_label'] = np.where(\n",
        "    df_assess['AdaB_pred'] == df_assess['label_true'], 1, 0) \n",
        "# calculate pr-curve (instead of ROC curve : more appropriate for imbalanced data)\n",
        "precision, recall, thresholds = precision_recall_curve(df_assess[\"compare_between_true_and_AdaB_label\"].to_list(), df_assess.AdaB_score.to_list())\n",
        "\n",
        "# plot the pr curve for the model\n",
        "\n",
        "pyplot.plot(recall, precision, marker='.', label='BERT')\n",
        "pyplot.xlabel('Recall')\n",
        "pyplot.ylabel('Precision')\n",
        "pyplot.legend()\n",
        "pyplot.show()\n",
        "\n",
        "precision = precision[:-2]\n",
        "\n",
        "# locate the index of the largest f score\n",
        "ix = np.argmax(precision)\n",
        "print('Best Threshold=%f, precision=%.3f' % (thresholds[ix], precision[ix]))\n",
        "\n",
        "y = df_assess[\"compare_between_true_and_AdaB_label\"].to_list()\n",
        "\n",
        "# \"visually\" determined value\n",
        "y_preds = [1 if x == 0.5 else 0 for x in df_assess.AdaB_score.to_list()]\n",
        "y_preds_opt_thresh = [1 if x >(thresholds[ix]) else 0 for x in df_assess.AdaB_score.to_list()]\n",
        "\n",
        "print('\\n',classification_report(y,y_preds, zero_division=0))\n",
        "print(\"----------------------------------\")\n",
        "print('\\n',classification_report(y,y_preds_opt_thresh, zero_division=0))"
      ],
      "metadata": {
        "colab": {
          "base_uri": "https://localhost:8080/",
          "height": 685
        },
        "outputId": "93e47bfa-ec46-4dc5-ccda-0e4c56326930",
        "id": "bcY-Fr508wSr"
      },
      "execution_count": null,
      "outputs": [
        {
          "output_type": "display_data",
          "data": {
            "text/plain": [
              "<Figure size 432x288 with 1 Axes>"
            ],
            "image/png": "[encoded data removed]"
          },
          "metadata": {
            "needs_background": "light"
          }
        },
        {
          "output_type": "stream",
          "name": "stdout",
          "text": [
            "Best Threshold=0.329609, precision=0.714\n",
            "\n",
            "               precision    recall  f1-score   support\n",
            "\n",
            "           0       0.60      1.00      0.75       488\n",
            "           1       0.00      0.00      0.00       329\n",
            "\n",
            "    accuracy                           0.60       817\n",
            "   macro avg       0.30      0.50      0.37       817\n",
            "weighted avg       0.36      0.60      0.45       817\n",
            "\n",
            "----------------------------------\n",
            "\n",
            "               precision    recall  f1-score   support\n",
            "\n",
            "           0       0.60      1.00      0.75       488\n",
            "           1       0.60      0.01      0.02       329\n",
            "\n",
            "    accuracy                           0.60       817\n",
            "   macro avg       0.60      0.50      0.38       817\n",
            "weighted avg       0.60      0.60      0.45       817\n",
            "\n"
          ]
        }
      ],
      "id": "bcY-Fr508wSr"
    },
    {
      "cell_type": "code",
      "source": [
        "print('\\n',classification_report(y_test,df_assess[\"label_pred_1\"], zero_division=0))"
      ],
      "metadata": {
        "colab": {
          "base_uri": "https://localhost:8080/"
        },
        "outputId": "7caba1ef-53f9-4c34-b1dd-2d9f871164b9",
        "id": "BjgAZZIz8wSr"
      },
      "execution_count": null,
      "outputs": [
        {
          "output_type": "stream",
          "name": "stdout",
          "text": [
            "\n",
            "               precision    recall  f1-score   support\n",
            "\n",
            "           0       0.28      1.00      0.44       232\n",
            "           1       0.00      0.00      0.00       116\n",
            "           2       0.00      0.00      0.00        73\n",
            "           3       0.00      0.00      0.00        26\n",
            "           4       0.00      0.00      0.00        16\n",
            "           5       0.00      0.00      0.00       354\n",
            "\n",
            "    accuracy                           0.28       817\n",
            "   macro avg       0.05      0.17      0.07       817\n",
            "weighted avg       0.08      0.28      0.13       817\n",
            "\n"
          ]
        }
      ],
      "id": "BjgAZZIz8wSr"
    },
    {
      "cell_type": "code",
      "source": [
        "print('\\n',classification_report(y_test,y_pred_AdaB, zero_division=0))"
      ],
      "metadata": {
        "colab": {
          "base_uri": "https://localhost:8080/"
        },
        "outputId": "8303d1bc-e5cf-4c59-95bb-d01d756995c3",
        "id": "FIqXnTy68wSr"
      },
      "execution_count": null,
      "outputs": [
        {
          "output_type": "stream",
          "name": "stdout",
          "text": [
            "\n",
            "               precision    recall  f1-score   support\n",
            "\n",
            "           0       0.37      0.61      0.46       232\n",
            "           1       0.25      0.16      0.19       116\n",
            "           2       0.40      0.03      0.05        73\n",
            "           3       0.00      0.00      0.00        26\n",
            "           4       0.00      0.00      0.00        16\n",
            "           5       0.47      0.47      0.47       354\n",
            "\n",
            "    accuracy                           0.40       817\n",
            "   macro avg       0.25      0.21      0.20       817\n",
            "weighted avg       0.38      0.40      0.37       817\n",
            "\n"
          ]
        }
      ],
      "id": "FIqXnTy68wSr"
    },
    {
      "cell_type": "markdown",
      "metadata": {
        "id": "Q-H1v9SMROTC"
      },
      "source": [
        "## XG-BOOST"
      ],
      "id": "Q-H1v9SMROTC"
    },
    {
      "cell_type": "code",
      "metadata": {
        "id": "19U_KvYMROTC"
      },
      "source": [
        "xgb_model = xgb.XGBClassifier()\n",
        "params = {\n",
        "            'eta': np.arange(0.1, 0.26, 0.05),\n",
        "            'min_child_weight': np.arange(1, 5, 0.5).tolist(),\n",
        "            'gamma': [5],\n",
        "            'subsample': np.arange(0.5, 1.0, 0.11).tolist(),\n",
        "            'colsample_bytree': np.arange(0.5, 1.0, 0.11).tolist()\n",
        "        }\n",
        "\n",
        "skf = StratifiedKFold(n_splits=10, shuffle = True)\n",
        "\n",
        "grid = GridSearchCV(xgb_model, \n",
        "                    param_grid = params,  \n",
        "                    n_jobs = -1, \n",
        "                    cv = skf.split(X_train, y_train),\n",
        "                    refit = \"accuracy_score\")\n",
        "\n",
        "grid.fit(X_train, y_train)\n",
        "# Dictionary of best parameters\n",
        "best_pars = grid.best_params_"
      ],
      "execution_count": null,
      "outputs": [],
      "id": "19U_KvYMROTC"
    },
    {
      "cell_type": "code",
      "metadata": {
        "id": "0oC-wfs8ROTE",
        "outputId": "9ff0a35d-b379-4436-c2ab-df356ddccc03",
        "colab": {
          "base_uri": "https://localhost:8080/"
        }
      },
      "source": [
        "best_pars"
      ],
      "execution_count": null,
      "outputs": [
        {
          "output_type": "execute_result",
          "data": {
            "text/plain": [
              "{'colsample_bytree': 0.61,\n",
              " 'eta': 0.1,\n",
              " 'gamma': 5,\n",
              " 'min_child_weight': 2.5,\n",
              " 'subsample': 0.72}"
            ]
          },
          "metadata": {},
          "execution_count": 220
        }
      ],
      "id": "0oC-wfs8ROTE"
    },
    {
      "cell_type": "code",
      "metadata": {
        "id": "kWwyQ8w-ROTL"
      },
      "source": [
        "xgb_model = xgb.XGBClassifier(colsample_bytree=0.5,\n",
        " eta=0.1,\n",
        " gamma= 5,\n",
        " min_child_weight=1.5,\n",
        " subsample= 0.94)"
      ],
      "execution_count": null,
      "outputs": [],
      "id": "kWwyQ8w-ROTL"
    },
    {
      "cell_type": "code",
      "metadata": {
        "id": "yZWDtRDXROTO",
        "outputId": "861e901a-4c09-4cc2-9cf5-3c4522f29fa7",
        "colab": {
          "base_uri": "https://localhost:8080/"
        }
      },
      "source": [
        "xgbc=xgb_model.fit(X_train, y_train)\n",
        "y_pred_xgb = xgbc.predict(X_test)\n",
        "report = classification_report(y_test,y_pred_xgb)\n",
        "print(report)"
      ],
      "execution_count": null,
      "outputs": [
        {
          "output_type": "stream",
          "name": "stdout",
          "text": [
            "              precision    recall  f1-score   support\n",
            "\n",
            "           0       0.44      0.69      0.54       232\n",
            "           1       0.50      0.23      0.32       116\n",
            "           2       0.27      0.04      0.07        73\n",
            "           3       0.00      0.00      0.00        26\n",
            "           4       0.00      0.00      0.00        16\n",
            "           5       0.48      0.53      0.51       354\n",
            "\n",
            "    accuracy                           0.46       817\n",
            "   macro avg       0.28      0.25      0.24       817\n",
            "weighted avg       0.43      0.46      0.42       817\n",
            "\n"
          ]
        }
      ],
      "id": "yZWDtRDXROTO"
    },
    {
      "cell_type": "code",
      "source": [
        "ac = accuracy_score(y_test,xgb_model.predict(X_test))\n",
        "print('Accuracy is: ',ac)\n",
        "cm = confusion_matrix(y_test,xgb_model.predict(X_test))\n",
        "sns.heatmap(cm,annot=True,fmt=\"d\")"
      ],
      "metadata": {
        "colab": {
          "base_uri": "https://localhost:8080/",
          "height": 302
        },
        "id": "OxfSekjXCoX2",
        "outputId": "f25f0d32-e1f7-4983-8087-e728ff62b4de"
      },
      "id": "OxfSekjXCoX2",
      "execution_count": null,
      "outputs": [
        {
          "output_type": "stream",
          "name": "stdout",
          "text": [
            "Accuracy is:  0.46266829865361075\n"
          ]
        },
        {
          "output_type": "execute_result",
          "data": {
            "text/plain": [
              "<matplotlib.axes._subplots.AxesSubplot at 0x7fef3cb15750>"
            ]
          },
          "metadata": {},
          "execution_count": 122
        },
        {
          "output_type": "display_data",
          "data": {
            "text/plain": [
              "<Figure size 432x288 with 2 Axes>"
            ],
            "image/png": "[encoded data removed]"
          },
          "metadata": {
            "needs_background": "light"
          }
        }
      ]
    },
    {
      "cell_type": "code",
      "source": [
        "columns=[\"score_1\",\"label_pred_2\"\t,\"label_pred_3\"\t,\"label_pred_4\",\t\"label_pred_5\",\"label_true_original\",\"label_pred_1\"\t,\"label_true\",]\n",
        "df_assess=df_test[columns]"
      ],
      "metadata": {
        "id": "N1T1EBiiAULf"
      },
      "execution_count": null,
      "outputs": [],
      "id": "N1T1EBiiAULf"
    },
    {
      "cell_type": "code",
      "source": [
        "df_assess[\"xgb_pred\"]=y_pred_xgb\n",
        "df_assess[\"xgb_score\"]=np.max(xgb_model.predict_proba(X_test), axis=1)"
      ],
      "metadata": {
        "id": "-lezG-M2AULg"
      },
      "execution_count": null,
      "outputs": [],
      "id": "-lezG-M2AULg"
    },
    {
      "cell_type": "code",
      "source": [
        "#TODO WArning : this cell function is different from the on used in the \"all models optimization\"\n",
        "# classification label \n",
        "df_assess['compare_between_true_and_xgb_label'] = np.where(\n",
        "    df_assess['xgb_pred'] == df_assess['label_true'], 1, 0) \n",
        "# calculate pr-curve (instead of ROC curve : more appropriate for imbalanced data)\n",
        "precision, recall, thresholds = precision_recall_curve(df_assess[\"compare_between_true_and_xgb_label\"].to_list(), df_assess.xgb_score.to_list())\n",
        "\n",
        "# plot the pr curve for the model\n",
        "\n",
        "pyplot.plot(recall, precision, marker='.', label='BERT')\n",
        "pyplot.xlabel('Recall')\n",
        "pyplot.ylabel('Precision')\n",
        "pyplot.legend()\n",
        "pyplot.show()\n",
        "\n",
        "precision = precision[:-2]\n",
        "\n",
        "# locate the index of the largest f score\n",
        "ix = np.argmax(precision)\n",
        "print('Best Threshold=%f, precision=%.3f' % (thresholds[ix], precision[ix]))\n",
        "\n",
        "y = df_assess[\"compare_between_true_and_xgb_label\"].to_list()\n",
        "\n",
        "# \"visually\" determined value\n",
        "y_preds = [1 if x == 0.5 else 0 for x in df_assess.xgb_score.to_list()]\n",
        "y_preds_opt_thresh = [1 if x >(thresholds[ix]) else 0 for x in df_assess.xgb_score.to_list()]\n",
        "\n",
        "print('\\n',classification_report(y,y_preds, zero_division=0))\n",
        "print(\"----------------------------------\")\n",
        "print('\\n',classification_report(y,y_preds_opt_thresh, zero_division=0))"
      ],
      "metadata": {
        "colab": {
          "base_uri": "https://localhost:8080/",
          "height": 685
        },
        "outputId": "f8b7ea4c-6ae0-4b0e-bf44-f63f247a80f0",
        "id": "2jVu2QCJAULg"
      },
      "execution_count": null,
      "outputs": [
        {
          "output_type": "display_data",
          "data": {
            "text/plain": [
              "<Figure size 432x288 with 1 Axes>"
            ],
            "image/png": "[encoded data removed]"
          },
          "metadata": {
            "needs_background": "light"
          }
        },
        {
          "output_type": "stream",
          "name": "stdout",
          "text": [
            "Best Threshold=0.821231, precision=0.717\n",
            "\n",
            "               precision    recall  f1-score   support\n",
            "\n",
            "           0       0.54      1.00      0.70       439\n",
            "           1       0.00      0.00      0.00       378\n",
            "\n",
            "    accuracy                           0.54       817\n",
            "   macro avg       0.27      0.50      0.35       817\n",
            "weighted avg       0.29      0.54      0.38       817\n",
            "\n",
            "----------------------------------\n",
            "\n",
            "               precision    recall  f1-score   support\n",
            "\n",
            "           0       0.55      0.97      0.70       439\n",
            "           1       0.71      0.08      0.15       378\n",
            "\n",
            "    accuracy                           0.56       817\n",
            "   macro avg       0.63      0.53      0.43       817\n",
            "weighted avg       0.63      0.56      0.45       817\n",
            "\n"
          ]
        }
      ],
      "id": "2jVu2QCJAULg"
    },
    {
      "cell_type": "code",
      "source": [
        "print('\\n',classification_report(y_test,df_assess[\"label_pred_1\"], zero_division=0))"
      ],
      "metadata": {
        "colab": {
          "base_uri": "https://localhost:8080/"
        },
        "outputId": "8e12b0fd-9430-42eb-d00c-fcc3346193d1",
        "id": "zleGBru0AULh"
      },
      "execution_count": null,
      "outputs": [
        {
          "output_type": "stream",
          "name": "stdout",
          "text": [
            "\n",
            "               precision    recall  f1-score   support\n",
            "\n",
            "           0       0.28      1.00      0.44       232\n",
            "           1       0.00      0.00      0.00       116\n",
            "           2       0.00      0.00      0.00        73\n",
            "           3       0.00      0.00      0.00        26\n",
            "           4       0.00      0.00      0.00        16\n",
            "           5       0.00      0.00      0.00       354\n",
            "\n",
            "    accuracy                           0.28       817\n",
            "   macro avg       0.05      0.17      0.07       817\n",
            "weighted avg       0.08      0.28      0.13       817\n",
            "\n"
          ]
        }
      ],
      "id": "zleGBru0AULh"
    },
    {
      "cell_type": "code",
      "source": [
        "print('\\n',classification_report(y_test,y_pred_xgb, zero_division=0))"
      ],
      "metadata": {
        "colab": {
          "base_uri": "https://localhost:8080/"
        },
        "outputId": "10eeda2e-712f-4710-a408-cc5a95d6a800",
        "id": "z-pbqi7XAULh"
      },
      "execution_count": null,
      "outputs": [
        {
          "output_type": "stream",
          "name": "stdout",
          "text": [
            "\n",
            "               precision    recall  f1-score   support\n",
            "\n",
            "           0       0.44      0.69      0.54       232\n",
            "           1       0.50      0.23      0.32       116\n",
            "           2       0.27      0.04      0.07        73\n",
            "           3       0.00      0.00      0.00        26\n",
            "           4       0.00      0.00      0.00        16\n",
            "           5       0.48      0.53      0.51       354\n",
            "\n",
            "    accuracy                           0.46       817\n",
            "   macro avg       0.28      0.25      0.24       817\n",
            "weighted avg       0.43      0.46      0.42       817\n",
            "\n"
          ]
        }
      ],
      "id": "z-pbqi7XAULh"
    },
    {
      "cell_type": "markdown",
      "source": [
        "## KNN"
      ],
      "metadata": {
        "id": "yU6921yDEe_u"
      },
      "id": "yU6921yDEe_u"
    },
    {
      "cell_type": "code",
      "source": [
        "knn = KNeighborsClassifier()\n",
        "\n",
        "parameters = {'n_neighbors':[3,4,5,6,7,8,9,10],\n",
        "              'leaf_size':[1,3,5],\n",
        "              'algorithm':['auto', 'kd_tree'],\n",
        "              'n_jobs':[-1]}\n",
        "\n",
        "#Fit the model\n",
        "knn_model = GridSearchCV(knn, param_grid=parameters,cv=2)\n",
        "knn_model.fit(X_train,y_train)"
      ],
      "metadata": {
        "colab": {
          "base_uri": "https://localhost:8080/"
        },
        "id": "p_u1i-NzCoa4",
        "outputId": "dc29998a-cf68-4ddc-e558-bc838869d71b"
      },
      "id": "p_u1i-NzCoa4",
      "execution_count": null,
      "outputs": [
        {
          "output_type": "execute_result",
          "data": {
            "text/plain": [
              "GridSearchCV(cv=2, estimator=KNeighborsClassifier(),\n",
              "             param_grid={'algorithm': ['auto', 'kd_tree'],\n",
              "                         'leaf_size': [1, 3, 5], 'n_jobs': [-1],\n",
              "                         'n_neighbors': [3, 4, 5, 6, 7, 8, 9, 10]})"
            ]
          },
          "metadata": {},
          "execution_count": 128
        }
      ]
    },
    {
      "cell_type": "code",
      "source": [
        "knn_model_best = knn_model.best_params_\n",
        "knn_model_best"
      ],
      "metadata": {
        "colab": {
          "base_uri": "https://localhost:8080/"
        },
        "id": "YA1KeGYsE5x1",
        "outputId": "4515e072-af19-44c4-c44d-1348da4b16b3"
      },
      "id": "YA1KeGYsE5x1",
      "execution_count": null,
      "outputs": [
        {
          "output_type": "execute_result",
          "data": {
            "text/plain": [
              "{'algorithm': 'auto', 'leaf_size': 1, 'n_jobs': -1, 'n_neighbors': 10}"
            ]
          },
          "metadata": {},
          "execution_count": 129
        }
      ]
    },
    {
      "cell_type": "code",
      "source": [
        "y_pred_knn= knn_model.predict(X_test) \n",
        "report = classification_report(y_test,y_pred_knn)\n",
        "print(report) "
      ],
      "metadata": {
        "id": "24TC6Pj_1yI6",
        "colab": {
          "base_uri": "https://localhost:8080/"
        },
        "outputId": "92c463ee-4950-49a8-fcbb-a72708c9b66b"
      },
      "id": "24TC6Pj_1yI6",
      "execution_count": null,
      "outputs": [
        {
          "output_type": "stream",
          "name": "stdout",
          "text": [
            "              precision    recall  f1-score   support\n",
            "\n",
            "           0       0.44      0.71      0.54       232\n",
            "           1       0.36      0.26      0.30       116\n",
            "           2       0.19      0.07      0.10        73\n",
            "           3       0.11      0.08      0.09        26\n",
            "           4       0.00      0.00      0.00        16\n",
            "           5       0.48      0.42      0.45       354\n",
            "\n",
            "    accuracy                           0.43       817\n",
            "   macro avg       0.26      0.26      0.25       817\n",
            "weighted avg       0.40      0.43      0.40       817\n",
            "\n"
          ]
        }
      ]
    },
    {
      "cell_type": "code",
      "source": [
        "ac = accuracy_score(y_test,knn_model.predict(X_test))\n",
        "print('Accuracy is: ',ac)\n",
        "cm = confusion_matrix(y_test,knn_model.predict(X_test))\n",
        "sns.heatmap(cm,annot=True,fmt=\"d\")"
      ],
      "metadata": {
        "colab": {
          "base_uri": "https://localhost:8080/",
          "height": 302
        },
        "id": "hsNhQGysEyNC",
        "outputId": "82807408-1f8e-4013-e778-d6e4dbd66e1a"
      },
      "id": "hsNhQGysEyNC",
      "execution_count": null,
      "outputs": [
        {
          "output_type": "stream",
          "name": "stdout",
          "text": [
            "Accuracy is:  0.4283965728274174\n"
          ]
        },
        {
          "output_type": "execute_result",
          "data": {
            "text/plain": [
              "<matplotlib.axes._subplots.AxesSubplot at 0x7fef3c3f5690>"
            ]
          },
          "metadata": {},
          "execution_count": 131
        },
        {
          "output_type": "display_data",
          "data": {
            "text/plain": [
              "<Figure size 432x288 with 2 Axes>"
            ],
            "image/png": "[encoded data removed]"
          },
          "metadata": {
            "needs_background": "light"
          }
        }
      ]
    },
    {
      "cell_type": "code",
      "source": [
        "columns=[\"score_1\",\"label_pred_2\"\t,\"label_pred_3\"\t,\"label_pred_4\",\t\"label_pred_5\",\"label_true_original\",\"label_pred_1\"\t,\"label_true\",]\n",
        "df_assess=df_test[columns]"
      ],
      "metadata": {
        "id": "F6nAb5wh2DY-"
      },
      "execution_count": null,
      "outputs": [],
      "id": "F6nAb5wh2DY-"
    },
    {
      "cell_type": "code",
      "source": [
        "df_assess[\"knn_pred\"]=y_pred_knn\n",
        "df_assess[\"knn_score\"]=np.max(knn_model.predict_proba(X_test), axis=1)"
      ],
      "metadata": {
        "id": "UON5r9z12DZe"
      },
      "execution_count": null,
      "outputs": [],
      "id": "UON5r9z12DZe"
    },
    {
      "cell_type": "code",
      "source": [
        "#TODO WArning : this cell function is different from the on used in the \"all models optimization\"\n",
        "# classification label \n",
        "df_assess['compare_between_true_and_knn_label'] = np.where(\n",
        "    df_assess['knn_pred'] == df_assess['label_true'], 1, 0) \n",
        "# calculate pr-curve (instead of ROC curve : more appropriate for imbalanced data)\n",
        "precision, recall, thresholds = precision_recall_curve(df_assess[\"compare_between_true_and_knn_label\"].to_list(), df_assess.knn_score.to_list())\n",
        "\n",
        "# plot the pr curve for the model\n",
        "\n",
        "pyplot.plot(recall, precision, marker='.', label='BERT')\n",
        "pyplot.xlabel('Recall')\n",
        "pyplot.ylabel('Precision')\n",
        "pyplot.legend()\n",
        "pyplot.show()\n",
        "\n",
        "precision = precision[:-2]\n",
        "\n",
        "# locate the index of the largest f score\n",
        "ix = np.argmax(precision)\n",
        "print('Best Threshold=%f, precision=%.3f' % (thresholds[ix], precision[ix]))\n",
        "\n",
        "y = df_assess[\"compare_between_true_and_knn_label\"].to_list()\n",
        "\n",
        "# \"visually\" determined value\n",
        "y_preds = [1 if x == 0.5 else 0 for x in df_assess.knn_score.to_list()]\n",
        "y_preds_opt_thresh = [1 if x >(thresholds[ix]) else 0 for x in df_assess.knn_score.to_list()]\n",
        "\n",
        "print('\\n',classification_report(y,y_preds, zero_division=0))\n",
        "print(\"----------------------------------\")\n",
        "print('\\n',classification_report(y,y_preds_opt_thresh, zero_division=0))"
      ],
      "metadata": {
        "colab": {
          "base_uri": "https://localhost:8080/",
          "height": 685
        },
        "outputId": "585cc5db-d202-46f2-a95c-e0f5f0200800",
        "id": "ANgIYO1i2DZf"
      },
      "execution_count": null,
      "outputs": [
        {
          "output_type": "display_data",
          "data": {
            "text/plain": [
              "<Figure size 432x288 with 1 Axes>"
            ],
            "image/png": "[encoded data removed]"
          },
          "metadata": {
            "needs_background": "light"
          }
        },
        {
          "output_type": "stream",
          "name": "stdout",
          "text": [
            "Best Threshold=0.900000, precision=0.569\n",
            "\n",
            "               precision    recall  f1-score   support\n",
            "\n",
            "           0       0.57      0.76      0.65       467\n",
            "           1       0.43      0.25      0.31       350\n",
            "\n",
            "    accuracy                           0.54       817\n",
            "   macro avg       0.50      0.50      0.48       817\n",
            "weighted avg       0.51      0.54      0.51       817\n",
            "\n",
            "----------------------------------\n",
            "\n",
            "               precision    recall  f1-score   support\n",
            "\n",
            "           0       0.58      0.99      0.73       467\n",
            "           1       0.68      0.04      0.08       350\n",
            "\n",
            "    accuracy                           0.58       817\n",
            "   macro avg       0.63      0.51      0.40       817\n",
            "weighted avg       0.62      0.58      0.45       817\n",
            "\n"
          ]
        }
      ],
      "id": "ANgIYO1i2DZf"
    },
    {
      "cell_type": "code",
      "source": [
        "print('\\n',classification_report(y_test,df_assess[\"label_pred_1\"], zero_division=0))"
      ],
      "metadata": {
        "colab": {
          "base_uri": "https://localhost:8080/"
        },
        "outputId": "c325f395-2212-4e02-a141-dec5d835a072",
        "id": "kqSR-WLl2DZh"
      },
      "execution_count": null,
      "outputs": [
        {
          "output_type": "stream",
          "name": "stdout",
          "text": [
            "\n",
            "               precision    recall  f1-score   support\n",
            "\n",
            "           0       0.28      1.00      0.44       232\n",
            "           1       0.00      0.00      0.00       116\n",
            "           2       0.00      0.00      0.00        73\n",
            "           3       0.00      0.00      0.00        26\n",
            "           4       0.00      0.00      0.00        16\n",
            "           5       0.00      0.00      0.00       354\n",
            "\n",
            "    accuracy                           0.28       817\n",
            "   macro avg       0.05      0.17      0.07       817\n",
            "weighted avg       0.08      0.28      0.13       817\n",
            "\n"
          ]
        }
      ],
      "id": "kqSR-WLl2DZh"
    },
    {
      "cell_type": "code",
      "source": [
        "print('\\n',classification_report(y_test,y_pred_knn, zero_division=0))"
      ],
      "metadata": {
        "colab": {
          "base_uri": "https://localhost:8080/"
        },
        "outputId": "12062c48-d744-4cae-d2ed-c270e9ba5e35",
        "id": "-b_P3Y9T2DZh"
      },
      "execution_count": null,
      "outputs": [
        {
          "output_type": "stream",
          "name": "stdout",
          "text": [
            "\n",
            "               precision    recall  f1-score   support\n",
            "\n",
            "           0       0.44      0.71      0.54       232\n",
            "           1       0.36      0.26      0.30       116\n",
            "           2       0.19      0.07      0.10        73\n",
            "           3       0.11      0.08      0.09        26\n",
            "           4       0.00      0.00      0.00        16\n",
            "           5       0.48      0.42      0.45       354\n",
            "\n",
            "    accuracy                           0.43       817\n",
            "   macro avg       0.26      0.26      0.25       817\n",
            "weighted avg       0.40      0.43      0.40       817\n",
            "\n"
          ]
        }
      ],
      "id": "-b_P3Y9T2DZh"
    },
    {
      "cell_type": "markdown",
      "source": [
        "## SVM"
      ],
      "metadata": {
        "id": "Cys2nIdA8dML"
      },
      "id": "Cys2nIdA8dML"
    },
    {
      "cell_type": "code",
      "source": [
        "# Set the parameters by cross-validation\n",
        "tuned_parameters = [{'kernel': ['rbf'], 'gamma': [1e-3, 1e-4],\n",
        "                     'C': [1, 10, 100, 1000]},\n",
        "                    {'kernel': ['linear'], 'C': [1, 10, 100, 1000]}]\n",
        "\n",
        "scores = ['precision', 'recall']"
      ],
      "metadata": {
        "id": "09MXG8TGtHx7"
      },
      "id": "09MXG8TGtHx7",
      "execution_count": null,
      "outputs": []
    },
    {
      "cell_type": "code",
      "source": [
        "for score in scores:\n",
        "    print(\"# Tuning hyper-parameters for %s\" % score)\n",
        "    print()\n",
        "\n",
        "    clf = GridSearchCV(\n",
        "        svm.SVC(), tuned_parameters, scoring='%s_macro' % score\n",
        "    )\n",
        "    clf.fit(X_train, y_train)\n",
        "\n",
        "    print(\"Best parameters set found on development set:\")\n",
        "    print()\n",
        "    print(clf.best_params_)\n",
        "    print()\n",
        "    print(\"Grid scores on development set:\")\n",
        "    print()\n",
        "    means = clf.cv_results_['mean_test_score']\n",
        "    stds = clf.cv_results_['std_test_score']\n",
        "    for mean, std, params in zip(means, stds, clf.cv_results_['params']):\n",
        "        print(\"%0.3f (+/-%0.03f) for %r\"\n",
        "              % (mean, std * 2, params))\n",
        "    print()\n",
        "\n",
        "    print(\"Detailed classification report:\")\n",
        "    print()\n",
        "    print(\"The model is trained on the full development set.\")\n",
        "    print(\"The scores are computed on the full evaluation set.\")\n",
        "    print()\n",
        "    y_true, y_pred = y_test, clf.predict(X_test)\n",
        "    print(classification_report(y_true, y_pred))\n",
        "    print()"
      ],
      "metadata": {
        "id": "0O-z1aae4KhG"
      },
      "id": "0O-z1aae4KhG",
      "execution_count": null,
      "outputs": []
    },
    {
      "cell_type": "code",
      "source": [
        "svm_model = svm.SVC(probability=True,random_state=0)\n",
        "svm_model.fit(X_train, y_train)"
      ],
      "metadata": {
        "id": "LGem5PTOIcQS",
        "colab": {
          "base_uri": "https://localhost:8080/"
        },
        "outputId": "9ed0db37-a803-4fc2-ca7b-ccd49613c385"
      },
      "id": "LGem5PTOIcQS",
      "execution_count": null,
      "outputs": [
        {
          "output_type": "execute_result",
          "data": {
            "text/plain": [
              "SVC(probability=True, random_state=0)"
            ]
          },
          "metadata": {},
          "execution_count": 75
        }
      ]
    },
    {
      "cell_type": "code",
      "source": [
        "y_test, y_pred_svm = y_test, svm_model.predict(X_test)\n",
        "print(classification_report(y_test, y_pred_svm))"
      ],
      "metadata": {
        "colab": {
          "base_uri": "https://localhost:8080/"
        },
        "id": "LVCsU2Dy38G6",
        "outputId": "a51ddf37-62b2-4e8f-dc54-16f6c8ed1142"
      },
      "id": "LVCsU2Dy38G6",
      "execution_count": null,
      "outputs": [
        {
          "output_type": "stream",
          "name": "stdout",
          "text": [
            "              precision    recall  f1-score   support\n",
            "\n",
            "           0       0.42      0.68      0.51       232\n",
            "           1       0.54      0.25      0.34       116\n",
            "           2       0.35      0.11      0.17        73\n",
            "           3       0.00      0.00      0.00        26\n",
            "           4       0.00      0.00      0.00        16\n",
            "           5       0.48      0.49      0.48       354\n",
            "\n",
            "    accuracy                           0.45       817\n",
            "   macro avg       0.30      0.25      0.25       817\n",
            "weighted avg       0.43      0.45      0.42       817\n",
            "\n"
          ]
        }
      ]
    },
    {
      "cell_type": "code",
      "source": [
        "columns=[\"score_1\",\"label_pred_2\"\t,\"label_pred_3\"\t,\"label_pred_4\",\t\"label_pred_5\",\"label_true_original\",\"label_pred_1\"\t,\"label_true\",]\n",
        "df_assess=df_test[columns]"
      ],
      "metadata": {
        "id": "GU2x85k674id"
      },
      "id": "GU2x85k674id",
      "execution_count": null,
      "outputs": []
    },
    {
      "cell_type": "code",
      "source": [
        "df_assess[\"svm_pred\"]=y_pred_svm\n",
        "df_assess[\"svm_score\"]=np.max(svm_model.predict_proba(X_test), axis=1)"
      ],
      "metadata": {
        "id": "14rWC8K3AMGz"
      },
      "id": "14rWC8K3AMGz",
      "execution_count": null,
      "outputs": []
    },
    {
      "cell_type": "code",
      "source": [
        "df_assess"
      ],
      "metadata": {
        "colab": {
          "base_uri": "https://localhost:8080/",
          "height": 423
        },
        "id": "o4DYroSVAoCP",
        "outputId": "b45b8503-8f20-4ad2-de9f-9c1eaa8165c1"
      },
      "id": "o4DYroSVAoCP",
      "execution_count": null,
      "outputs": [
        {
          "output_type": "execute_result",
          "data": {
            "text/plain": [
              "      score_1  label_pred_2  label_pred_3  label_pred_4  label_pred_5  \\\n",
              "0    0.710615             1             2             3             0   \n",
              "1    0.737935             1             0             2             3   \n",
              "2    0.757152             0             0             1             2   \n",
              "3    0.636801             1             2             0             2   \n",
              "4    0.643468             1             2             1             1   \n",
              "..        ...           ...           ...           ...           ...   \n",
              "812  0.474088             0             1             1             2   \n",
              "813  0.806806             1             2             3             1   \n",
              "814  0.706968             0             1             0             0   \n",
              "815  0.763458             1             1             2             1   \n",
              "816  0.774557             0             1             0             2   \n",
              "\n",
              "    label_true_original  label_pred_1  label_true  svm_label  svm_score  \\\n",
              "0         antenna issue             0           2          5   0.561651   \n",
              "1         error message             0           5          5   0.571452   \n",
              "2     replication issue             0           5          0   0.325812   \n",
              "3      mechanical noise             0           5          0   0.321751   \n",
              "4          black screen             0           1          1   0.474380   \n",
              "..                  ...           ...         ...        ...        ...   \n",
              "812          reset adac             0           5          0   0.324221   \n",
              "813    fuel gauge issue             0           2          5   0.508208   \n",
              "814          reset adac             0           1          0   0.319685   \n",
              "815    fuel gauge issue             0           2          5   0.402880   \n",
              "816    fuel gauge issue             0           1          0   0.314053   \n",
              "\n",
              "     svm_pred  \n",
              "0           5  \n",
              "1           5  \n",
              "2           0  \n",
              "3           0  \n",
              "4           1  \n",
              "..        ...  \n",
              "812         0  \n",
              "813         5  \n",
              "814         0  \n",
              "815         5  \n",
              "816         0  \n",
              "\n",
              "[817 rows x 11 columns]"
            ],
            "text/html": [
              "\n",
              "  <div id=\"df-52e74207-efd6-47fe-8887-7e2d6c28ba75\">\n",
              "    <div class=\"colab-df-container\">\n",
              "      <div>\n",
              "<style scoped>\n",
              "    .dataframe tbody tr th:only-of-type {\n",
              "        vertical-align: middle;\n",
              "    }\n",
              "\n",
              "    .dataframe tbody tr th {\n",
              "        vertical-align: top;\n",
              "    }\n",
              "\n",
              "    .dataframe thead th {\n",
              "        text-align: right;\n",
              "    }\n",
              "</style>\n",
              "<table border=\"1\" class=\"dataframe\">\n",
              "  <thead>\n",
              "    <tr style=\"text-align: right;\">\n",
              "      <th></th>\n",
              "      <th>score_1</th>\n",
              "      <th>label_pred_2</th>\n",
              "      <th>label_pred_3</th>\n",
              "      <th>label_pred_4</th>\n",
              "      <th>label_pred_5</th>\n",
              "      <th>label_true_original</th>\n",
              "      <th>label_pred_1</th>\n",
              "      <th>label_true</th>\n",
              "      <th>svm_label</th>\n",
              "      <th>svm_score</th>\n",
              "      <th>svm_pred</th>\n",
              "    </tr>\n",
              "  </thead>\n",
              "  <tbody>\n",
              "    <tr>\n",
              "      <th>0</th>\n",
              "      <td>0.710615</td>\n",
              "      <td>1</td>\n",
              "      <td>2</td>\n",
              "      <td>3</td>\n",
              "      <td>0</td>\n",
              "      <td>antenna issue</td>\n",
              "      <td>0</td>\n",
              "      <td>2</td>\n",
              "      <td>5</td>\n",
              "      <td>0.561651</td>\n",
              "      <td>5</td>\n",
              "    </tr>\n",
              "    <tr>\n",
              "      <th>1</th>\n",
              "      <td>0.737935</td>\n",
              "      <td>1</td>\n",
              "      <td>0</td>\n",
              "      <td>2</td>\n",
              "      <td>3</td>\n",
              "      <td>error message</td>\n",
              "      <td>0</td>\n",
              "      <td>5</td>\n",
              "      <td>5</td>\n",
              "      <td>0.571452</td>\n",
              "      <td>5</td>\n",
              "    </tr>\n",
              "    <tr>\n",
              "      <th>2</th>\n",
              "      <td>0.757152</td>\n",
              "      <td>0</td>\n",
              "      <td>0</td>\n",
              "      <td>1</td>\n",
              "      <td>2</td>\n",
              "      <td>replication issue</td>\n",
              "      <td>0</td>\n",
              "      <td>5</td>\n",
              "      <td>0</td>\n",
              "      <td>0.325812</td>\n",
              "      <td>0</td>\n",
              "    </tr>\n",
              "    <tr>\n",
              "      <th>3</th>\n",
              "      <td>0.636801</td>\n",
              "      <td>1</td>\n",
              "      <td>2</td>\n",
              "      <td>0</td>\n",
              "      <td>2</td>\n",
              "      <td>mechanical noise</td>\n",
              "      <td>0</td>\n",
              "      <td>5</td>\n",
              "      <td>0</td>\n",
              "      <td>0.321751</td>\n",
              "      <td>0</td>\n",
              "    </tr>\n",
              "    <tr>\n",
              "      <th>4</th>\n",
              "      <td>0.643468</td>\n",
              "      <td>1</td>\n",
              "      <td>2</td>\n",
              "      <td>1</td>\n",
              "      <td>1</td>\n",
              "      <td>black screen</td>\n",
              "      <td>0</td>\n",
              "      <td>1</td>\n",
              "      <td>1</td>\n",
              "      <td>0.474380</td>\n",
              "      <td>1</td>\n",
              "    </tr>\n",
              "    <tr>\n",
              "      <th>...</th>\n",
              "      <td>...</td>\n",
              "      <td>...</td>\n",
              "      <td>...</td>\n",
              "      <td>...</td>\n",
              "      <td>...</td>\n",
              "      <td>...</td>\n",
              "      <td>...</td>\n",
              "      <td>...</td>\n",
              "      <td>...</td>\n",
              "      <td>...</td>\n",
              "      <td>...</td>\n",
              "    </tr>\n",
              "    <tr>\n",
              "      <th>812</th>\n",
              "      <td>0.474088</td>\n",
              "      <td>0</td>\n",
              "      <td>1</td>\n",
              "      <td>1</td>\n",
              "      <td>2</td>\n",
              "      <td>reset adac</td>\n",
              "      <td>0</td>\n",
              "      <td>5</td>\n",
              "      <td>0</td>\n",
              "      <td>0.324221</td>\n",
              "      <td>0</td>\n",
              "    </tr>\n",
              "    <tr>\n",
              "      <th>813</th>\n",
              "      <td>0.806806</td>\n",
              "      <td>1</td>\n",
              "      <td>2</td>\n",
              "      <td>3</td>\n",
              "      <td>1</td>\n",
              "      <td>fuel gauge issue</td>\n",
              "      <td>0</td>\n",
              "      <td>2</td>\n",
              "      <td>5</td>\n",
              "      <td>0.508208</td>\n",
              "      <td>5</td>\n",
              "    </tr>\n",
              "    <tr>\n",
              "      <th>814</th>\n",
              "      <td>0.706968</td>\n",
              "      <td>0</td>\n",
              "      <td>1</td>\n",
              "      <td>0</td>\n",
              "      <td>0</td>\n",
              "      <td>reset adac</td>\n",
              "      <td>0</td>\n",
              "      <td>1</td>\n",
              "      <td>0</td>\n",
              "      <td>0.319685</td>\n",
              "      <td>0</td>\n",
              "    </tr>\n",
              "    <tr>\n",
              "      <th>815</th>\n",
              "      <td>0.763458</td>\n",
              "      <td>1</td>\n",
              "      <td>1</td>\n",
              "      <td>2</td>\n",
              "      <td>1</td>\n",
              "      <td>fuel gauge issue</td>\n",
              "      <td>0</td>\n",
              "      <td>2</td>\n",
              "      <td>5</td>\n",
              "      <td>0.402880</td>\n",
              "      <td>5</td>\n",
              "    </tr>\n",
              "    <tr>\n",
              "      <th>816</th>\n",
              "      <td>0.774557</td>\n",
              "      <td>0</td>\n",
              "      <td>1</td>\n",
              "      <td>0</td>\n",
              "      <td>2</td>\n",
              "      <td>fuel gauge issue</td>\n",
              "      <td>0</td>\n",
              "      <td>1</td>\n",
              "      <td>0</td>\n",
              "      <td>0.314053</td>\n",
              "      <td>0</td>\n",
              "    </tr>\n",
              "  </tbody>\n",
              "</table>\n",
              "<p>817 rows × 11 columns</p>\n",
              "</div>\n",
              "      <button class=\"colab-df-convert\" onclick=\"convertToInteractive('df-52e74207-efd6-47fe-8887-7e2d6c28ba75')\"\n",
              "              title=\"Convert this dataframe to an interactive table.\"\n",
              "              style=\"display:none;\">\n",
              "        \n",
              "  <svg xmlns=\"http://www.w3.org/2000/svg\" height=\"24px\"viewBox=\"0 0 24 24\"\n",
              "       width=\"24px\">\n",
              "    <path d=\"M0 0h24v24H0V0z\" fill=\"none\"/>\n",
              "    <path d=\"M18.56 5.44l.94 2.06.94-2.06 2.06-.94-2.06-.94-.94-2.06-.94 2.06-2.06.94zm-11 1L8.5 8.5l.94-2.06 2.06-.94-2.06-.94L8.5 2.5l-.94 2.06-2.06.94zm10 10l.94 2.06.94-2.06 2.06-.94-2.06-.94-.94-2.06-.94 2.06-2.06.94z\"/><path d=\"M17.41 7.96l-1.37-1.37c-.4-.4-.92-.59-1.43-.59-.52 0-1.04.2-1.43.59L10.3 9.45l-7.72 7.72c-.78.78-.78 2.05 0 2.83L4 21.41c.39.39.9.59 1.41.59.51 0 1.02-.2 1.41-.59l7.78-7.78 2.81-2.81c.8-.78.8-2.07 0-2.86zM5.41 20L4 18.59l7.72-7.72 1.47 1.35L5.41 20z\"/>\n",
              "  </svg>\n",
              "      </button>\n",
              "      \n",
              "  <style>\n",
              "    .colab-df-container {\n",
              "      display:flex;\n",
              "      flex-wrap:wrap;\n",
              "      gap: 12px;\n",
              "    }\n",
              "\n",
              "    .colab-df-convert {\n",
              "      background-color: #E8F0FE;\n",
              "      border: none;\n",
              "      border-radius: 50%;\n",
              "      cursor: pointer;\n",
              "      display: none;\n",
              "      fill: #1967D2;\n",
              "      height: 32px;\n",
              "      padding: 0 0 0 0;\n",
              "      width: 32px;\n",
              "    }\n",
              "\n",
              "    .colab-df-convert:hover {\n",
              "      background-color: #E2EBFA;\n",
              "      box-shadow: 0px 1px 2px rgba(60, 64, 67, 0.3), 0px 1px 3px 1px rgba(60, 64, 67, 0.15);\n",
              "      fill: #174EA6;\n",
              "    }\n",
              "\n",
              "    [theme=dark] .colab-df-convert {\n",
              "      background-color: #3B4455;\n",
              "      fill: #D2E3FC;\n",
              "    }\n",
              "\n",
              "    [theme=dark] .colab-df-convert:hover {\n",
              "      background-color: #434B5C;\n",
              "      box-shadow: 0px 1px 3px 1px rgba(0, 0, 0, 0.15);\n",
              "      filter: drop-shadow(0px 1px 2px rgba(0, 0, 0, 0.3));\n",
              "      fill: #FFFFFF;\n",
              "    }\n",
              "  </style>\n",
              "\n",
              "      <script>\n",
              "        const buttonEl =\n",
              "          document.querySelector('#df-52e74207-efd6-47fe-8887-7e2d6c28ba75 button.colab-df-convert');\n",
              "        buttonEl.style.display =\n",
              "          google.colab.kernel.accessAllowed ? 'block' : 'none';\n",
              "\n",
              "        async function convertToInteractive(key) {\n",
              "          const element = document.querySelector('#df-52e74207-efd6-47fe-8887-7e2d6c28ba75');\n",
              "          const dataTable =\n",
              "            await google.colab.kernel.invokeFunction('convertToInteractive',\n",
              "                                                     [key], {});\n",
              "          if (!dataTable) return;\n",
              "\n",
              "          const docLinkHtml = 'Like what you see? Visit the ' +\n",
              "            '<a target=\"_blank\" href=https://colab.research.google.com/notebooks/data_table.ipynb>data table notebook</a>'\n",
              "            + ' to learn more about interactive tables.';\n",
              "          element.innerHTML = '';\n",
              "          dataTable['output_type'] = 'display_data';\n",
              "          await google.colab.output.renderOutput(dataTable, element);\n",
              "          const docLink = document.createElement('div');\n",
              "          docLink.innerHTML = docLinkHtml;\n",
              "          element.appendChild(docLink);\n",
              "        }\n",
              "      </script>\n",
              "    </div>\n",
              "  </div>\n",
              "  "
            ]
          },
          "metadata": {},
          "execution_count": 81
        }
      ]
    },
    {
      "cell_type": "code",
      "source": [
        "#TODO WArning : this cell function is different from the on used in the \"all models optimization\"\n",
        "# classification label \n",
        "df_assess['compare_between_true_and_svm_label'] = np.where(\n",
        "    df_assess['svm_pred'] == df_assess['label_true'], 1, 0) \n",
        "# calculate pr-curve (instead of ROC curve : more appropriate for imbalanced data)\n",
        "precision, recall, thresholds = precision_recall_curve(df_assess[\"compare_between_true_and_svm_label\"].to_list(), df_assess.svm_score.to_list())\n",
        "\n",
        "# plot the pr curve for the model\n",
        "\n",
        "pyplot.plot(recall, precision, marker='.', label='BERT')\n",
        "pyplot.xlabel('Recall')\n",
        "pyplot.ylabel('Precision')\n",
        "pyplot.legend()\n",
        "pyplot.show()\n",
        "\n",
        "precision = precision[:-2]\n",
        "\n",
        "# locate the index of the largest f score\n",
        "ix = np.argmax(precision)\n",
        "print('Best Threshold=%f, precision=%.3f' % (thresholds[ix], precision[ix]))\n",
        "\n",
        "y = df_assess[\"compare_between_true_and_svm_label\"].to_list()\n",
        "\n",
        "# \"visually\" determined value\n",
        "y_preds = [1 if x > 0.5 else 0 for x in df_assess.svm_score.to_list()]\n",
        "y_preds_opt_thresh = [1 if x >(thresholds[ix]) else 0 for x in df_assess.svm_score.to_list()]\n",
        "\n",
        "print('\\n',classification_report(y,y_preds, zero_division=0))\n",
        "print(\"----------------------------------\")\n",
        "print('\\n',classification_report(y,y_preds_opt_thresh, zero_division=0))"
      ],
      "metadata": {
        "colab": {
          "base_uri": "https://localhost:8080/",
          "height": 685
        },
        "id": "cLpe5RcfCxti",
        "outputId": "2716f9ca-2266-4985-9eae-d53a7c3a6d9f"
      },
      "id": "cLpe5RcfCxti",
      "execution_count": null,
      "outputs": [
        {
          "output_type": "display_data",
          "data": {
            "text/plain": [
              "<Figure size 432x288 with 1 Axes>"
            ],
            "image/png": "[encoded data removed]"
          },
          "metadata": {
            "needs_background": "light"
          }
        },
        {
          "output_type": "stream",
          "name": "stdout",
          "text": [
            "Best Threshold=0.587051, precision=0.875\n",
            "\n",
            "               precision    recall  f1-score   support\n",
            "\n",
            "           0       0.58      0.62      0.60       451\n",
            "           1       0.49      0.45      0.47       366\n",
            "\n",
            "    accuracy                           0.54       817\n",
            "   macro avg       0.53      0.53      0.53       817\n",
            "weighted avg       0.54      0.54      0.54       817\n",
            "\n",
            "----------------------------------\n",
            "\n",
            "               precision    recall  f1-score   support\n",
            "\n",
            "           0       0.56      1.00      0.71       451\n",
            "           1       0.86      0.02      0.03       366\n",
            "\n",
            "    accuracy                           0.56       817\n",
            "   macro avg       0.71      0.51      0.37       817\n",
            "weighted avg       0.69      0.56      0.41       817\n",
            "\n"
          ]
        }
      ]
    },
    {
      "cell_type": "code",
      "source": [
        "print('\\n',classification_report(y_test,df_assess[\"label_pred_1\"], zero_division=0))"
      ],
      "metadata": {
        "colab": {
          "base_uri": "https://localhost:8080/"
        },
        "id": "PmlUnLpsiTcN",
        "outputId": "bf2c86c8-27c5-458b-d05f-4e5fac638c7d"
      },
      "id": "PmlUnLpsiTcN",
      "execution_count": null,
      "outputs": [
        {
          "output_type": "stream",
          "name": "stdout",
          "text": [
            "\n",
            "               precision    recall  f1-score   support\n",
            "\n",
            "           0       0.28      1.00      0.44       232\n",
            "           1       0.00      0.00      0.00       116\n",
            "           2       0.00      0.00      0.00        73\n",
            "           3       0.00      0.00      0.00        26\n",
            "           4       0.00      0.00      0.00        16\n",
            "           5       0.00      0.00      0.00       354\n",
            "\n",
            "    accuracy                           0.28       817\n",
            "   macro avg       0.05      0.17      0.07       817\n",
            "weighted avg       0.08      0.28      0.13       817\n",
            "\n"
          ]
        }
      ]
    },
    {
      "cell_type": "code",
      "source": [
        "print('\\n',classification_report(y_test,y_pred_svm, zero_division=0))"
      ],
      "metadata": {
        "colab": {
          "base_uri": "https://localhost:8080/"
        },
        "id": "veQ0Rxz9iAzA",
        "outputId": "1845a167-3cf4-4511-abaf-2c1bdebf0acc"
      },
      "id": "veQ0Rxz9iAzA",
      "execution_count": null,
      "outputs": [
        {
          "output_type": "stream",
          "name": "stdout",
          "text": [
            "\n",
            "               precision    recall  f1-score   support\n",
            "\n",
            "           0       0.42      0.68      0.51       232\n",
            "           1       0.54      0.25      0.34       116\n",
            "           2       0.35      0.11      0.17        73\n",
            "           3       0.00      0.00      0.00        26\n",
            "           4       0.00      0.00      0.00        16\n",
            "           5       0.48      0.49      0.48       354\n",
            "\n",
            "    accuracy                           0.45       817\n",
            "   macro avg       0.30      0.25      0.25       817\n",
            "weighted avg       0.43      0.45      0.42       817\n",
            "\n"
          ]
        }
      ]
    },
    {
      "cell_type": "markdown",
      "source": [
        "## Logistic Regression "
      ],
      "metadata": {
        "id": "4hKv2LfJA7pZ"
      },
      "id": "4hKv2LfJA7pZ"
    },
    {
      "cell_type": "code",
      "source": [
        "lr = LogisticRegression()\n",
        "lr.fit(X_train,y_train)"
      ],
      "metadata": {
        "colab": {
          "base_uri": "https://localhost:8080/"
        },
        "id": "JqlZPfI_1q82",
        "outputId": "ad788920-9566-4f46-88bf-e315fc799336"
      },
      "id": "JqlZPfI_1q82",
      "execution_count": null,
      "outputs": [
        {
          "output_type": "execute_result",
          "data": {
            "text/plain": [
              "LogisticRegression()"
            ]
          },
          "metadata": {},
          "execution_count": 86
        }
      ]
    },
    {
      "cell_type": "code",
      "source": [
        "y_pred_lr = lr.predict(X_test) \n",
        "report = classification_report(y_test,y_pred_lr)\n",
        "print(report) "
      ],
      "metadata": {
        "colab": {
          "base_uri": "https://localhost:8080/"
        },
        "id": "safHvWYEBHu3",
        "outputId": "90182f52-b2fd-47a5-b95b-9f3224c40674"
      },
      "id": "safHvWYEBHu3",
      "execution_count": null,
      "outputs": [
        {
          "output_type": "stream",
          "name": "stdout",
          "text": [
            "              precision    recall  f1-score   support\n",
            "\n",
            "           0       0.44      0.69      0.54       232\n",
            "           1       0.51      0.30      0.38       116\n",
            "           2       0.36      0.11      0.17        73\n",
            "           3       0.00      0.00      0.00        26\n",
            "           4       0.00      0.00      0.00        16\n",
            "           5       0.49      0.50      0.50       354\n",
            "\n",
            "    accuracy                           0.47       817\n",
            "   macro avg       0.30      0.27      0.26       817\n",
            "weighted avg       0.45      0.47      0.44       817\n",
            "\n"
          ]
        }
      ]
    },
    {
      "cell_type": "code",
      "source": [
        "columns=[\"score_1\",\"label_pred_2\"\t,\"label_pred_3\"\t,\"label_pred_4\",\t\"label_pred_5\",\"label_true_original\",\"label_pred_1\"\t,\"label_true\",]\n",
        "df_assess=df_test[columns]"
      ],
      "metadata": {
        "id": "xnuXyK72BQpq"
      },
      "execution_count": null,
      "outputs": [],
      "id": "xnuXyK72BQpq"
    },
    {
      "cell_type": "code",
      "source": [
        "df_assess[\"lr_pred\"]=lr_predictions\n",
        "df_assess[\"lr_score\"]=np.max(lr.predict_proba(X_test), axis=1)"
      ],
      "metadata": {
        "id": "waKnPm60BQps"
      },
      "execution_count": null,
      "outputs": [],
      "id": "waKnPm60BQps"
    },
    {
      "cell_type": "code",
      "source": [
        "df_assess"
      ],
      "metadata": {
        "colab": {
          "base_uri": "https://localhost:8080/",
          "height": 423
        },
        "outputId": "8c8aba67-b24a-4aec-a64c-f5bf7721ca7c",
        "id": "TqreGKQUBQpt"
      },
      "execution_count": null,
      "outputs": [
        {
          "output_type": "execute_result",
          "data": {
            "text/plain": [
              "      score_1  label_pred_2  label_pred_3  label_pred_4  label_pred_5  \\\n",
              "0    0.710615             1             2             3             0   \n",
              "1    0.737935             1             0             2             3   \n",
              "2    0.757152             0             0             1             2   \n",
              "3    0.636801             1             2             0             2   \n",
              "4    0.643468             1             2             1             1   \n",
              "..        ...           ...           ...           ...           ...   \n",
              "812  0.474088             0             1             1             2   \n",
              "813  0.806806             1             2             3             1   \n",
              "814  0.706968             0             1             0             0   \n",
              "815  0.763458             1             1             2             1   \n",
              "816  0.774557             0             1             0             2   \n",
              "\n",
              "    label_true_original  label_pred_1  label_true  lr_pred  lr_score  \n",
              "0         antenna issue             0           2        5  0.516339  \n",
              "1         error message             0           5        5  0.446518  \n",
              "2     replication issue             0           5        0  0.625791  \n",
              "3      mechanical noise             0           5        5  0.500588  \n",
              "4          black screen             0           1        5  0.411102  \n",
              "..                  ...           ...         ...      ...       ...  \n",
              "812          reset adac             0           5        5  0.585876  \n",
              "813    fuel gauge issue             0           2        5  0.401019  \n",
              "814          reset adac             0           1        0  0.762626  \n",
              "815    fuel gauge issue             0           2        1  0.464936  \n",
              "816    fuel gauge issue             0           1        0  0.630837  \n",
              "\n",
              "[817 rows x 10 columns]"
            ],
            "text/html": [
              "\n",
              "  <div id=\"df-5a13a191-3868-45ce-be53-9b46b4e8b431\">\n",
              "    <div class=\"colab-df-container\">\n",
              "      <div>\n",
              "<style scoped>\n",
              "    .dataframe tbody tr th:only-of-type {\n",
              "        vertical-align: middle;\n",
              "    }\n",
              "\n",
              "    .dataframe tbody tr th {\n",
              "        vertical-align: top;\n",
              "    }\n",
              "\n",
              "    .dataframe thead th {\n",
              "        text-align: right;\n",
              "    }\n",
              "</style>\n",
              "<table border=\"1\" class=\"dataframe\">\n",
              "  <thead>\n",
              "    <tr style=\"text-align: right;\">\n",
              "      <th></th>\n",
              "      <th>score_1</th>\n",
              "      <th>label_pred_2</th>\n",
              "      <th>label_pred_3</th>\n",
              "      <th>label_pred_4</th>\n",
              "      <th>label_pred_5</th>\n",
              "      <th>label_true_original</th>\n",
              "      <th>label_pred_1</th>\n",
              "      <th>label_true</th>\n",
              "      <th>lr_pred</th>\n",
              "      <th>lr_score</th>\n",
              "    </tr>\n",
              "  </thead>\n",
              "  <tbody>\n",
              "    <tr>\n",
              "      <th>0</th>\n",
              "      <td>0.710615</td>\n",
              "      <td>1</td>\n",
              "      <td>2</td>\n",
              "      <td>3</td>\n",
              "      <td>0</td>\n",
              "      <td>antenna issue</td>\n",
              "      <td>0</td>\n",
              "      <td>2</td>\n",
              "      <td>5</td>\n",
              "      <td>0.516339</td>\n",
              "    </tr>\n",
              "    <tr>\n",
              "      <th>1</th>\n",
              "      <td>0.737935</td>\n",
              "      <td>1</td>\n",
              "      <td>0</td>\n",
              "      <td>2</td>\n",
              "      <td>3</td>\n",
              "      <td>error message</td>\n",
              "      <td>0</td>\n",
              "      <td>5</td>\n",
              "      <td>5</td>\n",
              "      <td>0.446518</td>\n",
              "    </tr>\n",
              "    <tr>\n",
              "      <th>2</th>\n",
              "      <td>0.757152</td>\n",
              "      <td>0</td>\n",
              "      <td>0</td>\n",
              "      <td>1</td>\n",
              "      <td>2</td>\n",
              "      <td>replication issue</td>\n",
              "      <td>0</td>\n",
              "      <td>5</td>\n",
              "      <td>0</td>\n",
              "      <td>0.625791</td>\n",
              "    </tr>\n",
              "    <tr>\n",
              "      <th>3</th>\n",
              "      <td>0.636801</td>\n",
              "      <td>1</td>\n",
              "      <td>2</td>\n",
              "      <td>0</td>\n",
              "      <td>2</td>\n",
              "      <td>mechanical noise</td>\n",
              "      <td>0</td>\n",
              "      <td>5</td>\n",
              "      <td>5</td>\n",
              "      <td>0.500588</td>\n",
              "    </tr>\n",
              "    <tr>\n",
              "      <th>4</th>\n",
              "      <td>0.643468</td>\n",
              "      <td>1</td>\n",
              "      <td>2</td>\n",
              "      <td>1</td>\n",
              "      <td>1</td>\n",
              "      <td>black screen</td>\n",
              "      <td>0</td>\n",
              "      <td>1</td>\n",
              "      <td>5</td>\n",
              "      <td>0.411102</td>\n",
              "    </tr>\n",
              "    <tr>\n",
              "      <th>...</th>\n",
              "      <td>...</td>\n",
              "      <td>...</td>\n",
              "      <td>...</td>\n",
              "      <td>...</td>\n",
              "      <td>...</td>\n",
              "      <td>...</td>\n",
              "      <td>...</td>\n",
              "      <td>...</td>\n",
              "      <td>...</td>\n",
              "      <td>...</td>\n",
              "    </tr>\n",
              "    <tr>\n",
              "      <th>812</th>\n",
              "      <td>0.474088</td>\n",
              "      <td>0</td>\n",
              "      <td>1</td>\n",
              "      <td>1</td>\n",
              "      <td>2</td>\n",
              "      <td>reset adac</td>\n",
              "      <td>0</td>\n",
              "      <td>5</td>\n",
              "      <td>5</td>\n",
              "      <td>0.585876</td>\n",
              "    </tr>\n",
              "    <tr>\n",
              "      <th>813</th>\n",
              "      <td>0.806806</td>\n",
              "      <td>1</td>\n",
              "      <td>2</td>\n",
              "      <td>3</td>\n",
              "      <td>1</td>\n",
              "      <td>fuel gauge issue</td>\n",
              "      <td>0</td>\n",
              "      <td>2</td>\n",
              "      <td>5</td>\n",
              "      <td>0.401019</td>\n",
              "    </tr>\n",
              "    <tr>\n",
              "      <th>814</th>\n",
              "      <td>0.706968</td>\n",
              "      <td>0</td>\n",
              "      <td>1</td>\n",
              "      <td>0</td>\n",
              "      <td>0</td>\n",
              "      <td>reset adac</td>\n",
              "      <td>0</td>\n",
              "      <td>1</td>\n",
              "      <td>0</td>\n",
              "      <td>0.762626</td>\n",
              "    </tr>\n",
              "    <tr>\n",
              "      <th>815</th>\n",
              "      <td>0.763458</td>\n",
              "      <td>1</td>\n",
              "      <td>1</td>\n",
              "      <td>2</td>\n",
              "      <td>1</td>\n",
              "      <td>fuel gauge issue</td>\n",
              "      <td>0</td>\n",
              "      <td>2</td>\n",
              "      <td>1</td>\n",
              "      <td>0.464936</td>\n",
              "    </tr>\n",
              "    <tr>\n",
              "      <th>816</th>\n",
              "      <td>0.774557</td>\n",
              "      <td>0</td>\n",
              "      <td>1</td>\n",
              "      <td>0</td>\n",
              "      <td>2</td>\n",
              "      <td>fuel gauge issue</td>\n",
              "      <td>0</td>\n",
              "      <td>1</td>\n",
              "      <td>0</td>\n",
              "      <td>0.630837</td>\n",
              "    </tr>\n",
              "  </tbody>\n",
              "</table>\n",
              "<p>817 rows × 10 columns</p>\n",
              "</div>\n",
              "      <button class=\"colab-df-convert\" onclick=\"convertToInteractive('df-5a13a191-3868-45ce-be53-9b46b4e8b431')\"\n",
              "              title=\"Convert this dataframe to an interactive table.\"\n",
              "              style=\"display:none;\">\n",
              "        \n",
              "  <svg xmlns=\"http://www.w3.org/2000/svg\" height=\"24px\"viewBox=\"0 0 24 24\"\n",
              "       width=\"24px\">\n",
              "    <path d=\"M0 0h24v24H0V0z\" fill=\"none\"/>\n",
              "    <path d=\"M18.56 5.44l.94 2.06.94-2.06 2.06-.94-2.06-.94-.94-2.06-.94 2.06-2.06.94zm-11 1L8.5 8.5l.94-2.06 2.06-.94-2.06-.94L8.5 2.5l-.94 2.06-2.06.94zm10 10l.94 2.06.94-2.06 2.06-.94-2.06-.94-.94-2.06-.94 2.06-2.06.94z\"/><path d=\"M17.41 7.96l-1.37-1.37c-.4-.4-.92-.59-1.43-.59-.52 0-1.04.2-1.43.59L10.3 9.45l-7.72 7.72c-.78.78-.78 2.05 0 2.83L4 21.41c.39.39.9.59 1.41.59.51 0 1.02-.2 1.41-.59l7.78-7.78 2.81-2.81c.8-.78.8-2.07 0-2.86zM5.41 20L4 18.59l7.72-7.72 1.47 1.35L5.41 20z\"/>\n",
              "  </svg>\n",
              "      </button>\n",
              "      \n",
              "  <style>\n",
              "    .colab-df-container {\n",
              "      display:flex;\n",
              "      flex-wrap:wrap;\n",
              "      gap: 12px;\n",
              "    }\n",
              "\n",
              "    .colab-df-convert {\n",
              "      background-color: #E8F0FE;\n",
              "      border: none;\n",
              "      border-radius: 50%;\n",
              "      cursor: pointer;\n",
              "      display: none;\n",
              "      fill: #1967D2;\n",
              "      height: 32px;\n",
              "      padding: 0 0 0 0;\n",
              "      width: 32px;\n",
              "    }\n",
              "\n",
              "    .colab-df-convert:hover {\n",
              "      background-color: #E2EBFA;\n",
              "      box-shadow: 0px 1px 2px rgba(60, 64, 67, 0.3), 0px 1px 3px 1px rgba(60, 64, 67, 0.15);\n",
              "      fill: #174EA6;\n",
              "    }\n",
              "\n",
              "    [theme=dark] .colab-df-convert {\n",
              "      background-color: #3B4455;\n",
              "      fill: #D2E3FC;\n",
              "    }\n",
              "\n",
              "    [theme=dark] .colab-df-convert:hover {\n",
              "      background-color: #434B5C;\n",
              "      box-shadow: 0px 1px 3px 1px rgba(0, 0, 0, 0.15);\n",
              "      filter: drop-shadow(0px 1px 2px rgba(0, 0, 0, 0.3));\n",
              "      fill: #FFFFFF;\n",
              "    }\n",
              "  </style>\n",
              "\n",
              "      <script>\n",
              "        const buttonEl =\n",
              "          document.querySelector('#df-5a13a191-3868-45ce-be53-9b46b4e8b431 button.colab-df-convert');\n",
              "        buttonEl.style.display =\n",
              "          google.colab.kernel.accessAllowed ? 'block' : 'none';\n",
              "\n",
              "        async function convertToInteractive(key) {\n",
              "          const element = document.querySelector('#df-5a13a191-3868-45ce-be53-9b46b4e8b431');\n",
              "          const dataTable =\n",
              "            await google.colab.kernel.invokeFunction('convertToInteractive',\n",
              "                                                     [key], {});\n",
              "          if (!dataTable) return;\n",
              "\n",
              "          const docLinkHtml = 'Like what you see? Visit the ' +\n",
              "            '<a target=\"_blank\" href=https://colab.research.google.com/notebooks/data_table.ipynb>data table notebook</a>'\n",
              "            + ' to learn more about interactive tables.';\n",
              "          element.innerHTML = '';\n",
              "          dataTable['output_type'] = 'display_data';\n",
              "          await google.colab.output.renderOutput(dataTable, element);\n",
              "          const docLink = document.createElement('div');\n",
              "          docLink.innerHTML = docLinkHtml;\n",
              "          element.appendChild(docLink);\n",
              "        }\n",
              "      </script>\n",
              "    </div>\n",
              "  </div>\n",
              "  "
            ]
          },
          "metadata": {},
          "execution_count": 98
        }
      ],
      "id": "TqreGKQUBQpt"
    },
    {
      "cell_type": "code",
      "source": [
        "#TODO WArning : this cell function is different from the on used in the \"all models optimization\"\n",
        "\n",
        "df_assess['compare_between_true_and_lr_label_true'] = np.where(\n",
        "    df_assess['lr_pred'] == df_assess['label_true'], 1, 0) \n",
        "# calculate pr-curve (instead of ROC curve : more appropriate for imbalanced data)\n",
        "precision, recall, thresholds = precision_recall_curve(df_assess[\"compare_between_true_and_lr_label_true\"].to_list(), df_assess.lr_score.to_list())\n",
        "\n",
        "# plot the pr curve for the model\n",
        "\n",
        "pyplot.plot(recall, precision, marker='.', label='BERT')\n",
        "pyplot.xlabel('Recall')\n",
        "pyplot.ylabel('Precision')\n",
        "pyplot.legend()\n",
        "pyplot.show()\n",
        "\n",
        "precision = precision[:-2]\n",
        "\n",
        "# locate the index of the largest f score\n",
        "ix = np.argmax(precision)\n",
        "print('Best Threshold=%f, precision=%.3f' % (thresholds[ix], precision[ix]))\n",
        "\n",
        "y = df_assess[\"compare_between_true_and_lr_label_true\"].to_list()\n",
        "\n",
        "# \"visually\" determined value\n",
        "y_preds = [1 if x > 0.5 else 0 for x in df_assess.lr_score.to_list()]\n",
        "y_preds_opt_thresh = [1 if x >(thresholds[ix]) else 0 for x in df_assess.lr_score.to_list()]\n",
        "\n",
        "print('\\n',classification_report(y,y_preds, zero_division=0))\n",
        "print(\"----------------------------------\")\n",
        "print('\\n',classification_report(y,y_preds_opt_thresh, zero_division=0))"
      ],
      "metadata": {
        "colab": {
          "base_uri": "https://localhost:8080/",
          "height": 685
        },
        "outputId": "827ab24e-b6e3-4abb-b4c5-45af93980de8",
        "id": "U9sxqqHDBQpu"
      },
      "execution_count": null,
      "outputs": [
        {
          "output_type": "display_data",
          "data": {
            "text/plain": [
              "<Figure size 432x288 with 1 Axes>"
            ],
            "image/png": "[encoded data removed]"
          },
          "metadata": {
            "needs_background": "light"
          }
        },
        {
          "output_type": "stream",
          "name": "stdout",
          "text": [
            "Best Threshold=0.842401, precision=0.733\n",
            "\n",
            "               precision    recall  f1-score   support\n",
            "\n",
            "           0       0.57      0.49      0.53       437\n",
            "           1       0.50      0.57      0.53       380\n",
            "\n",
            "    accuracy                           0.53       817\n",
            "   macro avg       0.53      0.53      0.53       817\n",
            "weighted avg       0.54      0.53      0.53       817\n",
            "\n",
            "----------------------------------\n",
            "\n",
            "               precision    recall  f1-score   support\n",
            "\n",
            "           0       0.55      0.97      0.70       437\n",
            "           1       0.73      0.08      0.15       380\n",
            "\n",
            "    accuracy                           0.56       817\n",
            "   macro avg       0.64      0.53      0.43       817\n",
            "weighted avg       0.63      0.56      0.45       817\n",
            "\n"
          ]
        }
      ],
      "id": "U9sxqqHDBQpu"
    },
    {
      "cell_type": "code",
      "source": [
        "print('\\n',classification_report(y_test,df_assess[\"label_pred_1\"], zero_division=0))"
      ],
      "metadata": {
        "colab": {
          "base_uri": "https://localhost:8080/"
        },
        "outputId": "21afc413-4bd8-4aff-a06a-5227742a0025",
        "id": "mP1VEVonBQpw"
      },
      "execution_count": null,
      "outputs": [
        {
          "output_type": "stream",
          "name": "stdout",
          "text": [
            "\n",
            "               precision    recall  f1-score   support\n",
            "\n",
            "           0       0.28      1.00      0.44       232\n",
            "           1       0.00      0.00      0.00       116\n",
            "           2       0.00      0.00      0.00        73\n",
            "           3       0.00      0.00      0.00        26\n",
            "           4       0.00      0.00      0.00        16\n",
            "           5       0.00      0.00      0.00       354\n",
            "\n",
            "    accuracy                           0.28       817\n",
            "   macro avg       0.05      0.17      0.07       817\n",
            "weighted avg       0.08      0.28      0.13       817\n",
            "\n"
          ]
        }
      ],
      "id": "mP1VEVonBQpw"
    },
    {
      "cell_type": "code",
      "source": [
        "print('\\n',classification_report(y_test,y_pred_lr, zero_division=0))"
      ],
      "metadata": {
        "colab": {
          "base_uri": "https://localhost:8080/"
        },
        "outputId": "3fd6270d-89c3-4da8-818c-821ff1d6887a",
        "id": "piCJZoyWBQpx"
      },
      "execution_count": null,
      "outputs": [
        {
          "output_type": "stream",
          "name": "stdout",
          "text": [
            "\n",
            "               precision    recall  f1-score   support\n",
            "\n",
            "           0       0.44      0.69      0.54       232\n",
            "           1       0.51      0.30      0.38       116\n",
            "           2       0.36      0.11      0.17        73\n",
            "           3       0.00      0.00      0.00        26\n",
            "           4       0.00      0.00      0.00        16\n",
            "           5       0.49      0.50      0.50       354\n",
            "\n",
            "    accuracy                           0.47       817\n",
            "   macro avg       0.30      0.27      0.26       817\n",
            "weighted avg       0.45      0.47      0.44       817\n",
            "\n"
          ]
        }
      ],
      "id": "piCJZoyWBQpx"
    },
    {
      "cell_type": "markdown",
      "source": [
        "# DNN"
      ],
      "metadata": {
        "id": "kR_s1tT1Iu6Z"
      },
      "id": "kR_s1tT1Iu6Z"
    },
    {
      "cell_type": "code",
      "source": [
        "COLS=score_features + label_pred_features + label_pred_dummies_features"
      ],
      "metadata": {
        "id": "B6T6f99EYy5d"
      },
      "id": "B6T6f99EYy5d",
      "execution_count": null,
      "outputs": []
    },
    {
      "cell_type": "code",
      "source": [
        "# dataset definition\n",
        "\n",
        "def prepere_data(df_all_Feature):\n",
        "  # load the csv file as a dataframe\n",
        "  \n",
        "  # store the inputs and outputs\n",
        "  X = df_all_Feature[COLS].values\n",
        "  y = df_all_Feature['label_true'].values\n",
        "  # ensure input data is floats\n",
        "  X = X.astype('float32')\n",
        "  return X,y\n",
        "\n",
        "\n",
        "# number of rows in the dataset\n",
        "def len_data(X):\n",
        "  return len(X)\n",
        "\n",
        "# get a row at an index\n",
        "def getitem(X,y, idx):\n",
        "    return [X[idx],y[idx]]\n",
        "\n",
        "# get indexes for train and test rows\n",
        "def get_splits(X,y, n_test=0.33):\n",
        "    # determine sizes\n",
        "    test_size = round(n_test * len(X))\n",
        "    train_size = len(X) - test_size\n",
        "    # calculate the split\n",
        "    return random_split(X,y, [train_size, test_size])"
      ],
      "metadata": {
        "id": "JpbqlPV5c3xg"
      },
      "id": "JpbqlPV5c3xg",
      "execution_count": null,
      "outputs": []
    },
    {
      "cell_type": "code",
      "source": [
        "# load the dataset\n",
        "dataset = prepere_data(df_train)"
      ],
      "metadata": {
        "id": "5imhOMi1l2Is"
      },
      "id": "5imhOMi1l2Is",
      "execution_count": null,
      "outputs": []
    },
    {
      "cell_type": "code",
      "source": [
        ""
      ],
      "metadata": {
        "id": "EZoM7aBm9HPc"
      },
      "id": "EZoM7aBm9HPc",
      "execution_count": null,
      "outputs": []
    },
    {
      "cell_type": "code",
      "source": [
        ""
      ],
      "metadata": {
        "id": "wWMX04V09HS3"
      },
      "id": "wWMX04V09HS3",
      "execution_count": null,
      "outputs": []
    },
    {
      "cell_type": "code",
      "source": [
        "\n",
        "\n",
        "train_dl = DataLoader(df_train, batch_size=32, shuffle=True)\n",
        "test_dl = DataLoader(df_test, batch_size=1024, shuffle=False)\n"
      ],
      "metadata": {
        "id": "E6vXPHd6d74f"
      },
      "id": "E6vXPHd6d74f",
      "execution_count": null,
      "outputs": []
    },
    {
      "cell_type": "code",
      "source": [
        "print(len(train_dl.dataset), len(test_dl.dataset))"
      ],
      "metadata": {
        "colab": {
          "base_uri": "https://localhost:8080/"
        },
        "id": "QUuvwZ8JmQih",
        "outputId": "0fd34fa6-8f7e-4abe-822e-b79df296db49"
      },
      "id": "QUuvwZ8JmQih",
      "execution_count": null,
      "outputs": [
        {
          "output_type": "stream",
          "name": "stdout",
          "text": [
            "8822 817\n"
          ]
        }
      ]
    },
    {
      "cell_type": "code",
      "source": [
        "# dataset definition\n",
        "class CSVDataset(Dataset):\n",
        "    # load the dataset\n",
        "    def __init__(self, df_all_Feature):\n",
        "        # load the csv file as a dataframe\n",
        "          \n",
        "        # store the inputs and outputs\n",
        "        self.X = df_all_Feature[COLS].values\n",
        "        self.y = df_all_Feature['label_true'].values\n",
        "        # ensure input data is floats\n",
        "        self.X = self.X.astype('float32')\n",
        "        print(self)\n",
        "\n",
        "\n",
        "    # number of rows in the dataset\n",
        "    def __len__(self):\n",
        "        return len(self.X)\n",
        "\n",
        "    # get a row at an index\n",
        "    def __getitem__(self, idx):\n",
        "        return [self.X[idx], self.y[idx]]\n",
        "\n",
        "    # get indexes for train and test rows\n",
        "    def get_splits(self, n_test=0.33):\n",
        "        # determine sizes\n",
        "        test_size = round(n_test * len(self.X))\n",
        "        train_size = len(self.X) - test_size\n",
        "        # calculate the split\n",
        "        return random_split(self, [train_size, test_size])\n",
        "\n",
        "# model definition\n",
        "class MLP(Module):\n",
        "    # define model elements\n",
        "    def __init__(self, n_inputs):\n",
        "        super(MLP, self).__init__()\n",
        "        # input to first hidden layer\n",
        "        self.hidden1 = Linear(n_inputs, 10)\n",
        "        kaiming_uniform_(self.hidden1.weight, nonlinearity='relu')\n",
        "        self.act1 = ReLU()\n",
        "        # second hidden layer\n",
        "        self.hidden2 = Linear(10, 8)\n",
        "        kaiming_uniform_(self.hidden2.weight, nonlinearity='relu')\n",
        "        self.act2 = ReLU()\n",
        "        # third hidden layer and output\n",
        "        self.hidden3 = Linear(8,6)\n",
        "        xavier_uniform_(self.hidden3.weight)\n",
        "        self.act3 = Softmax(dim=1)\n",
        "\n",
        "    # forward propagate input\n",
        "    def forward(self, X):\n",
        "        # input to first hidden layer\n",
        "        X = self.hidden1(X)\n",
        "        X = self.act1(X)\n",
        "        # second hidden layer\n",
        "        X = self.hidden2(X)\n",
        "        X = self.act2(X)\n",
        "        # output layer\n",
        "        X = self.hidden3(X)\n",
        "        X = self.act3(X)\n",
        "        return X\n",
        "\n",
        "# prepare the dataset\n",
        "#def prepare_data(df_train, df_test ):\n",
        "def prepare_data(path_train,path_test):\n",
        "    # load the dataset\n",
        "    dataset_train = CSVDataset(path_train)\n",
        "    dataset_test = CSVDataset(path_test)\n",
        "    # calculate split\n",
        "    #train, _splits()\n",
        "    # prepare data loaderstest = dataset.get\n",
        "    train_dl = DataLoader(dataset_train, batch_size=32, shuffle=True)\n",
        "    test_dl = DataLoader(dataset_test, batch_size=1024, shuffle=False)\n",
        "    return train_dl, test_dl\n",
        "\n",
        "# train the model\n",
        "def train_model(train_dl, model):\n",
        "    # define the optimization\n",
        "    criterion = CrossEntropyLoss()\n",
        "    optimizer = SGD(model.parameters(), lr=0.01, momentum=0.9)\n",
        "    # enumerate epochs\n",
        "    for epoch in range(500):\n",
        "        # enumerate mini batches\n",
        "        for i, (inputs, targets) in enumerate(train_dl):\n",
        "            # clear the gradients\n",
        "            optimizer.zero_grad()\n",
        "            # compute the model output\n",
        "            yhat = model(inputs)\n",
        "            # calculate loss\n",
        "            loss = criterion(yhat, targets)\n",
        "            # credit assignment\n",
        "            loss.backward()\n",
        "            # update model weights\n",
        "            optimizer.step()\n",
        "           \n",
        "\n",
        "# evaluate the model\n",
        "def evaluate_model(test_dl, model):\n",
        "    predictions, actuals = list(), list()\n",
        "    for i, (inputs, targets) in enumerate(test_dl):\n",
        "        # evaluate the model on the test set\n",
        "        yhat = model(inputs)\n",
        "        # retrieve numpy array\n",
        "        yhat = yhat.detach().numpy()\n",
        "        actual = targets.numpy()\n",
        "        # convert to class labels\n",
        "        yhat = argmax(yhat, axis=1)\n",
        "        # reshape for stacking\n",
        "        actual = actual.reshape((len(actual), 1))\n",
        "        yhat = yhat.reshape((len(yhat), 1))\n",
        "        # store\n",
        "        predictions.append(yhat)\n",
        "        actuals.append(actual)\n",
        "    predictions, actuals = vstack(predictions), vstack(actuals)\n",
        "    # calculate accuracy\n",
        "    acc = accuracy_score(actuals, predictions)\n",
        "    return acc\n",
        "# make a class prediction for one row of data\n",
        "def predict(row, model):\n",
        "    # convert row to data\n",
        "    row = Tensor([row])\n",
        "    # make prediction\n",
        "    yhat = model(row)\n",
        "    # retrieve numpy array\n",
        "    yhat = yhat.detach().numpy()\n",
        "    return yhat"
      ],
      "metadata": {
        "id": "fxheuf-4JXjL"
      },
      "id": "fxheuf-4JXjL",
      "execution_count": null,
      "outputs": []
    },
    {
      "cell_type": "code",
      "source": [
        "train_dl, test_dl = prepare_data(df_train,df_test)\n",
        "print(len(train_dl.dataset), len(test_dl.dataset))"
      ],
      "metadata": {
        "colab": {
          "base_uri": "https://localhost:8080/"
        },
        "id": "qZGFEYPLIubQ",
        "outputId": "90d4013a-8038-482d-a768-48986d275e6c"
      },
      "id": "qZGFEYPLIubQ",
      "execution_count": null,
      "outputs": [
        {
          "output_type": "stream",
          "name": "stdout",
          "text": [
            "<__main__.CSVDataset object at 0x7fef3d01db50>\n",
            "<__main__.CSVDataset object at 0x7fef3cf5edd0>\n",
            "8822 817\n"
          ]
        }
      ]
    },
    {
      "cell_type": "code",
      "source": [
        "# define the network\n",
        "model = MLP(25)\n",
        "# train the model\n",
        "train_model(train_dl, model)\n",
        "# evaluate the model\n",
        "acc = evaluate_model(test_dl, model)\n",
        "print('Accuracy: %.3f' % acc)\n",
        "# make a single prediction \n",
        "row = [0.71139216, 0.66471159, 0.66216338, 0.65461689, 0.65377486,\n",
        "       0.        , 0.        , 1.        , 0.        , 0.        ,\n",
        "       1.        , 1.        , 0.        , 0.        , 1.        ,\n",
        "       0.        , 1.        , 0.        , 0.        , 0.        ,\n",
        "       1.        , 0.        , 0.        , 0.        , 0.        ]\n",
        "yhat = predict(row, model)\n",
        "print('Predicted: %s (class=%d)' % (yhat, argmax(yhat)))"
      ],
      "metadata": {
        "colab": {
          "base_uri": "https://localhost:8080/"
        },
        "id": "TkiovRWbIuda",
        "outputId": "84e4ad22-021e-42c9-aae0-938897c46f41"
      },
      "id": "TkiovRWbIuda",
      "execution_count": null,
      "outputs": [
        {
          "output_type": "stream",
          "name": "stdout",
          "text": [
            "Accuracy: 0.464\n",
            "Predicted: [[9.9999976e-01 8.7998842e-17 1.7934754e-16 3.8933826e-17 9.5086668e-17\n",
            "  1.9872341e-07]] (class=0)\n"
          ]
        }
      ]
    },
    {
      "cell_type": "code",
      "source": [
        "pred=[]\n",
        "for i in range(X_test.shape[0]):\n",
        "  pred.append(argmax(predict(X_test.iloc[i].values, model)))"
      ],
      "metadata": {
        "id": "uv0edBxtAy-B"
      },
      "id": "uv0edBxtAy-B",
      "execution_count": null,
      "outputs": []
    },
    {
      "cell_type": "code",
      "source": [
        "columns=[\"score_1\",\"label_pred_2\"\t,\"label_pred_3\"\t,\"label_pred_4\",\t\"label_pred_5\",\"label_true_original\",\"label_pred_1\"\t,\"label_true\",]\n",
        "df_assess=df_test[columns]"
      ],
      "metadata": {
        "id": "vuMLAhRjCPcU"
      },
      "id": "vuMLAhRjCPcU",
      "execution_count": null,
      "outputs": []
    },
    {
      "cell_type": "code",
      "source": [
        "df_assess[\"DNN_label\"]=pred"
      ],
      "metadata": {
        "id": "o5S8pD6gCJ3I"
      },
      "id": "o5S8pD6gCJ3I",
      "execution_count": null,
      "outputs": []
    },
    {
      "cell_type": "code",
      "source": [
        "print('\\n',classification_report(y_test,df_assess[\"label_pred_1\"], zero_division=0))"
      ],
      "metadata": {
        "colab": {
          "base_uri": "https://localhost:8080/"
        },
        "outputId": "de497519-6e26-4df2-d1a4-53abb454e2ef",
        "id": "KcxM66yYCBA2"
      },
      "execution_count": null,
      "outputs": [
        {
          "output_type": "stream",
          "name": "stdout",
          "text": [
            "\n",
            "               precision    recall  f1-score   support\n",
            "\n",
            "           0       0.28      1.00      0.44       232\n",
            "           1       0.00      0.00      0.00       116\n",
            "           2       0.00      0.00      0.00        73\n",
            "           3       0.00      0.00      0.00        26\n",
            "           4       0.00      0.00      0.00        16\n",
            "           5       0.00      0.00      0.00       354\n",
            "\n",
            "    accuracy                           0.28       817\n",
            "   macro avg       0.05      0.17      0.07       817\n",
            "weighted avg       0.08      0.28      0.13       817\n",
            "\n"
          ]
        }
      ],
      "id": "KcxM66yYCBA2"
    },
    {
      "cell_type": "code",
      "source": [
        "print('\\n',classification_report(y_test,pred, zero_division=0))"
      ],
      "metadata": {
        "colab": {
          "base_uri": "https://localhost:8080/"
        },
        "outputId": "2f5cba02-6d68-40a2-aace-faca4400f1ae",
        "id": "gTWLImQxCBA3"
      },
      "execution_count": null,
      "outputs": [
        {
          "output_type": "stream",
          "name": "stdout",
          "text": [
            "\n",
            "               precision    recall  f1-score   support\n",
            "\n",
            "           0       0.42      0.75      0.53       232\n",
            "           1       0.50      0.28      0.36       116\n",
            "           2       0.00      0.00      0.00        73\n",
            "           3       0.00      0.00      0.00        26\n",
            "           4       0.00      0.00      0.00        16\n",
            "           5       0.51      0.49      0.50       354\n",
            "\n",
            "    accuracy                           0.46       817\n",
            "   macro avg       0.24      0.25      0.23       817\n",
            "weighted avg       0.41      0.46      0.42       817\n",
            "\n"
          ]
        }
      ],
      "id": "gTWLImQxCBA3"
    },
    {
      "cell_type": "markdown",
      "source": [
        "# All results "
      ],
      "metadata": {
        "id": "KcMRfciVpYf8"
      },
      "id": "KcMRfciVpYf8"
    },
    {
      "cell_type": "code",
      "source": [
        "# Random-Forest\n",
        "print('\\n',classification_report(y_test,y_pred_random_forest, zero_division=0))"
      ],
      "metadata": {
        "colab": {
          "base_uri": "https://localhost:8080/"
        },
        "outputId": "2f8f6250-d26b-4ff5-a55c-7cf4b2097492",
        "id": "t0ChuJy5p5Vn"
      },
      "execution_count": null,
      "outputs": [
        {
          "output_type": "stream",
          "name": "stdout",
          "text": [
            "\n",
            "               precision    recall  f1-score   support\n",
            "\n",
            "           0       0.43      0.66      0.52       232\n",
            "           1       0.47      0.31      0.37       116\n",
            "           2       0.33      0.05      0.09        73\n",
            "           3       0.00      0.00      0.00        26\n",
            "           4       0.00      0.00      0.00        16\n",
            "           5       0.49      0.51      0.50       354\n",
            "\n",
            "    accuracy                           0.46       817\n",
            "   macro avg       0.29      0.26      0.25       817\n",
            "weighted avg       0.43      0.46      0.42       817\n",
            "\n"
          ]
        }
      ],
      "id": "t0ChuJy5p5Vn"
    },
    {
      "cell_type": "code",
      "source": [
        "# ADA-BOOST\n",
        "print('\\n',classification_report(y_test,y_pred_AdaB, zero_division=0))"
      ],
      "metadata": {
        "colab": {
          "base_uri": "https://localhost:8080/"
        },
        "outputId": "1f6f7571-a13c-4972-ec73-39eb3fd1a4e3",
        "id": "LIq0Jqfdpzfk"
      },
      "execution_count": null,
      "outputs": [
        {
          "output_type": "stream",
          "name": "stdout",
          "text": [
            "\n",
            "               precision    recall  f1-score   support\n",
            "\n",
            "           0       0.36      0.69      0.47       232\n",
            "           1       0.00      0.00      0.00       116\n",
            "           2       0.40      0.03      0.05        73\n",
            "           3       0.00      0.00      0.00        26\n",
            "           4       0.00      0.00      0.00        16\n",
            "           5       0.46      0.48      0.47       354\n",
            "\n",
            "    accuracy                           0.41       817\n",
            "   macro avg       0.20      0.20      0.17       817\n",
            "weighted avg       0.34      0.41      0.34       817\n",
            "\n"
          ]
        }
      ],
      "id": "LIq0Jqfdpzfk"
    },
    {
      "cell_type": "code",
      "source": [
        "# XG-BOOST\n",
        "print('\\n',classification_report(y_test,y_pred_xgb, zero_division=0))"
      ],
      "metadata": {
        "colab": {
          "base_uri": "https://localhost:8080/"
        },
        "outputId": "bc2f5712-1dfe-4725-a55e-1c8d0eedc82b",
        "id": "EjT2m6ejpsZU"
      },
      "execution_count": null,
      "outputs": [
        {
          "output_type": "stream",
          "name": "stdout",
          "text": [
            "\n",
            "               precision    recall  f1-score   support\n",
            "\n",
            "           0       0.44      0.69      0.54       232\n",
            "           1       0.50      0.23      0.32       116\n",
            "           2       0.27      0.04      0.07        73\n",
            "           3       0.00      0.00      0.00        26\n",
            "           4       0.00      0.00      0.00        16\n",
            "           5       0.48      0.53      0.51       354\n",
            "\n",
            "    accuracy                           0.46       817\n",
            "   macro avg       0.28      0.25      0.24       817\n",
            "weighted avg       0.43      0.46      0.42       817\n",
            "\n"
          ]
        }
      ],
      "id": "EjT2m6ejpsZU"
    },
    {
      "cell_type": "code",
      "source": [
        "# KNN\n",
        "print('\\n',classification_report(y_test,y_pred_knn, zero_division=0))"
      ],
      "metadata": {
        "colab": {
          "base_uri": "https://localhost:8080/"
        },
        "outputId": "fed2d5f4-a942-4969-ccd4-ab9ad3257e64",
        "id": "6yZZF2RQponM"
      },
      "execution_count": null,
      "outputs": [
        {
          "output_type": "stream",
          "name": "stdout",
          "text": [
            "\n",
            "               precision    recall  f1-score   support\n",
            "\n",
            "           0       0.44      0.71      0.54       232\n",
            "           1       0.36      0.26      0.30       116\n",
            "           2       0.19      0.07      0.10        73\n",
            "           3       0.11      0.08      0.09        26\n",
            "           4       0.00      0.00      0.00        16\n",
            "           5       0.48      0.42      0.45       354\n",
            "\n",
            "    accuracy                           0.43       817\n",
            "   macro avg       0.26      0.26      0.25       817\n",
            "weighted avg       0.40      0.43      0.40       817\n",
            "\n"
          ]
        }
      ],
      "id": "6yZZF2RQponM"
    },
    {
      "cell_type": "code",
      "source": [
        "# SVM\n",
        "print('\\n',classification_report(y_test,y_pred_svm, zero_division=0))"
      ],
      "metadata": {
        "colab": {
          "base_uri": "https://localhost:8080/"
        },
        "outputId": "1845a167-3cf4-4511-abaf-2c1bdebf0acc",
        "id": "IEOsdxrQpj-U"
      },
      "execution_count": null,
      "outputs": [
        {
          "output_type": "stream",
          "name": "stdout",
          "text": [
            "\n",
            "               precision    recall  f1-score   support\n",
            "\n",
            "           0       0.42      0.68      0.51       232\n",
            "           1       0.54      0.25      0.34       116\n",
            "           2       0.35      0.11      0.17        73\n",
            "           3       0.00      0.00      0.00        26\n",
            "           4       0.00      0.00      0.00        16\n",
            "           5       0.48      0.49      0.48       354\n",
            "\n",
            "    accuracy                           0.45       817\n",
            "   macro avg       0.30      0.25      0.25       817\n",
            "weighted avg       0.43      0.45      0.42       817\n",
            "\n"
          ]
        }
      ],
      "id": "IEOsdxrQpj-U"
    },
    {
      "cell_type": "code",
      "source": [
        "# LogisticRegression\n",
        "print('\\n',classification_report(y_test,y_pred_lr, zero_division=0))"
      ],
      "metadata": {
        "colab": {
          "base_uri": "https://localhost:8080/"
        },
        "outputId": "3fd6270d-89c3-4da8-818c-821ff1d6887a",
        "id": "bO2-juPrpb59"
      },
      "execution_count": null,
      "outputs": [
        {
          "output_type": "stream",
          "name": "stdout",
          "text": [
            "\n",
            "               precision    recall  f1-score   support\n",
            "\n",
            "           0       0.44      0.69      0.54       232\n",
            "           1       0.51      0.30      0.38       116\n",
            "           2       0.36      0.11      0.17        73\n",
            "           3       0.00      0.00      0.00        26\n",
            "           4       0.00      0.00      0.00        16\n",
            "           5       0.49      0.50      0.50       354\n",
            "\n",
            "    accuracy                           0.47       817\n",
            "   macro avg       0.30      0.27      0.26       817\n",
            "weighted avg       0.45      0.47      0.44       817\n",
            "\n"
          ]
        }
      ],
      "id": "bO2-juPrpb59"
    },
    {
      "cell_type": "code",
      "source": [
        "# DNN\n",
        "print('\\n',classification_report(y_test,pred, zero_division=0))"
      ],
      "metadata": {
        "colab": {
          "base_uri": "https://localhost:8080/"
        },
        "outputId": "5ca642b8-a1d9-498c-a661-00d3a68e38a1",
        "id": "1pQw19_VFbuh"
      },
      "execution_count": null,
      "outputs": [
        {
          "output_type": "stream",
          "name": "stdout",
          "text": [
            "\n",
            "               precision    recall  f1-score   support\n",
            "\n",
            "           0       0.42      0.75      0.53       232\n",
            "           1       0.50      0.28      0.36       116\n",
            "           2       0.00      0.00      0.00        73\n",
            "           3       0.00      0.00      0.00        26\n",
            "           4       0.00      0.00      0.00        16\n",
            "           5       0.51      0.49      0.50       354\n",
            "\n",
            "    accuracy                           0.46       817\n",
            "   macro avg       0.24      0.25      0.23       817\n",
            "weighted avg       0.41      0.46      0.42       817\n",
            "\n"
          ]
        }
      ],
      "id": "1pQw19_VFbuh"
    }
  ],
  "metadata": {
    "kernelspec": {
      "display_name": "Python 3 (ipykernel)",
      "language": "python",
      "name": "python3"
    },
    "language_info": {
      "codemirror_mode": {
        "name": "ipython",
        "version": 3
      },
      "file_extension": ".py",
      "mimetype": "text/x-python",
      "name": "python",
      "nbconvert_exporter": "python",
      "pygments_lexer": "ipython3",
      "version": "3.8.5"
    },
    "colab": {
      "name": "10 - STS decision optimisation 2.ipynb",
      "provenance": [],
      "collapsed_sections": [],
      "machine_shape": "hm",
      "toc_visible": true
    }
  },
  "nbformat": 4,
  "nbformat_minor": 5
}