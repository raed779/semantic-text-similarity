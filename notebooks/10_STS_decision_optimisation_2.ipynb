{
 "cells": [
  {
   "cell_type": "markdown",
   "id": "72e6ebcf",
   "metadata": {
    "colab_type": "text",
    "id": "view-in-github"
   },
   "source": [
    "<a href=\"https://colab.research.google.com/github/raed779/semantic-text-similarity/blob/raed_test/10_STS_decision_optimisation_2.ipynb\" target=\"_parent\"><img src=\"https://colab.research.google.com/assets/colab-badge.svg\" alt=\"Open In Colab\"/></a>"
   ]
  },
  {
   "cell_type": "code",
   "execution_count": null,
   "id": "f9HsPsd-zZt-",
   "metadata": {
    "id": "f9HsPsd-zZt-"
   },
   "outputs": [],
   "source": [
    "#! pip install delayed\n",
    "! pip install --upgrade pip\n",
    "! pip install --upgrade scikit-learn\n",
    "! pip install PyDrive\n",
    "! pip install pyyaml==5.4.1\n",
    "! pip install sentence-transformers\n",
    "! pip install unidecode\n",
    "! pip install  openpyxl==3.0.0"
   ]
  },
  {
   "cell_type": "code",
   "execution_count": 5,
   "id": "4aa6e86b-857b-42f1-9066-6eea479bd934",
   "metadata": {},
   "outputs": [
    {
     "ename": "ModuleNotFoundError",
     "evalue": "No module named 'streamlit'",
     "output_type": "error",
     "traceback": [
      "\u001b[1;31m---------------------------------------------------------------------------\u001b[0m",
      "\u001b[1;31mModuleNotFoundError\u001b[0m                       Traceback (most recent call last)",
      "\u001b[1;32mC:\\CONDA_~1/ipykernel_18872/2220414495.py\u001b[0m in \u001b[0;36m<module>\u001b[1;34m\u001b[0m\n\u001b[1;32m----> 1\u001b[1;33m \u001b[1;32mimport\u001b[0m \u001b[0mstreamlit\u001b[0m\u001b[1;33m\u001b[0m\u001b[1;33m\u001b[0m\u001b[0m\n\u001b[0m",
      "\u001b[1;31mModuleNotFoundError\u001b[0m: No module named 'streamlit'"
     ]
    }
   ],
   "source": [
    "import streamlit "
   ]
  },
  {
   "cell_type": "code",
   "execution_count": 1,
   "id": "K9uFrXPg0RBs",
   "metadata": {
    "id": "K9uFrXPg0RBs"
   },
   "outputs": [],
   "source": [
    "import pandas as pd\n",
    "import matplotlib.pyplot as plt\n",
    "import numpy as np\n",
    "from sklearn.model_selection import train_test_split\n",
    "from sklearn.model_selection import KFold\n",
    "from sklearn.neighbors import KNeighborsClassifier\n",
    "from sklearn.naive_bayes import GaussianNB\n",
    "from sklearn.linear_model import LogisticRegression\n",
    "from sklearn import svm\n",
    "from sklearn.ensemble import RandomForestClassifier\n",
    "from sklearn.model_selection import RandomizedSearchCV\n",
    "from sklearn.ensemble import AdaBoostClassifier\n",
    "from sklearn.tree import DecisionTreeClassifier\n",
    "from sklearn.model_selection import GridSearchCV,StratifiedKFold\n",
    "import xgboost as xgb\n",
    "#from google.colab import drive\n",
    "from sklearn.metrics import classification_report, precision_recall_curve, accuracy_score, confusion_matrix\n",
    "from matplotlib import pyplot\n",
    "import seaborn as sns\n",
    "from numpy import vstack\n",
    "from numpy import argmax\n",
    "from pandas import read_csv\n",
    "from torch import Tensor\n",
    "#from torch.utils.data import Dataset\n",
    "from torch.utils.data import DataLoader\n",
    "from torch.utils.data import Dataset\n",
    "from torch.utils.data import random_split\n",
    "from torch.nn import Linear\n",
    "from torch.nn import ReLU\n",
    "from torch.nn import Softmax\n",
    "from torch.nn import Module\n",
    "from torch.optim import SGD\n",
    "from torch.nn import CrossEntropyLoss\n",
    "from torch.nn.init import kaiming_uniform_\n",
    "from torch.nn.init import xavier_uniform_\n",
    "from tabulate import tabulate"
   ]
  },
  {
   "cell_type": "code",
   "execution_count": 3,
   "id": "3e7e2464",
   "metadata": {},
   "outputs": [],
   "source": [
    "import PyPDF2"
   ]
  },
  {
   "cell_type": "code",
   "execution_count": null,
   "id": "621f2f04-d39e-49cc-8897-5a3eadf47705",
   "metadata": {},
   "outputs": [],
   "source": []
  },
  {
   "cell_type": "code",
   "execution_count": null,
   "id": "634c4653-3b47-4af5-b065-c25c63b10b46",
   "metadata": {},
   "outputs": [],
   "source": []
  },
  {
   "cell_type": "code",
   "execution_count": null,
   "id": "EPyP6V5vtK2I",
   "metadata": {
    "id": "EPyP6V5vtK2I"
   },
   "outputs": [],
   "source": [
    "def warn(*args, **kwargs):\n",
    "    pass\n",
    "import warnings\n",
    "warnings.warn = warn"
   ]
  },
  {
   "cell_type": "markdown",
   "id": "86cccd83-2507-4e56-896b-df04cb5724be",
   "metadata": {
    "id": "86cccd83-2507-4e56-896b-df04cb5724be"
   },
   "source": [
    "# Load data"
   ]
  },
  {
   "cell_type": "code",
   "execution_count": null,
   "id": "ZLLW2v6WPBi1",
   "metadata": {
    "colab": {
     "base_uri": "https://localhost:8080/"
    },
    "id": "ZLLW2v6WPBi1",
    "outputId": "b1f08329-8927-465e-dd9b-4ecac4b8a27a"
   },
   "outputs": [
    {
     "name": "stdout",
     "output_type": "stream",
     "text": [
      "Mounted at /content/drive\n"
     ]
    }
   ],
   "source": [
    "drive.mount('/content/drive')"
   ]
  },
  {
   "cell_type": "code",
   "execution_count": null,
   "id": "QGXw1YrxPFVX",
   "metadata": {
    "colab": {
     "base_uri": "https://localhost:8080/"
    },
    "id": "QGXw1YrxPFVX",
    "outputId": "ffd1e89d-e302-4d59-8a91-1bf70c5bc2ad"
   },
   "outputs": [
    {
     "name": "stdout",
     "output_type": "stream",
     "text": [
      "/content/drive/Shareddrives/RENAULT PROJECT DRIVE/202201-Categorisation-DRG /data\n"
     ]
    }
   ],
   "source": [
    "cd '/content/drive/Shareddrives/RENAULT PROJECT DRIVE/202201-Categorisation-DRG /data/'"
   ]
  },
  {
   "cell_type": "markdown",
   "id": "OzGUmw2i8PRd",
   "metadata": {
    "id": "OzGUmw2i8PRd"
   },
   "source": [
    "# Utils"
   ]
  },
  {
   "cell_type": "code",
   "execution_count": null,
   "id": "4GvMowAdEiEW",
   "metadata": {
    "id": "4GvMowAdEiEW"
   },
   "outputs": [],
   "source": [
    "def label_encode_row(x):\n",
    "  \"\"\"Label encodes values. \n",
    "    \n",
    "  Args:\n",
    "      x (pd.DataFrame): dataframe to label encode\n",
    "  Returns:\n",
    "      x (pd.DataFrame): label encoded dataframe                                         \n",
    "\n",
    "  \"\"\"\n",
    "  x, _ = pd.factorize(x)\n",
    "  return x"
   ]
  },
  {
   "cell_type": "code",
   "execution_count": null,
   "id": "sZXi05GBO-47",
   "metadata": {
    "id": "sZXi05GBO-47"
   },
   "outputs": [],
   "source": [
    "def transform_data(df, columns_to_Encod):\n",
    "  \"\"\"Function to transform data.\n",
    "  Args:\n",
    "      df (pd.DataFrame):  input to transform                            \n",
    "      columns_to_Encod (list) : columns to encode                      \n",
    "  Returns:\n",
    "      df_all_Feature (pd.DataFrame): data  transformed\n",
    "  \"\"\"\n",
    "  df_= df.copy()\n",
    "  Cols = ['label_pred_1', 'label_pred_2','label_pred_3', 'label_pred_4','label_pred_5']\n",
    "  df_['label_true_original'] = df_['label_true']\n",
    "  \n",
    "  df_[columns_to_Encod] = pd.DataFrame(df_[columns_to_Encod].apply(label_encode_row, axis=1).to_list(), columns = columns_to_Encod)\n",
    "  df_['label_true'] = df_['label_true'].mask((df_[Cols].values != df_[['label_true']].values).all(axis=1).astype(int) == 1, 5, axis=0)\n",
    "  df_dummies = pd.get_dummies(df_[columns_to_Encod[:-1]], columns = columns_to_Encod[:-1])\n",
    "  df_all_Feature = pd.concat([df_, df_dummies], axis = 1)\n",
    "  \n",
    "  return df_all_Feature"
   ]
  },
  {
   "cell_type": "code",
   "execution_count": null,
   "id": "d-cO_bM-WDnY",
   "metadata": {
    "id": "d-cO_bM-WDnY"
   },
   "outputs": [],
   "source": [
    "def test_transform_data(columns_to_Encod):\n",
    "  \"\"\"This function return an example of the transformation.\n",
    "  Args:\n",
    "      columns_to_Encod (pd.DataFrame): input\n",
    "  \"\"\"\n",
    "  test_frame = pd.DataFrame(data = [df_corpus_top5.iloc[0].values], columns = df_corpus_top5.columns)\n",
    "  table_input = tabulate(test_frame,headers = test_frame.columns, tablefmt='github')\n",
    "  print(\"\\033[0;32;47m    Input  :  \\n\")\n",
    "  print(\"\\033[0;32;47m \"+ table_input)\n",
    "  result = transform_data(test_frame,columns_to_Encod)\n",
    "  print(\"\\n\")\n",
    "  print(\"\\033[0;32;47m  Outout  :  \\n\")\n",
    "  table_output = tabulate(result,headers = result.columns, tablefmt='github')\n",
    "  print(\"\\033[0;32;47m \"+table_output)"
   ]
  },
  {
   "cell_type": "code",
   "execution_count": null,
   "id": "vuZYP2yCawrG",
   "metadata": {
    "id": "vuZYP2yCawrG"
   },
   "outputs": [],
   "source": [
    "def model_selection(X, y, models):\n",
    "    \"\"\"This function give an idea about the general performance of each model. \n",
    "       using K-Folds cross-validator (Split dataset into k consecutive folds).\n",
    "       Each fold is  used once as a validation while the k - 1 remaining folds form the training set.\n",
    "    Args:\n",
    "        X (pd.DataFrame): X_data\n",
    "        y (pd.DataFrame): y_data\n",
    "        models (dict): SKlearn models\n",
    "\n",
    "    Returns:\n",
    "        df_evaluation (pd.DataFrame): data frame contains all scores\n",
    "    \"\"\"\n",
    "    iteration = 0\n",
    "    k = 7\n",
    "    models_score = {\n",
    "        \"K_nn\": [],\n",
    "        \"Naive_Bayes\": [],\n",
    "        \"Logistic_Regression\": [],\n",
    "        \"SVM\": [],\n",
    "        \"Random_Forest\": [],\n",
    "        \"Ada_Boost\": [],\n",
    "        'Xg_Boost': []\n",
    "    }\n",
    "\n",
    "    kf = KFold(n_splits = k)\n",
    "    kf.get_n_splits(X)\n",
    "     \n",
    "    for train_index, test_index in kf.split(X):\n",
    "        X_train, X_test = X.iloc[train_index], X.iloc[test_index]\n",
    "        y_train, y_test = y.iloc[train_index], y.iloc[test_index]\n",
    "\n",
    "        models[\"K_nn\"].fit(X_train, y_train)\n",
    "        models_score['K_nn'].append(models[\"K_nn\"].score(X_test, y_test))\n",
    "\n",
    "        models[\"Naive_Bayes\"].fit(X_train, y_train)\n",
    "        models_score['Naive_Bayes'].append(models[\"Naive_Bayes\"].score(X_test, y_test))\n",
    "\n",
    "        models[\"Logistic_Regression\"].fit(X_train, y_train)\n",
    "        models_score['Logistic_Regression'].append(models[\"Logistic_Regression\"].score(X_test, y_test))\n",
    "\n",
    "        models[\"SVM\"].fit(X_train, y_train)\n",
    "        models_score['SVM'].append(models[\"SVM\"].score(X_test, y_test))\n",
    "\n",
    "        models[\"Random_Forest\"].fit(X_train, y_train)\n",
    "        models_score['Random_Forest'].append(models[\"Random_Forest\"].score(X_test, y_test))     \n",
    "        \n",
    "        models[\"Ada_Boost\"].fit(X_train, y_train)\n",
    "        models_score['Ada_Boost'].append(models[\"Ada_Boost\"].score(X_test, y_test))\n",
    "\n",
    "        models[\"Xg_Boost\"].fit(X_train, y_train)\n",
    "        models_score['Xg_Boost'].append(models[\"Xg_Boost\"].score(X_test, y_test))\n",
    "\n",
    "        \n",
    "    model_evaluation_dict = {}\n",
    "    for model in models_score.keys():\n",
    "        model_evaluation_dict[model] = [np.mean(models_score[model])]\n",
    "    df_evaluation = pd.DataFrame.from_dict(model_evaluation_dict)\n",
    "    df_evaluation = df_evaluation.rename(index = {0 : 'Accuracy'})\n",
    "    return df_evaluation"
   ]
  },
  {
   "cell_type": "code",
   "execution_count": null,
   "id": "uVrcmSURBqhs",
   "metadata": {
    "id": "uVrcmSURBqhs"
   },
   "outputs": [],
   "source": [
    "def benchmark_ML_models(X_train, X_test, y_train, y_test, models, data):\n",
    "    \"\"\"All models predictions without hyperparameters optimization.\n",
    "\n",
    "    Args:\n",
    "        X_train (pd.DataFrame): X_train\n",
    "        X_test (pd.DataFrame): X_test\n",
    "        y_train (pd.DataFrame): y_train\n",
    "        y_test (pd.DataFrame): y_test\n",
    "        models (dict): SKlearn models\n",
    "        data (pd.DataFrame): the test set\n",
    "\n",
    "    Returns:\n",
    "        data: the test set with all models predictions and scores\n",
    "    \"\"\"\n",
    "\n",
    "    models[\"K_nn\"].fit(X_train, y_train)\n",
    "    predKNeighbors = models[\"K_nn\"].predict(X_test)\n",
    "    probability_KNeighbors = models[\"K_nn\"].predict_proba(X_test)\n",
    "    probability_KNeighbors_max= np.max(probability_KNeighbors, axis=1) \n",
    "\n",
    "\n",
    "    models[\"Naive_Bayes\"].fit(X_train, y_train)\n",
    "    prednaive_b = models[\"Naive_Bayes\"].predict(X_test)\n",
    "    probability_naive_b = models[\"Naive_Bayes\"].predict_proba(X_test)\n",
    "    probability_naive_b_max = np.max(probability_naive_b, axis=1) \n",
    "\n",
    "\n",
    "\n",
    "    models[\"Logistic_Regression\"].fit(X_train, y_train)\n",
    "    predLogistic_Regression = models[\"Logistic_Regression\"].predict(X_test)\n",
    "    probability_Logistic_Regression = models[\"Logistic_Regression\"].predict_proba(X_test)\n",
    "    probability_Logistic_Regression_max = np.max(probability_Logistic_Regression, axis=1) \n",
    "\n",
    "\n",
    "    models[\"SVM\"].fit(X_train, y_train)\n",
    "    predSVM =  models[\"SVM\"].predict(X_test)\n",
    "    probability_SVM =  models[\"SVM\"].predict_proba(X_test)\n",
    "    probability_SVM_max = np.max(probability_SVM, axis=1) \n",
    "\n",
    "\n",
    "    models[\"Random_Forest\"].fit(X_train, y_train)\n",
    "    predRandom_Forest = models[\"Random_Forest\"].predict(X_test)\n",
    "    probability_Random_Forest = models[\"Random_Forest\"].predict_proba(X_test)\n",
    "    probability_Random_Forest_max = np.max(probability_Random_Forest, axis=1) \n",
    "    \n",
    "\n",
    "    models[\"Ada_Boost\"].fit(X_train, y_train)\n",
    "    predada_b = models[\"Ada_Boost\"].predict(X_test)\n",
    "    probability_ada_b = models[\"Ada_Boost\"].predict_proba(X_test)\n",
    "    probability_ada_b_max = np.max(probability_ada_b, axis=1) \n",
    "\n",
    "\n",
    "\n",
    "    models[\"Xg_Boost\"].fit(X_train, y_train)\n",
    "    predXg_Boost = models[\"Xg_Boost\"].predict(X_test)\n",
    "    probability_Xg_Boost = models[\"Xg_Boost\"].predict_proba(X_test)\n",
    "    probability_Xg_Boost_max = np.max(probability_Xg_Boost, axis=1) \n",
    "\n",
    "\n",
    "    prediction = {\n",
    "        \"K_nn\": predKNeighbors,\n",
    "        \"Naive_Bayes\": prednaive_b,\n",
    "        \"Logistic_Regression\": predLogistic_Regression,\n",
    "        \"SVM\": predSVM,\n",
    "        \"Random_Forest\":predRandom_Forest,\n",
    "        \"Ada_Boost\": predada_b,\n",
    "        'Xg_Boost': predXg_Boost\n",
    "    }\n",
    "\n",
    "    probability = {\n",
    "        \"K_nn\": probability_KNeighbors_max,\n",
    "        \"Naive_Bayes\": probability_naive_b_max,\n",
    "        \"Logistic_Regression\": probability_Logistic_Regression_max,\n",
    "        \"SVM\": probability_SVM_max,\n",
    "        \"Random_Forest\":probability_Random_Forest_max,\n",
    "        \"Ada_Boost\": probability_ada_b_max,\n",
    "        'Xg_Boost': probability_Xg_Boost_max\n",
    "    }\n",
    "    for i in models:\n",
    "      data[i+\"_prediction\"] = prediction[i]\n",
    "      data[i+\"_score\"] = probability[i]\n",
    "      \n",
    "    return data"
   ]
  },
  {
   "cell_type": "code",
   "execution_count": null,
   "id": "lWseI6E70y2F",
   "metadata": {
    "id": "lWseI6E70y2F"
   },
   "outputs": [],
   "source": [
    "KNeighbors = KNeighborsClassifier(n_neighbors=4)\n",
    "Gaussian = GaussianNB()\n",
    "Lr = LogisticRegression()\n",
    "SVM = svm.SVC(probability=True)\n",
    "RandomForest = RandomForestClassifier()\n",
    "AdaBoost = AdaBoostClassifier(n_estimators=20)\n",
    "XGB = xgb.XGBClassifier()\n",
    "\n",
    "models = {\n",
    "    \"K_nn\": KNeighbors,\n",
    "    \"Naive_Bayes\": Gaussian,\n",
    "    \"Logistic_Regression\":Lr,\n",
    "    \"SVM\": SVM,\n",
    "    \"Random_Forest\": RandomForest,\n",
    "    \"Ada_Boost\": AdaBoost,\n",
    "    \"Xg_Boost\": XGB\n",
    "}"
   ]
  },
  {
   "cell_type": "markdown",
   "id": "a-u6BIuD2sOc",
   "metadata": {
    "id": "a-u6BIuD2sOc"
   },
   "source": [
    "#Feature engineering\n"
   ]
  },
  {
   "cell_type": "code",
   "execution_count": null,
   "id": "MjX9JYArzIsz",
   "metadata": {
    "colab": {
     "base_uri": "https://localhost:8080/",
     "height": 260
    },
    "id": "MjX9JYArzIsz",
    "outputId": "76aeb02d-3a94-4fb8-f957-364c8bdff557"
   },
   "outputs": [
    {
     "data": {
      "text/html": [
       "\n",
       "  <div id=\"df-525e5cb5-e265-4f0e-b0b0-1b31da6a57d6\">\n",
       "    <div class=\"colab-df-container\">\n",
       "      <div>\n",
       "<style scoped>\n",
       "    .dataframe tbody tr th:only-of-type {\n",
       "        vertical-align: middle;\n",
       "    }\n",
       "\n",
       "    .dataframe tbody tr th {\n",
       "        vertical-align: top;\n",
       "    }\n",
       "\n",
       "    .dataframe thead th {\n",
       "        text-align: right;\n",
       "    }\n",
       "</style>\n",
       "<table border=\"1\" class=\"dataframe\">\n",
       "  <thead>\n",
       "    <tr style=\"text-align: right;\">\n",
       "      <th></th>\n",
       "      <th>score_1</th>\n",
       "      <th>score_2</th>\n",
       "      <th>score_3</th>\n",
       "      <th>score_4</th>\n",
       "      <th>score_5</th>\n",
       "      <th>label_pred_1</th>\n",
       "      <th>label_pred_2</th>\n",
       "      <th>label_pred_3</th>\n",
       "      <th>label_pred_4</th>\n",
       "      <th>label_pred_5</th>\n",
       "      <th>label_true</th>\n",
       "      <th>is_pred_1_correct</th>\n",
       "      <th>is_pred_2_correct</th>\n",
       "      <th>is_pred_3_correct</th>\n",
       "      <th>is_pred_4_correct</th>\n",
       "      <th>is_pred_5_correct</th>\n",
       "      <th>is_top3_correct</th>\n",
       "      <th>is_top5_correct</th>\n",
       "    </tr>\n",
       "  </thead>\n",
       "  <tbody>\n",
       "    <tr>\n",
       "      <th>0</th>\n",
       "      <td>0.738368</td>\n",
       "      <td>0.717175</td>\n",
       "      <td>0.714135</td>\n",
       "      <td>0.707027</td>\n",
       "      <td>0.706180</td>\n",
       "      <td>wrong designation</td>\n",
       "      <td>message \"sos to check\"</td>\n",
       "      <td>reset adac</td>\n",
       "      <td>message sos to control</td>\n",
       "      <td>message sos to control</td>\n",
       "      <td>out of scope</td>\n",
       "      <td>0</td>\n",
       "      <td>0</td>\n",
       "      <td>0</td>\n",
       "      <td>0</td>\n",
       "      <td>0</td>\n",
       "      <td>0</td>\n",
       "      <td>0</td>\n",
       "    </tr>\n",
       "    <tr>\n",
       "      <th>1</th>\n",
       "      <td>0.713122</td>\n",
       "      <td>0.684600</td>\n",
       "      <td>0.674399</td>\n",
       "      <td>0.672508</td>\n",
       "      <td>0.668059</td>\n",
       "      <td>black screen</td>\n",
       "      <td>black screen</td>\n",
       "      <td>reset adac</td>\n",
       "      <td>tachometer needle freeze</td>\n",
       "      <td>reset adac</td>\n",
       "      <td>aspect issue</td>\n",
       "      <td>0</td>\n",
       "      <td>0</td>\n",
       "      <td>0</td>\n",
       "      <td>0</td>\n",
       "      <td>0</td>\n",
       "      <td>0</td>\n",
       "      <td>0</td>\n",
       "    </tr>\n",
       "    <tr>\n",
       "      <th>2</th>\n",
       "      <td>0.618209</td>\n",
       "      <td>0.610258</td>\n",
       "      <td>0.599718</td>\n",
       "      <td>0.589054</td>\n",
       "      <td>0.578812</td>\n",
       "      <td>display issue</td>\n",
       "      <td>display issue</td>\n",
       "      <td>display issue</td>\n",
       "      <td>aspect issue</td>\n",
       "      <td>settings issue</td>\n",
       "      <td>aspect issue</td>\n",
       "      <td>0</td>\n",
       "      <td>0</td>\n",
       "      <td>0</td>\n",
       "      <td>1</td>\n",
       "      <td>0</td>\n",
       "      <td>0</td>\n",
       "      <td>1</td>\n",
       "    </tr>\n",
       "  </tbody>\n",
       "</table>\n",
       "</div>\n",
       "      <button class=\"colab-df-convert\" onclick=\"convertToInteractive('df-525e5cb5-e265-4f0e-b0b0-1b31da6a57d6')\"\n",
       "              title=\"Convert this dataframe to an interactive table.\"\n",
       "              style=\"display:none;\">\n",
       "        \n",
       "  <svg xmlns=\"http://www.w3.org/2000/svg\" height=\"24px\"viewBox=\"0 0 24 24\"\n",
       "       width=\"24px\">\n",
       "    <path d=\"M0 0h24v24H0V0z\" fill=\"none\"/>\n",
       "    <path d=\"M18.56 5.44l.94 2.06.94-2.06 2.06-.94-2.06-.94-.94-2.06-.94 2.06-2.06.94zm-11 1L8.5 8.5l.94-2.06 2.06-.94-2.06-.94L8.5 2.5l-.94 2.06-2.06.94zm10 10l.94 2.06.94-2.06 2.06-.94-2.06-.94-.94-2.06-.94 2.06-2.06.94z\"/><path d=\"M17.41 7.96l-1.37-1.37c-.4-.4-.92-.59-1.43-.59-.52 0-1.04.2-1.43.59L10.3 9.45l-7.72 7.72c-.78.78-.78 2.05 0 2.83L4 21.41c.39.39.9.59 1.41.59.51 0 1.02-.2 1.41-.59l7.78-7.78 2.81-2.81c.8-.78.8-2.07 0-2.86zM5.41 20L4 18.59l7.72-7.72 1.47 1.35L5.41 20z\"/>\n",
       "  </svg>\n",
       "      </button>\n",
       "      \n",
       "  <style>\n",
       "    .colab-df-container {\n",
       "      display:flex;\n",
       "      flex-wrap:wrap;\n",
       "      gap: 12px;\n",
       "    }\n",
       "\n",
       "    .colab-df-convert {\n",
       "      background-color: #E8F0FE;\n",
       "      border: none;\n",
       "      border-radius: 50%;\n",
       "      cursor: pointer;\n",
       "      display: none;\n",
       "      fill: #1967D2;\n",
       "      height: 32px;\n",
       "      padding: 0 0 0 0;\n",
       "      width: 32px;\n",
       "    }\n",
       "\n",
       "    .colab-df-convert:hover {\n",
       "      background-color: #E2EBFA;\n",
       "      box-shadow: 0px 1px 2px rgba(60, 64, 67, 0.3), 0px 1px 3px 1px rgba(60, 64, 67, 0.15);\n",
       "      fill: #174EA6;\n",
       "    }\n",
       "\n",
       "    [theme=dark] .colab-df-convert {\n",
       "      background-color: #3B4455;\n",
       "      fill: #D2E3FC;\n",
       "    }\n",
       "\n",
       "    [theme=dark] .colab-df-convert:hover {\n",
       "      background-color: #434B5C;\n",
       "      box-shadow: 0px 1px 3px 1px rgba(0, 0, 0, 0.15);\n",
       "      filter: drop-shadow(0px 1px 2px rgba(0, 0, 0, 0.3));\n",
       "      fill: #FFFFFF;\n",
       "    }\n",
       "  </style>\n",
       "\n",
       "      <script>\n",
       "        const buttonEl =\n",
       "          document.querySelector('#df-525e5cb5-e265-4f0e-b0b0-1b31da6a57d6 button.colab-df-convert');\n",
       "        buttonEl.style.display =\n",
       "          google.colab.kernel.accessAllowed ? 'block' : 'none';\n",
       "\n",
       "        async function convertToInteractive(key) {\n",
       "          const element = document.querySelector('#df-525e5cb5-e265-4f0e-b0b0-1b31da6a57d6');\n",
       "          const dataTable =\n",
       "            await google.colab.kernel.invokeFunction('convertToInteractive',\n",
       "                                                     [key], {});\n",
       "          if (!dataTable) return;\n",
       "\n",
       "          const docLinkHtml = 'Like what you see? Visit the ' +\n",
       "            '<a target=\"_blank\" href=https://colab.research.google.com/notebooks/data_table.ipynb>data table notebook</a>'\n",
       "            + ' to learn more about interactive tables.';\n",
       "          element.innerHTML = '';\n",
       "          dataTable['output_type'] = 'display_data';\n",
       "          await google.colab.output.renderOutput(dataTable, element);\n",
       "          const docLink = document.createElement('div');\n",
       "          docLink.innerHTML = docLinkHtml;\n",
       "          element.appendChild(docLink);\n",
       "        }\n",
       "      </script>\n",
       "    </div>\n",
       "  </div>\n",
       "  "
      ],
      "text/plain": [
       "    score_1   score_2   score_3   score_4   score_5       label_pred_1  \\\n",
       "0  0.738368  0.717175  0.714135  0.707027  0.706180  wrong designation   \n",
       "1  0.713122  0.684600  0.674399  0.672508  0.668059       black screen   \n",
       "2  0.618209  0.610258  0.599718  0.589054  0.578812      display issue   \n",
       "\n",
       "             label_pred_2   label_pred_3              label_pred_4  \\\n",
       "0  message \"sos to check\"     reset adac    message sos to control   \n",
       "1            black screen     reset adac  tachometer needle freeze   \n",
       "2           display issue  display issue             aspect issue    \n",
       "\n",
       "             label_pred_5     label_true  is_pred_1_correct  \\\n",
       "0  message sos to control   out of scope                  0   \n",
       "1              reset adac  aspect issue                   0   \n",
       "2          settings issue  aspect issue                   0   \n",
       "\n",
       "   is_pred_2_correct  is_pred_3_correct  is_pred_4_correct  is_pred_5_correct  \\\n",
       "0                  0                  0                  0                  0   \n",
       "1                  0                  0                  0                  0   \n",
       "2                  0                  0                  1                  0   \n",
       "\n",
       "   is_top3_correct  is_top5_correct  \n",
       "0                0                0  \n",
       "1                0                0  \n",
       "2                0                1  "
      ]
     },
     "execution_count": 16,
     "metadata": {},
     "output_type": "execute_result"
    }
   ],
   "source": [
    "df_corpus_top5 = pd.read_csv('df_corpus_top5.csv',sep=',')\n",
    "df_corpus_top5 = df_corpus_top5.drop(columns=[\"Unnamed: 0\"])\n",
    "df_corpus_top5.head(3)"
   ]
  },
  {
   "cell_type": "code",
   "execution_count": null,
   "id": "2-Wny5VO0b-F",
   "metadata": {
    "colab": {
     "base_uri": "https://localhost:8080/",
     "height": 294
    },
    "id": "2-Wny5VO0b-F",
    "outputId": "2a336edb-d1e6-42bc-d5d2-b40facd522f5"
   },
   "outputs": [
    {
     "data": {
      "text/html": [
       "\n",
       "  <div id=\"df-0219d196-e306-455b-b3fa-1f965fa7c40f\">\n",
       "    <div class=\"colab-df-container\">\n",
       "      <div>\n",
       "<style scoped>\n",
       "    .dataframe tbody tr th:only-of-type {\n",
       "        vertical-align: middle;\n",
       "    }\n",
       "\n",
       "    .dataframe tbody tr th {\n",
       "        vertical-align: top;\n",
       "    }\n",
       "\n",
       "    .dataframe thead th {\n",
       "        text-align: right;\n",
       "    }\n",
       "</style>\n",
       "<table border=\"1\" class=\"dataframe\">\n",
       "  <thead>\n",
       "    <tr style=\"text-align: right;\">\n",
       "      <th></th>\n",
       "      <th>score_1</th>\n",
       "      <th>score_2</th>\n",
       "      <th>score_3</th>\n",
       "      <th>score_4</th>\n",
       "      <th>score_5</th>\n",
       "      <th>label_pred_1</th>\n",
       "      <th>label_pred_2</th>\n",
       "      <th>label_pred_3</th>\n",
       "      <th>label_pred_4</th>\n",
       "      <th>label_pred_5</th>\n",
       "      <th>label_true</th>\n",
       "      <th>is_pred_1_correct</th>\n",
       "      <th>is_pred_2_correct</th>\n",
       "      <th>is_pred_3_correct</th>\n",
       "      <th>is_pred_4_correct</th>\n",
       "      <th>is_pred_5_correct</th>\n",
       "      <th>is_top3_correct</th>\n",
       "      <th>is_top5_correct</th>\n",
       "    </tr>\n",
       "  </thead>\n",
       "  <tbody>\n",
       "    <tr>\n",
       "      <th>0</th>\n",
       "      <td>0.710615</td>\n",
       "      <td>0.706026</td>\n",
       "      <td>0.666258</td>\n",
       "      <td>0.664980</td>\n",
       "      <td>0.658934</td>\n",
       "      <td>black screen</td>\n",
       "      <td>reception issue ( fm am dab gps)</td>\n",
       "      <td>antenna issue</td>\n",
       "      <td>replication issue</td>\n",
       "      <td>black screen</td>\n",
       "      <td>antenna issue</td>\n",
       "      <td>0</td>\n",
       "      <td>0</td>\n",
       "      <td>1</td>\n",
       "      <td>0</td>\n",
       "      <td>0</td>\n",
       "      <td>1</td>\n",
       "      <td>1</td>\n",
       "    </tr>\n",
       "    <tr>\n",
       "      <th>1</th>\n",
       "      <td>0.737935</td>\n",
       "      <td>0.703151</td>\n",
       "      <td>0.699834</td>\n",
       "      <td>0.696477</td>\n",
       "      <td>0.692233</td>\n",
       "      <td>black screen</td>\n",
       "      <td>inexploitable</td>\n",
       "      <td>black screen</td>\n",
       "      <td>display freeze</td>\n",
       "      <td>ecu update</td>\n",
       "      <td>error message</td>\n",
       "      <td>0</td>\n",
       "      <td>0</td>\n",
       "      <td>0</td>\n",
       "      <td>0</td>\n",
       "      <td>0</td>\n",
       "      <td>0</td>\n",
       "      <td>0</td>\n",
       "    </tr>\n",
       "    <tr>\n",
       "      <th>2</th>\n",
       "      <td>0.757152</td>\n",
       "      <td>0.736345</td>\n",
       "      <td>0.720983</td>\n",
       "      <td>0.714639</td>\n",
       "      <td>0.712411</td>\n",
       "      <td>black screen</td>\n",
       "      <td>black screen</td>\n",
       "      <td>black screen</td>\n",
       "      <td>reception issue ( fm am dab gps)</td>\n",
       "      <td>camera issue</td>\n",
       "      <td>replication issue</td>\n",
       "      <td>0</td>\n",
       "      <td>0</td>\n",
       "      <td>0</td>\n",
       "      <td>0</td>\n",
       "      <td>0</td>\n",
       "      <td>0</td>\n",
       "      <td>0</td>\n",
       "    </tr>\n",
       "  </tbody>\n",
       "</table>\n",
       "</div>\n",
       "      <button class=\"colab-df-convert\" onclick=\"convertToInteractive('df-0219d196-e306-455b-b3fa-1f965fa7c40f')\"\n",
       "              title=\"Convert this dataframe to an interactive table.\"\n",
       "              style=\"display:none;\">\n",
       "        \n",
       "  <svg xmlns=\"http://www.w3.org/2000/svg\" height=\"24px\"viewBox=\"0 0 24 24\"\n",
       "       width=\"24px\">\n",
       "    <path d=\"M0 0h24v24H0V0z\" fill=\"none\"/>\n",
       "    <path d=\"M18.56 5.44l.94 2.06.94-2.06 2.06-.94-2.06-.94-.94-2.06-.94 2.06-2.06.94zm-11 1L8.5 8.5l.94-2.06 2.06-.94-2.06-.94L8.5 2.5l-.94 2.06-2.06.94zm10 10l.94 2.06.94-2.06 2.06-.94-2.06-.94-.94-2.06-.94 2.06-2.06.94z\"/><path d=\"M17.41 7.96l-1.37-1.37c-.4-.4-.92-.59-1.43-.59-.52 0-1.04.2-1.43.59L10.3 9.45l-7.72 7.72c-.78.78-.78 2.05 0 2.83L4 21.41c.39.39.9.59 1.41.59.51 0 1.02-.2 1.41-.59l7.78-7.78 2.81-2.81c.8-.78.8-2.07 0-2.86zM5.41 20L4 18.59l7.72-7.72 1.47 1.35L5.41 20z\"/>\n",
       "  </svg>\n",
       "      </button>\n",
       "      \n",
       "  <style>\n",
       "    .colab-df-container {\n",
       "      display:flex;\n",
       "      flex-wrap:wrap;\n",
       "      gap: 12px;\n",
       "    }\n",
       "\n",
       "    .colab-df-convert {\n",
       "      background-color: #E8F0FE;\n",
       "      border: none;\n",
       "      border-radius: 50%;\n",
       "      cursor: pointer;\n",
       "      display: none;\n",
       "      fill: #1967D2;\n",
       "      height: 32px;\n",
       "      padding: 0 0 0 0;\n",
       "      width: 32px;\n",
       "    }\n",
       "\n",
       "    .colab-df-convert:hover {\n",
       "      background-color: #E2EBFA;\n",
       "      box-shadow: 0px 1px 2px rgba(60, 64, 67, 0.3), 0px 1px 3px 1px rgba(60, 64, 67, 0.15);\n",
       "      fill: #174EA6;\n",
       "    }\n",
       "\n",
       "    [theme=dark] .colab-df-convert {\n",
       "      background-color: #3B4455;\n",
       "      fill: #D2E3FC;\n",
       "    }\n",
       "\n",
       "    [theme=dark] .colab-df-convert:hover {\n",
       "      background-color: #434B5C;\n",
       "      box-shadow: 0px 1px 3px 1px rgba(0, 0, 0, 0.15);\n",
       "      filter: drop-shadow(0px 1px 2px rgba(0, 0, 0, 0.3));\n",
       "      fill: #FFFFFF;\n",
       "    }\n",
       "  </style>\n",
       "\n",
       "      <script>\n",
       "        const buttonEl =\n",
       "          document.querySelector('#df-0219d196-e306-455b-b3fa-1f965fa7c40f button.colab-df-convert');\n",
       "        buttonEl.style.display =\n",
       "          google.colab.kernel.accessAllowed ? 'block' : 'none';\n",
       "\n",
       "        async function convertToInteractive(key) {\n",
       "          const element = document.querySelector('#df-0219d196-e306-455b-b3fa-1f965fa7c40f');\n",
       "          const dataTable =\n",
       "            await google.colab.kernel.invokeFunction('convertToInteractive',\n",
       "                                                     [key], {});\n",
       "          if (!dataTable) return;\n",
       "\n",
       "          const docLinkHtml = 'Like what you see? Visit the ' +\n",
       "            '<a target=\"_blank\" href=https://colab.research.google.com/notebooks/data_table.ipynb>data table notebook</a>'\n",
       "            + ' to learn more about interactive tables.';\n",
       "          element.innerHTML = '';\n",
       "          dataTable['output_type'] = 'display_data';\n",
       "          await google.colab.output.renderOutput(dataTable, element);\n",
       "          const docLink = document.createElement('div');\n",
       "          docLink.innerHTML = docLinkHtml;\n",
       "          element.appendChild(docLink);\n",
       "        }\n",
       "      </script>\n",
       "    </div>\n",
       "  </div>\n",
       "  "
      ],
      "text/plain": [
       "    score_1   score_2   score_3   score_4   score_5  label_pred_1  \\\n",
       "0  0.710615  0.706026  0.666258  0.664980  0.658934  black screen   \n",
       "1  0.737935  0.703151  0.699834  0.696477  0.692233  black screen   \n",
       "2  0.757152  0.736345  0.720983  0.714639  0.712411  black screen   \n",
       "\n",
       "                       label_pred_2   label_pred_3  \\\n",
       "0  reception issue ( fm am dab gps)  antenna issue   \n",
       "1                     inexploitable   black screen   \n",
       "2                      black screen   black screen   \n",
       "\n",
       "                       label_pred_4  label_pred_5         label_true  \\\n",
       "0                 replication issue  black screen      antenna issue   \n",
       "1                    display freeze    ecu update      error message   \n",
       "2  reception issue ( fm am dab gps)  camera issue  replication issue   \n",
       "\n",
       "   is_pred_1_correct  is_pred_2_correct  is_pred_3_correct  is_pred_4_correct  \\\n",
       "0                  0                  0                  1                  0   \n",
       "1                  0                  0                  0                  0   \n",
       "2                  0                  0                  0                  0   \n",
       "\n",
       "   is_pred_5_correct  is_top3_correct  is_top5_correct  \n",
       "0                  0                1                1  \n",
       "1                  0                0                0  \n",
       "2                  0                0                0  "
      ]
     },
     "execution_count": 17,
     "metadata": {},
     "output_type": "execute_result"
    }
   ],
   "source": [
    "df_test_top5 = pd.read_csv('df_test_top5.csv',sep=',')\n",
    "df_test_top5 = df_test_top5.drop(columns=[\"Unnamed: 0\"])\n",
    "df_test_top5.head(3)"
   ]
  },
  {
   "cell_type": "code",
   "execution_count": null,
   "id": "LMHoCKzn0w8d",
   "metadata": {
    "id": "LMHoCKzn0w8d"
   },
   "outputs": [],
   "source": [
    "columns_to_encod = ['label_pred_1',\n",
    "                   'label_pred_2',\n",
    "                   'label_pred_3',\n",
    "                   'label_pred_4',\n",
    "                   'label_pred_5',\n",
    "                   'label_true',]"
   ]
  },
  {
   "cell_type": "code",
   "execution_count": null,
   "id": "8hvfimmxWsdV",
   "metadata": {
    "colab": {
     "base_uri": "https://localhost:8080/"
    },
    "id": "8hvfimmxWsdV",
    "outputId": "273a54c8-abdf-475b-ba4f-ce4eb7aa331e"
   },
   "outputs": [
    {
     "name": "stdout",
     "output_type": "stream",
     "text": [
      "\u001b[0;32;47m    Input  :  \n",
      "\n",
      "\u001b[0;32;47m |    |   score_1 |   score_2 |   score_3 |   score_4 |   score_5 | label_pred_1      | label_pred_2           | label_pred_3   | label_pred_4           | label_pred_5           | label_true   |   is_pred_1_correct |   is_pred_2_correct |   is_pred_3_correct |   is_pred_4_correct |   is_pred_5_correct |   is_top3_correct |   is_top5_correct |\n",
      "|----|-----------|-----------|-----------|-----------|-----------|-------------------|------------------------|----------------|------------------------|------------------------|--------------|---------------------|---------------------|---------------------|---------------------|---------------------|-------------------|-------------------|\n",
      "|  0 |  0.738368 |  0.717175 |  0.714135 |  0.707027 |   0.70618 | wrong designation | message \"sos to check\" | reset adac     | message sos to control | message sos to control | out of scope |                   0 |                   0 |                   0 |                   0 |                   0 |                 0 |                 0 |\n",
      "\n",
      "\n",
      "\u001b[0;32;47m  Outout  :  \n",
      "\n",
      "\u001b[0;32;47m |    |   score_1 |   score_2 |   score_3 |   score_4 |   score_5 |   label_pred_1 |   label_pred_2 |   label_pred_3 |   label_pred_4 |   label_pred_5 |   label_true |   is_pred_1_correct |   is_pred_2_correct |   is_pred_3_correct |   is_pred_4_correct |   is_pred_5_correct |   is_top3_correct |   is_top5_correct | label_true_original   |   label_pred_1_0 |   label_pred_2_1 |   label_pred_3_2 |   label_pred_4_3 |   label_pred_5_3 |\n",
      "|----|-----------|-----------|-----------|-----------|-----------|----------------|----------------|----------------|----------------|----------------|--------------|---------------------|---------------------|---------------------|---------------------|---------------------|-------------------|-------------------|-----------------------|------------------|------------------|------------------|------------------|------------------|\n",
      "|  0 |  0.738368 |  0.717175 |  0.714135 |  0.707027 |   0.70618 |              0 |              1 |              2 |              3 |              3 |            5 |                   0 |                   0 |                   0 |                   0 |                   0 |                 0 |                 0 | out of scope          |                1 |                1 |                1 |                1 |                1 |\n"
     ]
    }
   ],
   "source": [
    "test_transform_data(columns_to_encod)"
   ]
  },
  {
   "cell_type": "code",
   "execution_count": null,
   "id": "bBXHZRrFUunF",
   "metadata": {
    "id": "bBXHZRrFUunF"
   },
   "outputs": [],
   "source": [
    "df_train = transform_data(df_corpus_top5, columns_to_encod)\n",
    "df_test = transform_data(df_test_top5, columns_to_encod)"
   ]
  },
  {
   "cell_type": "code",
   "execution_count": null,
   "id": "bl50ys4hCiX6",
   "metadata": {
    "id": "bl50ys4hCiX6"
   },
   "outputs": [],
   "source": [
    "score_features = [ 'score_1', 'score_2', 'score_3', 'score_4', 'score_5']\n",
    "label_pred_features = ['label_pred_1','label_pred_2', 'label_pred_3', 'label_pred_4', 'label_pred_5']\n",
    "is_pred_correct_features = ['is_pred_1_correct', 'is_pred_2_correct','is_pred_3_correct','is_pred_4_correct', 'is_pred_5_correct','is_top3_correct','is_top5_correct',]\n",
    "label_pred_dummies_features = ['label_pred_1_0','label_pred_2_0', 'label_pred_2_1', 'label_pred_3_0', 'label_pred_3_1','label_pred_3_2','label_pred_4_0', 'label_pred_4_1','label_pred_4_2','label_pred_4_3', 'label_pred_5_0', 'label_pred_5_1', 'label_pred_5_2','label_pred_5_3', 'label_pred_5_4']"
   ]
  },
  {
   "cell_type": "code",
   "execution_count": null,
   "id": "3QFhoqXy1acQ",
   "metadata": {
    "id": "3QFhoqXy1acQ"
   },
   "outputs": [],
   "source": [
    "X_train = df_train[ score_features + label_pred_features + label_pred_dummies_features  ]\n",
    "y_train = df_train[['label_true']]   \n",
    "\n",
    "X_test = df_test[ score_features + label_pred_features + label_pred_dummies_features ]\n",
    "y_test = df_test[['label_true']]     "
   ]
  },
  {
   "cell_type": "markdown",
   "id": "DEHnQ8Co0-ru",
   "metadata": {
    "id": "DEHnQ8Co0-ru"
   },
   "source": [
    "# Modeling"
   ]
  },
  {
   "cell_type": "markdown",
   "id": "Fs9PilXI07Km",
   "metadata": {
    "id": "Fs9PilXI07Km"
   },
   "source": [
    "### Opted for the following classification models:\n",
    "- Naive Bayes\n",
    "- KNN\n",
    "- Logistic Regression\n",
    "- Random Forest\n",
    "- SVM\n",
    "- Ada-Boost\n",
    "- XG-Boost"
   ]
  },
  {
   "cell_type": "markdown",
   "id": "MpNnE_xy1Gjk",
   "metadata": {
    "id": "MpNnE_xy1Gjk"
   },
   "source": [
    "## As a method for estimating the reliability of machine learning models, we used K-Fold Cross Validation"
   ]
  },
  {
   "cell_type": "code",
   "execution_count": null,
   "id": "pLb0mkI3VoZg",
   "metadata": {
    "colab": {
     "base_uri": "https://localhost:8080/",
     "height": 210
    },
    "id": "pLb0mkI3VoZg",
    "outputId": "39e878fc-5e8c-4da3-b75b-379ff557c0ac"
   },
   "outputs": [
    {
     "name": "stderr",
     "output_type": "stream",
     "text": [
      "/usr/local/lib/python3.7/dist-packages/ipykernel_launcher.py:35: DataConversionWarning: A column-vector y was passed when a 1d array was expected. Please change the shape of y to (n_samples,), for example using ravel().\n",
      "/usr/local/lib/python3.7/dist-packages/ipykernel_launcher.py:35: DataConversionWarning: A column-vector y was passed when a 1d array was expected. Please change the shape of y to (n_samples,), for example using ravel().\n",
      "/usr/local/lib/python3.7/dist-packages/ipykernel_launcher.py:35: DataConversionWarning: A column-vector y was passed when a 1d array was expected. Please change the shape of y to (n_samples,), for example using ravel().\n",
      "/usr/local/lib/python3.7/dist-packages/ipykernel_launcher.py:35: DataConversionWarning: A column-vector y was passed when a 1d array was expected. Please change the shape of y to (n_samples,), for example using ravel().\n",
      "/usr/local/lib/python3.7/dist-packages/ipykernel_launcher.py:35: DataConversionWarning: A column-vector y was passed when a 1d array was expected. Please change the shape of y to (n_samples,), for example using ravel().\n",
      "/usr/local/lib/python3.7/dist-packages/ipykernel_launcher.py:35: DataConversionWarning: A column-vector y was passed when a 1d array was expected. Please change the shape of y to (n_samples,), for example using ravel().\n",
      "/usr/local/lib/python3.7/dist-packages/ipykernel_launcher.py:35: DataConversionWarning: A column-vector y was passed when a 1d array was expected. Please change the shape of y to (n_samples,), for example using ravel().\n"
     ]
    },
    {
     "data": {
      "text/html": [
       "\n",
       "  <div id=\"df-9e750810-d1d3-49dc-bb4d-846248ebf4dd\">\n",
       "    <div class=\"colab-df-container\">\n",
       "      <div>\n",
       "<style scoped>\n",
       "    .dataframe tbody tr th:only-of-type {\n",
       "        vertical-align: middle;\n",
       "    }\n",
       "\n",
       "    .dataframe tbody tr th {\n",
       "        vertical-align: top;\n",
       "    }\n",
       "\n",
       "    .dataframe thead th {\n",
       "        text-align: right;\n",
       "    }\n",
       "</style>\n",
       "<table border=\"1\" class=\"dataframe\">\n",
       "  <thead>\n",
       "    <tr style=\"text-align: right;\">\n",
       "      <th></th>\n",
       "      <th>K_nn</th>\n",
       "      <th>Naive_Bayes</th>\n",
       "      <th>Logistic_Regression</th>\n",
       "      <th>SVM</th>\n",
       "      <th>Random_Forest</th>\n",
       "      <th>Ada_Boost</th>\n",
       "      <th>Xg_Boost</th>\n",
       "    </tr>\n",
       "  </thead>\n",
       "  <tbody>\n",
       "    <tr>\n",
       "      <th>Accuracy</th>\n",
       "      <td>0.533666</td>\n",
       "      <td>0.503971</td>\n",
       "      <td>0.601113</td>\n",
       "      <td>0.591817</td>\n",
       "      <td>0.551576</td>\n",
       "      <td>0.476416</td>\n",
       "      <td>0.596692</td>\n",
       "    </tr>\n",
       "  </tbody>\n",
       "</table>\n",
       "</div>\n",
       "      <button class=\"colab-df-convert\" onclick=\"convertToInteractive('df-9e750810-d1d3-49dc-bb4d-846248ebf4dd')\"\n",
       "              title=\"Convert this dataframe to an interactive table.\"\n",
       "              style=\"display:none;\">\n",
       "        \n",
       "  <svg xmlns=\"http://www.w3.org/2000/svg\" height=\"24px\"viewBox=\"0 0 24 24\"\n",
       "       width=\"24px\">\n",
       "    <path d=\"M0 0h24v24H0V0z\" fill=\"none\"/>\n",
       "    <path d=\"M18.56 5.44l.94 2.06.94-2.06 2.06-.94-2.06-.94-.94-2.06-.94 2.06-2.06.94zm-11 1L8.5 8.5l.94-2.06 2.06-.94-2.06-.94L8.5 2.5l-.94 2.06-2.06.94zm10 10l.94 2.06.94-2.06 2.06-.94-2.06-.94-.94-2.06-.94 2.06-2.06.94z\"/><path d=\"M17.41 7.96l-1.37-1.37c-.4-.4-.92-.59-1.43-.59-.52 0-1.04.2-1.43.59L10.3 9.45l-7.72 7.72c-.78.78-.78 2.05 0 2.83L4 21.41c.39.39.9.59 1.41.59.51 0 1.02-.2 1.41-.59l7.78-7.78 2.81-2.81c.8-.78.8-2.07 0-2.86zM5.41 20L4 18.59l7.72-7.72 1.47 1.35L5.41 20z\"/>\n",
       "  </svg>\n",
       "      </button>\n",
       "      \n",
       "  <style>\n",
       "    .colab-df-container {\n",
       "      display:flex;\n",
       "      flex-wrap:wrap;\n",
       "      gap: 12px;\n",
       "    }\n",
       "\n",
       "    .colab-df-convert {\n",
       "      background-color: #E8F0FE;\n",
       "      border: none;\n",
       "      border-radius: 50%;\n",
       "      cursor: pointer;\n",
       "      display: none;\n",
       "      fill: #1967D2;\n",
       "      height: 32px;\n",
       "      padding: 0 0 0 0;\n",
       "      width: 32px;\n",
       "    }\n",
       "\n",
       "    .colab-df-convert:hover {\n",
       "      background-color: #E2EBFA;\n",
       "      box-shadow: 0px 1px 2px rgba(60, 64, 67, 0.3), 0px 1px 3px 1px rgba(60, 64, 67, 0.15);\n",
       "      fill: #174EA6;\n",
       "    }\n",
       "\n",
       "    [theme=dark] .colab-df-convert {\n",
       "      background-color: #3B4455;\n",
       "      fill: #D2E3FC;\n",
       "    }\n",
       "\n",
       "    [theme=dark] .colab-df-convert:hover {\n",
       "      background-color: #434B5C;\n",
       "      box-shadow: 0px 1px 3px 1px rgba(0, 0, 0, 0.15);\n",
       "      filter: drop-shadow(0px 1px 2px rgba(0, 0, 0, 0.3));\n",
       "      fill: #FFFFFF;\n",
       "    }\n",
       "  </style>\n",
       "\n",
       "      <script>\n",
       "        const buttonEl =\n",
       "          document.querySelector('#df-9e750810-d1d3-49dc-bb4d-846248ebf4dd button.colab-df-convert');\n",
       "        buttonEl.style.display =\n",
       "          google.colab.kernel.accessAllowed ? 'block' : 'none';\n",
       "\n",
       "        async function convertToInteractive(key) {\n",
       "          const element = document.querySelector('#df-9e750810-d1d3-49dc-bb4d-846248ebf4dd');\n",
       "          const dataTable =\n",
       "            await google.colab.kernel.invokeFunction('convertToInteractive',\n",
       "                                                     [key], {});\n",
       "          if (!dataTable) return;\n",
       "\n",
       "          const docLinkHtml = 'Like what you see? Visit the ' +\n",
       "            '<a target=\"_blank\" href=https://colab.research.google.com/notebooks/data_table.ipynb>data table notebook</a>'\n",
       "            + ' to learn more about interactive tables.';\n",
       "          element.innerHTML = '';\n",
       "          dataTable['output_type'] = 'display_data';\n",
       "          await google.colab.output.renderOutput(dataTable, element);\n",
       "          const docLink = document.createElement('div');\n",
       "          docLink.innerHTML = docLinkHtml;\n",
       "          element.appendChild(docLink);\n",
       "        }\n",
       "      </script>\n",
       "    </div>\n",
       "  </div>\n",
       "  "
      ],
      "text/plain": [
       "              K_nn  Naive_Bayes  Logistic_Regression       SVM  Random_Forest  \\\n",
       "Accuracy  0.533666     0.503971             0.601113  0.591817       0.551576   \n",
       "\n",
       "          Ada_Boost  Xg_Boost  \n",
       "Accuracy   0.476416  0.596692  "
      ]
     },
     "execution_count": 24,
     "metadata": {},
     "output_type": "execute_result"
    }
   ],
   "source": [
    "# features used : All of them except  is_pred_K_correct\n",
    "model_selection(X_train, y_train, models)"
   ]
  },
  {
   "cell_type": "code",
   "execution_count": null,
   "id": "RuFoRUnUqq-Q",
   "metadata": {
    "colab": {
     "base_uri": "https://localhost:8080/",
     "height": 81
    },
    "id": "RuFoRUnUqq-Q",
    "outputId": "8942e4d6-bc47-4a44-b8fa-91689936c8c7"
   },
   "outputs": [
    {
     "data": {
      "text/html": [
       "\n",
       "  <div id=\"df-0eeb81ef-4ebf-4d39-bd29-000f9341c176\">\n",
       "    <div class=\"colab-df-container\">\n",
       "      <div>\n",
       "<style scoped>\n",
       "    .dataframe tbody tr th:only-of-type {\n",
       "        vertical-align: middle;\n",
       "    }\n",
       "\n",
       "    .dataframe tbody tr th {\n",
       "        vertical-align: top;\n",
       "    }\n",
       "\n",
       "    .dataframe thead th {\n",
       "        text-align: right;\n",
       "    }\n",
       "</style>\n",
       "<table border=\"1\" class=\"dataframe\">\n",
       "  <thead>\n",
       "    <tr style=\"text-align: right;\">\n",
       "      <th></th>\n",
       "      <th>K-nn</th>\n",
       "      <th>Naive_Bayes</th>\n",
       "      <th>Logistic_Regression</th>\n",
       "      <th>SVM</th>\n",
       "      <th>Random_Forest</th>\n",
       "      <th>Ada-Boost</th>\n",
       "      <th>Xg_Boost</th>\n",
       "    </tr>\n",
       "  </thead>\n",
       "  <tbody>\n",
       "    <tr>\n",
       "      <th>Accuracy</th>\n",
       "      <td>0.438904</td>\n",
       "      <td>0.496146</td>\n",
       "      <td>0.506235</td>\n",
       "      <td>0.508276</td>\n",
       "      <td>0.465199</td>\n",
       "      <td>0.491269</td>\n",
       "      <td>0.508842</td>\n",
       "    </tr>\n",
       "  </tbody>\n",
       "</table>\n",
       "</div>\n",
       "      <button class=\"colab-df-convert\" onclick=\"convertToInteractive('df-0eeb81ef-4ebf-4d39-bd29-000f9341c176')\"\n",
       "              title=\"Convert this dataframe to an interactive table.\"\n",
       "              style=\"display:none;\">\n",
       "        \n",
       "  <svg xmlns=\"http://www.w3.org/2000/svg\" height=\"24px\"viewBox=\"0 0 24 24\"\n",
       "       width=\"24px\">\n",
       "    <path d=\"M0 0h24v24H0V0z\" fill=\"none\"/>\n",
       "    <path d=\"M18.56 5.44l.94 2.06.94-2.06 2.06-.94-2.06-.94-.94-2.06-.94 2.06-2.06.94zm-11 1L8.5 8.5l.94-2.06 2.06-.94-2.06-.94L8.5 2.5l-.94 2.06-2.06.94zm10 10l.94 2.06.94-2.06 2.06-.94-2.06-.94-.94-2.06-.94 2.06-2.06.94z\"/><path d=\"M17.41 7.96l-1.37-1.37c-.4-.4-.92-.59-1.43-.59-.52 0-1.04.2-1.43.59L10.3 9.45l-7.72 7.72c-.78.78-.78 2.05 0 2.83L4 21.41c.39.39.9.59 1.41.59.51 0 1.02-.2 1.41-.59l7.78-7.78 2.81-2.81c.8-.78.8-2.07 0-2.86zM5.41 20L4 18.59l7.72-7.72 1.47 1.35L5.41 20z\"/>\n",
       "  </svg>\n",
       "      </button>\n",
       "      \n",
       "  <style>\n",
       "    .colab-df-container {\n",
       "      display:flex;\n",
       "      flex-wrap:wrap;\n",
       "      gap: 12px;\n",
       "    }\n",
       "\n",
       "    .colab-df-convert {\n",
       "      background-color: #E8F0FE;\n",
       "      border: none;\n",
       "      border-radius: 50%;\n",
       "      cursor: pointer;\n",
       "      display: none;\n",
       "      fill: #1967D2;\n",
       "      height: 32px;\n",
       "      padding: 0 0 0 0;\n",
       "      width: 32px;\n",
       "    }\n",
       "\n",
       "    .colab-df-convert:hover {\n",
       "      background-color: #E2EBFA;\n",
       "      box-shadow: 0px 1px 2px rgba(60, 64, 67, 0.3), 0px 1px 3px 1px rgba(60, 64, 67, 0.15);\n",
       "      fill: #174EA6;\n",
       "    }\n",
       "\n",
       "    [theme=dark] .colab-df-convert {\n",
       "      background-color: #3B4455;\n",
       "      fill: #D2E3FC;\n",
       "    }\n",
       "\n",
       "    [theme=dark] .colab-df-convert:hover {\n",
       "      background-color: #434B5C;\n",
       "      box-shadow: 0px 1px 3px 1px rgba(0, 0, 0, 0.15);\n",
       "      filter: drop-shadow(0px 1px 2px rgba(0, 0, 0, 0.3));\n",
       "      fill: #FFFFFF;\n",
       "    }\n",
       "  </style>\n",
       "\n",
       "      <script>\n",
       "        const buttonEl =\n",
       "          document.querySelector('#df-0eeb81ef-4ebf-4d39-bd29-000f9341c176 button.colab-df-convert');\n",
       "        buttonEl.style.display =\n",
       "          google.colab.kernel.accessAllowed ? 'block' : 'none';\n",
       "\n",
       "        async function convertToInteractive(key) {\n",
       "          const element = document.querySelector('#df-0eeb81ef-4ebf-4d39-bd29-000f9341c176');\n",
       "          const dataTable =\n",
       "            await google.colab.kernel.invokeFunction('convertToInteractive',\n",
       "                                                     [key], {});\n",
       "          if (!dataTable) return;\n",
       "\n",
       "          const docLinkHtml = 'Like what you see? Visit the ' +\n",
       "            '<a target=\"_blank\" href=https://colab.research.google.com/notebooks/data_table.ipynb>data table notebook</a>'\n",
       "            + ' to learn more about interactive tables.';\n",
       "          element.innerHTML = '';\n",
       "          dataTable['output_type'] = 'display_data';\n",
       "          await google.colab.output.renderOutput(dataTable, element);\n",
       "          const docLink = document.createElement('div');\n",
       "          docLink.innerHTML = docLinkHtml;\n",
       "          element.appendChild(docLink);\n",
       "        }\n",
       "      </script>\n",
       "    </div>\n",
       "  </div>\n",
       "  "
      ],
      "text/plain": [
       "              K-nn  Naive_Bayes  Logistic_Regression       SVM  Random_Forest  \\\n",
       "Accuracy  0.438904     0.496146             0.506235  0.508276       0.465199   \n",
       "\n",
       "          Ada-Boost  Xg_Boost  \n",
       "Accuracy   0.491269  0.508842  "
      ]
     },
     "execution_count": 23,
     "metadata": {},
     "output_type": "execute_result"
    }
   ],
   "source": [
    "# features used : only score\n",
    "model_selection(X_train, y_train, models)"
   ]
  },
  {
   "cell_type": "code",
   "execution_count": null,
   "id": "FYcRJB68qOtA",
   "metadata": {
    "colab": {
     "base_uri": "https://localhost:8080/",
     "height": 81
    },
    "id": "FYcRJB68qOtA",
    "outputId": "e4f87d7e-bfd8-40df-de4c-11caa37ccf07"
   },
   "outputs": [
    {
     "data": {
      "text/html": [
       "\n",
       "  <div id=\"df-f6fcc28a-a298-4d49-93ed-4336031eaf4c\">\n",
       "    <div class=\"colab-df-container\">\n",
       "      <div>\n",
       "<style scoped>\n",
       "    .dataframe tbody tr th:only-of-type {\n",
       "        vertical-align: middle;\n",
       "    }\n",
       "\n",
       "    .dataframe tbody tr th {\n",
       "        vertical-align: top;\n",
       "    }\n",
       "\n",
       "    .dataframe thead th {\n",
       "        text-align: right;\n",
       "    }\n",
       "</style>\n",
       "<table border=\"1\" class=\"dataframe\">\n",
       "  <thead>\n",
       "    <tr style=\"text-align: right;\">\n",
       "      <th></th>\n",
       "      <th>K-nn</th>\n",
       "      <th>Naive_Bayes</th>\n",
       "      <th>Logistic_Regression</th>\n",
       "      <th>SVM</th>\n",
       "      <th>Random_Forest</th>\n",
       "      <th>Ada-Boost</th>\n",
       "      <th>Xg_Boost</th>\n",
       "    </tr>\n",
       "  </thead>\n",
       "  <tbody>\n",
       "    <tr>\n",
       "      <th>Accuracy</th>\n",
       "      <td>0.999547</td>\n",
       "      <td>0.965201</td>\n",
       "      <td>0.998414</td>\n",
       "      <td>1.0</td>\n",
       "      <td>1.0</td>\n",
       "      <td>0.89968</td>\n",
       "      <td>1.0</td>\n",
       "    </tr>\n",
       "  </tbody>\n",
       "</table>\n",
       "</div>\n",
       "      <button class=\"colab-df-convert\" onclick=\"convertToInteractive('df-f6fcc28a-a298-4d49-93ed-4336031eaf4c')\"\n",
       "              title=\"Convert this dataframe to an interactive table.\"\n",
       "              style=\"display:none;\">\n",
       "        \n",
       "  <svg xmlns=\"http://www.w3.org/2000/svg\" height=\"24px\"viewBox=\"0 0 24 24\"\n",
       "       width=\"24px\">\n",
       "    <path d=\"M0 0h24v24H0V0z\" fill=\"none\"/>\n",
       "    <path d=\"M18.56 5.44l.94 2.06.94-2.06 2.06-.94-2.06-.94-.94-2.06-.94 2.06-2.06.94zm-11 1L8.5 8.5l.94-2.06 2.06-.94-2.06-.94L8.5 2.5l-.94 2.06-2.06.94zm10 10l.94 2.06.94-2.06 2.06-.94-2.06-.94-.94-2.06-.94 2.06-2.06.94z\"/><path d=\"M17.41 7.96l-1.37-1.37c-.4-.4-.92-.59-1.43-.59-.52 0-1.04.2-1.43.59L10.3 9.45l-7.72 7.72c-.78.78-.78 2.05 0 2.83L4 21.41c.39.39.9.59 1.41.59.51 0 1.02-.2 1.41-.59l7.78-7.78 2.81-2.81c.8-.78.8-2.07 0-2.86zM5.41 20L4 18.59l7.72-7.72 1.47 1.35L5.41 20z\"/>\n",
       "  </svg>\n",
       "      </button>\n",
       "      \n",
       "  <style>\n",
       "    .colab-df-container {\n",
       "      display:flex;\n",
       "      flex-wrap:wrap;\n",
       "      gap: 12px;\n",
       "    }\n",
       "\n",
       "    .colab-df-convert {\n",
       "      background-color: #E8F0FE;\n",
       "      border: none;\n",
       "      border-radius: 50%;\n",
       "      cursor: pointer;\n",
       "      display: none;\n",
       "      fill: #1967D2;\n",
       "      height: 32px;\n",
       "      padding: 0 0 0 0;\n",
       "      width: 32px;\n",
       "    }\n",
       "\n",
       "    .colab-df-convert:hover {\n",
       "      background-color: #E2EBFA;\n",
       "      box-shadow: 0px 1px 2px rgba(60, 64, 67, 0.3), 0px 1px 3px 1px rgba(60, 64, 67, 0.15);\n",
       "      fill: #174EA6;\n",
       "    }\n",
       "\n",
       "    [theme=dark] .colab-df-convert {\n",
       "      background-color: #3B4455;\n",
       "      fill: #D2E3FC;\n",
       "    }\n",
       "\n",
       "    [theme=dark] .colab-df-convert:hover {\n",
       "      background-color: #434B5C;\n",
       "      box-shadow: 0px 1px 3px 1px rgba(0, 0, 0, 0.15);\n",
       "      filter: drop-shadow(0px 1px 2px rgba(0, 0, 0, 0.3));\n",
       "      fill: #FFFFFF;\n",
       "    }\n",
       "  </style>\n",
       "\n",
       "      <script>\n",
       "        const buttonEl =\n",
       "          document.querySelector('#df-f6fcc28a-a298-4d49-93ed-4336031eaf4c button.colab-df-convert');\n",
       "        buttonEl.style.display =\n",
       "          google.colab.kernel.accessAllowed ? 'block' : 'none';\n",
       "\n",
       "        async function convertToInteractive(key) {\n",
       "          const element = document.querySelector('#df-f6fcc28a-a298-4d49-93ed-4336031eaf4c');\n",
       "          const dataTable =\n",
       "            await google.colab.kernel.invokeFunction('convertToInteractive',\n",
       "                                                     [key], {});\n",
       "          if (!dataTable) return;\n",
       "\n",
       "          const docLinkHtml = 'Like what you see? Visit the ' +\n",
       "            '<a target=\"_blank\" href=https://colab.research.google.com/notebooks/data_table.ipynb>data table notebook</a>'\n",
       "            + ' to learn more about interactive tables.';\n",
       "          element.innerHTML = '';\n",
       "          dataTable['output_type'] = 'display_data';\n",
       "          await google.colab.output.renderOutput(dataTable, element);\n",
       "          const docLink = document.createElement('div');\n",
       "          docLink.innerHTML = docLinkHtml;\n",
       "          element.appendChild(docLink);\n",
       "        }\n",
       "      </script>\n",
       "    </div>\n",
       "  </div>\n",
       "  "
      ],
      "text/plain": [
       "              K-nn  Naive_Bayes  Logistic_Regression  SVM  Random_Forest  \\\n",
       "Accuracy  0.999547     0.965201             0.998414  1.0            1.0   \n",
       "\n",
       "          Ada-Boost  Xg_Boost  \n",
       "Accuracy    0.89968       1.0  "
      ]
     },
     "execution_count": 22,
     "metadata": {},
     "output_type": "execute_result"
    }
   ],
   "source": [
    "#  features used : all \n",
    "model_selection(X_train, y_train, models)  # overfitting"
   ]
  },
  {
   "cell_type": "markdown",
   "id": "Kc19P4-0a-X4",
   "metadata": {
    "id": "Kc19P4-0a-X4"
   },
   "source": [
    "# benchmark models ML"
   ]
  },
  {
   "cell_type": "code",
   "execution_count": null,
   "id": "GOlfikDBaMKB",
   "metadata": {
    "id": "GOlfikDBaMKB"
   },
   "outputs": [],
   "source": [
    "columns = [\"label_pred_1\",\"label_true_original\",\"label_true\"]\n",
    "df_assess = df_test[columns]"
   ]
  },
  {
   "cell_type": "code",
   "execution_count": null,
   "id": "0a7iP4S2Bqkq",
   "metadata": {
    "id": "0a7iP4S2Bqkq"
   },
   "outputs": [],
   "source": [
    "# For each model we will get the prediction and the score \n",
    "df_assess_all = benchmark_ML_models(X_train, X_test, y_train, y_test, models, df_assess)"
   ]
  },
  {
   "cell_type": "code",
   "execution_count": null,
   "id": "KuM1wgk4XR9o",
   "metadata": {
    "colab": {
     "base_uri": "https://localhost:8080/",
     "height": 487
    },
    "id": "KuM1wgk4XR9o",
    "outputId": "6c84be73-30d2-423b-e9e0-971204c31972"
   },
   "outputs": [
    {
     "data": {
      "text/html": [
       "\n",
       "  <div id=\"df-c5d73a29-79dd-45b3-ad31-2ec01c2a2dde\">\n",
       "    <div class=\"colab-df-container\">\n",
       "      <div>\n",
       "<style scoped>\n",
       "    .dataframe tbody tr th:only-of-type {\n",
       "        vertical-align: middle;\n",
       "    }\n",
       "\n",
       "    .dataframe tbody tr th {\n",
       "        vertical-align: top;\n",
       "    }\n",
       "\n",
       "    .dataframe thead th {\n",
       "        text-align: right;\n",
       "    }\n",
       "</style>\n",
       "<table border=\"1\" class=\"dataframe\">\n",
       "  <thead>\n",
       "    <tr style=\"text-align: right;\">\n",
       "      <th></th>\n",
       "      <th>label_pred_1</th>\n",
       "      <th>label_true_original</th>\n",
       "      <th>label_true</th>\n",
       "      <th>K_nn_prediction</th>\n",
       "      <th>K_nn_score</th>\n",
       "      <th>Naive_Bayes_prediction</th>\n",
       "      <th>Naive_Bayes_score</th>\n",
       "      <th>Logistic_Regression_prediction</th>\n",
       "      <th>Logistic_Regression_score</th>\n",
       "      <th>SVM_prediction</th>\n",
       "      <th>SVM_score</th>\n",
       "      <th>Random_Forest_prediction</th>\n",
       "      <th>Random_Forest_score</th>\n",
       "      <th>Ada_Boost_prediction</th>\n",
       "      <th>Ada_Boost_score</th>\n",
       "      <th>Xg_Boost_prediction</th>\n",
       "      <th>Xg_Boost_score</th>\n",
       "    </tr>\n",
       "  </thead>\n",
       "  <tbody>\n",
       "    <tr>\n",
       "      <th>0</th>\n",
       "      <td>0</td>\n",
       "      <td>antenna issue</td>\n",
       "      <td>2</td>\n",
       "      <td>5</td>\n",
       "      <td>0.50</td>\n",
       "      <td>5</td>\n",
       "      <td>0.722969</td>\n",
       "      <td>5</td>\n",
       "      <td>0.516338</td>\n",
       "      <td>5</td>\n",
       "      <td>0.558991</td>\n",
       "      <td>5</td>\n",
       "      <td>0.43</td>\n",
       "      <td>5</td>\n",
       "      <td>0.202796</td>\n",
       "      <td>5</td>\n",
       "      <td>0.542464</td>\n",
       "    </tr>\n",
       "    <tr>\n",
       "      <th>1</th>\n",
       "      <td>0</td>\n",
       "      <td>error message</td>\n",
       "      <td>5</td>\n",
       "      <td>0</td>\n",
       "      <td>0.25</td>\n",
       "      <td>5</td>\n",
       "      <td>0.816187</td>\n",
       "      <td>5</td>\n",
       "      <td>0.446518</td>\n",
       "      <td>5</td>\n",
       "      <td>0.572432</td>\n",
       "      <td>5</td>\n",
       "      <td>0.46</td>\n",
       "      <td>5</td>\n",
       "      <td>0.202796</td>\n",
       "      <td>5</td>\n",
       "      <td>0.412978</td>\n",
       "    </tr>\n",
       "    <tr>\n",
       "      <th>2</th>\n",
       "      <td>0</td>\n",
       "      <td>replication issue</td>\n",
       "      <td>5</td>\n",
       "      <td>0</td>\n",
       "      <td>0.50</td>\n",
       "      <td>0</td>\n",
       "      <td>0.998337</td>\n",
       "      <td>0</td>\n",
       "      <td>0.625791</td>\n",
       "      <td>0</td>\n",
       "      <td>0.323581</td>\n",
       "      <td>2</td>\n",
       "      <td>0.40</td>\n",
       "      <td>0</td>\n",
       "      <td>0.228985</td>\n",
       "      <td>0</td>\n",
       "      <td>0.595768</td>\n",
       "    </tr>\n",
       "    <tr>\n",
       "      <th>3</th>\n",
       "      <td>0</td>\n",
       "      <td>mechanical noise</td>\n",
       "      <td>5</td>\n",
       "      <td>0</td>\n",
       "      <td>0.75</td>\n",
       "      <td>5</td>\n",
       "      <td>0.795099</td>\n",
       "      <td>5</td>\n",
       "      <td>0.500588</td>\n",
       "      <td>0</td>\n",
       "      <td>0.319075</td>\n",
       "      <td>0</td>\n",
       "      <td>0.63</td>\n",
       "      <td>0</td>\n",
       "      <td>0.201936</td>\n",
       "      <td>5</td>\n",
       "      <td>0.423981</td>\n",
       "    </tr>\n",
       "    <tr>\n",
       "      <th>4</th>\n",
       "      <td>0</td>\n",
       "      <td>black screen</td>\n",
       "      <td>1</td>\n",
       "      <td>1</td>\n",
       "      <td>0.50</td>\n",
       "      <td>1</td>\n",
       "      <td>0.540886</td>\n",
       "      <td>5</td>\n",
       "      <td>0.411102</td>\n",
       "      <td>1</td>\n",
       "      <td>0.481156</td>\n",
       "      <td>2</td>\n",
       "      <td>0.61</td>\n",
       "      <td>5</td>\n",
       "      <td>0.198479</td>\n",
       "      <td>1</td>\n",
       "      <td>0.389565</td>\n",
       "    </tr>\n",
       "    <tr>\n",
       "      <th>...</th>\n",
       "      <td>...</td>\n",
       "      <td>...</td>\n",
       "      <td>...</td>\n",
       "      <td>...</td>\n",
       "      <td>...</td>\n",
       "      <td>...</td>\n",
       "      <td>...</td>\n",
       "      <td>...</td>\n",
       "      <td>...</td>\n",
       "      <td>...</td>\n",
       "      <td>...</td>\n",
       "      <td>...</td>\n",
       "      <td>...</td>\n",
       "      <td>...</td>\n",
       "      <td>...</td>\n",
       "      <td>...</td>\n",
       "      <td>...</td>\n",
       "    </tr>\n",
       "    <tr>\n",
       "      <th>812</th>\n",
       "      <td>0</td>\n",
       "      <td>reset adac</td>\n",
       "      <td>5</td>\n",
       "      <td>0</td>\n",
       "      <td>0.75</td>\n",
       "      <td>5</td>\n",
       "      <td>0.999830</td>\n",
       "      <td>5</td>\n",
       "      <td>0.585876</td>\n",
       "      <td>0</td>\n",
       "      <td>0.320543</td>\n",
       "      <td>0</td>\n",
       "      <td>0.61</td>\n",
       "      <td>5</td>\n",
       "      <td>0.329609</td>\n",
       "      <td>0</td>\n",
       "      <td>0.305761</td>\n",
       "    </tr>\n",
       "    <tr>\n",
       "      <th>813</th>\n",
       "      <td>0</td>\n",
       "      <td>fuel gauge issue</td>\n",
       "      <td>2</td>\n",
       "      <td>1</td>\n",
       "      <td>0.75</td>\n",
       "      <td>2</td>\n",
       "      <td>0.302736</td>\n",
       "      <td>5</td>\n",
       "      <td>0.401018</td>\n",
       "      <td>5</td>\n",
       "      <td>0.507839</td>\n",
       "      <td>1</td>\n",
       "      <td>0.52</td>\n",
       "      <td>2</td>\n",
       "      <td>0.211369</td>\n",
       "      <td>5</td>\n",
       "      <td>0.374731</td>\n",
       "    </tr>\n",
       "    <tr>\n",
       "      <th>814</th>\n",
       "      <td>0</td>\n",
       "      <td>reset adac</td>\n",
       "      <td>1</td>\n",
       "      <td>0</td>\n",
       "      <td>0.50</td>\n",
       "      <td>0</td>\n",
       "      <td>0.998989</td>\n",
       "      <td>0</td>\n",
       "      <td>0.762625</td>\n",
       "      <td>0</td>\n",
       "      <td>0.318935</td>\n",
       "      <td>0</td>\n",
       "      <td>0.57</td>\n",
       "      <td>0</td>\n",
       "      <td>0.222870</td>\n",
       "      <td>0</td>\n",
       "      <td>0.669881</td>\n",
       "    </tr>\n",
       "    <tr>\n",
       "      <th>815</th>\n",
       "      <td>0</td>\n",
       "      <td>fuel gauge issue</td>\n",
       "      <td>2</td>\n",
       "      <td>1</td>\n",
       "      <td>0.50</td>\n",
       "      <td>1</td>\n",
       "      <td>0.970439</td>\n",
       "      <td>1</td>\n",
       "      <td>0.464936</td>\n",
       "      <td>5</td>\n",
       "      <td>0.399122</td>\n",
       "      <td>5</td>\n",
       "      <td>0.59</td>\n",
       "      <td>0</td>\n",
       "      <td>0.202827</td>\n",
       "      <td>1</td>\n",
       "      <td>0.611320</td>\n",
       "    </tr>\n",
       "    <tr>\n",
       "      <th>816</th>\n",
       "      <td>0</td>\n",
       "      <td>fuel gauge issue</td>\n",
       "      <td>1</td>\n",
       "      <td>5</td>\n",
       "      <td>0.75</td>\n",
       "      <td>0</td>\n",
       "      <td>0.997750</td>\n",
       "      <td>0</td>\n",
       "      <td>0.630837</td>\n",
       "      <td>0</td>\n",
       "      <td>0.312246</td>\n",
       "      <td>0</td>\n",
       "      <td>0.64</td>\n",
       "      <td>0</td>\n",
       "      <td>0.228985</td>\n",
       "      <td>0</td>\n",
       "      <td>0.585211</td>\n",
       "    </tr>\n",
       "  </tbody>\n",
       "</table>\n",
       "<p>817 rows × 17 columns</p>\n",
       "</div>\n",
       "      <button class=\"colab-df-convert\" onclick=\"convertToInteractive('df-c5d73a29-79dd-45b3-ad31-2ec01c2a2dde')\"\n",
       "              title=\"Convert this dataframe to an interactive table.\"\n",
       "              style=\"display:none;\">\n",
       "        \n",
       "  <svg xmlns=\"http://www.w3.org/2000/svg\" height=\"24px\"viewBox=\"0 0 24 24\"\n",
       "       width=\"24px\">\n",
       "    <path d=\"M0 0h24v24H0V0z\" fill=\"none\"/>\n",
       "    <path d=\"M18.56 5.44l.94 2.06.94-2.06 2.06-.94-2.06-.94-.94-2.06-.94 2.06-2.06.94zm-11 1L8.5 8.5l.94-2.06 2.06-.94-2.06-.94L8.5 2.5l-.94 2.06-2.06.94zm10 10l.94 2.06.94-2.06 2.06-.94-2.06-.94-.94-2.06-.94 2.06-2.06.94z\"/><path d=\"M17.41 7.96l-1.37-1.37c-.4-.4-.92-.59-1.43-.59-.52 0-1.04.2-1.43.59L10.3 9.45l-7.72 7.72c-.78.78-.78 2.05 0 2.83L4 21.41c.39.39.9.59 1.41.59.51 0 1.02-.2 1.41-.59l7.78-7.78 2.81-2.81c.8-.78.8-2.07 0-2.86zM5.41 20L4 18.59l7.72-7.72 1.47 1.35L5.41 20z\"/>\n",
       "  </svg>\n",
       "      </button>\n",
       "      \n",
       "  <style>\n",
       "    .colab-df-container {\n",
       "      display:flex;\n",
       "      flex-wrap:wrap;\n",
       "      gap: 12px;\n",
       "    }\n",
       "\n",
       "    .colab-df-convert {\n",
       "      background-color: #E8F0FE;\n",
       "      border: none;\n",
       "      border-radius: 50%;\n",
       "      cursor: pointer;\n",
       "      display: none;\n",
       "      fill: #1967D2;\n",
       "      height: 32px;\n",
       "      padding: 0 0 0 0;\n",
       "      width: 32px;\n",
       "    }\n",
       "\n",
       "    .colab-df-convert:hover {\n",
       "      background-color: #E2EBFA;\n",
       "      box-shadow: 0px 1px 2px rgba(60, 64, 67, 0.3), 0px 1px 3px 1px rgba(60, 64, 67, 0.15);\n",
       "      fill: #174EA6;\n",
       "    }\n",
       "\n",
       "    [theme=dark] .colab-df-convert {\n",
       "      background-color: #3B4455;\n",
       "      fill: #D2E3FC;\n",
       "    }\n",
       "\n",
       "    [theme=dark] .colab-df-convert:hover {\n",
       "      background-color: #434B5C;\n",
       "      box-shadow: 0px 1px 3px 1px rgba(0, 0, 0, 0.15);\n",
       "      filter: drop-shadow(0px 1px 2px rgba(0, 0, 0, 0.3));\n",
       "      fill: #FFFFFF;\n",
       "    }\n",
       "  </style>\n",
       "\n",
       "      <script>\n",
       "        const buttonEl =\n",
       "          document.querySelector('#df-c5d73a29-79dd-45b3-ad31-2ec01c2a2dde button.colab-df-convert');\n",
       "        buttonEl.style.display =\n",
       "          google.colab.kernel.accessAllowed ? 'block' : 'none';\n",
       "\n",
       "        async function convertToInteractive(key) {\n",
       "          const element = document.querySelector('#df-c5d73a29-79dd-45b3-ad31-2ec01c2a2dde');\n",
       "          const dataTable =\n",
       "            await google.colab.kernel.invokeFunction('convertToInteractive',\n",
       "                                                     [key], {});\n",
       "          if (!dataTable) return;\n",
       "\n",
       "          const docLinkHtml = 'Like what you see? Visit the ' +\n",
       "            '<a target=\"_blank\" href=https://colab.research.google.com/notebooks/data_table.ipynb>data table notebook</a>'\n",
       "            + ' to learn more about interactive tables.';\n",
       "          element.innerHTML = '';\n",
       "          dataTable['output_type'] = 'display_data';\n",
       "          await google.colab.output.renderOutput(dataTable, element);\n",
       "          const docLink = document.createElement('div');\n",
       "          docLink.innerHTML = docLinkHtml;\n",
       "          element.appendChild(docLink);\n",
       "        }\n",
       "      </script>\n",
       "    </div>\n",
       "  </div>\n",
       "  "
      ],
      "text/plain": [
       "     label_pred_1 label_true_original  label_true  K_nn_prediction  \\\n",
       "0               0       antenna issue           2                5   \n",
       "1               0       error message           5                0   \n",
       "2               0   replication issue           5                0   \n",
       "3               0    mechanical noise           5                0   \n",
       "4               0        black screen           1                1   \n",
       "..            ...                 ...         ...              ...   \n",
       "812             0          reset adac           5                0   \n",
       "813             0    fuel gauge issue           2                1   \n",
       "814             0          reset adac           1                0   \n",
       "815             0    fuel gauge issue           2                1   \n",
       "816             0    fuel gauge issue           1                5   \n",
       "\n",
       "     K_nn_score  Naive_Bayes_prediction  Naive_Bayes_score  \\\n",
       "0          0.50                       5           0.722969   \n",
       "1          0.25                       5           0.816187   \n",
       "2          0.50                       0           0.998337   \n",
       "3          0.75                       5           0.795099   \n",
       "4          0.50                       1           0.540886   \n",
       "..          ...                     ...                ...   \n",
       "812        0.75                       5           0.999830   \n",
       "813        0.75                       2           0.302736   \n",
       "814        0.50                       0           0.998989   \n",
       "815        0.50                       1           0.970439   \n",
       "816        0.75                       0           0.997750   \n",
       "\n",
       "     Logistic_Regression_prediction  Logistic_Regression_score  \\\n",
       "0                                 5                   0.516338   \n",
       "1                                 5                   0.446518   \n",
       "2                                 0                   0.625791   \n",
       "3                                 5                   0.500588   \n",
       "4                                 5                   0.411102   \n",
       "..                              ...                        ...   \n",
       "812                               5                   0.585876   \n",
       "813                               5                   0.401018   \n",
       "814                               0                   0.762625   \n",
       "815                               1                   0.464936   \n",
       "816                               0                   0.630837   \n",
       "\n",
       "     SVM_prediction  SVM_score  Random_Forest_prediction  Random_Forest_score  \\\n",
       "0                 5   0.558991                         5                 0.43   \n",
       "1                 5   0.572432                         5                 0.46   \n",
       "2                 0   0.323581                         2                 0.40   \n",
       "3                 0   0.319075                         0                 0.63   \n",
       "4                 1   0.481156                         2                 0.61   \n",
       "..              ...        ...                       ...                  ...   \n",
       "812               0   0.320543                         0                 0.61   \n",
       "813               5   0.507839                         1                 0.52   \n",
       "814               0   0.318935                         0                 0.57   \n",
       "815               5   0.399122                         5                 0.59   \n",
       "816               0   0.312246                         0                 0.64   \n",
       "\n",
       "     Ada_Boost_prediction  Ada_Boost_score  Xg_Boost_prediction  \\\n",
       "0                       5         0.202796                    5   \n",
       "1                       5         0.202796                    5   \n",
       "2                       0         0.228985                    0   \n",
       "3                       0         0.201936                    5   \n",
       "4                       5         0.198479                    1   \n",
       "..                    ...              ...                  ...   \n",
       "812                     5         0.329609                    0   \n",
       "813                     2         0.211369                    5   \n",
       "814                     0         0.222870                    0   \n",
       "815                     0         0.202827                    1   \n",
       "816                     0         0.228985                    0   \n",
       "\n",
       "     Xg_Boost_score  \n",
       "0          0.542464  \n",
       "1          0.412978  \n",
       "2          0.595768  \n",
       "3          0.423981  \n",
       "4          0.389565  \n",
       "..              ...  \n",
       "812        0.305761  \n",
       "813        0.374731  \n",
       "814        0.669881  \n",
       "815        0.611320  \n",
       "816        0.585211  \n",
       "\n",
       "[817 rows x 17 columns]"
      ]
     },
     "execution_count": 92,
     "metadata": {},
     "output_type": "execute_result"
    }
   ],
   "source": [
    "df_assess_all"
   ]
  },
  {
   "cell_type": "markdown",
   "id": "uaPe-o1f8ApH",
   "metadata": {
    "id": "uaPe-o1f8ApH"
   },
   "source": [
    "# hyperparameters optimization"
   ]
  },
  {
   "cell_type": "markdown",
   "id": "3YK3_W-QuhfT",
   "metadata": {
    "id": "3YK3_W-QuhfT"
   },
   "source": [
    "## Random Forest "
   ]
  },
  {
   "cell_type": "code",
   "execution_count": null,
   "id": "vPP2KaFTtHsI",
   "metadata": {
    "colab": {
     "base_uri": "https://localhost:8080/"
    },
    "id": "vPP2KaFTtHsI",
    "outputId": "3a05e9f3-d30a-4c5b-fa2f-eafdf4f7c6ed"
   },
   "outputs": [
    {
     "name": "stdout",
     "output_type": "stream",
     "text": [
      "{'n_estimators': [200, 311, 422, 533, 644, 755, 866, 977, 1088, 1200], 'max_features': ['auto', 'sqrt', 'log2', None], 'criterion': ['gini', 'entropy'], 'max_depth': [10, 20, 30, 40, 50, 60, 70, 80, 90, 100, 110, None], 'min_samples_split': [2, 5, 10], 'min_samples_leaf': [1, 2, 4], 'bootstrap': [True, False]}\n"
     ]
    }
   ],
   "source": [
    "# Number of trees in random forest\n",
    "n_estimators = [int(x) for x in np.linspace(start = 200, stop = 1200, num = 10)]\n",
    "# Number of features to consider at every split\n",
    "max_features = ['auto', 'sqrt', 'log2',None]\n",
    "# Maximum number of levels in tree\n",
    "max_depth = [int(x) for x in np.linspace(10, 110, num = 11)]\n",
    "max_depth.append(None)\n",
    "# Minimum number of samples required to split a node\n",
    "min_samples_split = [2, 5, 10]\n",
    "# Minimum number of samples required at each leaf node\n",
    "min_samples_leaf = [1, 2, 4]\n",
    "# Method of selecting samples for training each tree\n",
    "bootstrap = [True, False]# Create the random grid\n",
    "random_grid = {'n_estimators': n_estimators,\n",
    "               'max_features': max_features,\n",
    "               'criterion' :['gini', 'entropy'],\n",
    "               'max_depth': max_depth,\n",
    "               'min_samples_split': min_samples_split,\n",
    "               'min_samples_leaf': min_samples_leaf,\n",
    "               'bootstrap': bootstrap}\n",
    "print(random_grid)"
   ]
  },
  {
   "cell_type": "code",
   "execution_count": null,
   "id": "kE4G1YYdKvly",
   "metadata": {
    "id": "kE4G1YYdKvly"
   },
   "outputs": [],
   "source": [
    "# Use the random grid to search for best hyperparameters\n",
    "# First create the base model to tune\n",
    "rf = RandomForestClassifier()"
   ]
  },
  {
   "cell_type": "code",
   "execution_count": null,
   "id": "8Z4q_YGHukkT",
   "metadata": {
    "colab": {
     "base_uri": "https://localhost:8080/"
    },
    "id": "8Z4q_YGHukkT",
    "outputId": "f2a6bdfa-a1b4-495f-c2b3-f3ae6a997d90"
   },
   "outputs": [
    {
     "name": "stdout",
     "output_type": "stream",
     "text": [
      "Fitting 2 folds for each of 100 candidates, totalling 200 fits\n"
     ]
    },
    {
     "data": {
      "text/plain": [
       "RandomizedSearchCV(cv=2, estimator=RandomForestClassifier(), n_iter=100,\n",
       "                   n_jobs=-1,\n",
       "                   param_distributions={'bootstrap': [True, False],\n",
       "                                        'criterion': ['gini', 'entropy'],\n",
       "                                        'max_depth': [10, 20, 30, 40, 50, 60,\n",
       "                                                      70, 80, 90, 100, 110,\n",
       "                                                      None],\n",
       "                                        'max_features': ['auto', 'sqrt', 'log2',\n",
       "                                                         None],\n",
       "                                        'min_samples_leaf': [1, 2, 4],\n",
       "                                        'min_samples_split': [2, 5, 10],\n",
       "                                        'n_estimators': [200, 311, 422, 533,\n",
       "                                                         644, 755, 866, 977,\n",
       "                                                         1088, 1200]},\n",
       "                   random_state=42, verbose=2)"
      ]
     },
     "execution_count": 101,
     "metadata": {},
     "output_type": "execute_result"
    }
   ],
   "source": [
    "# Random search of parameters, using 3 fold cross validation, \n",
    "# search across 100 different combinations, and use all available cores\n",
    "rf_random = RandomizedSearchCV(estimator = rf,\n",
    "                               \n",
    "                               param_distributions = random_grid,\n",
    "                               n_iter = 100,\n",
    "                               cv = 2,\n",
    "                               verbose=2,\n",
    "                               random_state=42,\n",
    "                               n_jobs = -1)# Fit the random search model\n",
    "rf_random.fit(X_train, y_train)"
   ]
  },
  {
   "cell_type": "code",
   "execution_count": null,
   "id": "NOhHIx9duqb2",
   "metadata": {
    "colab": {
     "base_uri": "https://localhost:8080/"
    },
    "id": "NOhHIx9duqb2",
    "outputId": "b1d0418b-fab3-4bd6-a60f-6ed33488e65d"
   },
   "outputs": [
    {
     "data": {
      "text/plain": [
       "{'bootstrap': True,\n",
       " 'criterion': 'gini',\n",
       " 'max_depth': 10,\n",
       " 'max_features': 'sqrt',\n",
       " 'min_samples_leaf': 4,\n",
       " 'min_samples_split': 5,\n",
       " 'n_estimators': 311}"
      ]
     },
     "execution_count": 102,
     "metadata": {},
     "output_type": "execute_result"
    }
   ],
   "source": [
    "rf_random.best_params_"
   ]
  },
  {
   "cell_type": "code",
   "execution_count": null,
   "id": "mq0K1kURuseQ",
   "metadata": {
    "colab": {
     "base_uri": "https://localhost:8080/"
    },
    "id": "mq0K1kURuseQ",
    "outputId": "b69ca37d-ae48-4a14-8486-86001756eb82"
   },
   "outputs": [
    {
     "name": "stdout",
     "output_type": "stream",
     "text": [
      "0.423500611995104\n"
     ]
    }
   ],
   "source": [
    "model = RandomForestClassifier()\n",
    "model.fit(X_train, y_train)\n",
    "print(model.score(X_test,y_test))"
   ]
  },
  {
   "cell_type": "code",
   "execution_count": null,
   "id": "55VLG1i-K5_F",
   "metadata": {
    "colab": {
     "base_uri": "https://localhost:8080/"
    },
    "id": "55VLG1i-K5_F",
    "outputId": "643be1e9-3da6-451f-f802-d8936f42edd2"
   },
   "outputs": [
    {
     "name": "stdout",
     "output_type": "stream",
     "text": [
      "0.4528763769889841\n"
     ]
    }
   ],
   "source": [
    "best_model = rf_random.best_estimator_\n",
    "print(best_model.score(X_test, y_test))"
   ]
  },
  {
   "cell_type": "code",
   "execution_count": null,
   "id": "lUfFo9xVxo_S",
   "metadata": {
    "colab": {
     "base_uri": "https://localhost:8080/",
     "height": 302
    },
    "id": "lUfFo9xVxo_S",
    "outputId": "b3c9acec-9473-4722-bc00-21cf09127cba"
   },
   "outputs": [
    {
     "name": "stdout",
     "output_type": "stream",
     "text": [
      "Accuracy is:  0.4528763769889841\n"
     ]
    },
    {
     "data": {
      "text/plain": [
       "<matplotlib.axes._subplots.AxesSubplot at 0x7f458aa67250>"
      ]
     },
     "execution_count": 106,
     "metadata": {},
     "output_type": "execute_result"
    },
    {
     "data": {
      "image/png": "[encoded data removed]",
      "text/plain": [
       "<Figure size 432x288 with 2 Axes>"
      ]
     },
     "metadata": {
      "needs_background": "light"
     },
     "output_type": "display_data"
    }
   ],
   "source": [
    "ac = accuracy_score(y_test,best_model.predict(X_test))\n",
    "print('Accuracy is: ',ac)\n",
    "cm = confusion_matrix(y_test,best_model.predict(X_test))\n",
    "sns.heatmap(cm,annot=True,fmt=\"d\")"
   ]
  },
  {
   "cell_type": "code",
   "execution_count": null,
   "id": "NDAwN4jGutdc",
   "metadata": {
    "colab": {
     "base_uri": "https://localhost:8080/"
    },
    "id": "NDAwN4jGutdc",
    "outputId": "5edc9fdb-4c3e-4d87-8e51-4f88487cccb2"
   },
   "outputs": [
    {
     "name": "stdout",
     "output_type": "stream",
     "text": [
      "              precision    recall  f1-score   support\n",
      "\n",
      "           0       0.43      0.66      0.52       232\n",
      "           1       0.47      0.31      0.38       116\n",
      "           2       0.33      0.04      0.07        73\n",
      "           3       0.00      0.00      0.00        26\n",
      "           4       0.00      0.00      0.00        16\n",
      "           5       0.48      0.50      0.49       354\n",
      "\n",
      "    accuracy                           0.45       817\n",
      "   macro avg       0.29      0.25      0.24       817\n",
      "weighted avg       0.43      0.45      0.42       817\n",
      "\n"
     ]
    }
   ],
   "source": [
    "y_pred_random_forest = best_model.predict(X_test)\n",
    "print(classification_report(y_test, y_pred_random_forest))"
   ]
  },
  {
   "cell_type": "code",
   "execution_count": null,
   "id": "at86KAw5tHum",
   "metadata": {
    "colab": {
     "base_uri": "https://localhost:8080/",
     "height": 1000
    },
    "id": "at86KAw5tHum",
    "outputId": "5076eb83-bfec-4c5a-a883-ae969dde1c34"
   },
   "outputs": [
    {
     "name": "stdout",
     "output_type": "stream",
     "text": [
      "Feature ranking:\n",
      "1. feature 0 (0.103269)\n",
      "2. feature 1 (0.082683)\n",
      "3. feature 3 (0.078252)\n",
      "4. feature 2 (0.078180)\n",
      "5. feature 4 (0.076284)\n",
      "6. feature 12 (0.074345)\n",
      "7. feature 11 (0.071165)\n",
      "8. feature 8 (0.058307)\n",
      "9. feature 6 (0.057229)\n",
      "10. feature 7 (0.056432)\n",
      "11. feature 13 (0.042696)\n",
      "12. feature 9 (0.040608)\n",
      "13. feature 16 (0.036917)\n",
      "14. feature 15 (0.023323)\n",
      "15. feature 20 (0.023117)\n",
      "16. feature 14 (0.020568)\n",
      "17. feature 17 (0.015912)\n",
      "18. feature 21 (0.013575)\n",
      "19. feature 18 (0.012516)\n",
      "20. feature 19 (0.011736)\n",
      "21. feature 22 (0.011030)\n",
      "22. feature 23 (0.008641)\n",
      "23. feature 24 (0.003214)\n",
      "24. feature 5 (0.000000)\n",
      "25. feature 10 (0.000000)\n"
     ]
    },
    {
     "data": {
      "image/png": "[encoded data removed]",
      "text/plain": [
       "<Figure size 1008x936 with 1 Axes>"
      ]
     },
     "metadata": {
      "needs_background": "light"
     },
     "output_type": "display_data"
    }
   ],
   "source": [
    "# feature importances\n",
    "importances = best_model.feature_importances_\n",
    "std = np.std([tree.feature_importances_ for tree in best_model.estimators_],\n",
    "             axis=0)\n",
    "indices = np.argsort(importances)[::-1]\n",
    "\n",
    "# Print the feature ranking\n",
    "print(\"Feature ranking:\")\n",
    "\n",
    "for f in range(X_train.shape[1]):\n",
    "    print(\"%d. feature %d (%f)\" % (f + 1, indices[f], importances[indices[f]]))\n",
    "\n",
    "# Plot the feature importances of the forest\n",
    "plt.figure(1, figsize=(14, 13))\n",
    "plt.title(\"Feature importances\")\n",
    "plt.bar(range(X_train.shape[1]), importances[indices],\n",
    "       color=\"g\", yerr=std[indices], align=\"center\")\n",
    "plt.xticks(range(X_train.shape[1]), X_train.columns[indices],rotation=90)\n",
    "plt.xlim([-1, X_train.shape[1]])\n",
    "plt.show()"
   ]
  },
  {
   "cell_type": "code",
   "execution_count": null,
   "id": "PHSAsM21Uqw-",
   "metadata": {
    "id": "PHSAsM21Uqw-"
   },
   "outputs": [],
   "source": [
    "df_assess = df_test[score_features + label_pred_features + [\"label_true\"]]"
   ]
  },
  {
   "cell_type": "code",
   "execution_count": null,
   "id": "I6aoLAg9wkU3",
   "metadata": {
    "id": "I6aoLAg9wkU3"
   },
   "outputs": [],
   "source": [
    "df_assess[\"rf_pred\"] = y_pred_random_forest\n",
    "df_assess[\"rf_score\"] = np.max(best_model.predict_proba(X_test), axis=1)"
   ]
  },
  {
   "cell_type": "code",
   "execution_count": null,
   "id": "pX8i5AkfUfpK",
   "metadata": {
    "colab": {
     "base_uri": "https://localhost:8080/",
     "height": 423
    },
    "id": "pX8i5AkfUfpK",
    "outputId": "0f3368db-0785-4ab2-cf35-6864f477e221"
   },
   "outputs": [
    {
     "data": {
      "text/html": [
       "\n",
       "  <div id=\"df-14a1a2bd-b8b4-47cb-bd50-bc8886f2b9a3\">\n",
       "    <div class=\"colab-df-container\">\n",
       "      <div>\n",
       "<style scoped>\n",
       "    .dataframe tbody tr th:only-of-type {\n",
       "        vertical-align: middle;\n",
       "    }\n",
       "\n",
       "    .dataframe tbody tr th {\n",
       "        vertical-align: top;\n",
       "    }\n",
       "\n",
       "    .dataframe thead th {\n",
       "        text-align: right;\n",
       "    }\n",
       "</style>\n",
       "<table border=\"1\" class=\"dataframe\">\n",
       "  <thead>\n",
       "    <tr style=\"text-align: right;\">\n",
       "      <th></th>\n",
       "      <th>score_1</th>\n",
       "      <th>score_2</th>\n",
       "      <th>score_3</th>\n",
       "      <th>score_4</th>\n",
       "      <th>score_5</th>\n",
       "      <th>label_pred_1</th>\n",
       "      <th>label_pred_2</th>\n",
       "      <th>label_pred_3</th>\n",
       "      <th>label_pred_4</th>\n",
       "      <th>label_pred_5</th>\n",
       "      <th>label_true</th>\n",
       "      <th>rf_pred</th>\n",
       "      <th>rf_score</th>\n",
       "    </tr>\n",
       "  </thead>\n",
       "  <tbody>\n",
       "    <tr>\n",
       "      <th>0</th>\n",
       "      <td>0.710615</td>\n",
       "      <td>0.706026</td>\n",
       "      <td>0.666258</td>\n",
       "      <td>0.664980</td>\n",
       "      <td>0.658934</td>\n",
       "      <td>0</td>\n",
       "      <td>1</td>\n",
       "      <td>2</td>\n",
       "      <td>3</td>\n",
       "      <td>0</td>\n",
       "      <td>2</td>\n",
       "      <td>5</td>\n",
       "      <td>0.551597</td>\n",
       "    </tr>\n",
       "    <tr>\n",
       "      <th>1</th>\n",
       "      <td>0.737935</td>\n",
       "      <td>0.703151</td>\n",
       "      <td>0.699834</td>\n",
       "      <td>0.696477</td>\n",
       "      <td>0.692233</td>\n",
       "      <td>0</td>\n",
       "      <td>1</td>\n",
       "      <td>0</td>\n",
       "      <td>2</td>\n",
       "      <td>3</td>\n",
       "      <td>5</td>\n",
       "      <td>5</td>\n",
       "      <td>0.467114</td>\n",
       "    </tr>\n",
       "    <tr>\n",
       "      <th>2</th>\n",
       "      <td>0.757152</td>\n",
       "      <td>0.736345</td>\n",
       "      <td>0.720983</td>\n",
       "      <td>0.714639</td>\n",
       "      <td>0.712411</td>\n",
       "      <td>0</td>\n",
       "      <td>0</td>\n",
       "      <td>0</td>\n",
       "      <td>1</td>\n",
       "      <td>2</td>\n",
       "      <td>5</td>\n",
       "      <td>0</td>\n",
       "      <td>0.395931</td>\n",
       "    </tr>\n",
       "    <tr>\n",
       "      <th>3</th>\n",
       "      <td>0.636801</td>\n",
       "      <td>0.629225</td>\n",
       "      <td>0.625833</td>\n",
       "      <td>0.604343</td>\n",
       "      <td>0.593791</td>\n",
       "      <td>0</td>\n",
       "      <td>1</td>\n",
       "      <td>2</td>\n",
       "      <td>0</td>\n",
       "      <td>2</td>\n",
       "      <td>5</td>\n",
       "      <td>0</td>\n",
       "      <td>0.414181</td>\n",
       "    </tr>\n",
       "    <tr>\n",
       "      <th>4</th>\n",
       "      <td>0.643468</td>\n",
       "      <td>0.620197</td>\n",
       "      <td>0.597234</td>\n",
       "      <td>0.590584</td>\n",
       "      <td>0.582203</td>\n",
       "      <td>0</td>\n",
       "      <td>1</td>\n",
       "      <td>2</td>\n",
       "      <td>1</td>\n",
       "      <td>1</td>\n",
       "      <td>1</td>\n",
       "      <td>1</td>\n",
       "      <td>0.353134</td>\n",
       "    </tr>\n",
       "    <tr>\n",
       "      <th>...</th>\n",
       "      <td>...</td>\n",
       "      <td>...</td>\n",
       "      <td>...</td>\n",
       "      <td>...</td>\n",
       "      <td>...</td>\n",
       "      <td>...</td>\n",
       "      <td>...</td>\n",
       "      <td>...</td>\n",
       "      <td>...</td>\n",
       "      <td>...</td>\n",
       "      <td>...</td>\n",
       "      <td>...</td>\n",
       "      <td>...</td>\n",
       "    </tr>\n",
       "    <tr>\n",
       "      <th>812</th>\n",
       "      <td>0.474088</td>\n",
       "      <td>0.458677</td>\n",
       "      <td>0.453075</td>\n",
       "      <td>0.447407</td>\n",
       "      <td>0.446844</td>\n",
       "      <td>0</td>\n",
       "      <td>0</td>\n",
       "      <td>1</td>\n",
       "      <td>1</td>\n",
       "      <td>2</td>\n",
       "      <td>5</td>\n",
       "      <td>0</td>\n",
       "      <td>0.457041</td>\n",
       "    </tr>\n",
       "    <tr>\n",
       "      <th>813</th>\n",
       "      <td>0.806806</td>\n",
       "      <td>0.803364</td>\n",
       "      <td>0.799427</td>\n",
       "      <td>0.798791</td>\n",
       "      <td>0.792464</td>\n",
       "      <td>0</td>\n",
       "      <td>1</td>\n",
       "      <td>2</td>\n",
       "      <td>3</td>\n",
       "      <td>1</td>\n",
       "      <td>2</td>\n",
       "      <td>5</td>\n",
       "      <td>0.339356</td>\n",
       "    </tr>\n",
       "    <tr>\n",
       "      <th>814</th>\n",
       "      <td>0.706968</td>\n",
       "      <td>0.672361</td>\n",
       "      <td>0.646371</td>\n",
       "      <td>0.600586</td>\n",
       "      <td>0.593879</td>\n",
       "      <td>0</td>\n",
       "      <td>0</td>\n",
       "      <td>1</td>\n",
       "      <td>0</td>\n",
       "      <td>0</td>\n",
       "      <td>1</td>\n",
       "      <td>0</td>\n",
       "      <td>0.624985</td>\n",
       "    </tr>\n",
       "    <tr>\n",
       "      <th>815</th>\n",
       "      <td>0.763458</td>\n",
       "      <td>0.746442</td>\n",
       "      <td>0.712048</td>\n",
       "      <td>0.675893</td>\n",
       "      <td>0.649858</td>\n",
       "      <td>0</td>\n",
       "      <td>1</td>\n",
       "      <td>1</td>\n",
       "      <td>2</td>\n",
       "      <td>1</td>\n",
       "      <td>2</td>\n",
       "      <td>1</td>\n",
       "      <td>0.418562</td>\n",
       "    </tr>\n",
       "    <tr>\n",
       "      <th>816</th>\n",
       "      <td>0.774557</td>\n",
       "      <td>0.741126</td>\n",
       "      <td>0.736407</td>\n",
       "      <td>0.734361</td>\n",
       "      <td>0.717974</td>\n",
       "      <td>0</td>\n",
       "      <td>0</td>\n",
       "      <td>1</td>\n",
       "      <td>0</td>\n",
       "      <td>2</td>\n",
       "      <td>1</td>\n",
       "      <td>0</td>\n",
       "      <td>0.648837</td>\n",
       "    </tr>\n",
       "  </tbody>\n",
       "</table>\n",
       "<p>817 rows × 13 columns</p>\n",
       "</div>\n",
       "      <button class=\"colab-df-convert\" onclick=\"convertToInteractive('df-14a1a2bd-b8b4-47cb-bd50-bc8886f2b9a3')\"\n",
       "              title=\"Convert this dataframe to an interactive table.\"\n",
       "              style=\"display:none;\">\n",
       "        \n",
       "  <svg xmlns=\"http://www.w3.org/2000/svg\" height=\"24px\"viewBox=\"0 0 24 24\"\n",
       "       width=\"24px\">\n",
       "    <path d=\"M0 0h24v24H0V0z\" fill=\"none\"/>\n",
       "    <path d=\"M18.56 5.44l.94 2.06.94-2.06 2.06-.94-2.06-.94-.94-2.06-.94 2.06-2.06.94zm-11 1L8.5 8.5l.94-2.06 2.06-.94-2.06-.94L8.5 2.5l-.94 2.06-2.06.94zm10 10l.94 2.06.94-2.06 2.06-.94-2.06-.94-.94-2.06-.94 2.06-2.06.94z\"/><path d=\"M17.41 7.96l-1.37-1.37c-.4-.4-.92-.59-1.43-.59-.52 0-1.04.2-1.43.59L10.3 9.45l-7.72 7.72c-.78.78-.78 2.05 0 2.83L4 21.41c.39.39.9.59 1.41.59.51 0 1.02-.2 1.41-.59l7.78-7.78 2.81-2.81c.8-.78.8-2.07 0-2.86zM5.41 20L4 18.59l7.72-7.72 1.47 1.35L5.41 20z\"/>\n",
       "  </svg>\n",
       "      </button>\n",
       "      \n",
       "  <style>\n",
       "    .colab-df-container {\n",
       "      display:flex;\n",
       "      flex-wrap:wrap;\n",
       "      gap: 12px;\n",
       "    }\n",
       "\n",
       "    .colab-df-convert {\n",
       "      background-color: #E8F0FE;\n",
       "      border: none;\n",
       "      border-radius: 50%;\n",
       "      cursor: pointer;\n",
       "      display: none;\n",
       "      fill: #1967D2;\n",
       "      height: 32px;\n",
       "      padding: 0 0 0 0;\n",
       "      width: 32px;\n",
       "    }\n",
       "\n",
       "    .colab-df-convert:hover {\n",
       "      background-color: #E2EBFA;\n",
       "      box-shadow: 0px 1px 2px rgba(60, 64, 67, 0.3), 0px 1px 3px 1px rgba(60, 64, 67, 0.15);\n",
       "      fill: #174EA6;\n",
       "    }\n",
       "\n",
       "    [theme=dark] .colab-df-convert {\n",
       "      background-color: #3B4455;\n",
       "      fill: #D2E3FC;\n",
       "    }\n",
       "\n",
       "    [theme=dark] .colab-df-convert:hover {\n",
       "      background-color: #434B5C;\n",
       "      box-shadow: 0px 1px 3px 1px rgba(0, 0, 0, 0.15);\n",
       "      filter: drop-shadow(0px 1px 2px rgba(0, 0, 0, 0.3));\n",
       "      fill: #FFFFFF;\n",
       "    }\n",
       "  </style>\n",
       "\n",
       "      <script>\n",
       "        const buttonEl =\n",
       "          document.querySelector('#df-14a1a2bd-b8b4-47cb-bd50-bc8886f2b9a3 button.colab-df-convert');\n",
       "        buttonEl.style.display =\n",
       "          google.colab.kernel.accessAllowed ? 'block' : 'none';\n",
       "\n",
       "        async function convertToInteractive(key) {\n",
       "          const element = document.querySelector('#df-14a1a2bd-b8b4-47cb-bd50-bc8886f2b9a3');\n",
       "          const dataTable =\n",
       "            await google.colab.kernel.invokeFunction('convertToInteractive',\n",
       "                                                     [key], {});\n",
       "          if (!dataTable) return;\n",
       "\n",
       "          const docLinkHtml = 'Like what you see? Visit the ' +\n",
       "            '<a target=\"_blank\" href=https://colab.research.google.com/notebooks/data_table.ipynb>data table notebook</a>'\n",
       "            + ' to learn more about interactive tables.';\n",
       "          element.innerHTML = '';\n",
       "          dataTable['output_type'] = 'display_data';\n",
       "          await google.colab.output.renderOutput(dataTable, element);\n",
       "          const docLink = document.createElement('div');\n",
       "          docLink.innerHTML = docLinkHtml;\n",
       "          element.appendChild(docLink);\n",
       "        }\n",
       "      </script>\n",
       "    </div>\n",
       "  </div>\n",
       "  "
      ],
      "text/plain": [
       "      score_1   score_2   score_3   score_4   score_5  label_pred_1  \\\n",
       "0    0.710615  0.706026  0.666258  0.664980  0.658934             0   \n",
       "1    0.737935  0.703151  0.699834  0.696477  0.692233             0   \n",
       "2    0.757152  0.736345  0.720983  0.714639  0.712411             0   \n",
       "3    0.636801  0.629225  0.625833  0.604343  0.593791             0   \n",
       "4    0.643468  0.620197  0.597234  0.590584  0.582203             0   \n",
       "..        ...       ...       ...       ...       ...           ...   \n",
       "812  0.474088  0.458677  0.453075  0.447407  0.446844             0   \n",
       "813  0.806806  0.803364  0.799427  0.798791  0.792464             0   \n",
       "814  0.706968  0.672361  0.646371  0.600586  0.593879             0   \n",
       "815  0.763458  0.746442  0.712048  0.675893  0.649858             0   \n",
       "816  0.774557  0.741126  0.736407  0.734361  0.717974             0   \n",
       "\n",
       "     label_pred_2  label_pred_3  label_pred_4  label_pred_5  label_true  \\\n",
       "0               1             2             3             0           2   \n",
       "1               1             0             2             3           5   \n",
       "2               0             0             1             2           5   \n",
       "3               1             2             0             2           5   \n",
       "4               1             2             1             1           1   \n",
       "..            ...           ...           ...           ...         ...   \n",
       "812             0             1             1             2           5   \n",
       "813             1             2             3             1           2   \n",
       "814             0             1             0             0           1   \n",
       "815             1             1             2             1           2   \n",
       "816             0             1             0             2           1   \n",
       "\n",
       "     rf_pred  rf_score  \n",
       "0          5  0.551597  \n",
       "1          5  0.467114  \n",
       "2          0  0.395931  \n",
       "3          0  0.414181  \n",
       "4          1  0.353134  \n",
       "..       ...       ...  \n",
       "812        0  0.457041  \n",
       "813        5  0.339356  \n",
       "814        0  0.624985  \n",
       "815        1  0.418562  \n",
       "816        0  0.648837  \n",
       "\n",
       "[817 rows x 13 columns]"
      ]
     },
     "execution_count": 114,
     "metadata": {},
     "output_type": "execute_result"
    }
   ],
   "source": [
    "df_assess"
   ]
  },
  {
   "cell_type": "code",
   "execution_count": null,
   "id": "BNCM1YYQ8B91",
   "metadata": {
    "colab": {
     "base_uri": "https://localhost:8080/",
     "height": 685
    },
    "id": "BNCM1YYQ8B91",
    "outputId": "ba9ec611-44c8-4832-a8ff-a9b32483c75f"
   },
   "outputs": [
    {
     "data": {
      "image/png": "[encoded data removed]",
      "text/plain": [
       "<Figure size 432x288 with 1 Axes>"
      ]
     },
     "metadata": {
      "needs_background": "light"
     },
     "output_type": "display_data"
    },
    {
     "name": "stdout",
     "output_type": "stream",
     "text": [
      "Best Threshold=0.876714, precision=0.750\n",
      "\n",
      "               precision    recall  f1-score   support\n",
      "\n",
      "           0       0.55      1.00      0.71       447\n",
      "           1       0.00      0.00      0.00       370\n",
      "\n",
      "    accuracy                           0.55       817\n",
      "   macro avg       0.27      0.50      0.35       817\n",
      "weighted avg       0.30      0.55      0.39       817\n",
      "\n",
      "----------------------------------\n",
      "\n",
      "               precision    recall  f1-score   support\n",
      "\n",
      "           0       0.55      0.99      0.71       447\n",
      "           1       0.74      0.04      0.07       370\n",
      "\n",
      "    accuracy                           0.56       817\n",
      "   macro avg       0.65      0.51      0.39       817\n",
      "weighted avg       0.64      0.56      0.42       817\n",
      "\n"
     ]
    }
   ],
   "source": [
    "#TODO WArning : this cell function is different from the on used in the \"all models optimization\"\n",
    "# classification label \n",
    "df_assess['compare_between_true_and_rf_label'] = np.where(\n",
    "    df_assess['rf_pred'] == df_assess['label_true'], 1, 0) \n",
    "# calculate pr-curve (instead of ROC curve : more appropriate for imbalanced data)\n",
    "precision, recall, thresholds = precision_recall_curve(df_assess[\"compare_between_true_and_rf_label\"].to_list(), df_assess.rf_score.to_list())\n",
    "\n",
    "# plot the pr curve for the model\n",
    "\n",
    "pyplot.plot(recall, precision, marker='.', label='BERT')\n",
    "pyplot.xlabel('Recall')\n",
    "pyplot.ylabel('Precision')\n",
    "pyplot.legend()\n",
    "pyplot.show()\n",
    "\n",
    "precision = precision[:-2]\n",
    "\n",
    "# locate the index of the largest f score\n",
    "ix = np.argmax(precision)\n",
    "print('Best Threshold=%f, precision=%.3f' % (thresholds[ix], precision[ix]))\n",
    "\n",
    "y = df_assess[\"compare_between_true_and_rf_label\"].to_list()\n",
    "\n",
    "# \"visually\" determined value\n",
    "y_preds = [1 if x == 0.5 else 0 for x in df_assess.rf_score.to_list()]\n",
    "y_preds_opt_thresh = [1 if x >(thresholds[ix]) else 0 for x in df_assess.rf_score.to_list()]\n",
    "\n",
    "print('\\n',classification_report(y,y_preds, zero_division=0))\n",
    "print(\"----------------------------------\")\n",
    "print('\\n',classification_report(y,y_preds_opt_thresh, zero_division=0))"
   ]
  },
  {
   "cell_type": "code",
   "execution_count": null,
   "id": "sCfPQ0a98B91",
   "metadata": {
    "colab": {
     "base_uri": "https://localhost:8080/"
    },
    "id": "sCfPQ0a98B91",
    "outputId": "d979241c-97a7-45e6-a683-93b15925ed7c"
   },
   "outputs": [
    {
     "name": "stdout",
     "output_type": "stream",
     "text": [
      "\n",
      "               precision    recall  f1-score   support\n",
      "\n",
      "           0       0.28      1.00      0.44       232\n",
      "           1       0.00      0.00      0.00       116\n",
      "           2       0.00      0.00      0.00        73\n",
      "           3       0.00      0.00      0.00        26\n",
      "           4       0.00      0.00      0.00        16\n",
      "           5       0.00      0.00      0.00       354\n",
      "\n",
      "    accuracy                           0.28       817\n",
      "   macro avg       0.05      0.17      0.07       817\n",
      "weighted avg       0.08      0.28      0.13       817\n",
      "\n"
     ]
    }
   ],
   "source": [
    "print('\\n',classification_report(y_test, df_assess[\"label_pred_1\"], zero_division=0))"
   ]
  },
  {
   "cell_type": "code",
   "execution_count": null,
   "id": "lt0UFtIH8B91",
   "metadata": {
    "colab": {
     "base_uri": "https://localhost:8080/"
    },
    "id": "lt0UFtIH8B91",
    "outputId": "fcb8cf52-f36e-408c-d99d-83c272266527"
   },
   "outputs": [
    {
     "name": "stdout",
     "output_type": "stream",
     "text": [
      "\n",
      "               precision    recall  f1-score   support\n",
      "\n",
      "           0       0.43      0.66      0.52       232\n",
      "           1       0.47      0.31      0.38       116\n",
      "           2       0.33      0.04      0.07        73\n",
      "           3       0.00      0.00      0.00        26\n",
      "           4       0.00      0.00      0.00        16\n",
      "           5       0.48      0.50      0.49       354\n",
      "\n",
      "    accuracy                           0.45       817\n",
      "   macro avg       0.29      0.25      0.24       817\n",
      "weighted avg       0.43      0.45      0.42       817\n",
      "\n"
     ]
    }
   ],
   "source": [
    "print('\\n',classification_report(y_test, y_pred_random_forest, zero_division=0))"
   ]
  },
  {
   "cell_type": "markdown",
   "id": "x03WFFvTBHUl",
   "metadata": {
    "id": "x03WFFvTBHUl"
   },
   "source": [
    "## ADA-BOOST"
   ]
  },
  {
   "cell_type": "code",
   "execution_count": null,
   "id": "_VdWg_wkBFur",
   "metadata": {
    "id": "_VdWg_wkBFur"
   },
   "outputs": [],
   "source": [
    "def adaboust_best_param(X_final, y):\n",
    "    ada_dict = {}\n",
    "    # Split the dataset in two equal parts\n",
    "    X_train, X_test, y_train, y_test = train_test_split(X_final, y, test_size=0.3, random_state=0)\n",
    "    for n in [10,20,30,40,50]:\n",
    "        model = AdaBoostClassifier(DecisionTreeClassifier(max_depth = 1, # Just a stump.\n",
    "                                   random_state = np.random.RandomState(0)),\n",
    "                                   n_estimators = n,\n",
    "                                   random_state = np.random.RandomState(0))\n",
    "        model.fit(X_train, y_train)\n",
    "        ada_dict[n] = [model.score(X_train, y_train)]\n",
    "    df_evaluation = pd.DataFrame.from_dict(ada_dict)\n",
    "    df_evaluation = df_evaluation.rename(index = {0 : 'Score'})\n",
    "    return df_evaluation"
   ]
  },
  {
   "cell_type": "code",
   "execution_count": null,
   "id": "HfVM7Q97BJ6e",
   "metadata": {
    "colab": {
     "base_uri": "https://localhost:8080/",
     "height": 81
    },
    "id": "HfVM7Q97BJ6e",
    "outputId": "ca8969dc-9c35-4ac8-907c-5fe2aa59d3c6"
   },
   "outputs": [
    {
     "data": {
      "text/html": [
       "\n",
       "  <div id=\"df-63399410-d420-403f-87f8-6870bbd0c13d\">\n",
       "    <div class=\"colab-df-container\">\n",
       "      <div>\n",
       "<style scoped>\n",
       "    .dataframe tbody tr th:only-of-type {\n",
       "        vertical-align: middle;\n",
       "    }\n",
       "\n",
       "    .dataframe tbody tr th {\n",
       "        vertical-align: top;\n",
       "    }\n",
       "\n",
       "    .dataframe thead th {\n",
       "        text-align: right;\n",
       "    }\n",
       "</style>\n",
       "<table border=\"1\" class=\"dataframe\">\n",
       "  <thead>\n",
       "    <tr style=\"text-align: right;\">\n",
       "      <th></th>\n",
       "      <th>10</th>\n",
       "      <th>20</th>\n",
       "      <th>30</th>\n",
       "      <th>40</th>\n",
       "      <th>50</th>\n",
       "    </tr>\n",
       "  </thead>\n",
       "  <tbody>\n",
       "    <tr>\n",
       "      <th>Score</th>\n",
       "      <td>0.540729</td>\n",
       "      <td>0.54753</td>\n",
       "      <td>0.50996</td>\n",
       "      <td>0.518866</td>\n",
       "      <td>0.508826</td>\n",
       "    </tr>\n",
       "  </tbody>\n",
       "</table>\n",
       "</div>\n",
       "      <button class=\"colab-df-convert\" onclick=\"convertToInteractive('df-63399410-d420-403f-87f8-6870bbd0c13d')\"\n",
       "              title=\"Convert this dataframe to an interactive table.\"\n",
       "              style=\"display:none;\">\n",
       "        \n",
       "  <svg xmlns=\"http://www.w3.org/2000/svg\" height=\"24px\"viewBox=\"0 0 24 24\"\n",
       "       width=\"24px\">\n",
       "    <path d=\"M0 0h24v24H0V0z\" fill=\"none\"/>\n",
       "    <path d=\"M18.56 5.44l.94 2.06.94-2.06 2.06-.94-2.06-.94-.94-2.06-.94 2.06-2.06.94zm-11 1L8.5 8.5l.94-2.06 2.06-.94-2.06-.94L8.5 2.5l-.94 2.06-2.06.94zm10 10l.94 2.06.94-2.06 2.06-.94-2.06-.94-.94-2.06-.94 2.06-2.06.94z\"/><path d=\"M17.41 7.96l-1.37-1.37c-.4-.4-.92-.59-1.43-.59-.52 0-1.04.2-1.43.59L10.3 9.45l-7.72 7.72c-.78.78-.78 2.05 0 2.83L4 21.41c.39.39.9.59 1.41.59.51 0 1.02-.2 1.41-.59l7.78-7.78 2.81-2.81c.8-.78.8-2.07 0-2.86zM5.41 20L4 18.59l7.72-7.72 1.47 1.35L5.41 20z\"/>\n",
       "  </svg>\n",
       "      </button>\n",
       "      \n",
       "  <style>\n",
       "    .colab-df-container {\n",
       "      display:flex;\n",
       "      flex-wrap:wrap;\n",
       "      gap: 12px;\n",
       "    }\n",
       "\n",
       "    .colab-df-convert {\n",
       "      background-color: #E8F0FE;\n",
       "      border: none;\n",
       "      border-radius: 50%;\n",
       "      cursor: pointer;\n",
       "      display: none;\n",
       "      fill: #1967D2;\n",
       "      height: 32px;\n",
       "      padding: 0 0 0 0;\n",
       "      width: 32px;\n",
       "    }\n",
       "\n",
       "    .colab-df-convert:hover {\n",
       "      background-color: #E2EBFA;\n",
       "      box-shadow: 0px 1px 2px rgba(60, 64, 67, 0.3), 0px 1px 3px 1px rgba(60, 64, 67, 0.15);\n",
       "      fill: #174EA6;\n",
       "    }\n",
       "\n",
       "    [theme=dark] .colab-df-convert {\n",
       "      background-color: #3B4455;\n",
       "      fill: #D2E3FC;\n",
       "    }\n",
       "\n",
       "    [theme=dark] .colab-df-convert:hover {\n",
       "      background-color: #434B5C;\n",
       "      box-shadow: 0px 1px 3px 1px rgba(0, 0, 0, 0.15);\n",
       "      filter: drop-shadow(0px 1px 2px rgba(0, 0, 0, 0.3));\n",
       "      fill: #FFFFFF;\n",
       "    }\n",
       "  </style>\n",
       "\n",
       "      <script>\n",
       "        const buttonEl =\n",
       "          document.querySelector('#df-63399410-d420-403f-87f8-6870bbd0c13d button.colab-df-convert');\n",
       "        buttonEl.style.display =\n",
       "          google.colab.kernel.accessAllowed ? 'block' : 'none';\n",
       "\n",
       "        async function convertToInteractive(key) {\n",
       "          const element = document.querySelector('#df-63399410-d420-403f-87f8-6870bbd0c13d');\n",
       "          const dataTable =\n",
       "            await google.colab.kernel.invokeFunction('convertToInteractive',\n",
       "                                                     [key], {});\n",
       "          if (!dataTable) return;\n",
       "\n",
       "          const docLinkHtml = 'Like what you see? Visit the ' +\n",
       "            '<a target=\"_blank\" href=https://colab.research.google.com/notebooks/data_table.ipynb>data table notebook</a>'\n",
       "            + ' to learn more about interactive tables.';\n",
       "          element.innerHTML = '';\n",
       "          dataTable['output_type'] = 'display_data';\n",
       "          await google.colab.output.renderOutput(dataTable, element);\n",
       "          const docLink = document.createElement('div');\n",
       "          docLink.innerHTML = docLinkHtml;\n",
       "          element.appendChild(docLink);\n",
       "        }\n",
       "      </script>\n",
       "    </div>\n",
       "  </div>\n",
       "  "
      ],
      "text/plain": [
       "             10       20       30        40        50\n",
       "Score  0.540729  0.54753  0.50996  0.518866  0.508826"
      ]
     },
     "execution_count": 119,
     "metadata": {},
     "output_type": "execute_result"
    }
   ],
   "source": [
    "adaboust_best_param(X_train, y_train)"
   ]
  },
  {
   "cell_type": "code",
   "execution_count": null,
   "id": "2DrthtwHBJ9r",
   "metadata": {
    "colab": {
     "base_uri": "https://localhost:8080/"
    },
    "id": "2DrthtwHBJ9r",
    "outputId": "4b0a5e34-bd43-43e5-bf88-a41811342b61"
   },
   "outputs": [
    {
     "data": {
      "text/plain": [
       "0.40269277845777235"
      ]
     },
     "execution_count": 120,
     "metadata": {},
     "output_type": "execute_result"
    }
   ],
   "source": [
    "AdaBoos_model = AdaBoostClassifier(n_estimators=20, random_state=0)\n",
    "AdaBoos_model.fit(X_train, y_train)\n",
    "y_pred_AdaB = AdaBoos_model.predict(X_test)\n",
    "AdaBoos_model.score(X_test, y_test)"
   ]
  },
  {
   "cell_type": "code",
   "execution_count": null,
   "id": "oSDaoLtSBKA8",
   "metadata": {
    "colab": {
     "base_uri": "https://localhost:8080/"
    },
    "id": "oSDaoLtSBKA8",
    "outputId": "d5f1a492-7041-47d1-d885-93ffeb88c857"
   },
   "outputs": [
    {
     "name": "stdout",
     "output_type": "stream",
     "text": [
      "              precision    recall  f1-score   support\n",
      "\n",
      "           0       0.37      0.61      0.46       232\n",
      "           1       0.25      0.16      0.19       116\n",
      "           2       0.40      0.03      0.05        73\n",
      "           3       0.00      0.00      0.00        26\n",
      "           4       0.00      0.00      0.00        16\n",
      "           5       0.47      0.47      0.47       354\n",
      "\n",
      "    accuracy                           0.40       817\n",
      "   macro avg       0.25      0.21      0.20       817\n",
      "weighted avg       0.38      0.40      0.37       817\n",
      "\n"
     ]
    }
   ],
   "source": [
    "print(classification_report(y_test, y_pred_AdaB))"
   ]
  },
  {
   "cell_type": "code",
   "execution_count": null,
   "id": "lCfAzOs0HpxD",
   "metadata": {
    "colab": {
     "base_uri": "https://localhost:8080/",
     "height": 302
    },
    "id": "lCfAzOs0HpxD",
    "outputId": "6a4ec43e-91fe-4715-f3d2-a83a9d27348c"
   },
   "outputs": [
    {
     "name": "stdout",
     "output_type": "stream",
     "text": [
      "Accuracy is:  0.40269277845777235\n"
     ]
    },
    {
     "data": {
      "text/plain": [
       "<matplotlib.axes._subplots.AxesSubplot at 0x7f45898bcfd0>"
      ]
     },
     "execution_count": 122,
     "metadata": {},
     "output_type": "execute_result"
    },
    {
     "data": {
      "image/png": "[encoded data removed]",
      "text/plain": [
       "<Figure size 432x288 with 2 Axes>"
      ]
     },
     "metadata": {
      "needs_background": "light"
     },
     "output_type": "display_data"
    }
   ],
   "source": [
    "ac = accuracy_score(y_test,AdaBoos_model.predict(X_test))\n",
    "print('Accuracy is: ',ac)\n",
    "cm = confusion_matrix(y_test,AdaBoos_model.predict(X_test))\n",
    "sns.heatmap(cm,annot=True,fmt=\"d\")"
   ]
  },
  {
   "cell_type": "code",
   "execution_count": null,
   "id": "wEAORWEg8wSq",
   "metadata": {
    "id": "wEAORWEg8wSq"
   },
   "outputs": [],
   "source": [
    "df_assess[\"AdaB_pred\"] = y_pred_AdaB\n",
    "df_assess[\"AdaB_score\"] = np.max(AdaBoos_model.predict_proba(X_test), axis=1)"
   ]
  },
  {
   "cell_type": "code",
   "execution_count": null,
   "id": "bcY-Fr508wSr",
   "metadata": {
    "colab": {
     "base_uri": "https://localhost:8080/",
     "height": 685
    },
    "id": "bcY-Fr508wSr",
    "outputId": "f6f1b29b-ebb8-4d1e-83c9-66f4112380e4"
   },
   "outputs": [
    {
     "data": {
      "image/png": "[encoded data removed]",
      "text/plain": [
       "<Figure size 432x288 with 1 Axes>"
      ]
     },
     "metadata": {
      "needs_background": "light"
     },
     "output_type": "display_data"
    },
    {
     "name": "stdout",
     "output_type": "stream",
     "text": [
      "Best Threshold=0.329609, precision=0.714\n",
      "\n",
      "               precision    recall  f1-score   support\n",
      "\n",
      "           0       0.60      1.00      0.75       488\n",
      "           1       0.00      0.00      0.00       329\n",
      "\n",
      "    accuracy                           0.60       817\n",
      "   macro avg       0.30      0.50      0.37       817\n",
      "weighted avg       0.36      0.60      0.45       817\n",
      "\n",
      "----------------------------------\n",
      "\n",
      "               precision    recall  f1-score   support\n",
      "\n",
      "           0       0.60      1.00      0.75       488\n",
      "           1       0.60      0.01      0.02       329\n",
      "\n",
      "    accuracy                           0.60       817\n",
      "   macro avg       0.60      0.50      0.38       817\n",
      "weighted avg       0.60      0.60      0.45       817\n",
      "\n"
     ]
    }
   ],
   "source": [
    "#TODO WArning : this cell function is different from the on used in the \"all models optimization\"\n",
    "# classification label \n",
    "df_assess['compare_between_true_and_AdaB_label'] = np.where(\n",
    "    df_assess['AdaB_pred'] == df_assess['label_true'], 1, 0) \n",
    "# calculate pr-curve (instead of ROC curve : more appropriate for imbalanced data)\n",
    "precision, recall, thresholds = precision_recall_curve(df_assess[\"compare_between_true_and_AdaB_label\"].to_list(), df_assess.AdaB_score.to_list())\n",
    "\n",
    "# plot the pr curve for the model\n",
    "\n",
    "pyplot.plot(recall, precision, marker='.', label='BERT')\n",
    "pyplot.xlabel('Recall')\n",
    "pyplot.ylabel('Precision')\n",
    "pyplot.legend()\n",
    "pyplot.show()\n",
    "\n",
    "precision = precision[:-2]\n",
    "\n",
    "# locate the index of the largest f score\n",
    "ix = np.argmax(precision)\n",
    "print('Best Threshold=%f, precision=%.3f' % (thresholds[ix], precision[ix]))\n",
    "\n",
    "y = df_assess[\"compare_between_true_and_AdaB_label\"].to_list()\n",
    "\n",
    "# \"visually\" determined value\n",
    "y_preds = [1 if x == 0.5 else 0 for x in df_assess.AdaB_score.to_list()]\n",
    "y_preds_opt_thresh = [1 if x >(thresholds[ix]) else 0 for x in df_assess.AdaB_score.to_list()]\n",
    "\n",
    "print('\\n',classification_report(y,y_preds, zero_division=0))\n",
    "print(\"----------------------------------\")\n",
    "print('\\n',classification_report(y,y_preds_opt_thresh, zero_division=0))"
   ]
  },
  {
   "cell_type": "code",
   "execution_count": null,
   "id": "BjgAZZIz8wSr",
   "metadata": {
    "colab": {
     "base_uri": "https://localhost:8080/"
    },
    "id": "BjgAZZIz8wSr",
    "outputId": "1067fed0-3388-424e-f5ee-3c50306977a3"
   },
   "outputs": [
    {
     "name": "stdout",
     "output_type": "stream",
     "text": [
      "\n",
      "               precision    recall  f1-score   support\n",
      "\n",
      "           0       0.28      1.00      0.44       232\n",
      "           1       0.00      0.00      0.00       116\n",
      "           2       0.00      0.00      0.00        73\n",
      "           3       0.00      0.00      0.00        26\n",
      "           4       0.00      0.00      0.00        16\n",
      "           5       0.00      0.00      0.00       354\n",
      "\n",
      "    accuracy                           0.28       817\n",
      "   macro avg       0.05      0.17      0.07       817\n",
      "weighted avg       0.08      0.28      0.13       817\n",
      "\n"
     ]
    }
   ],
   "source": [
    "print('\\n',classification_report(y_test, df_assess[\"label_pred_1\"], zero_division=0))"
   ]
  },
  {
   "cell_type": "code",
   "execution_count": null,
   "id": "FIqXnTy68wSr",
   "metadata": {
    "colab": {
     "base_uri": "https://localhost:8080/"
    },
    "id": "FIqXnTy68wSr",
    "outputId": "df31a7a7-0621-41e1-e3fc-5e5e140cc90f"
   },
   "outputs": [
    {
     "name": "stdout",
     "output_type": "stream",
     "text": [
      "\n",
      "               precision    recall  f1-score   support\n",
      "\n",
      "           0       0.37      0.61      0.46       232\n",
      "           1       0.25      0.16      0.19       116\n",
      "           2       0.40      0.03      0.05        73\n",
      "           3       0.00      0.00      0.00        26\n",
      "           4       0.00      0.00      0.00        16\n",
      "           5       0.47      0.47      0.47       354\n",
      "\n",
      "    accuracy                           0.40       817\n",
      "   macro avg       0.25      0.21      0.20       817\n",
      "weighted avg       0.38      0.40      0.37       817\n",
      "\n"
     ]
    }
   ],
   "source": [
    "print('\\n',classification_report(y_test, y_pred_AdaB, zero_division=0))"
   ]
  },
  {
   "cell_type": "markdown",
   "id": "Q-H1v9SMROTC",
   "metadata": {
    "id": "Q-H1v9SMROTC"
   },
   "source": [
    "## XG-BOOST"
   ]
  },
  {
   "cell_type": "code",
   "execution_count": null,
   "id": "19U_KvYMROTC",
   "metadata": {
    "id": "19U_KvYMROTC"
   },
   "outputs": [],
   "source": [
    "xgb_model = xgb.XGBClassifier()\n",
    "params = {\n",
    "            'eta': np.arange(0.1, 0.26, 0.05),\n",
    "            'min_child_weight': np.arange(1, 5, 0.5).tolist(),\n",
    "            'gamma': [5],\n",
    "            'subsample': np.arange(0.5, 1.0, 0.11).tolist(),\n",
    "            'colsample_bytree': np.arange(0.5, 1.0, 0.11).tolist()\n",
    "        }\n",
    "\n",
    "skf = StratifiedKFold(n_splits=10, shuffle = True)\n",
    "\n",
    "grid = GridSearchCV(xgb_model, \n",
    "                    param_grid = params,  \n",
    "                    n_jobs = -1, \n",
    "                    cv = skf.split(X_train, y_train),\n",
    "                    refit = \"accuracy_score\")\n",
    "\n",
    "grid.fit(X_train, y_train)\n",
    "# Dictionary of best parameters\n",
    "best_pars = grid.best_params_"
   ]
  },
  {
   "cell_type": "code",
   "execution_count": null,
   "id": "0oC-wfs8ROTE",
   "metadata": {
    "colab": {
     "base_uri": "https://localhost:8080/"
    },
    "id": "0oC-wfs8ROTE",
    "outputId": "9ff0a35d-b379-4436-c2ab-df356ddccc03"
   },
   "outputs": [
    {
     "data": {
      "text/plain": [
       "{'colsample_bytree': 0.61,\n",
       " 'eta': 0.1,\n",
       " 'gamma': 5,\n",
       " 'min_child_weight': 2.5,\n",
       " 'subsample': 0.72}"
      ]
     },
     "execution_count": 220,
     "metadata": {},
     "output_type": "execute_result"
    }
   ],
   "source": [
    "best_pars"
   ]
  },
  {
   "cell_type": "code",
   "execution_count": null,
   "id": "kWwyQ8w-ROTL",
   "metadata": {
    "id": "kWwyQ8w-ROTL"
   },
   "outputs": [],
   "source": [
    "xgb_model = xgb.XGBClassifier(colsample_bytree=0.5,\n",
    " eta=0.1,\n",
    " gamma= 5,\n",
    " min_child_weight=1.5,\n",
    " subsample= 0.94)"
   ]
  },
  {
   "cell_type": "code",
   "execution_count": null,
   "id": "yZWDtRDXROTO",
   "metadata": {
    "colab": {
     "base_uri": "https://localhost:8080/"
    },
    "id": "yZWDtRDXROTO",
    "outputId": "548b425a-7cdc-46d8-bd9e-5f1303c55174"
   },
   "outputs": [
    {
     "name": "stdout",
     "output_type": "stream",
     "text": [
      "              precision    recall  f1-score   support\n",
      "\n",
      "           0       0.44      0.69      0.54       232\n",
      "           1       0.50      0.23      0.32       116\n",
      "           2       0.27      0.04      0.07        73\n",
      "           3       0.00      0.00      0.00        26\n",
      "           4       0.00      0.00      0.00        16\n",
      "           5       0.48      0.53      0.51       354\n",
      "\n",
      "    accuracy                           0.46       817\n",
      "   macro avg       0.28      0.25      0.24       817\n",
      "weighted avg       0.43      0.46      0.42       817\n",
      "\n"
     ]
    }
   ],
   "source": [
    "xgb_model.fit(X_train, y_train)\n",
    "y_pred_xgb = xgb_model.predict(X_test)\n",
    "report = classification_report(y_test,y_pred_xgb)\n",
    "print(report)"
   ]
  },
  {
   "cell_type": "code",
   "execution_count": null,
   "id": "OxfSekjXCoX2",
   "metadata": {
    "colab": {
     "base_uri": "https://localhost:8080/",
     "height": 302
    },
    "id": "OxfSekjXCoX2",
    "outputId": "39fc324d-a75c-40bb-95bc-bfba5623b179"
   },
   "outputs": [
    {
     "name": "stdout",
     "output_type": "stream",
     "text": [
      "Accuracy is:  0.46266829865361075\n"
     ]
    },
    {
     "data": {
      "text/plain": [
       "<matplotlib.axes._subplots.AxesSubplot at 0x7f458973cf50>"
      ]
     },
     "execution_count": 131,
     "metadata": {},
     "output_type": "execute_result"
    },
    {
     "data": {
      "image/png": "[encoded data removed]",
      "text/plain": [
       "<Figure size 432x288 with 2 Axes>"
      ]
     },
     "metadata": {
      "needs_background": "light"
     },
     "output_type": "display_data"
    }
   ],
   "source": [
    "ac = accuracy_score(y_test,xgb_model.predict(X_test))\n",
    "print('Accuracy is: ',ac)\n",
    "cm = confusion_matrix(y_test,xgb_model.predict(X_test))\n",
    "sns.heatmap(cm,annot=True,fmt=\"d\")"
   ]
  },
  {
   "cell_type": "code",
   "execution_count": null,
   "id": "-lezG-M2AULg",
   "metadata": {
    "id": "-lezG-M2AULg"
   },
   "outputs": [],
   "source": [
    "df_assess[\"xgb_pred\"] = y_pred_xgb\n",
    "df_assess[\"xgb_score\"] = np.max(xgb_model.predict_proba(X_test), axis=1)"
   ]
  },
  {
   "cell_type": "code",
   "execution_count": null,
   "id": "2jVu2QCJAULg",
   "metadata": {
    "colab": {
     "base_uri": "https://localhost:8080/",
     "height": 685
    },
    "id": "2jVu2QCJAULg",
    "outputId": "13baf542-c704-46d4-b109-046d763f7d9a"
   },
   "outputs": [
    {
     "data": {
      "image/png": "[encoded data removed]",
      "text/plain": [
       "<Figure size 432x288 with 1 Axes>"
      ]
     },
     "metadata": {
      "needs_background": "light"
     },
     "output_type": "display_data"
    },
    {
     "name": "stdout",
     "output_type": "stream",
     "text": [
      "Best Threshold=0.821231, precision=0.717\n",
      "\n",
      "               precision    recall  f1-score   support\n",
      "\n",
      "           0       0.54      1.00      0.70       439\n",
      "           1       0.00      0.00      0.00       378\n",
      "\n",
      "    accuracy                           0.54       817\n",
      "   macro avg       0.27      0.50      0.35       817\n",
      "weighted avg       0.29      0.54      0.38       817\n",
      "\n",
      "----------------------------------\n",
      "\n",
      "               precision    recall  f1-score   support\n",
      "\n",
      "           0       0.55      0.97      0.70       439\n",
      "           1       0.71      0.08      0.15       378\n",
      "\n",
      "    accuracy                           0.56       817\n",
      "   macro avg       0.63      0.53      0.43       817\n",
      "weighted avg       0.63      0.56      0.45       817\n",
      "\n"
     ]
    }
   ],
   "source": [
    "#TODO WArning : this cell function is different from the on used in the \"all models optimization\"\n",
    "# classification label \n",
    "df_assess['compare_between_true_and_xgb_label'] = np.where(\n",
    "    df_assess['xgb_pred'] == df_assess['label_true'], 1, 0) \n",
    "# calculate pr-curve (instead of ROC curve : more appropriate for imbalanced data)\n",
    "precision, recall, thresholds = precision_recall_curve(df_assess[\"compare_between_true_and_xgb_label\"].to_list(), df_assess.xgb_score.to_list())\n",
    "\n",
    "# plot the pr curve for the model\n",
    "\n",
    "pyplot.plot(recall, precision, marker='.', label='BERT')\n",
    "pyplot.xlabel('Recall')\n",
    "pyplot.ylabel('Precision')\n",
    "pyplot.legend()\n",
    "pyplot.show()\n",
    "\n",
    "precision = precision[:-2]\n",
    "\n",
    "# locate the index of the largest f score\n",
    "ix = np.argmax(precision)\n",
    "print('Best Threshold=%f, precision=%.3f' % (thresholds[ix], precision[ix]))\n",
    "\n",
    "y = df_assess[\"compare_between_true_and_xgb_label\"].to_list()\n",
    "\n",
    "# \"visually\" determined value\n",
    "y_preds = [1 if x == 0.5 else 0 for x in df_assess.xgb_score.to_list()]\n",
    "y_preds_opt_thresh = [1 if x >(thresholds[ix]) else 0 for x in df_assess.xgb_score.to_list()]\n",
    "\n",
    "print('\\n',classification_report(y,y_preds, zero_division=0))\n",
    "print(\"----------------------------------\")\n",
    "print('\\n',classification_report(y,y_preds_opt_thresh, zero_division=0))"
   ]
  },
  {
   "cell_type": "code",
   "execution_count": null,
   "id": "zleGBru0AULh",
   "metadata": {
    "colab": {
     "base_uri": "https://localhost:8080/"
    },
    "id": "zleGBru0AULh",
    "outputId": "a6005eff-2cde-4f23-939f-017f11a00076"
   },
   "outputs": [
    {
     "name": "stdout",
     "output_type": "stream",
     "text": [
      "\n",
      "               precision    recall  f1-score   support\n",
      "\n",
      "           0       0.28      1.00      0.44       232\n",
      "           1       0.00      0.00      0.00       116\n",
      "           2       0.00      0.00      0.00        73\n",
      "           3       0.00      0.00      0.00        26\n",
      "           4       0.00      0.00      0.00        16\n",
      "           5       0.00      0.00      0.00       354\n",
      "\n",
      "    accuracy                           0.28       817\n",
      "   macro avg       0.05      0.17      0.07       817\n",
      "weighted avg       0.08      0.28      0.13       817\n",
      "\n"
     ]
    }
   ],
   "source": [
    "print('\\n',classification_report(y_test, df_assess[\"label_pred_1\"], zero_division=0))"
   ]
  },
  {
   "cell_type": "code",
   "execution_count": null,
   "id": "z-pbqi7XAULh",
   "metadata": {
    "colab": {
     "base_uri": "https://localhost:8080/"
    },
    "id": "z-pbqi7XAULh",
    "outputId": "412afd45-1406-4ae1-b613-d9d444a2e7d2"
   },
   "outputs": [
    {
     "name": "stdout",
     "output_type": "stream",
     "text": [
      "\n",
      "               precision    recall  f1-score   support\n",
      "\n",
      "           0       0.44      0.69      0.54       232\n",
      "           1       0.50      0.23      0.32       116\n",
      "           2       0.27      0.04      0.07        73\n",
      "           3       0.00      0.00      0.00        26\n",
      "           4       0.00      0.00      0.00        16\n",
      "           5       0.48      0.53      0.51       354\n",
      "\n",
      "    accuracy                           0.46       817\n",
      "   macro avg       0.28      0.25      0.24       817\n",
      "weighted avg       0.43      0.46      0.42       817\n",
      "\n"
     ]
    }
   ],
   "source": [
    "print('\\n',classification_report(y_test, y_pred_xgb, zero_division=0))"
   ]
  },
  {
   "cell_type": "markdown",
   "id": "yU6921yDEe_u",
   "metadata": {
    "id": "yU6921yDEe_u"
   },
   "source": [
    "## KNN"
   ]
  },
  {
   "cell_type": "code",
   "execution_count": null,
   "id": "p_u1i-NzCoa4",
   "metadata": {
    "id": "p_u1i-NzCoa4"
   },
   "outputs": [],
   "source": [
    "knn = KNeighborsClassifier()\n",
    "\n",
    "parameters = {'n_neighbors':[3,4,5,6,7,8,9,10],\n",
    "              'leaf_size':[1,3,5],\n",
    "              'algorithm':['auto', 'kd_tree'],\n",
    "              'n_jobs':[-1]}\n",
    "\n",
    "#Fit the model\n",
    "knn_model = GridSearchCV(knn, param_grid=parameters,cv=2)\n",
    "knn_model.fit(X_train,y_train)"
   ]
  },
  {
   "cell_type": "code",
   "execution_count": null,
   "id": "YA1KeGYsE5x1",
   "metadata": {
    "id": "YA1KeGYsE5x1"
   },
   "outputs": [],
   "source": [
    "knn_model_best = knn_model.best_params_"
   ]
  },
  {
   "cell_type": "code",
   "execution_count": null,
   "id": "24TC6Pj_1yI6",
   "metadata": {
    "colab": {
     "base_uri": "https://localhost:8080/"
    },
    "id": "24TC6Pj_1yI6",
    "outputId": "ccfc3263-8927-485a-fa54-b8dd42f05819"
   },
   "outputs": [
    {
     "name": "stdout",
     "output_type": "stream",
     "text": [
      "              precision    recall  f1-score   support\n",
      "\n",
      "           0       0.44      0.71      0.54       232\n",
      "           1       0.36      0.26      0.30       116\n",
      "           2       0.19      0.07      0.10        73\n",
      "           3       0.11      0.08      0.09        26\n",
      "           4       0.00      0.00      0.00        16\n",
      "           5       0.48      0.42      0.45       354\n",
      "\n",
      "    accuracy                           0.43       817\n",
      "   macro avg       0.26      0.26      0.25       817\n",
      "weighted avg       0.40      0.43      0.40       817\n",
      "\n"
     ]
    }
   ],
   "source": [
    "y_pred_knn = knn_model.predict(X_test) \n",
    "report = classification_report(y_test, y_pred_knn)\n",
    "print(report) "
   ]
  },
  {
   "cell_type": "code",
   "execution_count": null,
   "id": "hsNhQGysEyNC",
   "metadata": {
    "colab": {
     "base_uri": "https://localhost:8080/",
     "height": 302
    },
    "id": "hsNhQGysEyNC",
    "outputId": "5a37dc5f-6709-472d-9e1e-fbfa92b57b15"
   },
   "outputs": [
    {
     "name": "stdout",
     "output_type": "stream",
     "text": [
      "Accuracy is:  0.4283965728274174\n"
     ]
    },
    {
     "data": {
      "text/plain": [
       "<matplotlib.axes._subplots.AxesSubplot at 0x7f4589770cd0>"
      ]
     },
     "execution_count": 141,
     "metadata": {},
     "output_type": "execute_result"
    },
    {
     "data": {
      "image/png": "[encoded data removed]",
      "text/plain": [
       "<Figure size 432x288 with 2 Axes>"
      ]
     },
     "metadata": {
      "needs_background": "light"
     },
     "output_type": "display_data"
    }
   ],
   "source": [
    "ac = accuracy_score(y_test,knn_model.predict(X_test))\n",
    "print('Accuracy is: ',ac)\n",
    "cm = confusion_matrix(y_test,knn_model.predict(X_test))\n",
    "sns.heatmap(cm,annot=True,fmt=\"d\")"
   ]
  },
  {
   "cell_type": "code",
   "execution_count": null,
   "id": "UON5r9z12DZe",
   "metadata": {
    "id": "UON5r9z12DZe"
   },
   "outputs": [],
   "source": [
    "df_assess[\"knn_pred\"] = y_pred_knn\n",
    "df_assess[\"knn_score\"] = np.max(knn_model.predict_proba(X_test), axis=1)"
   ]
  },
  {
   "cell_type": "code",
   "execution_count": null,
   "id": "TKPwt1_RVsfn",
   "metadata": {
    "colab": {
     "base_uri": "https://localhost:8080/",
     "height": 487
    },
    "id": "TKPwt1_RVsfn",
    "outputId": "23473d01-c771-4d16-91b5-78d6943bf3e3"
   },
   "outputs": [
    {
     "data": {
      "text/html": [
       "\n",
       "  <div id=\"df-37414896-0d53-4e05-b4ab-5caf83394620\">\n",
       "    <div class=\"colab-df-container\">\n",
       "      <div>\n",
       "<style scoped>\n",
       "    .dataframe tbody tr th:only-of-type {\n",
       "        vertical-align: middle;\n",
       "    }\n",
       "\n",
       "    .dataframe tbody tr th {\n",
       "        vertical-align: top;\n",
       "    }\n",
       "\n",
       "    .dataframe thead th {\n",
       "        text-align: right;\n",
       "    }\n",
       "</style>\n",
       "<table border=\"1\" class=\"dataframe\">\n",
       "  <thead>\n",
       "    <tr style=\"text-align: right;\">\n",
       "      <th></th>\n",
       "      <th>score_1</th>\n",
       "      <th>score_2</th>\n",
       "      <th>score_3</th>\n",
       "      <th>score_4</th>\n",
       "      <th>score_5</th>\n",
       "      <th>label_pred_1</th>\n",
       "      <th>label_pred_2</th>\n",
       "      <th>label_pred_3</th>\n",
       "      <th>label_pred_4</th>\n",
       "      <th>label_pred_5</th>\n",
       "      <th>...</th>\n",
       "      <th>rf_score</th>\n",
       "      <th>compare_between_true_and_rf_label</th>\n",
       "      <th>AdaB_pred</th>\n",
       "      <th>AdaB_score</th>\n",
       "      <th>compare_between_true_and_AdaB_label</th>\n",
       "      <th>xgb_pred</th>\n",
       "      <th>xgb_score</th>\n",
       "      <th>compare_between_true_and_xgb_label</th>\n",
       "      <th>knn_pred</th>\n",
       "      <th>knn_score</th>\n",
       "    </tr>\n",
       "  </thead>\n",
       "  <tbody>\n",
       "    <tr>\n",
       "      <th>0</th>\n",
       "      <td>0.710615</td>\n",
       "      <td>0.706026</td>\n",
       "      <td>0.666258</td>\n",
       "      <td>0.664980</td>\n",
       "      <td>0.658934</td>\n",
       "      <td>0</td>\n",
       "      <td>1</td>\n",
       "      <td>2</td>\n",
       "      <td>3</td>\n",
       "      <td>0</td>\n",
       "      <td>...</td>\n",
       "      <td>0.551597</td>\n",
       "      <td>0</td>\n",
       "      <td>5</td>\n",
       "      <td>0.202796</td>\n",
       "      <td>0</td>\n",
       "      <td>5</td>\n",
       "      <td>0.530761</td>\n",
       "      <td>0</td>\n",
       "      <td>5</td>\n",
       "      <td>0.7</td>\n",
       "    </tr>\n",
       "    <tr>\n",
       "      <th>1</th>\n",
       "      <td>0.737935</td>\n",
       "      <td>0.703151</td>\n",
       "      <td>0.699834</td>\n",
       "      <td>0.696477</td>\n",
       "      <td>0.692233</td>\n",
       "      <td>0</td>\n",
       "      <td>1</td>\n",
       "      <td>0</td>\n",
       "      <td>2</td>\n",
       "      <td>3</td>\n",
       "      <td>...</td>\n",
       "      <td>0.467114</td>\n",
       "      <td>1</td>\n",
       "      <td>5</td>\n",
       "      <td>0.202796</td>\n",
       "      <td>1</td>\n",
       "      <td>5</td>\n",
       "      <td>0.409701</td>\n",
       "      <td>1</td>\n",
       "      <td>5</td>\n",
       "      <td>0.3</td>\n",
       "    </tr>\n",
       "    <tr>\n",
       "      <th>2</th>\n",
       "      <td>0.757152</td>\n",
       "      <td>0.736345</td>\n",
       "      <td>0.720983</td>\n",
       "      <td>0.714639</td>\n",
       "      <td>0.712411</td>\n",
       "      <td>0</td>\n",
       "      <td>0</td>\n",
       "      <td>0</td>\n",
       "      <td>1</td>\n",
       "      <td>2</td>\n",
       "      <td>...</td>\n",
       "      <td>0.395931</td>\n",
       "      <td>0</td>\n",
       "      <td>0</td>\n",
       "      <td>0.228985</td>\n",
       "      <td>0</td>\n",
       "      <td>0</td>\n",
       "      <td>0.599712</td>\n",
       "      <td>0</td>\n",
       "      <td>0</td>\n",
       "      <td>0.5</td>\n",
       "    </tr>\n",
       "    <tr>\n",
       "      <th>3</th>\n",
       "      <td>0.636801</td>\n",
       "      <td>0.629225</td>\n",
       "      <td>0.625833</td>\n",
       "      <td>0.604343</td>\n",
       "      <td>0.593791</td>\n",
       "      <td>0</td>\n",
       "      <td>1</td>\n",
       "      <td>2</td>\n",
       "      <td>0</td>\n",
       "      <td>2</td>\n",
       "      <td>...</td>\n",
       "      <td>0.414181</td>\n",
       "      <td>0</td>\n",
       "      <td>0</td>\n",
       "      <td>0.201936</td>\n",
       "      <td>0</td>\n",
       "      <td>5</td>\n",
       "      <td>0.419070</td>\n",
       "      <td>1</td>\n",
       "      <td>0</td>\n",
       "      <td>0.6</td>\n",
       "    </tr>\n",
       "    <tr>\n",
       "      <th>4</th>\n",
       "      <td>0.643468</td>\n",
       "      <td>0.620197</td>\n",
       "      <td>0.597234</td>\n",
       "      <td>0.590584</td>\n",
       "      <td>0.582203</td>\n",
       "      <td>0</td>\n",
       "      <td>1</td>\n",
       "      <td>2</td>\n",
       "      <td>1</td>\n",
       "      <td>1</td>\n",
       "      <td>...</td>\n",
       "      <td>0.353134</td>\n",
       "      <td>1</td>\n",
       "      <td>5</td>\n",
       "      <td>0.198479</td>\n",
       "      <td>0</td>\n",
       "      <td>5</td>\n",
       "      <td>0.377461</td>\n",
       "      <td>0</td>\n",
       "      <td>1</td>\n",
       "      <td>0.4</td>\n",
       "    </tr>\n",
       "    <tr>\n",
       "      <th>...</th>\n",
       "      <td>...</td>\n",
       "      <td>...</td>\n",
       "      <td>...</td>\n",
       "      <td>...</td>\n",
       "      <td>...</td>\n",
       "      <td>...</td>\n",
       "      <td>...</td>\n",
       "      <td>...</td>\n",
       "      <td>...</td>\n",
       "      <td>...</td>\n",
       "      <td>...</td>\n",
       "      <td>...</td>\n",
       "      <td>...</td>\n",
       "      <td>...</td>\n",
       "      <td>...</td>\n",
       "      <td>...</td>\n",
       "      <td>...</td>\n",
       "      <td>...</td>\n",
       "      <td>...</td>\n",
       "      <td>...</td>\n",
       "      <td>...</td>\n",
       "    </tr>\n",
       "    <tr>\n",
       "      <th>812</th>\n",
       "      <td>0.474088</td>\n",
       "      <td>0.458677</td>\n",
       "      <td>0.453075</td>\n",
       "      <td>0.447407</td>\n",
       "      <td>0.446844</td>\n",
       "      <td>0</td>\n",
       "      <td>0</td>\n",
       "      <td>1</td>\n",
       "      <td>1</td>\n",
       "      <td>2</td>\n",
       "      <td>...</td>\n",
       "      <td>0.457041</td>\n",
       "      <td>0</td>\n",
       "      <td>5</td>\n",
       "      <td>0.329609</td>\n",
       "      <td>1</td>\n",
       "      <td>0</td>\n",
       "      <td>0.417516</td>\n",
       "      <td>0</td>\n",
       "      <td>5</td>\n",
       "      <td>0.5</td>\n",
       "    </tr>\n",
       "    <tr>\n",
       "      <th>813</th>\n",
       "      <td>0.806806</td>\n",
       "      <td>0.803364</td>\n",
       "      <td>0.799427</td>\n",
       "      <td>0.798791</td>\n",
       "      <td>0.792464</td>\n",
       "      <td>0</td>\n",
       "      <td>1</td>\n",
       "      <td>2</td>\n",
       "      <td>3</td>\n",
       "      <td>1</td>\n",
       "      <td>...</td>\n",
       "      <td>0.339356</td>\n",
       "      <td>0</td>\n",
       "      <td>2</td>\n",
       "      <td>0.211369</td>\n",
       "      <td>1</td>\n",
       "      <td>5</td>\n",
       "      <td>0.355725</td>\n",
       "      <td>0</td>\n",
       "      <td>1</td>\n",
       "      <td>0.5</td>\n",
       "    </tr>\n",
       "    <tr>\n",
       "      <th>814</th>\n",
       "      <td>0.706968</td>\n",
       "      <td>0.672361</td>\n",
       "      <td>0.646371</td>\n",
       "      <td>0.600586</td>\n",
       "      <td>0.593879</td>\n",
       "      <td>0</td>\n",
       "      <td>0</td>\n",
       "      <td>1</td>\n",
       "      <td>0</td>\n",
       "      <td>0</td>\n",
       "      <td>...</td>\n",
       "      <td>0.624985</td>\n",
       "      <td>0</td>\n",
       "      <td>0</td>\n",
       "      <td>0.222870</td>\n",
       "      <td>0</td>\n",
       "      <td>0</td>\n",
       "      <td>0.709621</td>\n",
       "      <td>0</td>\n",
       "      <td>0</td>\n",
       "      <td>0.6</td>\n",
       "    </tr>\n",
       "    <tr>\n",
       "      <th>815</th>\n",
       "      <td>0.763458</td>\n",
       "      <td>0.746442</td>\n",
       "      <td>0.712048</td>\n",
       "      <td>0.675893</td>\n",
       "      <td>0.649858</td>\n",
       "      <td>0</td>\n",
       "      <td>1</td>\n",
       "      <td>1</td>\n",
       "      <td>2</td>\n",
       "      <td>1</td>\n",
       "      <td>...</td>\n",
       "      <td>0.418562</td>\n",
       "      <td>0</td>\n",
       "      <td>0</td>\n",
       "      <td>0.202827</td>\n",
       "      <td>0</td>\n",
       "      <td>1</td>\n",
       "      <td>0.427248</td>\n",
       "      <td>0</td>\n",
       "      <td>5</td>\n",
       "      <td>0.5</td>\n",
       "    </tr>\n",
       "    <tr>\n",
       "      <th>816</th>\n",
       "      <td>0.774557</td>\n",
       "      <td>0.741126</td>\n",
       "      <td>0.736407</td>\n",
       "      <td>0.734361</td>\n",
       "      <td>0.717974</td>\n",
       "      <td>0</td>\n",
       "      <td>0</td>\n",
       "      <td>1</td>\n",
       "      <td>0</td>\n",
       "      <td>2</td>\n",
       "      <td>...</td>\n",
       "      <td>0.648837</td>\n",
       "      <td>0</td>\n",
       "      <td>0</td>\n",
       "      <td>0.228985</td>\n",
       "      <td>0</td>\n",
       "      <td>0</td>\n",
       "      <td>0.597859</td>\n",
       "      <td>0</td>\n",
       "      <td>5</td>\n",
       "      <td>0.5</td>\n",
       "    </tr>\n",
       "  </tbody>\n",
       "</table>\n",
       "<p>817 rows × 22 columns</p>\n",
       "</div>\n",
       "      <button class=\"colab-df-convert\" onclick=\"convertToInteractive('df-37414896-0d53-4e05-b4ab-5caf83394620')\"\n",
       "              title=\"Convert this dataframe to an interactive table.\"\n",
       "              style=\"display:none;\">\n",
       "        \n",
       "  <svg xmlns=\"http://www.w3.org/2000/svg\" height=\"24px\"viewBox=\"0 0 24 24\"\n",
       "       width=\"24px\">\n",
       "    <path d=\"M0 0h24v24H0V0z\" fill=\"none\"/>\n",
       "    <path d=\"M18.56 5.44l.94 2.06.94-2.06 2.06-.94-2.06-.94-.94-2.06-.94 2.06-2.06.94zm-11 1L8.5 8.5l.94-2.06 2.06-.94-2.06-.94L8.5 2.5l-.94 2.06-2.06.94zm10 10l.94 2.06.94-2.06 2.06-.94-2.06-.94-.94-2.06-.94 2.06-2.06.94z\"/><path d=\"M17.41 7.96l-1.37-1.37c-.4-.4-.92-.59-1.43-.59-.52 0-1.04.2-1.43.59L10.3 9.45l-7.72 7.72c-.78.78-.78 2.05 0 2.83L4 21.41c.39.39.9.59 1.41.59.51 0 1.02-.2 1.41-.59l7.78-7.78 2.81-2.81c.8-.78.8-2.07 0-2.86zM5.41 20L4 18.59l7.72-7.72 1.47 1.35L5.41 20z\"/>\n",
       "  </svg>\n",
       "      </button>\n",
       "      \n",
       "  <style>\n",
       "    .colab-df-container {\n",
       "      display:flex;\n",
       "      flex-wrap:wrap;\n",
       "      gap: 12px;\n",
       "    }\n",
       "\n",
       "    .colab-df-convert {\n",
       "      background-color: #E8F0FE;\n",
       "      border: none;\n",
       "      border-radius: 50%;\n",
       "      cursor: pointer;\n",
       "      display: none;\n",
       "      fill: #1967D2;\n",
       "      height: 32px;\n",
       "      padding: 0 0 0 0;\n",
       "      width: 32px;\n",
       "    }\n",
       "\n",
       "    .colab-df-convert:hover {\n",
       "      background-color: #E2EBFA;\n",
       "      box-shadow: 0px 1px 2px rgba(60, 64, 67, 0.3), 0px 1px 3px 1px rgba(60, 64, 67, 0.15);\n",
       "      fill: #174EA6;\n",
       "    }\n",
       "\n",
       "    [theme=dark] .colab-df-convert {\n",
       "      background-color: #3B4455;\n",
       "      fill: #D2E3FC;\n",
       "    }\n",
       "\n",
       "    [theme=dark] .colab-df-convert:hover {\n",
       "      background-color: #434B5C;\n",
       "      box-shadow: 0px 1px 3px 1px rgba(0, 0, 0, 0.15);\n",
       "      filter: drop-shadow(0px 1px 2px rgba(0, 0, 0, 0.3));\n",
       "      fill: #FFFFFF;\n",
       "    }\n",
       "  </style>\n",
       "\n",
       "      <script>\n",
       "        const buttonEl =\n",
       "          document.querySelector('#df-37414896-0d53-4e05-b4ab-5caf83394620 button.colab-df-convert');\n",
       "        buttonEl.style.display =\n",
       "          google.colab.kernel.accessAllowed ? 'block' : 'none';\n",
       "\n",
       "        async function convertToInteractive(key) {\n",
       "          const element = document.querySelector('#df-37414896-0d53-4e05-b4ab-5caf83394620');\n",
       "          const dataTable =\n",
       "            await google.colab.kernel.invokeFunction('convertToInteractive',\n",
       "                                                     [key], {});\n",
       "          if (!dataTable) return;\n",
       "\n",
       "          const docLinkHtml = 'Like what you see? Visit the ' +\n",
       "            '<a target=\"_blank\" href=https://colab.research.google.com/notebooks/data_table.ipynb>data table notebook</a>'\n",
       "            + ' to learn more about interactive tables.';\n",
       "          element.innerHTML = '';\n",
       "          dataTable['output_type'] = 'display_data';\n",
       "          await google.colab.output.renderOutput(dataTable, element);\n",
       "          const docLink = document.createElement('div');\n",
       "          docLink.innerHTML = docLinkHtml;\n",
       "          element.appendChild(docLink);\n",
       "        }\n",
       "      </script>\n",
       "    </div>\n",
       "  </div>\n",
       "  "
      ],
      "text/plain": [
       "      score_1   score_2   score_3   score_4   score_5  label_pred_1  \\\n",
       "0    0.710615  0.706026  0.666258  0.664980  0.658934             0   \n",
       "1    0.737935  0.703151  0.699834  0.696477  0.692233             0   \n",
       "2    0.757152  0.736345  0.720983  0.714639  0.712411             0   \n",
       "3    0.636801  0.629225  0.625833  0.604343  0.593791             0   \n",
       "4    0.643468  0.620197  0.597234  0.590584  0.582203             0   \n",
       "..        ...       ...       ...       ...       ...           ...   \n",
       "812  0.474088  0.458677  0.453075  0.447407  0.446844             0   \n",
       "813  0.806806  0.803364  0.799427  0.798791  0.792464             0   \n",
       "814  0.706968  0.672361  0.646371  0.600586  0.593879             0   \n",
       "815  0.763458  0.746442  0.712048  0.675893  0.649858             0   \n",
       "816  0.774557  0.741126  0.736407  0.734361  0.717974             0   \n",
       "\n",
       "     label_pred_2  label_pred_3  label_pred_4  label_pred_5  ...  rf_score  \\\n",
       "0               1             2             3             0  ...  0.551597   \n",
       "1               1             0             2             3  ...  0.467114   \n",
       "2               0             0             1             2  ...  0.395931   \n",
       "3               1             2             0             2  ...  0.414181   \n",
       "4               1             2             1             1  ...  0.353134   \n",
       "..            ...           ...           ...           ...  ...       ...   \n",
       "812             0             1             1             2  ...  0.457041   \n",
       "813             1             2             3             1  ...  0.339356   \n",
       "814             0             1             0             0  ...  0.624985   \n",
       "815             1             1             2             1  ...  0.418562   \n",
       "816             0             1             0             2  ...  0.648837   \n",
       "\n",
       "     compare_between_true_and_rf_label  AdaB_pred  AdaB_score  \\\n",
       "0                                    0          5    0.202796   \n",
       "1                                    1          5    0.202796   \n",
       "2                                    0          0    0.228985   \n",
       "3                                    0          0    0.201936   \n",
       "4                                    1          5    0.198479   \n",
       "..                                 ...        ...         ...   \n",
       "812                                  0          5    0.329609   \n",
       "813                                  0          2    0.211369   \n",
       "814                                  0          0    0.222870   \n",
       "815                                  0          0    0.202827   \n",
       "816                                  0          0    0.228985   \n",
       "\n",
       "     compare_between_true_and_AdaB_label  xgb_pred  xgb_score  \\\n",
       "0                                      0         5   0.530761   \n",
       "1                                      1         5   0.409701   \n",
       "2                                      0         0   0.599712   \n",
       "3                                      0         5   0.419070   \n",
       "4                                      0         5   0.377461   \n",
       "..                                   ...       ...        ...   \n",
       "812                                    1         0   0.417516   \n",
       "813                                    1         5   0.355725   \n",
       "814                                    0         0   0.709621   \n",
       "815                                    0         1   0.427248   \n",
       "816                                    0         0   0.597859   \n",
       "\n",
       "     compare_between_true_and_xgb_label  knn_pred  knn_score  \n",
       "0                                     0         5        0.7  \n",
       "1                                     1         5        0.3  \n",
       "2                                     0         0        0.5  \n",
       "3                                     1         0        0.6  \n",
       "4                                     0         1        0.4  \n",
       "..                                  ...       ...        ...  \n",
       "812                                   0         5        0.5  \n",
       "813                                   0         1        0.5  \n",
       "814                                   0         0        0.6  \n",
       "815                                   0         5        0.5  \n",
       "816                                   0         5        0.5  \n",
       "\n",
       "[817 rows x 22 columns]"
      ]
     },
     "execution_count": 143,
     "metadata": {},
     "output_type": "execute_result"
    }
   ],
   "source": [
    "df_assess"
   ]
  },
  {
   "cell_type": "code",
   "execution_count": null,
   "id": "ANgIYO1i2DZf",
   "metadata": {
    "colab": {
     "base_uri": "https://localhost:8080/",
     "height": 685
    },
    "id": "ANgIYO1i2DZf",
    "outputId": "f6eb2ac3-0385-4db9-bdd2-4c7101999639"
   },
   "outputs": [
    {
     "data": {
      "image/png": "[encoded data removed]",
      "text/plain": [
       "<Figure size 432x288 with 1 Axes>"
      ]
     },
     "metadata": {
      "needs_background": "light"
     },
     "output_type": "display_data"
    },
    {
     "name": "stdout",
     "output_type": "stream",
     "text": [
      "Best Threshold=0.900000, precision=0.569\n",
      "\n",
      "               precision    recall  f1-score   support\n",
      "\n",
      "           0       0.57      0.76      0.65       467\n",
      "           1       0.43      0.25      0.31       350\n",
      "\n",
      "    accuracy                           0.54       817\n",
      "   macro avg       0.50      0.50      0.48       817\n",
      "weighted avg       0.51      0.54      0.51       817\n",
      "\n",
      "----------------------------------\n",
      "\n",
      "               precision    recall  f1-score   support\n",
      "\n",
      "           0       0.58      0.99      0.73       467\n",
      "           1       0.68      0.04      0.08       350\n",
      "\n",
      "    accuracy                           0.58       817\n",
      "   macro avg       0.63      0.51      0.40       817\n",
      "weighted avg       0.62      0.58      0.45       817\n",
      "\n"
     ]
    }
   ],
   "source": [
    "#TODO WArning : this cell function is different from the on used in the \"all models optimization\"\n",
    "# classification label \n",
    "df_assess['compare_between_true_and_knn_label'] = np.where(\n",
    "    df_assess['knn_pred'] == df_assess['label_true'], 1, 0) \n",
    "# calculate pr-curve (instead of ROC curve : more appropriate for imbalanced data)\n",
    "precision, recall, thresholds = precision_recall_curve(df_assess[\"compare_between_true_and_knn_label\"].to_list(), df_assess.knn_score.to_list())\n",
    "\n",
    "# plot the pr curve for the model\n",
    "\n",
    "pyplot.plot(recall, precision, marker='.', label='BERT')\n",
    "pyplot.xlabel('Recall')\n",
    "pyplot.ylabel('Precision')\n",
    "pyplot.legend()\n",
    "pyplot.show()\n",
    "\n",
    "precision = precision[:-2]\n",
    "\n",
    "# locate the index of the largest f score\n",
    "ix = np.argmax(precision)\n",
    "print('Best Threshold=%f, precision=%.3f' % (thresholds[ix], precision[ix]))\n",
    "\n",
    "y = df_assess[\"compare_between_true_and_knn_label\"].to_list()\n",
    "\n",
    "# \"visually\" determined value\n",
    "y_preds = [1 if x == 0.5 else 0 for x in df_assess.knn_score.to_list()]\n",
    "y_preds_opt_thresh = [1 if x >(thresholds[ix]) else 0 for x in df_assess.knn_score.to_list()]\n",
    "\n",
    "print('\\n',classification_report(y,y_preds, zero_division=0))\n",
    "print(\"----------------------------------\")\n",
    "print('\\n',classification_report(y, y_preds_opt_thresh, zero_division=0))"
   ]
  },
  {
   "cell_type": "code",
   "execution_count": null,
   "id": "kqSR-WLl2DZh",
   "metadata": {
    "colab": {
     "base_uri": "https://localhost:8080/"
    },
    "id": "kqSR-WLl2DZh",
    "outputId": "05bcc121-c6ad-4f6b-aa09-604b598ba598"
   },
   "outputs": [
    {
     "name": "stdout",
     "output_type": "stream",
     "text": [
      "\n",
      "               precision    recall  f1-score   support\n",
      "\n",
      "           0       0.28      1.00      0.44       232\n",
      "           1       0.00      0.00      0.00       116\n",
      "           2       0.00      0.00      0.00        73\n",
      "           3       0.00      0.00      0.00        26\n",
      "           4       0.00      0.00      0.00        16\n",
      "           5       0.00      0.00      0.00       354\n",
      "\n",
      "    accuracy                           0.28       817\n",
      "   macro avg       0.05      0.17      0.07       817\n",
      "weighted avg       0.08      0.28      0.13       817\n",
      "\n"
     ]
    }
   ],
   "source": [
    "print('\\n',classification_report(y_test, df_assess[\"label_pred_1\"], zero_division=0))"
   ]
  },
  {
   "cell_type": "code",
   "execution_count": null,
   "id": "-b_P3Y9T2DZh",
   "metadata": {
    "colab": {
     "base_uri": "https://localhost:8080/"
    },
    "id": "-b_P3Y9T2DZh",
    "outputId": "da6badbf-0389-4834-bfa2-7eaef66d89ce"
   },
   "outputs": [
    {
     "name": "stdout",
     "output_type": "stream",
     "text": [
      "\n",
      "               precision    recall  f1-score   support\n",
      "\n",
      "           0       0.44      0.71      0.54       232\n",
      "           1       0.36      0.26      0.30       116\n",
      "           2       0.19      0.07      0.10        73\n",
      "           3       0.11      0.08      0.09        26\n",
      "           4       0.00      0.00      0.00        16\n",
      "           5       0.48      0.42      0.45       354\n",
      "\n",
      "    accuracy                           0.43       817\n",
      "   macro avg       0.26      0.26      0.25       817\n",
      "weighted avg       0.40      0.43      0.40       817\n",
      "\n"
     ]
    }
   ],
   "source": [
    "print('\\n',classification_report(y_test, y_pred_knn, zero_division=0))"
   ]
  },
  {
   "cell_type": "markdown",
   "id": "Cys2nIdA8dML",
   "metadata": {
    "id": "Cys2nIdA8dML"
   },
   "source": [
    "## SVM"
   ]
  },
  {
   "cell_type": "code",
   "execution_count": null,
   "id": "09MXG8TGtHx7",
   "metadata": {
    "id": "09MXG8TGtHx7"
   },
   "outputs": [],
   "source": [
    "# Set the parameters by cross-validation\n",
    "tuned_parameters = [{'kernel': ['rbf'], 'gamma': [1e-3, 1e-4],\n",
    "                     'C': [1, 10, 100, 1000]},\n",
    "                    {'kernel': ['linear'], 'C': [1, 10, 100, 1000]}]\n",
    "\n",
    "scores = ['precision', 'recall']"
   ]
  },
  {
   "cell_type": "code",
   "execution_count": null,
   "id": "0O-z1aae4KhG",
   "metadata": {
    "colab": {
     "base_uri": "https://localhost:8080/"
    },
    "id": "0O-z1aae4KhG",
    "outputId": "d6c90d46-e709-4216-895f-c1922bd54396"
   },
   "outputs": [
    {
     "name": "stdout",
     "output_type": "stream",
     "text": [
      "# Tuning hyper-parameters for precision\n",
      "\n",
      "Best parameters set found on development set:\n",
      "\n",
      "{'C': 1000, 'kernel': 'linear'}\n",
      "\n",
      "Grid scores on development set:\n",
      "\n",
      "0.198 (+/-0.077) for {'C': 1, 'gamma': 0.001, 'kernel': 'rbf'}\n",
      "0.178 (+/-0.004) for {'C': 1, 'gamma': 0.0001, 'kernel': 'rbf'}\n",
      "0.270 (+/-0.031) for {'C': 10, 'gamma': 0.001, 'kernel': 'rbf'}\n",
      "0.198 (+/-0.077) for {'C': 10, 'gamma': 0.0001, 'kernel': 'rbf'}\n",
      "0.275 (+/-0.035) for {'C': 100, 'gamma': 0.001, 'kernel': 'rbf'}\n",
      "0.270 (+/-0.030) for {'C': 100, 'gamma': 0.0001, 'kernel': 'rbf'}\n",
      "0.281 (+/-0.033) for {'C': 1000, 'gamma': 0.001, 'kernel': 'rbf'}\n",
      "0.273 (+/-0.035) for {'C': 1000, 'gamma': 0.0001, 'kernel': 'rbf'}\n",
      "0.303 (+/-0.042) for {'C': 1, 'kernel': 'linear'}\n",
      "0.319 (+/-0.034) for {'C': 10, 'kernel': 'linear'}\n",
      "0.318 (+/-0.048) for {'C': 100, 'kernel': 'linear'}\n",
      "0.320 (+/-0.059) for {'C': 1000, 'kernel': 'linear'}\n",
      "\n",
      "Detailed classification report:\n",
      "\n",
      "The model is trained on the full development set.\n",
      "The scores are computed on the full evaluation set.\n",
      "\n",
      "              precision    recall  f1-score   support\n",
      "\n",
      "           0       0.44      0.66      0.53       232\n",
      "           1       0.51      0.30      0.38       116\n",
      "           2       0.33      0.01      0.03        73\n",
      "           3       0.00      0.00      0.00        26\n",
      "           4       0.00      0.00      0.00        16\n",
      "           5       0.50      0.55      0.52       354\n",
      "\n",
      "    accuracy                           0.47       817\n",
      "   macro avg       0.30      0.26      0.24       817\n",
      "weighted avg       0.44      0.47      0.43       817\n",
      "\n",
      "\n",
      "# Tuning hyper-parameters for recall\n",
      "\n",
      "Best parameters set found on development set:\n",
      "\n",
      "{'C': 100, 'kernel': 'linear'}\n",
      "\n",
      "Grid scores on development set:\n",
      "\n",
      "0.238 (+/-0.011) for {'C': 1, 'gamma': 0.001, 'kernel': 'rbf'}\n",
      "0.234 (+/-0.006) for {'C': 1, 'gamma': 0.0001, 'kernel': 'rbf'}\n",
      "0.280 (+/-0.022) for {'C': 10, 'gamma': 0.001, 'kernel': 'rbf'}\n",
      "0.237 (+/-0.011) for {'C': 10, 'gamma': 0.0001, 'kernel': 'rbf'}\n",
      "0.276 (+/-0.020) for {'C': 100, 'gamma': 0.001, 'kernel': 'rbf'}\n",
      "0.280 (+/-0.022) for {'C': 100, 'gamma': 0.0001, 'kernel': 'rbf'}\n",
      "0.273 (+/-0.013) for {'C': 1000, 'gamma': 0.001, 'kernel': 'rbf'}\n",
      "0.278 (+/-0.021) for {'C': 1000, 'gamma': 0.0001, 'kernel': 'rbf'}\n",
      "0.282 (+/-0.021) for {'C': 1, 'kernel': 'linear'}\n",
      "0.283 (+/-0.023) for {'C': 10, 'kernel': 'linear'}\n",
      "0.283 (+/-0.024) for {'C': 100, 'kernel': 'linear'}\n",
      "0.283 (+/-0.023) for {'C': 1000, 'kernel': 'linear'}\n",
      "\n",
      "Detailed classification report:\n",
      "\n",
      "The model is trained on the full development set.\n",
      "The scores are computed on the full evaluation set.\n",
      "\n",
      "              precision    recall  f1-score   support\n",
      "\n",
      "           0       0.44      0.66      0.53       232\n",
      "           1       0.51      0.30      0.38       116\n",
      "           2       0.33      0.01      0.03        73\n",
      "           3       0.00      0.00      0.00        26\n",
      "           4       0.00      0.00      0.00        16\n",
      "           5       0.49      0.55      0.52       354\n",
      "\n",
      "    accuracy                           0.47       817\n",
      "   macro avg       0.30      0.26      0.24       817\n",
      "weighted avg       0.44      0.47      0.43       817\n",
      "\n",
      "\n"
     ]
    }
   ],
   "source": [
    "for score in scores:\n",
    "    print(\"# Tuning hyper-parameters for %s\" % score)\n",
    "    print()\n",
    "\n",
    "    clf = GridSearchCV(\n",
    "        svm.SVC(), tuned_parameters, scoring='%s_macro' % score\n",
    "    )\n",
    "    clf.fit(X_train, y_train)\n",
    "\n",
    "    print(\"Best parameters set found on development set:\")\n",
    "    print()\n",
    "    print(clf.best_params_)\n",
    "    print()\n",
    "    print(\"Grid scores on development set:\")\n",
    "    print()\n",
    "    means = clf.cv_results_['mean_test_score']\n",
    "    stds = clf.cv_results_['std_test_score']\n",
    "    for mean, std, params in zip(means, stds, clf.cv_results_['params']):\n",
    "        print(\"%0.3f (+/-%0.03f) for %r\"\n",
    "              % (mean, std * 2, params))\n",
    "    print()\n",
    "\n",
    "    print(\"Detailed classification report:\")\n",
    "    print()\n",
    "    print(\"The model is trained on the full development set.\")\n",
    "    print(\"The scores are computed on the full evaluation set.\")\n",
    "    print()\n",
    "    y_true, y_pred = y_test, clf.predict(X_test)\n",
    "    print(classification_report(y_true, y_pred))\n",
    "    print()"
   ]
  },
  {
   "cell_type": "code",
   "execution_count": null,
   "id": "LGem5PTOIcQS",
   "metadata": {
    "colab": {
     "base_uri": "https://localhost:8080/"
    },
    "id": "LGem5PTOIcQS",
    "outputId": "287629f4-d2c4-4dab-d03d-bf649bda5494"
   },
   "outputs": [
    {
     "data": {
      "text/plain": [
       "SVC(C=100, kernel='linear', probability=True, random_state=0)"
      ]
     },
     "execution_count": 149,
     "metadata": {},
     "output_type": "execute_result"
    }
   ],
   "source": [
    "svm_model = svm.SVC(probability=True, random_state=0, C= 100, kernel='linear')\n",
    "svm_model.fit(X_train, y_train)"
   ]
  },
  {
   "cell_type": "code",
   "execution_count": null,
   "id": "LVCsU2Dy38G6",
   "metadata": {
    "colab": {
     "base_uri": "https://localhost:8080/"
    },
    "id": "LVCsU2Dy38G6",
    "outputId": "8b8cb814-5955-4bec-aa06-81978db531fd"
   },
   "outputs": [
    {
     "name": "stdout",
     "output_type": "stream",
     "text": [
      "              precision    recall  f1-score   support\n",
      "\n",
      "           0       0.44      0.66      0.53       232\n",
      "           1       0.51      0.30      0.38       116\n",
      "           2       0.33      0.01      0.03        73\n",
      "           3       0.00      0.00      0.00        26\n",
      "           4       0.00      0.00      0.00        16\n",
      "           5       0.49      0.55      0.52       354\n",
      "\n",
      "    accuracy                           0.47       817\n",
      "   macro avg       0.30      0.26      0.24       817\n",
      "weighted avg       0.44      0.47      0.43       817\n",
      "\n"
     ]
    }
   ],
   "source": [
    "y_pred_svm = svm_model.predict(X_test)\n",
    "print(classification_report(y_test, y_pred_svm))"
   ]
  },
  {
   "cell_type": "code",
   "execution_count": null,
   "id": "14rWC8K3AMGz",
   "metadata": {
    "id": "14rWC8K3AMGz"
   },
   "outputs": [],
   "source": [
    "df_assess[\"svm_pred\"] = y_pred_svm\n",
    "df_assess[\"svm_score\"] = np.max(svm_model.predict_proba(X_test), axis=1)"
   ]
  },
  {
   "cell_type": "code",
   "execution_count": null,
   "id": "o4DYroSVAoCP",
   "metadata": {
    "colab": {
     "base_uri": "https://localhost:8080/",
     "height": 487
    },
    "id": "o4DYroSVAoCP",
    "outputId": "fe2e0580-0664-46fb-84ae-6ad73d5dfc50"
   },
   "outputs": [
    {
     "data": {
      "text/html": [
       "\n",
       "  <div id=\"df-ba85d78e-ab35-4318-97d8-49e71b46a840\">\n",
       "    <div class=\"colab-df-container\">\n",
       "      <div>\n",
       "<style scoped>\n",
       "    .dataframe tbody tr th:only-of-type {\n",
       "        vertical-align: middle;\n",
       "    }\n",
       "\n",
       "    .dataframe tbody tr th {\n",
       "        vertical-align: top;\n",
       "    }\n",
       "\n",
       "    .dataframe thead th {\n",
       "        text-align: right;\n",
       "    }\n",
       "</style>\n",
       "<table border=\"1\" class=\"dataframe\">\n",
       "  <thead>\n",
       "    <tr style=\"text-align: right;\">\n",
       "      <th></th>\n",
       "      <th>score_1</th>\n",
       "      <th>score_2</th>\n",
       "      <th>score_3</th>\n",
       "      <th>score_4</th>\n",
       "      <th>score_5</th>\n",
       "      <th>label_pred_1</th>\n",
       "      <th>label_pred_2</th>\n",
       "      <th>label_pred_3</th>\n",
       "      <th>label_pred_4</th>\n",
       "      <th>label_pred_5</th>\n",
       "      <th>...</th>\n",
       "      <th>AdaB_score</th>\n",
       "      <th>compare_between_true_and_AdaB_label</th>\n",
       "      <th>xgb_pred</th>\n",
       "      <th>xgb_score</th>\n",
       "      <th>compare_between_true_and_xgb_label</th>\n",
       "      <th>knn_pred</th>\n",
       "      <th>knn_score</th>\n",
       "      <th>compare_between_true_and_knn_label</th>\n",
       "      <th>svm_pred</th>\n",
       "      <th>svm_score</th>\n",
       "    </tr>\n",
       "  </thead>\n",
       "  <tbody>\n",
       "    <tr>\n",
       "      <th>0</th>\n",
       "      <td>0.710615</td>\n",
       "      <td>0.706026</td>\n",
       "      <td>0.666258</td>\n",
       "      <td>0.664980</td>\n",
       "      <td>0.658934</td>\n",
       "      <td>0</td>\n",
       "      <td>1</td>\n",
       "      <td>2</td>\n",
       "      <td>3</td>\n",
       "      <td>0</td>\n",
       "      <td>...</td>\n",
       "      <td>0.202796</td>\n",
       "      <td>0</td>\n",
       "      <td>5</td>\n",
       "      <td>0.530761</td>\n",
       "      <td>0</td>\n",
       "      <td>5</td>\n",
       "      <td>0.7</td>\n",
       "      <td>0</td>\n",
       "      <td>5</td>\n",
       "      <td>0.526932</td>\n",
       "    </tr>\n",
       "    <tr>\n",
       "      <th>1</th>\n",
       "      <td>0.737935</td>\n",
       "      <td>0.703151</td>\n",
       "      <td>0.699834</td>\n",
       "      <td>0.696477</td>\n",
       "      <td>0.692233</td>\n",
       "      <td>0</td>\n",
       "      <td>1</td>\n",
       "      <td>0</td>\n",
       "      <td>2</td>\n",
       "      <td>3</td>\n",
       "      <td>...</td>\n",
       "      <td>0.202796</td>\n",
       "      <td>1</td>\n",
       "      <td>5</td>\n",
       "      <td>0.409701</td>\n",
       "      <td>1</td>\n",
       "      <td>5</td>\n",
       "      <td>0.3</td>\n",
       "      <td>1</td>\n",
       "      <td>5</td>\n",
       "      <td>0.517114</td>\n",
       "    </tr>\n",
       "    <tr>\n",
       "      <th>2</th>\n",
       "      <td>0.757152</td>\n",
       "      <td>0.736345</td>\n",
       "      <td>0.720983</td>\n",
       "      <td>0.714639</td>\n",
       "      <td>0.712411</td>\n",
       "      <td>0</td>\n",
       "      <td>0</td>\n",
       "      <td>0</td>\n",
       "      <td>1</td>\n",
       "      <td>2</td>\n",
       "      <td>...</td>\n",
       "      <td>0.228985</td>\n",
       "      <td>0</td>\n",
       "      <td>0</td>\n",
       "      <td>0.599712</td>\n",
       "      <td>0</td>\n",
       "      <td>0</td>\n",
       "      <td>0.5</td>\n",
       "      <td>0</td>\n",
       "      <td>0</td>\n",
       "      <td>0.591692</td>\n",
       "    </tr>\n",
       "    <tr>\n",
       "      <th>3</th>\n",
       "      <td>0.636801</td>\n",
       "      <td>0.629225</td>\n",
       "      <td>0.625833</td>\n",
       "      <td>0.604343</td>\n",
       "      <td>0.593791</td>\n",
       "      <td>0</td>\n",
       "      <td>1</td>\n",
       "      <td>2</td>\n",
       "      <td>0</td>\n",
       "      <td>2</td>\n",
       "      <td>...</td>\n",
       "      <td>0.201936</td>\n",
       "      <td>0</td>\n",
       "      <td>5</td>\n",
       "      <td>0.419070</td>\n",
       "      <td>1</td>\n",
       "      <td>0</td>\n",
       "      <td>0.6</td>\n",
       "      <td>0</td>\n",
       "      <td>5</td>\n",
       "      <td>0.336907</td>\n",
       "    </tr>\n",
       "    <tr>\n",
       "      <th>4</th>\n",
       "      <td>0.643468</td>\n",
       "      <td>0.620197</td>\n",
       "      <td>0.597234</td>\n",
       "      <td>0.590584</td>\n",
       "      <td>0.582203</td>\n",
       "      <td>0</td>\n",
       "      <td>1</td>\n",
       "      <td>2</td>\n",
       "      <td>1</td>\n",
       "      <td>1</td>\n",
       "      <td>...</td>\n",
       "      <td>0.198479</td>\n",
       "      <td>0</td>\n",
       "      <td>5</td>\n",
       "      <td>0.377461</td>\n",
       "      <td>0</td>\n",
       "      <td>1</td>\n",
       "      <td>0.4</td>\n",
       "      <td>1</td>\n",
       "      <td>5</td>\n",
       "      <td>0.336718</td>\n",
       "    </tr>\n",
       "    <tr>\n",
       "      <th>...</th>\n",
       "      <td>...</td>\n",
       "      <td>...</td>\n",
       "      <td>...</td>\n",
       "      <td>...</td>\n",
       "      <td>...</td>\n",
       "      <td>...</td>\n",
       "      <td>...</td>\n",
       "      <td>...</td>\n",
       "      <td>...</td>\n",
       "      <td>...</td>\n",
       "      <td>...</td>\n",
       "      <td>...</td>\n",
       "      <td>...</td>\n",
       "      <td>...</td>\n",
       "      <td>...</td>\n",
       "      <td>...</td>\n",
       "      <td>...</td>\n",
       "      <td>...</td>\n",
       "      <td>...</td>\n",
       "      <td>...</td>\n",
       "      <td>...</td>\n",
       "    </tr>\n",
       "    <tr>\n",
       "      <th>812</th>\n",
       "      <td>0.474088</td>\n",
       "      <td>0.458677</td>\n",
       "      <td>0.453075</td>\n",
       "      <td>0.447407</td>\n",
       "      <td>0.446844</td>\n",
       "      <td>0</td>\n",
       "      <td>0</td>\n",
       "      <td>1</td>\n",
       "      <td>1</td>\n",
       "      <td>2</td>\n",
       "      <td>...</td>\n",
       "      <td>0.329609</td>\n",
       "      <td>1</td>\n",
       "      <td>0</td>\n",
       "      <td>0.417516</td>\n",
       "      <td>0</td>\n",
       "      <td>5</td>\n",
       "      <td>0.5</td>\n",
       "      <td>1</td>\n",
       "      <td>0</td>\n",
       "      <td>0.408770</td>\n",
       "    </tr>\n",
       "    <tr>\n",
       "      <th>813</th>\n",
       "      <td>0.806806</td>\n",
       "      <td>0.803364</td>\n",
       "      <td>0.799427</td>\n",
       "      <td>0.798791</td>\n",
       "      <td>0.792464</td>\n",
       "      <td>0</td>\n",
       "      <td>1</td>\n",
       "      <td>2</td>\n",
       "      <td>3</td>\n",
       "      <td>1</td>\n",
       "      <td>...</td>\n",
       "      <td>0.211369</td>\n",
       "      <td>1</td>\n",
       "      <td>5</td>\n",
       "      <td>0.355725</td>\n",
       "      <td>0</td>\n",
       "      <td>1</td>\n",
       "      <td>0.5</td>\n",
       "      <td>0</td>\n",
       "      <td>5</td>\n",
       "      <td>0.418765</td>\n",
       "    </tr>\n",
       "    <tr>\n",
       "      <th>814</th>\n",
       "      <td>0.706968</td>\n",
       "      <td>0.672361</td>\n",
       "      <td>0.646371</td>\n",
       "      <td>0.600586</td>\n",
       "      <td>0.593879</td>\n",
       "      <td>0</td>\n",
       "      <td>0</td>\n",
       "      <td>1</td>\n",
       "      <td>0</td>\n",
       "      <td>0</td>\n",
       "      <td>...</td>\n",
       "      <td>0.222870</td>\n",
       "      <td>0</td>\n",
       "      <td>0</td>\n",
       "      <td>0.709621</td>\n",
       "      <td>0</td>\n",
       "      <td>0</td>\n",
       "      <td>0.6</td>\n",
       "      <td>0</td>\n",
       "      <td>0</td>\n",
       "      <td>0.692122</td>\n",
       "    </tr>\n",
       "    <tr>\n",
       "      <th>815</th>\n",
       "      <td>0.763458</td>\n",
       "      <td>0.746442</td>\n",
       "      <td>0.712048</td>\n",
       "      <td>0.675893</td>\n",
       "      <td>0.649858</td>\n",
       "      <td>0</td>\n",
       "      <td>1</td>\n",
       "      <td>1</td>\n",
       "      <td>2</td>\n",
       "      <td>1</td>\n",
       "      <td>...</td>\n",
       "      <td>0.202827</td>\n",
       "      <td>0</td>\n",
       "      <td>1</td>\n",
       "      <td>0.427248</td>\n",
       "      <td>0</td>\n",
       "      <td>5</td>\n",
       "      <td>0.5</td>\n",
       "      <td>0</td>\n",
       "      <td>1</td>\n",
       "      <td>0.462261</td>\n",
       "    </tr>\n",
       "    <tr>\n",
       "      <th>816</th>\n",
       "      <td>0.774557</td>\n",
       "      <td>0.741126</td>\n",
       "      <td>0.736407</td>\n",
       "      <td>0.734361</td>\n",
       "      <td>0.717974</td>\n",
       "      <td>0</td>\n",
       "      <td>0</td>\n",
       "      <td>1</td>\n",
       "      <td>0</td>\n",
       "      <td>2</td>\n",
       "      <td>...</td>\n",
       "      <td>0.228985</td>\n",
       "      <td>0</td>\n",
       "      <td>0</td>\n",
       "      <td>0.597859</td>\n",
       "      <td>0</td>\n",
       "      <td>5</td>\n",
       "      <td>0.5</td>\n",
       "      <td>0</td>\n",
       "      <td>0</td>\n",
       "      <td>0.611246</td>\n",
       "    </tr>\n",
       "  </tbody>\n",
       "</table>\n",
       "<p>817 rows × 25 columns</p>\n",
       "</div>\n",
       "      <button class=\"colab-df-convert\" onclick=\"convertToInteractive('df-ba85d78e-ab35-4318-97d8-49e71b46a840')\"\n",
       "              title=\"Convert this dataframe to an interactive table.\"\n",
       "              style=\"display:none;\">\n",
       "        \n",
       "  <svg xmlns=\"http://www.w3.org/2000/svg\" height=\"24px\"viewBox=\"0 0 24 24\"\n",
       "       width=\"24px\">\n",
       "    <path d=\"M0 0h24v24H0V0z\" fill=\"none\"/>\n",
       "    <path d=\"M18.56 5.44l.94 2.06.94-2.06 2.06-.94-2.06-.94-.94-2.06-.94 2.06-2.06.94zm-11 1L8.5 8.5l.94-2.06 2.06-.94-2.06-.94L8.5 2.5l-.94 2.06-2.06.94zm10 10l.94 2.06.94-2.06 2.06-.94-2.06-.94-.94-2.06-.94 2.06-2.06.94z\"/><path d=\"M17.41 7.96l-1.37-1.37c-.4-.4-.92-.59-1.43-.59-.52 0-1.04.2-1.43.59L10.3 9.45l-7.72 7.72c-.78.78-.78 2.05 0 2.83L4 21.41c.39.39.9.59 1.41.59.51 0 1.02-.2 1.41-.59l7.78-7.78 2.81-2.81c.8-.78.8-2.07 0-2.86zM5.41 20L4 18.59l7.72-7.72 1.47 1.35L5.41 20z\"/>\n",
       "  </svg>\n",
       "      </button>\n",
       "      \n",
       "  <style>\n",
       "    .colab-df-container {\n",
       "      display:flex;\n",
       "      flex-wrap:wrap;\n",
       "      gap: 12px;\n",
       "    }\n",
       "\n",
       "    .colab-df-convert {\n",
       "      background-color: #E8F0FE;\n",
       "      border: none;\n",
       "      border-radius: 50%;\n",
       "      cursor: pointer;\n",
       "      display: none;\n",
       "      fill: #1967D2;\n",
       "      height: 32px;\n",
       "      padding: 0 0 0 0;\n",
       "      width: 32px;\n",
       "    }\n",
       "\n",
       "    .colab-df-convert:hover {\n",
       "      background-color: #E2EBFA;\n",
       "      box-shadow: 0px 1px 2px rgba(60, 64, 67, 0.3), 0px 1px 3px 1px rgba(60, 64, 67, 0.15);\n",
       "      fill: #174EA6;\n",
       "    }\n",
       "\n",
       "    [theme=dark] .colab-df-convert {\n",
       "      background-color: #3B4455;\n",
       "      fill: #D2E3FC;\n",
       "    }\n",
       "\n",
       "    [theme=dark] .colab-df-convert:hover {\n",
       "      background-color: #434B5C;\n",
       "      box-shadow: 0px 1px 3px 1px rgba(0, 0, 0, 0.15);\n",
       "      filter: drop-shadow(0px 1px 2px rgba(0, 0, 0, 0.3));\n",
       "      fill: #FFFFFF;\n",
       "    }\n",
       "  </style>\n",
       "\n",
       "      <script>\n",
       "        const buttonEl =\n",
       "          document.querySelector('#df-ba85d78e-ab35-4318-97d8-49e71b46a840 button.colab-df-convert');\n",
       "        buttonEl.style.display =\n",
       "          google.colab.kernel.accessAllowed ? 'block' : 'none';\n",
       "\n",
       "        async function convertToInteractive(key) {\n",
       "          const element = document.querySelector('#df-ba85d78e-ab35-4318-97d8-49e71b46a840');\n",
       "          const dataTable =\n",
       "            await google.colab.kernel.invokeFunction('convertToInteractive',\n",
       "                                                     [key], {});\n",
       "          if (!dataTable) return;\n",
       "\n",
       "          const docLinkHtml = 'Like what you see? Visit the ' +\n",
       "            '<a target=\"_blank\" href=https://colab.research.google.com/notebooks/data_table.ipynb>data table notebook</a>'\n",
       "            + ' to learn more about interactive tables.';\n",
       "          element.innerHTML = '';\n",
       "          dataTable['output_type'] = 'display_data';\n",
       "          await google.colab.output.renderOutput(dataTable, element);\n",
       "          const docLink = document.createElement('div');\n",
       "          docLink.innerHTML = docLinkHtml;\n",
       "          element.appendChild(docLink);\n",
       "        }\n",
       "      </script>\n",
       "    </div>\n",
       "  </div>\n",
       "  "
      ],
      "text/plain": [
       "      score_1   score_2   score_3   score_4   score_5  label_pred_1  \\\n",
       "0    0.710615  0.706026  0.666258  0.664980  0.658934             0   \n",
       "1    0.737935  0.703151  0.699834  0.696477  0.692233             0   \n",
       "2    0.757152  0.736345  0.720983  0.714639  0.712411             0   \n",
       "3    0.636801  0.629225  0.625833  0.604343  0.593791             0   \n",
       "4    0.643468  0.620197  0.597234  0.590584  0.582203             0   \n",
       "..        ...       ...       ...       ...       ...           ...   \n",
       "812  0.474088  0.458677  0.453075  0.447407  0.446844             0   \n",
       "813  0.806806  0.803364  0.799427  0.798791  0.792464             0   \n",
       "814  0.706968  0.672361  0.646371  0.600586  0.593879             0   \n",
       "815  0.763458  0.746442  0.712048  0.675893  0.649858             0   \n",
       "816  0.774557  0.741126  0.736407  0.734361  0.717974             0   \n",
       "\n",
       "     label_pred_2  label_pred_3  label_pred_4  label_pred_5  ...  AdaB_score  \\\n",
       "0               1             2             3             0  ...    0.202796   \n",
       "1               1             0             2             3  ...    0.202796   \n",
       "2               0             0             1             2  ...    0.228985   \n",
       "3               1             2             0             2  ...    0.201936   \n",
       "4               1             2             1             1  ...    0.198479   \n",
       "..            ...           ...           ...           ...  ...         ...   \n",
       "812             0             1             1             2  ...    0.329609   \n",
       "813             1             2             3             1  ...    0.211369   \n",
       "814             0             1             0             0  ...    0.222870   \n",
       "815             1             1             2             1  ...    0.202827   \n",
       "816             0             1             0             2  ...    0.228985   \n",
       "\n",
       "     compare_between_true_and_AdaB_label  xgb_pred  xgb_score  \\\n",
       "0                                      0         5   0.530761   \n",
       "1                                      1         5   0.409701   \n",
       "2                                      0         0   0.599712   \n",
       "3                                      0         5   0.419070   \n",
       "4                                      0         5   0.377461   \n",
       "..                                   ...       ...        ...   \n",
       "812                                    1         0   0.417516   \n",
       "813                                    1         5   0.355725   \n",
       "814                                    0         0   0.709621   \n",
       "815                                    0         1   0.427248   \n",
       "816                                    0         0   0.597859   \n",
       "\n",
       "     compare_between_true_and_xgb_label  knn_pred  knn_score  \\\n",
       "0                                     0         5        0.7   \n",
       "1                                     1         5        0.3   \n",
       "2                                     0         0        0.5   \n",
       "3                                     1         0        0.6   \n",
       "4                                     0         1        0.4   \n",
       "..                                  ...       ...        ...   \n",
       "812                                   0         5        0.5   \n",
       "813                                   0         1        0.5   \n",
       "814                                   0         0        0.6   \n",
       "815                                   0         5        0.5   \n",
       "816                                   0         5        0.5   \n",
       "\n",
       "     compare_between_true_and_knn_label  svm_pred  svm_score  \n",
       "0                                     0         5   0.526932  \n",
       "1                                     1         5   0.517114  \n",
       "2                                     0         0   0.591692  \n",
       "3                                     0         5   0.336907  \n",
       "4                                     1         5   0.336718  \n",
       "..                                  ...       ...        ...  \n",
       "812                                   1         0   0.408770  \n",
       "813                                   0         5   0.418765  \n",
       "814                                   0         0   0.692122  \n",
       "815                                   0         1   0.462261  \n",
       "816                                   0         0   0.611246  \n",
       "\n",
       "[817 rows x 25 columns]"
      ]
     },
     "execution_count": 152,
     "metadata": {},
     "output_type": "execute_result"
    }
   ],
   "source": [
    "df_assess"
   ]
  },
  {
   "cell_type": "code",
   "execution_count": null,
   "id": "cLpe5RcfCxti",
   "metadata": {
    "colab": {
     "base_uri": "https://localhost:8080/",
     "height": 685
    },
    "id": "cLpe5RcfCxti",
    "outputId": "bfeb9845-2c22-4475-f5e8-2fa2fd052459"
   },
   "outputs": [
    {
     "data": {
      "image/png": "[encoded data removed]",
      "text/plain": [
       "<Figure size 432x288 with 1 Axes>"
      ]
     },
     "metadata": {
      "needs_background": "light"
     },
     "output_type": "display_data"
    },
    {
     "name": "stdout",
     "output_type": "stream",
     "text": [
      "Best Threshold=0.739198, precision=0.698\n",
      "\n",
      "               precision    recall  f1-score   support\n",
      "\n",
      "           0       0.58      0.46      0.51       432\n",
      "           1       0.51      0.62      0.56       385\n",
      "\n",
      "    accuracy                           0.54       817\n",
      "   macro avg       0.54      0.54      0.54       817\n",
      "weighted avg       0.55      0.54      0.54       817\n",
      "\n",
      "----------------------------------\n",
      "\n",
      "               precision    recall  f1-score   support\n",
      "\n",
      "           0       0.55      0.96      0.70       432\n",
      "           1       0.69      0.11      0.19       385\n",
      "\n",
      "    accuracy                           0.56       817\n",
      "   macro avg       0.62      0.53      0.44       817\n",
      "weighted avg       0.62      0.56      0.46       817\n",
      "\n"
     ]
    }
   ],
   "source": [
    "#TODO WArning : this cell function is different from the on used in the \"all models optimization\"\n",
    "# classification label \n",
    "df_assess['compare_between_true_and_svm_label'] = np.where(\n",
    "    df_assess['svm_pred'] == df_assess['label_true'], 1, 0) \n",
    "# calculate pr-curve (instead of ROC curve : more appropriate for imbalanced data)\n",
    "precision, recall, thresholds = precision_recall_curve(df_assess[\"compare_between_true_and_svm_label\"].to_list(), df_assess.svm_score.to_list())\n",
    "\n",
    "# plot the pr curve for the model\n",
    "\n",
    "pyplot.plot(recall, precision, marker='.', label='BERT')\n",
    "pyplot.xlabel('Recall')\n",
    "pyplot.ylabel('Precision')\n",
    "pyplot.legend()\n",
    "pyplot.show()\n",
    "\n",
    "precision = precision[:-2]\n",
    "\n",
    "# locate the index of the largest f score\n",
    "ix = np.argmax(precision)\n",
    "print('Best Threshold=%f, precision=%.3f' % (thresholds[ix], precision[ix]))\n",
    "\n",
    "y = df_assess[\"compare_between_true_and_svm_label\"].to_list()\n",
    "\n",
    "# \"visually\" determined value\n",
    "y_preds = [1 if x > 0.5 else 0 for x in df_assess.svm_score.to_list()]\n",
    "y_preds_opt_thresh = [1 if x >(thresholds[ix]) else 0 for x in df_assess.svm_score.to_list()]\n",
    "\n",
    "print('\\n',classification_report(y,y_preds, zero_division=0))\n",
    "print(\"----------------------------------\")\n",
    "print('\\n',classification_report(y,y_preds_opt_thresh, zero_division=0))"
   ]
  },
  {
   "cell_type": "code",
   "execution_count": null,
   "id": "PmlUnLpsiTcN",
   "metadata": {
    "colab": {
     "base_uri": "https://localhost:8080/"
    },
    "id": "PmlUnLpsiTcN",
    "outputId": "976aaa12-fe36-4513-c7f0-846ef26071e0"
   },
   "outputs": [
    {
     "name": "stdout",
     "output_type": "stream",
     "text": [
      "\n",
      "               precision    recall  f1-score   support\n",
      "\n",
      "           0       0.28      1.00      0.44       232\n",
      "           1       0.00      0.00      0.00       116\n",
      "           2       0.00      0.00      0.00        73\n",
      "           3       0.00      0.00      0.00        26\n",
      "           4       0.00      0.00      0.00        16\n",
      "           5       0.00      0.00      0.00       354\n",
      "\n",
      "    accuracy                           0.28       817\n",
      "   macro avg       0.05      0.17      0.07       817\n",
      "weighted avg       0.08      0.28      0.13       817\n",
      "\n"
     ]
    }
   ],
   "source": [
    "print('\\n',classification_report(y_test,df_assess[\"label_pred_1\"], zero_division=0))"
   ]
  },
  {
   "cell_type": "code",
   "execution_count": null,
   "id": "veQ0Rxz9iAzA",
   "metadata": {
    "colab": {
     "base_uri": "https://localhost:8080/"
    },
    "id": "veQ0Rxz9iAzA",
    "outputId": "897b245e-2762-4ac9-8c5d-d5e7d3b07c64"
   },
   "outputs": [
    {
     "name": "stdout",
     "output_type": "stream",
     "text": [
      "\n",
      "               precision    recall  f1-score   support\n",
      "\n",
      "           0       0.44      0.66      0.53       232\n",
      "           1       0.51      0.30      0.38       116\n",
      "           2       0.33      0.01      0.03        73\n",
      "           3       0.00      0.00      0.00        26\n",
      "           4       0.00      0.00      0.00        16\n",
      "           5       0.49      0.55      0.52       354\n",
      "\n",
      "    accuracy                           0.47       817\n",
      "   macro avg       0.30      0.26      0.24       817\n",
      "weighted avg       0.44      0.47      0.43       817\n",
      "\n"
     ]
    }
   ],
   "source": [
    "print('\\n',classification_report(y_test, y_pred_svm, zero_division=0))"
   ]
  },
  {
   "cell_type": "markdown",
   "id": "4hKv2LfJA7pZ",
   "metadata": {
    "id": "4hKv2LfJA7pZ"
   },
   "source": [
    "## Logistic Regression "
   ]
  },
  {
   "cell_type": "code",
   "execution_count": null,
   "id": "JqlZPfI_1q82",
   "metadata": {
    "colab": {
     "base_uri": "https://localhost:8080/"
    },
    "id": "JqlZPfI_1q82",
    "outputId": "f79ea653-667c-4b03-8b5b-e581f941225a"
   },
   "outputs": [
    {
     "data": {
      "text/plain": [
       "LogisticRegression()"
      ]
     },
     "execution_count": 156,
     "metadata": {},
     "output_type": "execute_result"
    }
   ],
   "source": [
    "lr = LogisticRegression()\n",
    "lr.fit(X_train,y_train)"
   ]
  },
  {
   "cell_type": "code",
   "execution_count": null,
   "id": "safHvWYEBHu3",
   "metadata": {
    "colab": {
     "base_uri": "https://localhost:8080/"
    },
    "id": "safHvWYEBHu3",
    "outputId": "e159025e-54d9-4064-87f6-d37bd21d5db2"
   },
   "outputs": [
    {
     "name": "stdout",
     "output_type": "stream",
     "text": [
      "              precision    recall  f1-score   support\n",
      "\n",
      "           0       0.44      0.69      0.54       232\n",
      "           1       0.51      0.30      0.38       116\n",
      "           2       0.36      0.11      0.17        73\n",
      "           3       0.00      0.00      0.00        26\n",
      "           4       0.00      0.00      0.00        16\n",
      "           5       0.49      0.50      0.50       354\n",
      "\n",
      "    accuracy                           0.47       817\n",
      "   macro avg       0.30      0.27      0.26       817\n",
      "weighted avg       0.45      0.47      0.44       817\n",
      "\n"
     ]
    }
   ],
   "source": [
    "y_pred_lr = lr.predict(X_test) \n",
    "report = classification_report(y_test, y_pred_lr)\n",
    "print(report) "
   ]
  },
  {
   "cell_type": "code",
   "execution_count": null,
   "id": "waKnPm60BQps",
   "metadata": {
    "id": "waKnPm60BQps"
   },
   "outputs": [],
   "source": [
    "df_assess[\"lr_pred\"] = y_pred_lr\n",
    "df_assess[\"lr_score\"] = np.max(lr.predict_proba(X_test), axis=1)"
   ]
  },
  {
   "cell_type": "code",
   "execution_count": null,
   "id": "U9sxqqHDBQpu",
   "metadata": {
    "colab": {
     "base_uri": "https://localhost:8080/",
     "height": 685
    },
    "id": "U9sxqqHDBQpu",
    "outputId": "7a264d40-4fbc-42dc-c908-b4ebe7bea0c5"
   },
   "outputs": [
    {
     "data": {
      "image/png": "[encoded data removed]",
      "text/plain": [
       "<Figure size 432x288 with 1 Axes>"
      ]
     },
     "metadata": {
      "needs_background": "light"
     },
     "output_type": "display_data"
    },
    {
     "name": "stdout",
     "output_type": "stream",
     "text": [
      "Best Threshold=0.842402, precision=0.733\n",
      "\n",
      "               precision    recall  f1-score   support\n",
      "\n",
      "           0       0.57      0.49      0.53       437\n",
      "           1       0.50      0.57      0.53       380\n",
      "\n",
      "    accuracy                           0.53       817\n",
      "   macro avg       0.53      0.53      0.53       817\n",
      "weighted avg       0.54      0.53      0.53       817\n",
      "\n",
      "----------------------------------\n",
      "\n",
      "               precision    recall  f1-score   support\n",
      "\n",
      "           0       0.55      0.97      0.70       437\n",
      "           1       0.73      0.08      0.15       380\n",
      "\n",
      "    accuracy                           0.56       817\n",
      "   macro avg       0.64      0.53      0.43       817\n",
      "weighted avg       0.63      0.56      0.45       817\n",
      "\n"
     ]
    }
   ],
   "source": [
    "#TODO WArning : this cell function is different from the on used in the \"all models optimization\"\n",
    "\n",
    "df_assess['compare_between_true_and_lr_label_true'] = np.where(\n",
    "    df_assess['lr_pred'] == df_assess['label_true'], 1, 0) \n",
    "# calculate pr-curve (instead of ROC curve : more appropriate for imbalanced data)\n",
    "precision, recall, thresholds = precision_recall_curve(df_assess[\"compare_between_true_and_lr_label_true\"].to_list(), df_assess.lr_score.to_list())\n",
    "\n",
    "# plot the pr curve for the model\n",
    "\n",
    "pyplot.plot(recall, precision, marker='.', label='BERT')\n",
    "pyplot.xlabel('Recall')\n",
    "pyplot.ylabel('Precision')\n",
    "pyplot.legend()\n",
    "pyplot.show()\n",
    "\n",
    "precision = precision[:-2]\n",
    "\n",
    "# locate the index of the largest f score\n",
    "ix = np.argmax(precision)\n",
    "print('Best Threshold=%f, precision=%.3f' % (thresholds[ix], precision[ix]))\n",
    "\n",
    "y = df_assess[\"compare_between_true_and_lr_label_true\"].to_list()\n",
    "\n",
    "# \"visually\" determined value\n",
    "y_preds = [1 if x > 0.5 else 0 for x in df_assess.lr_score.to_list()]\n",
    "y_preds_opt_thresh = [1 if x >(thresholds[ix]) else 0 for x in df_assess.lr_score.to_list()]\n",
    "\n",
    "print('\\n',classification_report(y,y_preds, zero_division=0))\n",
    "print(\"----------------------------------\")\n",
    "print('\\n',classification_report(y,y_preds_opt_thresh, zero_division=0))"
   ]
  },
  {
   "cell_type": "code",
   "execution_count": null,
   "id": "mP1VEVonBQpw",
   "metadata": {
    "colab": {
     "base_uri": "https://localhost:8080/"
    },
    "id": "mP1VEVonBQpw",
    "outputId": "69bcb7b6-afc4-4bdf-cb1b-63e1c81607f5"
   },
   "outputs": [
    {
     "name": "stdout",
     "output_type": "stream",
     "text": [
      "\n",
      "               precision    recall  f1-score   support\n",
      "\n",
      "           0       0.28      1.00      0.44       232\n",
      "           1       0.00      0.00      0.00       116\n",
      "           2       0.00      0.00      0.00        73\n",
      "           3       0.00      0.00      0.00        26\n",
      "           4       0.00      0.00      0.00        16\n",
      "           5       0.00      0.00      0.00       354\n",
      "\n",
      "    accuracy                           0.28       817\n",
      "   macro avg       0.05      0.17      0.07       817\n",
      "weighted avg       0.08      0.28      0.13       817\n",
      "\n"
     ]
    }
   ],
   "source": [
    "print('\\n',classification_report(y_test,df_assess[\"label_pred_1\"], zero_division=0))"
   ]
  },
  {
   "cell_type": "code",
   "execution_count": null,
   "id": "piCJZoyWBQpx",
   "metadata": {
    "colab": {
     "base_uri": "https://localhost:8080/"
    },
    "id": "piCJZoyWBQpx",
    "outputId": "b9749ab5-6123-4735-dbce-f8262a2500f7"
   },
   "outputs": [
    {
     "name": "stdout",
     "output_type": "stream",
     "text": [
      "\n",
      "               precision    recall  f1-score   support\n",
      "\n",
      "           0       0.44      0.69      0.54       232\n",
      "           1       0.51      0.30      0.38       116\n",
      "           2       0.36      0.11      0.17        73\n",
      "           3       0.00      0.00      0.00        26\n",
      "           4       0.00      0.00      0.00        16\n",
      "           5       0.49      0.50      0.50       354\n",
      "\n",
      "    accuracy                           0.47       817\n",
      "   macro avg       0.30      0.27      0.26       817\n",
      "weighted avg       0.45      0.47      0.44       817\n",
      "\n"
     ]
    }
   ],
   "source": [
    "print('\\n',classification_report(y_test, y_pred_lr, zero_division=0))"
   ]
  },
  {
   "cell_type": "markdown",
   "id": "kR_s1tT1Iu6Z",
   "metadata": {
    "id": "kR_s1tT1Iu6Z"
   },
   "source": [
    "# DNN"
   ]
  },
  {
   "cell_type": "code",
   "execution_count": null,
   "id": "B6T6f99EYy5d",
   "metadata": {
    "id": "B6T6f99EYy5d"
   },
   "outputs": [],
   "source": [
    "COLS=score_features + label_pred_features + label_pred_dummies_features"
   ]
  },
  {
   "cell_type": "code",
   "execution_count": null,
   "id": "fxheuf-4JXjL",
   "metadata": {
    "id": "fxheuf-4JXjL"
   },
   "outputs": [],
   "source": [
    "# dataset definition\n",
    "class CSVDataset(Dataset):\n",
    "    # load the dataset\n",
    "    def __init__(self, df_all_Feature):\n",
    "        # load the csv file as a dataframe\n",
    "          \n",
    "        # store the inputs and outputs\n",
    "        self.X = df_all_Feature[COLS].values\n",
    "        self.y = df_all_Feature['label_true'].values\n",
    "        # ensure input data is floats\n",
    "        self.X = self.X.astype('float32')\n",
    "\n",
    "\n",
    "    # number of rows in the dataset\n",
    "    def __len__(self):\n",
    "        return len(self.X)\n",
    "\n",
    "    # get a row at an index\n",
    "    def __getitem__(self, idx):\n",
    "        return [self.X[idx], self.y[idx]]\n",
    "\n",
    "    # get indexes for train and test rows\n",
    "    def get_splits(self, n_test=0.33):\n",
    "        # determine sizes\n",
    "        test_size = round(n_test * len(self.X))\n",
    "        train_size = len(self.X) - test_size\n",
    "        # calculate the split\n",
    "        return random_split(self, [train_size, test_size])\n",
    "\n",
    "# model definition\n",
    "class MLP(Module):\n",
    "    # define model elements\n",
    "    def __init__(self, n_inputs):\n",
    "        super(MLP, self).__init__()\n",
    "        # input to first hidden layer\n",
    "        self.hidden1 = Linear(n_inputs, 10)\n",
    "        kaiming_uniform_(self.hidden1.weight, nonlinearity='relu')\n",
    "        self.act1 = ReLU()\n",
    "        # second hidden layer\n",
    "        self.hidden2 = Linear(10, 8)\n",
    "        kaiming_uniform_(self.hidden2.weight, nonlinearity='relu')\n",
    "        self.act2 = ReLU()\n",
    "        # third hidden layer and output\n",
    "        self.hidden3 = Linear(8,6)\n",
    "        xavier_uniform_(self.hidden3.weight)\n",
    "        self.act3 = Softmax(dim=1)\n",
    "\n",
    "    # forward propagate input\n",
    "    def forward(self, X):\n",
    "        # input to first hidden layer\n",
    "        X = self.hidden1(X)\n",
    "        X = self.act1(X)\n",
    "        # second hidden layer\n",
    "        X = self.hidden2(X)\n",
    "        X = self.act2(X)\n",
    "        # output layer\n",
    "        X = self.hidden3(X)\n",
    "        X = self.act3(X)\n",
    "        return X\n",
    "\n",
    "# prepare the dataset\n",
    "#def prepare_data(df_train, df_test ):\n",
    "def prepare_data(path_train,path_test):\n",
    "    # load the dataset\n",
    "    dataset_train = CSVDataset(path_train)\n",
    "    dataset_test = CSVDataset(path_test)\n",
    "    # calculate split\n",
    "    #train, _splits()\n",
    "    # prepare data loaderstest = dataset.get\n",
    "    train_dl = DataLoader(dataset_train, batch_size=32, shuffle=True)\n",
    "    test_dl = DataLoader(dataset_test, batch_size=1024, shuffle=False)\n",
    "    return train_dl, test_dl\n",
    "\n",
    "# train the model\n",
    "def train_model(train_dl, model):\n",
    "    # define the optimization\n",
    "    criterion = CrossEntropyLoss()\n",
    "    optimizer = SGD(model.parameters(), lr=0.01, momentum=0.9)\n",
    "    # enumerate epochs\n",
    "    for epoch in range(500):\n",
    "        # enumerate mini batches\n",
    "        for i, (inputs, targets) in enumerate(train_dl):\n",
    "            # clear the gradients\n",
    "            optimizer.zero_grad()\n",
    "            # compute the model output\n",
    "            yhat = model(inputs)\n",
    "            # calculate loss\n",
    "            loss = criterion(yhat, targets)\n",
    "            # credit assignment\n",
    "            loss.backward()\n",
    "            # update model weights\n",
    "            optimizer.step()\n",
    "           \n",
    "\n",
    "# evaluate the model\n",
    "def evaluate_model(test_dl, model):\n",
    "    predictions, actuals = list(), list()\n",
    "    for i, (inputs, targets) in enumerate(test_dl):\n",
    "        # evaluate the model on the test set\n",
    "        yhat = model(inputs)\n",
    "        # retrieve numpy array\n",
    "        yhat = yhat.detach().numpy()\n",
    "        actual = targets.numpy()\n",
    "        # convert to class labels\n",
    "        yhat = argmax(yhat, axis=1)\n",
    "        # reshape for stacking\n",
    "        actual = actual.reshape((len(actual), 1))\n",
    "        yhat = yhat.reshape((len(yhat), 1))\n",
    "        # store\n",
    "        predictions.append(yhat)\n",
    "        actuals.append(actual)\n",
    "    predictions, actuals = vstack(predictions), vstack(actuals)\n",
    "    # calculate accuracy\n",
    "    acc = accuracy_score(actuals, predictions)\n",
    "    return acc\n",
    "# make a class prediction for one row of data\n",
    "def predict(row, model):\n",
    "    # convert row to data\n",
    "    row = Tensor([row])\n",
    "    # make prediction\n",
    "    yhat = model(row)\n",
    "    # retrieve numpy array\n",
    "    yhat = yhat.detach().numpy()\n",
    "    return yhat"
   ]
  },
  {
   "cell_type": "code",
   "execution_count": null,
   "id": "qZGFEYPLIubQ",
   "metadata": {
    "colab": {
     "base_uri": "https://localhost:8080/"
    },
    "id": "qZGFEYPLIubQ",
    "outputId": "036117c2-a08a-4988-d63e-51edf37f1fa4"
   },
   "outputs": [
    {
     "name": "stdout",
     "output_type": "stream",
     "text": [
      "8822 817\n"
     ]
    }
   ],
   "source": [
    "train_dl, test_dl = prepare_data(df_train,df_test)\n",
    "print(len(train_dl.dataset), len(test_dl.dataset))"
   ]
  },
  {
   "cell_type": "code",
   "execution_count": null,
   "id": "TkiovRWbIuda",
   "metadata": {
    "colab": {
     "base_uri": "https://localhost:8080/"
    },
    "id": "TkiovRWbIuda",
    "outputId": "528e18dd-573b-4797-8cc7-75e98ec11ea8"
   },
   "outputs": [
    {
     "name": "stdout",
     "output_type": "stream",
     "text": [
      "Accuracy: 0.493\n",
      "Predicted: [[1.0000000e+00 4.5525387e-17 6.1260929e-15 2.1202145e-17 2.4378899e-14\n",
      "  2.2062543e-11]] (class=0)\n"
     ]
    }
   ],
   "source": [
    "# define the network\n",
    "model = MLP(25)\n",
    "# train the model\n",
    "train_model(train_dl, model)\n",
    "# evaluate the model\n",
    "acc = evaluate_model(test_dl, model)\n",
    "print('Accuracy: %.3f' % acc)\n",
    "# make a single prediction \n",
    "row = [0.71139216, 0.66471159, 0.66216338, 0.65461689, 0.65377486,\n",
    "       0.        , 0.        , 1.        , 0.        , 0.        ,\n",
    "       1.        , 1.        , 0.        , 0.        , 1.        ,\n",
    "       0.        , 1.        , 0.        , 0.        , 0.        ,\n",
    "       1.        , 0.        , 0.        , 0.        , 0.        ]\n",
    "yhat = predict(row, model)\n",
    "print('Predicted: %s (class=%d)' % (yhat, argmax(yhat)))"
   ]
  },
  {
   "cell_type": "code",
   "execution_count": null,
   "id": "uv0edBxtAy-B",
   "metadata": {
    "colab": {
     "base_uri": "https://localhost:8080/"
    },
    "id": "uv0edBxtAy-B",
    "outputId": "6a580508-2d5c-4b08-8ae0-0f1716c343a8"
   },
   "outputs": [
    {
     "name": "stderr",
     "output_type": "stream",
     "text": [
      "/usr/local/lib/python3.7/dist-packages/ipykernel_launcher.py:119: UserWarning: Creating a tensor from a list of numpy.ndarrays is extremely slow. Please consider converting the list to a single numpy.ndarray with numpy.array() before converting to a tensor. (Triggered internally at  ../torch/csrc/utils/tensor_new.cpp:201.)\n"
     ]
    }
   ],
   "source": [
    "pred=[]\n",
    "for i in range(X_test.shape[0]):\n",
    "  pred.append(argmax(predict(X_test.iloc[i].values, model)))"
   ]
  },
  {
   "cell_type": "code",
   "execution_count": null,
   "id": "o5S8pD6gCJ3I",
   "metadata": {
    "id": "o5S8pD6gCJ3I"
   },
   "outputs": [],
   "source": [
    "df_assess[\"DNN_pred\"]=pred"
   ]
  },
  {
   "cell_type": "code",
   "execution_count": null,
   "id": "KcxM66yYCBA2",
   "metadata": {
    "colab": {
     "base_uri": "https://localhost:8080/"
    },
    "id": "KcxM66yYCBA2",
    "outputId": "de497519-6e26-4df2-d1a4-53abb454e2ef"
   },
   "outputs": [
    {
     "name": "stdout",
     "output_type": "stream",
     "text": [
      "\n",
      "               precision    recall  f1-score   support\n",
      "\n",
      "           0       0.28      1.00      0.44       232\n",
      "           1       0.00      0.00      0.00       116\n",
      "           2       0.00      0.00      0.00        73\n",
      "           3       0.00      0.00      0.00        26\n",
      "           4       0.00      0.00      0.00        16\n",
      "           5       0.00      0.00      0.00       354\n",
      "\n",
      "    accuracy                           0.28       817\n",
      "   macro avg       0.05      0.17      0.07       817\n",
      "weighted avg       0.08      0.28      0.13       817\n",
      "\n"
     ]
    }
   ],
   "source": [
    "print('\\n',classification_report(y_test,df_assess[\"label_pred_1\"], zero_division=0))"
   ]
  },
  {
   "cell_type": "code",
   "execution_count": null,
   "id": "gTWLImQxCBA3",
   "metadata": {
    "colab": {
     "base_uri": "https://localhost:8080/"
    },
    "id": "gTWLImQxCBA3",
    "outputId": "2f5cba02-6d68-40a2-aace-faca4400f1ae"
   },
   "outputs": [
    {
     "name": "stdout",
     "output_type": "stream",
     "text": [
      "\n",
      "               precision    recall  f1-score   support\n",
      "\n",
      "           0       0.42      0.75      0.53       232\n",
      "           1       0.50      0.28      0.36       116\n",
      "           2       0.00      0.00      0.00        73\n",
      "           3       0.00      0.00      0.00        26\n",
      "           4       0.00      0.00      0.00        16\n",
      "           5       0.51      0.49      0.50       354\n",
      "\n",
      "    accuracy                           0.46       817\n",
      "   macro avg       0.24      0.25      0.23       817\n",
      "weighted avg       0.41      0.46      0.42       817\n",
      "\n"
     ]
    }
   ],
   "source": [
    "print('\\n',classification_report(y_test,pred, zero_division=0))"
   ]
  },
  {
   "cell_type": "markdown",
   "id": "95MsOCt34T6l",
   "metadata": {
    "id": "95MsOCt34T6l"
   },
   "source": [
    "# df assess"
   ]
  },
  {
   "cell_type": "code",
   "execution_count": null,
   "id": "dbnj-UH0_WBy",
   "metadata": {
    "colab": {
     "base_uri": "https://localhost:8080/",
     "height": 487
    },
    "id": "dbnj-UH0_WBy",
    "outputId": "96d41ab3-881e-41a6-a41a-cc61285f1939"
   },
   "outputs": [
    {
     "data": {
      "text/html": [
       "\n",
       "  <div id=\"df-1e5a3ece-02b0-43a0-af08-a869975d940d\">\n",
       "    <div class=\"colab-df-container\">\n",
       "      <div>\n",
       "<style scoped>\n",
       "    .dataframe tbody tr th:only-of-type {\n",
       "        vertical-align: middle;\n",
       "    }\n",
       "\n",
       "    .dataframe tbody tr th {\n",
       "        vertical-align: top;\n",
       "    }\n",
       "\n",
       "    .dataframe thead th {\n",
       "        text-align: right;\n",
       "    }\n",
       "</style>\n",
       "<table border=\"1\" class=\"dataframe\">\n",
       "  <thead>\n",
       "    <tr style=\"text-align: right;\">\n",
       "      <th></th>\n",
       "      <th>score_1</th>\n",
       "      <th>score_2</th>\n",
       "      <th>score_3</th>\n",
       "      <th>score_4</th>\n",
       "      <th>score_5</th>\n",
       "      <th>label_pred_1</th>\n",
       "      <th>label_pred_2</th>\n",
       "      <th>label_pred_3</th>\n",
       "      <th>label_pred_4</th>\n",
       "      <th>label_pred_5</th>\n",
       "      <th>...</th>\n",
       "      <th>AdaB_score</th>\n",
       "      <th>xgb_pred</th>\n",
       "      <th>xgb_score</th>\n",
       "      <th>knn_pred</th>\n",
       "      <th>knn_score</th>\n",
       "      <th>svm_pred</th>\n",
       "      <th>svm_score</th>\n",
       "      <th>lr_pred</th>\n",
       "      <th>lr_score</th>\n",
       "      <th>DNN_pred</th>\n",
       "    </tr>\n",
       "  </thead>\n",
       "  <tbody>\n",
       "    <tr>\n",
       "      <th>0</th>\n",
       "      <td>0.710615</td>\n",
       "      <td>0.706026</td>\n",
       "      <td>0.666258</td>\n",
       "      <td>0.664980</td>\n",
       "      <td>0.658934</td>\n",
       "      <td>0</td>\n",
       "      <td>1</td>\n",
       "      <td>2</td>\n",
       "      <td>3</td>\n",
       "      <td>0</td>\n",
       "      <td>...</td>\n",
       "      <td>0.202796</td>\n",
       "      <td>5</td>\n",
       "      <td>0.530761</td>\n",
       "      <td>5</td>\n",
       "      <td>0.7</td>\n",
       "      <td>5</td>\n",
       "      <td>0.526932</td>\n",
       "      <td>5</td>\n",
       "      <td>0.516338</td>\n",
       "      <td>5</td>\n",
       "    </tr>\n",
       "    <tr>\n",
       "      <th>1</th>\n",
       "      <td>0.737935</td>\n",
       "      <td>0.703151</td>\n",
       "      <td>0.699834</td>\n",
       "      <td>0.696477</td>\n",
       "      <td>0.692233</td>\n",
       "      <td>0</td>\n",
       "      <td>1</td>\n",
       "      <td>0</td>\n",
       "      <td>2</td>\n",
       "      <td>3</td>\n",
       "      <td>...</td>\n",
       "      <td>0.202796</td>\n",
       "      <td>5</td>\n",
       "      <td>0.409701</td>\n",
       "      <td>5</td>\n",
       "      <td>0.3</td>\n",
       "      <td>5</td>\n",
       "      <td>0.517114</td>\n",
       "      <td>5</td>\n",
       "      <td>0.446518</td>\n",
       "      <td>5</td>\n",
       "    </tr>\n",
       "    <tr>\n",
       "      <th>2</th>\n",
       "      <td>0.757152</td>\n",
       "      <td>0.736345</td>\n",
       "      <td>0.720983</td>\n",
       "      <td>0.714639</td>\n",
       "      <td>0.712411</td>\n",
       "      <td>0</td>\n",
       "      <td>0</td>\n",
       "      <td>0</td>\n",
       "      <td>1</td>\n",
       "      <td>2</td>\n",
       "      <td>...</td>\n",
       "      <td>0.228985</td>\n",
       "      <td>0</td>\n",
       "      <td>0.599712</td>\n",
       "      <td>0</td>\n",
       "      <td>0.5</td>\n",
       "      <td>0</td>\n",
       "      <td>0.591692</td>\n",
       "      <td>0</td>\n",
       "      <td>0.625791</td>\n",
       "      <td>0</td>\n",
       "    </tr>\n",
       "    <tr>\n",
       "      <th>3</th>\n",
       "      <td>0.636801</td>\n",
       "      <td>0.629225</td>\n",
       "      <td>0.625833</td>\n",
       "      <td>0.604343</td>\n",
       "      <td>0.593791</td>\n",
       "      <td>0</td>\n",
       "      <td>1</td>\n",
       "      <td>2</td>\n",
       "      <td>0</td>\n",
       "      <td>2</td>\n",
       "      <td>...</td>\n",
       "      <td>0.201936</td>\n",
       "      <td>5</td>\n",
       "      <td>0.419070</td>\n",
       "      <td>0</td>\n",
       "      <td>0.6</td>\n",
       "      <td>5</td>\n",
       "      <td>0.336907</td>\n",
       "      <td>5</td>\n",
       "      <td>0.500588</td>\n",
       "      <td>5</td>\n",
       "    </tr>\n",
       "    <tr>\n",
       "      <th>4</th>\n",
       "      <td>0.643468</td>\n",
       "      <td>0.620197</td>\n",
       "      <td>0.597234</td>\n",
       "      <td>0.590584</td>\n",
       "      <td>0.582203</td>\n",
       "      <td>0</td>\n",
       "      <td>1</td>\n",
       "      <td>2</td>\n",
       "      <td>1</td>\n",
       "      <td>1</td>\n",
       "      <td>...</td>\n",
       "      <td>0.198479</td>\n",
       "      <td>5</td>\n",
       "      <td>0.377461</td>\n",
       "      <td>1</td>\n",
       "      <td>0.4</td>\n",
       "      <td>5</td>\n",
       "      <td>0.336718</td>\n",
       "      <td>5</td>\n",
       "      <td>0.411102</td>\n",
       "      <td>5</td>\n",
       "    </tr>\n",
       "    <tr>\n",
       "      <th>...</th>\n",
       "      <td>...</td>\n",
       "      <td>...</td>\n",
       "      <td>...</td>\n",
       "      <td>...</td>\n",
       "      <td>...</td>\n",
       "      <td>...</td>\n",
       "      <td>...</td>\n",
       "      <td>...</td>\n",
       "      <td>...</td>\n",
       "      <td>...</td>\n",
       "      <td>...</td>\n",
       "      <td>...</td>\n",
       "      <td>...</td>\n",
       "      <td>...</td>\n",
       "      <td>...</td>\n",
       "      <td>...</td>\n",
       "      <td>...</td>\n",
       "      <td>...</td>\n",
       "      <td>...</td>\n",
       "      <td>...</td>\n",
       "      <td>...</td>\n",
       "    </tr>\n",
       "    <tr>\n",
       "      <th>812</th>\n",
       "      <td>0.474088</td>\n",
       "      <td>0.458677</td>\n",
       "      <td>0.453075</td>\n",
       "      <td>0.447407</td>\n",
       "      <td>0.446844</td>\n",
       "      <td>0</td>\n",
       "      <td>0</td>\n",
       "      <td>1</td>\n",
       "      <td>1</td>\n",
       "      <td>2</td>\n",
       "      <td>...</td>\n",
       "      <td>0.329609</td>\n",
       "      <td>0</td>\n",
       "      <td>0.417516</td>\n",
       "      <td>5</td>\n",
       "      <td>0.5</td>\n",
       "      <td>0</td>\n",
       "      <td>0.408770</td>\n",
       "      <td>5</td>\n",
       "      <td>0.585876</td>\n",
       "      <td>5</td>\n",
       "    </tr>\n",
       "    <tr>\n",
       "      <th>813</th>\n",
       "      <td>0.806806</td>\n",
       "      <td>0.803364</td>\n",
       "      <td>0.799427</td>\n",
       "      <td>0.798791</td>\n",
       "      <td>0.792464</td>\n",
       "      <td>0</td>\n",
       "      <td>1</td>\n",
       "      <td>2</td>\n",
       "      <td>3</td>\n",
       "      <td>1</td>\n",
       "      <td>...</td>\n",
       "      <td>0.211369</td>\n",
       "      <td>5</td>\n",
       "      <td>0.355725</td>\n",
       "      <td>1</td>\n",
       "      <td>0.5</td>\n",
       "      <td>5</td>\n",
       "      <td>0.418765</td>\n",
       "      <td>5</td>\n",
       "      <td>0.401018</td>\n",
       "      <td>5</td>\n",
       "    </tr>\n",
       "    <tr>\n",
       "      <th>814</th>\n",
       "      <td>0.706968</td>\n",
       "      <td>0.672361</td>\n",
       "      <td>0.646371</td>\n",
       "      <td>0.600586</td>\n",
       "      <td>0.593879</td>\n",
       "      <td>0</td>\n",
       "      <td>0</td>\n",
       "      <td>1</td>\n",
       "      <td>0</td>\n",
       "      <td>0</td>\n",
       "      <td>...</td>\n",
       "      <td>0.222870</td>\n",
       "      <td>0</td>\n",
       "      <td>0.709621</td>\n",
       "      <td>0</td>\n",
       "      <td>0.6</td>\n",
       "      <td>0</td>\n",
       "      <td>0.692122</td>\n",
       "      <td>0</td>\n",
       "      <td>0.762625</td>\n",
       "      <td>0</td>\n",
       "    </tr>\n",
       "    <tr>\n",
       "      <th>815</th>\n",
       "      <td>0.763458</td>\n",
       "      <td>0.746442</td>\n",
       "      <td>0.712048</td>\n",
       "      <td>0.675893</td>\n",
       "      <td>0.649858</td>\n",
       "      <td>0</td>\n",
       "      <td>1</td>\n",
       "      <td>1</td>\n",
       "      <td>2</td>\n",
       "      <td>1</td>\n",
       "      <td>...</td>\n",
       "      <td>0.202827</td>\n",
       "      <td>1</td>\n",
       "      <td>0.427248</td>\n",
       "      <td>5</td>\n",
       "      <td>0.5</td>\n",
       "      <td>1</td>\n",
       "      <td>0.462261</td>\n",
       "      <td>1</td>\n",
       "      <td>0.464936</td>\n",
       "      <td>1</td>\n",
       "    </tr>\n",
       "    <tr>\n",
       "      <th>816</th>\n",
       "      <td>0.774557</td>\n",
       "      <td>0.741126</td>\n",
       "      <td>0.736407</td>\n",
       "      <td>0.734361</td>\n",
       "      <td>0.717974</td>\n",
       "      <td>0</td>\n",
       "      <td>0</td>\n",
       "      <td>1</td>\n",
       "      <td>0</td>\n",
       "      <td>2</td>\n",
       "      <td>...</td>\n",
       "      <td>0.228985</td>\n",
       "      <td>0</td>\n",
       "      <td>0.597859</td>\n",
       "      <td>5</td>\n",
       "      <td>0.5</td>\n",
       "      <td>0</td>\n",
       "      <td>0.611246</td>\n",
       "      <td>0</td>\n",
       "      <td>0.630837</td>\n",
       "      <td>0</td>\n",
       "    </tr>\n",
       "  </tbody>\n",
       "</table>\n",
       "<p>817 rows × 24 columns</p>\n",
       "</div>\n",
       "      <button class=\"colab-df-convert\" onclick=\"convertToInteractive('df-1e5a3ece-02b0-43a0-af08-a869975d940d')\"\n",
       "              title=\"Convert this dataframe to an interactive table.\"\n",
       "              style=\"display:none;\">\n",
       "        \n",
       "  <svg xmlns=\"http://www.w3.org/2000/svg\" height=\"24px\"viewBox=\"0 0 24 24\"\n",
       "       width=\"24px\">\n",
       "    <path d=\"M0 0h24v24H0V0z\" fill=\"none\"/>\n",
       "    <path d=\"M18.56 5.44l.94 2.06.94-2.06 2.06-.94-2.06-.94-.94-2.06-.94 2.06-2.06.94zm-11 1L8.5 8.5l.94-2.06 2.06-.94-2.06-.94L8.5 2.5l-.94 2.06-2.06.94zm10 10l.94 2.06.94-2.06 2.06-.94-2.06-.94-.94-2.06-.94 2.06-2.06.94z\"/><path d=\"M17.41 7.96l-1.37-1.37c-.4-.4-.92-.59-1.43-.59-.52 0-1.04.2-1.43.59L10.3 9.45l-7.72 7.72c-.78.78-.78 2.05 0 2.83L4 21.41c.39.39.9.59 1.41.59.51 0 1.02-.2 1.41-.59l7.78-7.78 2.81-2.81c.8-.78.8-2.07 0-2.86zM5.41 20L4 18.59l7.72-7.72 1.47 1.35L5.41 20z\"/>\n",
       "  </svg>\n",
       "      </button>\n",
       "      \n",
       "  <style>\n",
       "    .colab-df-container {\n",
       "      display:flex;\n",
       "      flex-wrap:wrap;\n",
       "      gap: 12px;\n",
       "    }\n",
       "\n",
       "    .colab-df-convert {\n",
       "      background-color: #E8F0FE;\n",
       "      border: none;\n",
       "      border-radius: 50%;\n",
       "      cursor: pointer;\n",
       "      display: none;\n",
       "      fill: #1967D2;\n",
       "      height: 32px;\n",
       "      padding: 0 0 0 0;\n",
       "      width: 32px;\n",
       "    }\n",
       "\n",
       "    .colab-df-convert:hover {\n",
       "      background-color: #E2EBFA;\n",
       "      box-shadow: 0px 1px 2px rgba(60, 64, 67, 0.3), 0px 1px 3px 1px rgba(60, 64, 67, 0.15);\n",
       "      fill: #174EA6;\n",
       "    }\n",
       "\n",
       "    [theme=dark] .colab-df-convert {\n",
       "      background-color: #3B4455;\n",
       "      fill: #D2E3FC;\n",
       "    }\n",
       "\n",
       "    [theme=dark] .colab-df-convert:hover {\n",
       "      background-color: #434B5C;\n",
       "      box-shadow: 0px 1px 3px 1px rgba(0, 0, 0, 0.15);\n",
       "      filter: drop-shadow(0px 1px 2px rgba(0, 0, 0, 0.3));\n",
       "      fill: #FFFFFF;\n",
       "    }\n",
       "  </style>\n",
       "\n",
       "      <script>\n",
       "        const buttonEl =\n",
       "          document.querySelector('#df-1e5a3ece-02b0-43a0-af08-a869975d940d button.colab-df-convert');\n",
       "        buttonEl.style.display =\n",
       "          google.colab.kernel.accessAllowed ? 'block' : 'none';\n",
       "\n",
       "        async function convertToInteractive(key) {\n",
       "          const element = document.querySelector('#df-1e5a3ece-02b0-43a0-af08-a869975d940d');\n",
       "          const dataTable =\n",
       "            await google.colab.kernel.invokeFunction('convertToInteractive',\n",
       "                                                     [key], {});\n",
       "          if (!dataTable) return;\n",
       "\n",
       "          const docLinkHtml = 'Like what you see? Visit the ' +\n",
       "            '<a target=\"_blank\" href=https://colab.research.google.com/notebooks/data_table.ipynb>data table notebook</a>'\n",
       "            + ' to learn more about interactive tables.';\n",
       "          element.innerHTML = '';\n",
       "          dataTable['output_type'] = 'display_data';\n",
       "          await google.colab.output.renderOutput(dataTable, element);\n",
       "          const docLink = document.createElement('div');\n",
       "          docLink.innerHTML = docLinkHtml;\n",
       "          element.appendChild(docLink);\n",
       "        }\n",
       "      </script>\n",
       "    </div>\n",
       "  </div>\n",
       "  "
      ],
      "text/plain": [
       "      score_1   score_2   score_3   score_4   score_5  label_pred_1  \\\n",
       "0    0.710615  0.706026  0.666258  0.664980  0.658934             0   \n",
       "1    0.737935  0.703151  0.699834  0.696477  0.692233             0   \n",
       "2    0.757152  0.736345  0.720983  0.714639  0.712411             0   \n",
       "3    0.636801  0.629225  0.625833  0.604343  0.593791             0   \n",
       "4    0.643468  0.620197  0.597234  0.590584  0.582203             0   \n",
       "..        ...       ...       ...       ...       ...           ...   \n",
       "812  0.474088  0.458677  0.453075  0.447407  0.446844             0   \n",
       "813  0.806806  0.803364  0.799427  0.798791  0.792464             0   \n",
       "814  0.706968  0.672361  0.646371  0.600586  0.593879             0   \n",
       "815  0.763458  0.746442  0.712048  0.675893  0.649858             0   \n",
       "816  0.774557  0.741126  0.736407  0.734361  0.717974             0   \n",
       "\n",
       "     label_pred_2  label_pred_3  label_pred_4  label_pred_5  ...  AdaB_score  \\\n",
       "0               1             2             3             0  ...    0.202796   \n",
       "1               1             0             2             3  ...    0.202796   \n",
       "2               0             0             1             2  ...    0.228985   \n",
       "3               1             2             0             2  ...    0.201936   \n",
       "4               1             2             1             1  ...    0.198479   \n",
       "..            ...           ...           ...           ...  ...         ...   \n",
       "812             0             1             1             2  ...    0.329609   \n",
       "813             1             2             3             1  ...    0.211369   \n",
       "814             0             1             0             0  ...    0.222870   \n",
       "815             1             1             2             1  ...    0.202827   \n",
       "816             0             1             0             2  ...    0.228985   \n",
       "\n",
       "     xgb_pred  xgb_score  knn_pred  knn_score  svm_pred  svm_score  lr_pred  \\\n",
       "0           5   0.530761         5        0.7         5   0.526932        5   \n",
       "1           5   0.409701         5        0.3         5   0.517114        5   \n",
       "2           0   0.599712         0        0.5         0   0.591692        0   \n",
       "3           5   0.419070         0        0.6         5   0.336907        5   \n",
       "4           5   0.377461         1        0.4         5   0.336718        5   \n",
       "..        ...        ...       ...        ...       ...        ...      ...   \n",
       "812         0   0.417516         5        0.5         0   0.408770        5   \n",
       "813         5   0.355725         1        0.5         5   0.418765        5   \n",
       "814         0   0.709621         0        0.6         0   0.692122        0   \n",
       "815         1   0.427248         5        0.5         1   0.462261        1   \n",
       "816         0   0.597859         5        0.5         0   0.611246        0   \n",
       "\n",
       "     lr_score  DNN_pred  \n",
       "0    0.516338         5  \n",
       "1    0.446518         5  \n",
       "2    0.625791         0  \n",
       "3    0.500588         5  \n",
       "4    0.411102         5  \n",
       "..        ...       ...  \n",
       "812  0.585876         5  \n",
       "813  0.401018         5  \n",
       "814  0.762625         0  \n",
       "815  0.464936         1  \n",
       "816  0.630837         0  \n",
       "\n",
       "[817 rows x 24 columns]"
      ]
     },
     "execution_count": 49,
     "metadata": {},
     "output_type": "execute_result"
    }
   ],
   "source": [
    "df_assess[['score_1',\n",
    "          'score_2',\n",
    "          'score_3',\n",
    "          'score_4',\n",
    "          'score_5',\n",
    "          'label_pred_1',\n",
    "          'label_pred_2',\n",
    "          'label_pred_3',\n",
    "          'label_pred_4',\n",
    "          'label_pred_5',\n",
    "          'label_true',\n",
    "          'rf_pred',\n",
    "          'rf_score',\n",
    "          'AdaB_pred',\n",
    "          'AdaB_score',\n",
    "          'xgb_pred',\n",
    "          'xgb_score',\n",
    "          'knn_pred',\n",
    "          'knn_score',\n",
    "          'svm_pred',\n",
    "          'svm_score',\n",
    "          'lr_pred',\n",
    "          'lr_score',\n",
    "          'DNN_pred']]"
   ]
  },
  {
   "cell_type": "markdown",
   "id": "KcMRfciVpYf8",
   "metadata": {
    "id": "KcMRfciVpYf8"
   },
   "source": [
    "# All results "
   ]
  },
  {
   "cell_type": "code",
   "execution_count": null,
   "id": "t0ChuJy5p5Vn",
   "metadata": {
    "colab": {
     "base_uri": "https://localhost:8080/"
    },
    "id": "t0ChuJy5p5Vn",
    "outputId": "2f8f6250-d26b-4ff5-a55c-7cf4b2097492"
   },
   "outputs": [
    {
     "name": "stdout",
     "output_type": "stream",
     "text": [
      "\n",
      "               precision    recall  f1-score   support\n",
      "\n",
      "           0       0.43      0.66      0.52       232\n",
      "           1       0.47      0.31      0.37       116\n",
      "           2       0.33      0.05      0.09        73\n",
      "           3       0.00      0.00      0.00        26\n",
      "           4       0.00      0.00      0.00        16\n",
      "           5       0.49      0.51      0.50       354\n",
      "\n",
      "    accuracy                           0.46       817\n",
      "   macro avg       0.29      0.26      0.25       817\n",
      "weighted avg       0.43      0.46      0.42       817\n",
      "\n"
     ]
    }
   ],
   "source": [
    "# Random-Forest\n",
    "print('\\n',classification_report(y_test, y_pred_random_forest, zero_division=0))"
   ]
  },
  {
   "cell_type": "code",
   "execution_count": null,
   "id": "LIq0Jqfdpzfk",
   "metadata": {
    "colab": {
     "base_uri": "https://localhost:8080/"
    },
    "id": "LIq0Jqfdpzfk",
    "outputId": "1f6f7571-a13c-4972-ec73-39eb3fd1a4e3"
   },
   "outputs": [
    {
     "name": "stdout",
     "output_type": "stream",
     "text": [
      "\n",
      "               precision    recall  f1-score   support\n",
      "\n",
      "           0       0.36      0.69      0.47       232\n",
      "           1       0.00      0.00      0.00       116\n",
      "           2       0.40      0.03      0.05        73\n",
      "           3       0.00      0.00      0.00        26\n",
      "           4       0.00      0.00      0.00        16\n",
      "           5       0.46      0.48      0.47       354\n",
      "\n",
      "    accuracy                           0.41       817\n",
      "   macro avg       0.20      0.20      0.17       817\n",
      "weighted avg       0.34      0.41      0.34       817\n",
      "\n"
     ]
    }
   ],
   "source": [
    "# ADA-BOOST\n",
    "print('\\n',classification_report(y_test, y_pred_AdaB, zero_division=0))"
   ]
  },
  {
   "cell_type": "code",
   "execution_count": null,
   "id": "EjT2m6ejpsZU",
   "metadata": {
    "colab": {
     "base_uri": "https://localhost:8080/"
    },
    "id": "EjT2m6ejpsZU",
    "outputId": "bc2f5712-1dfe-4725-a55e-1c8d0eedc82b"
   },
   "outputs": [
    {
     "name": "stdout",
     "output_type": "stream",
     "text": [
      "\n",
      "               precision    recall  f1-score   support\n",
      "\n",
      "           0       0.44      0.69      0.54       232\n",
      "           1       0.50      0.23      0.32       116\n",
      "           2       0.27      0.04      0.07        73\n",
      "           3       0.00      0.00      0.00        26\n",
      "           4       0.00      0.00      0.00        16\n",
      "           5       0.48      0.53      0.51       354\n",
      "\n",
      "    accuracy                           0.46       817\n",
      "   macro avg       0.28      0.25      0.24       817\n",
      "weighted avg       0.43      0.46      0.42       817\n",
      "\n"
     ]
    }
   ],
   "source": [
    "# XG-BOOST\n",
    "print('\\n',classification_report(y_test, y_pred_xgb, zero_division=0))"
   ]
  },
  {
   "cell_type": "code",
   "execution_count": null,
   "id": "6yZZF2RQponM",
   "metadata": {
    "colab": {
     "base_uri": "https://localhost:8080/"
    },
    "id": "6yZZF2RQponM",
    "outputId": "fed2d5f4-a942-4969-ccd4-ab9ad3257e64"
   },
   "outputs": [
    {
     "name": "stdout",
     "output_type": "stream",
     "text": [
      "\n",
      "               precision    recall  f1-score   support\n",
      "\n",
      "           0       0.44      0.71      0.54       232\n",
      "           1       0.36      0.26      0.30       116\n",
      "           2       0.19      0.07      0.10        73\n",
      "           3       0.11      0.08      0.09        26\n",
      "           4       0.00      0.00      0.00        16\n",
      "           5       0.48      0.42      0.45       354\n",
      "\n",
      "    accuracy                           0.43       817\n",
      "   macro avg       0.26      0.26      0.25       817\n",
      "weighted avg       0.40      0.43      0.40       817\n",
      "\n"
     ]
    }
   ],
   "source": [
    "# KNN\n",
    "print('\\n',classification_report(y_test, y_pred_knn, zero_division=0))"
   ]
  },
  {
   "cell_type": "code",
   "execution_count": null,
   "id": "IEOsdxrQpj-U",
   "metadata": {
    "colab": {
     "base_uri": "https://localhost:8080/"
    },
    "id": "IEOsdxrQpj-U",
    "outputId": "1845a167-3cf4-4511-abaf-2c1bdebf0acc"
   },
   "outputs": [
    {
     "name": "stdout",
     "output_type": "stream",
     "text": [
      "\n",
      "               precision    recall  f1-score   support\n",
      "\n",
      "           0       0.42      0.68      0.51       232\n",
      "           1       0.54      0.25      0.34       116\n",
      "           2       0.35      0.11      0.17        73\n",
      "           3       0.00      0.00      0.00        26\n",
      "           4       0.00      0.00      0.00        16\n",
      "           5       0.48      0.49      0.48       354\n",
      "\n",
      "    accuracy                           0.45       817\n",
      "   macro avg       0.30      0.25      0.25       817\n",
      "weighted avg       0.43      0.45      0.42       817\n",
      "\n"
     ]
    }
   ],
   "source": [
    "# SVM\n",
    "print('\\n',classification_report(y_test, y_pred_svm, zero_division=0))"
   ]
  },
  {
   "cell_type": "code",
   "execution_count": null,
   "id": "bO2-juPrpb59",
   "metadata": {
    "colab": {
     "base_uri": "https://localhost:8080/"
    },
    "id": "bO2-juPrpb59",
    "outputId": "3fd6270d-89c3-4da8-818c-821ff1d6887a"
   },
   "outputs": [
    {
     "name": "stdout",
     "output_type": "stream",
     "text": [
      "\n",
      "               precision    recall  f1-score   support\n",
      "\n",
      "           0       0.44      0.69      0.54       232\n",
      "           1       0.51      0.30      0.38       116\n",
      "           2       0.36      0.11      0.17        73\n",
      "           3       0.00      0.00      0.00        26\n",
      "           4       0.00      0.00      0.00        16\n",
      "           5       0.49      0.50      0.50       354\n",
      "\n",
      "    accuracy                           0.47       817\n",
      "   macro avg       0.30      0.27      0.26       817\n",
      "weighted avg       0.45      0.47      0.44       817\n",
      "\n"
     ]
    }
   ],
   "source": [
    "# LogisticRegression\n",
    "print('\\n',classification_report(y_test, y_pred_lr, zero_division=0))"
   ]
  },
  {
   "cell_type": "code",
   "execution_count": null,
   "id": "1pQw19_VFbuh",
   "metadata": {
    "colab": {
     "base_uri": "https://localhost:8080/"
    },
    "id": "1pQw19_VFbuh",
    "outputId": "5ca642b8-a1d9-498c-a661-00d3a68e38a1"
   },
   "outputs": [
    {
     "name": "stdout",
     "output_type": "stream",
     "text": [
      "\n",
      "               precision    recall  f1-score   support\n",
      "\n",
      "           0       0.42      0.75      0.53       232\n",
      "           1       0.50      0.28      0.36       116\n",
      "           2       0.00      0.00      0.00        73\n",
      "           3       0.00      0.00      0.00        26\n",
      "           4       0.00      0.00      0.00        16\n",
      "           5       0.51      0.49      0.50       354\n",
      "\n",
      "    accuracy                           0.46       817\n",
      "   macro avg       0.24      0.25      0.23       817\n",
      "weighted avg       0.41      0.46      0.42       817\n",
      "\n"
     ]
    }
   ],
   "source": [
    "# DNN\n",
    "print('\\n',classification_report(y_test, pred, zero_division=0))"
   ]
  }
 ],
 "metadata": {
  "colab": {
   "collapsed_sections": [],
   "include_colab_link": true,
   "machine_shape": "hm",
   "name": "10_STS_decision_optimisation_2.ipynb",
   "provenance": [],
   "toc_visible": true
  },
  "kernelspec": {
   "display_name": "Python 3 (ipykernel)",
   "language": "python",
   "name": "python3"
  },
  "language_info": {
   "codemirror_mode": {
    "name": "ipython",
    "version": 3
   },
   "file_extension": ".py",
   "mimetype": "text/x-python",
   "name": "python",
   "nbconvert_exporter": "python",
   "pygments_lexer": "ipython3",
   "version": "3.7.11"
  }
 },
 "nbformat": 4,
 "nbformat_minor": 5
}
